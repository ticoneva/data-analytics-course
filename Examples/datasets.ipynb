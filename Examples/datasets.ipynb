{
 "cells": [
  {
   "cell_type": "markdown",
   "id": "ccb957f0-f6ec-42b7-9f83-741a75f915bc",
   "metadata": {},
   "source": [
    "# Examples on Using Hugging Face `Dataset` Library"
   ]
  },
  {
   "cell_type": "markdown",
   "id": "31993ba6-ac07-4a54-8b28-a58228df2db7",
   "metadata": {},
   "source": [
    "This downloads the IMDB dataset from Hugging Face:"
   ]
  },
  {
   "cell_type": "code",
   "execution_count": 1,
   "id": "09e4a2a1-3b3c-44ae-b6c5-dba688ad2be1",
   "metadata": {
    "tags": []
   },
   "outputs": [
    {
     "data": {
      "text/plain": [
       "DatasetDict({\n",
       "    train: Dataset({\n",
       "        features: ['text', 'label'],\n",
       "        num_rows: 25000\n",
       "    })\n",
       "    test: Dataset({\n",
       "        features: ['text', 'label'],\n",
       "        num_rows: 25000\n",
       "    })\n",
       "    unsupervised: Dataset({\n",
       "        features: ['text', 'label'],\n",
       "        num_rows: 50000\n",
       "    })\n",
       "})"
      ]
     },
     "execution_count": 1,
     "metadata": {},
     "output_type": "execute_result"
    }
   ],
   "source": [
    "from datasets import load_dataset\n",
    "dataset"
   ]
  },
  {
   "cell_type": "markdown",
   "id": "e8f69c42-ab31-4c9d-bc3b-213cfb062bdc",
   "metadata": {},
   "source": [
    "We can do the same by loading a CSV file:"
   ]
  },
  {
   "cell_type": "code",
   "execution_count": 17,
   "id": "dcebc22c-77e1-474d-97a7-281ffd20ac05",
   "metadata": {
    "tags": []
   },
   "outputs": [
    {
     "data": {
      "application/vnd.jupyter.widget-view+json": {
       "model_id": "69ffe6e178ae453d80eaff462b2b2035",
       "version_major": 2,
       "version_minor": 0
      },
      "text/plain": [
       "Downloading data files:   0%|          | 0/1 [00:00<?, ?it/s]"
      ]
     },
     "metadata": {},
     "output_type": "display_data"
    },
    {
     "data": {
      "application/vnd.jupyter.widget-view+json": {
       "model_id": "b686e8ed4cac41f3a57a591daed7d151",
       "version_major": 2,
       "version_minor": 0
      },
      "text/plain": [
       "Extracting data files:   0%|          | 0/1 [00:00<?, ?it/s]"
      ]
     },
     "metadata": {},
     "output_type": "display_data"
    },
    {
     "data": {
      "application/vnd.jupyter.widget-view+json": {
       "model_id": "770fb19c7c6147e182799960ac4e91b1",
       "version_major": 2,
       "version_minor": 0
      },
      "text/plain": [
       "Generating train split: 0 examples [00:00, ? examples/s]"
      ]
     },
     "metadata": {},
     "output_type": "display_data"
    },
    {
     "data": {
      "text/plain": [
       "Dataset({\n",
       "    features: ['label', 'text'],\n",
       "    num_rows: 1000\n",
       "})"
      ]
     },
     "execution_count": 17,
     "metadata": {},
     "output_type": "execute_result"
    }
   ],
   "source": [
    "# CSV > Datasets\n",
    "from datasets import load_dataset\n",
    "from datasets import Dataset\n",
    "import pandas as pd\n",
    "\n",
    "ds = Dataset.from_csv(\"/home/users/testuser/courses/ml-course/Data/imdb_train.csv\",\n",
    "                      names=['label','text'])\n",
    "ds"
   ]
  },
  {
   "cell_type": "markdown",
   "id": "8bea8850-0c80-4127-ab50-056d33464867",
   "metadata": {},
   "source": [
    "`Dataset` uses Pandas underneath, so the below is the same as above:"
   ]
  },
  {
   "cell_type": "code",
   "execution_count": 10,
   "id": "9f440401-15dc-4fa2-9d97-1b638c9460a3",
   "metadata": {
    "tags": []
   },
   "outputs": [
    {
     "data": {
      "text/plain": [
       "Dataset({\n",
       "    features: ['label', 'text'],\n",
       "    num_rows: 1000\n",
       "})"
      ]
     },
     "execution_count": 10,
     "metadata": {},
     "output_type": "execute_result"
    }
   ],
   "source": [
    "# CSV > Pandas > Datasets\n",
    "from datasets import load_dataset\n",
    "from datasets import Dataset\n",
    "import pandas as pd\n",
    "#ds = load_dataset('csv',\"~/courses/ml-course/Data/imdb_train.csv\")\n",
    "#ds\n",
    "df = pd.read_csv(\"~/courses/ml-course/Data/imdb_train.csv\", names=['label','text'])\n",
    "dataset = Dataset.from_pandas(df)\n",
    "dataset\n"
   ]
  },
  {
   "cell_type": "markdown",
   "id": "109ed9a6-4a70-4317-86db-1a8f8a8962b9",
   "metadata": {},
   "source": [
    "Finally, we can put multiple datasets inside a `DatasetDict`, which is what we get when we download the data directly from Hugging Face:"
   ]
  },
  {
   "cell_type": "code",
   "execution_count": 2,
   "id": "a88ad733-d645-4a33-a4ee-d55a8b9ba918",
   "metadata": {
    "tags": []
   },
   "outputs": [
    {
     "data": {
      "text/plain": [
       "DatasetDict({\n",
       "    train: Dataset({\n",
       "        features: ['label', 'text'],\n",
       "        num_rows: 1000\n",
       "    })\n",
       "    test: Dataset({\n",
       "        features: ['label', 'text'],\n",
       "        num_rows: 1000\n",
       "    })\n",
       "})"
      ]
     },
     "execution_count": 2,
     "metadata": {},
     "output_type": "execute_result"
    }
   ],
   "source": [
    "# CSV > Dataset > DatasetDict\n",
    "train_data_path = \"../Data/imdb_train.csv\"\n",
    "test_data_path = \"../Data/imdb_test.csv\"\n",
    "\n",
    "from datasets import Dataset,DatasetDict\n",
    "import os\n",
    "dataset = DatasetDict()\n",
    "dataset[\"train\"]  = Dataset.from_csv(os.path.abspath(train_data_path), \n",
    "                                     names=['label','text'])\n",
    "dataset[\"test\"]  = Dataset.from_csv(os.path.abspath(test_data_path), \n",
    "                                    names=['label','text'])\n",
    "dataset"
   ]
  },
  {
   "cell_type": "markdown",
   "id": "e258e79a-e3ef-402e-8852-cb7ee06433db",
   "metadata": {},
   "source": [
    "Convert a list of dictionaries to `Dataset`:"
   ]
  },
  {
   "cell_type": "code",
   "execution_count": null,
   "id": "6022cb8a-26af-4d2a-bfa7-81c0d31d1012",
   "metadata": {
    "tags": []
   },
   "outputs": [
    {
     "data": {
      "text/plain": [
       "Dataset({\n",
       "    features: ['text'],\n",
       "    num_rows: 1000\n",
       "})"
      ]
     },
     "execution_count": 13,
     "metadata": {},
     "output_type": "execute_result"
    }
   ],
   "source": [
    "# List of Dict > Datasets\n",
    "from datasets import Dataset\n",
    "text = [{'text':\"This wine is really good.\"} for i in range(1000)]\n",
    "dataset = Dataset.from_list(text)\n",
    "dataset"
   ]
  }
 ],
 "metadata": {
  "kernelspec": {
   "display_name": "Python [env:pytorch]",
   "language": "python",
   "name": "conda-env-pytorch-py"
  },
  "language_info": {
   "codemirror_mode": {
    "name": "ipython",
    "version": 3
   },
   "file_extension": ".py",
   "mimetype": "text/x-python",
   "name": "python",
   "nbconvert_exporter": "python",
   "pygments_lexer": "ipython3",
   "version": "3.10.11"
  }
 },
 "nbformat": 4,
 "nbformat_minor": 5
}
