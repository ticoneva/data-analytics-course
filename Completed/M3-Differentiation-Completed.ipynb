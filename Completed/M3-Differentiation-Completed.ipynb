{
 "cells": [
  {
   "cell_type": "markdown",
   "metadata": {},
   "source": [
    "# Differentiation #\n",
    "**SymPy** is capable of doing calculus."
   ]
  },
  {
   "cell_type": "code",
   "execution_count": 15,
   "metadata": {
    "collapsed": false
   },
   "outputs": [],
   "source": [
    "#This loads SymPy. Press SHIFT-ENTER to run.\n",
    "import sympy"
   ]
  },
  {
   "cell_type": "markdown",
   "metadata": {
    "collapsed": true
   },
   "source": [
    "### A. Set up the Expression ###\n",
    "First create a symbol and set up the mathematical expression to differentiate. \n",
    "\n",
    "Suppose we want to differentiate \n",
    "$$y = x^2 - 2x + 5$$"
   ]
  },
  {
   "cell_type": "code",
   "execution_count": 16,
   "metadata": {
    "collapsed": false
   },
   "outputs": [],
   "source": [
    "#Set up a symbol x and the expression to differentiate\n",
    "x = sympy.Symbol('x')\n",
    "y = x**2 + 2*x + 5"
   ]
  },
  {
   "cell_type": "markdown",
   "metadata": {
    "collapsed": true
   },
   "source": [
    "### B. Differentiation ###\n",
    "With the expression created, we can use the ```diff()``` command to find the derivative.\n",
    "```python\n",
    "sympy.diff(expression,variable_to_solve_for)\n",
    "```"
   ]
  },
  {
   "cell_type": "code",
   "execution_count": 17,
   "metadata": {
    "collapsed": false
   },
   "outputs": [
    {
     "data": {
      "text/plain": [
       "2*x + 2"
      ]
     },
     "execution_count": 17,
     "metadata": {},
     "output_type": "execute_result"
    }
   ],
   "source": [
    "#Differentiate y with respect to x\n",
    "sympy.diff(y,x)"
   ]
  },
  {
   "cell_type": "markdown",
   "metadata": {
    "collapsed": true
   },
   "source": [
    "### C. Exercise ###\n",
    "Set up the symbols to find\n",
    "$$y = \\frac{z^3 + 5z + 2}{6z}$$"
   ]
  },
  {
   "cell_type": "code",
   "execution_count": 18,
   "metadata": {
    "collapsed": false
   },
   "outputs": [
    {
     "data": {
      "text/plain": [
       "(3*z**2 + 5)/(6*z) - (z**3 + 5*z + 2)/(6*z**2)"
      ]
     },
     "execution_count": 18,
     "metadata": {},
     "output_type": "execute_result"
    }
   ],
   "source": [
    "z = sympy.Symbol('z')\n",
    "y = (z**3+5*z+2)/(6*z)\n",
    "sympy.diff(y,z)"
   ]
  },
  {
   "cell_type": "markdown",
   "metadata": {},
   "source": [
    "### D. Exponent and Log\n",
    "\n",
    "The log function is \n",
    "```python\n",
    "sympy.log(expression,base)\n",
    "```\n",
    "\n",
    "If you omit the base, base $e$ is assumed, making the function the natural log.\n",
    "\n",
    "The exponential function is \n",
    "```python\n",
    "sympy.exp(expression)\n",
    "```"
   ]
  },
  {
   "cell_type": "code",
   "execution_count": 19,
   "metadata": {
    "collapsed": false
   },
   "outputs": [
    {
     "data": {
      "text/plain": [
       "1/x"
      ]
     },
     "execution_count": 19,
     "metadata": {},
     "output_type": "execute_result"
    }
   ],
   "source": [
    "#Log\n",
    "y = sympy.log(x)\n",
    "\n",
    "#Derivative of log\n",
    "sympy.diff(y,x)"
   ]
  },
  {
   "cell_type": "code",
   "execution_count": 20,
   "metadata": {
    "collapsed": false
   },
   "outputs": [
    {
     "data": {
      "text/plain": [
       "1/(x*log(10))"
      ]
     },
     "execution_count": 20,
     "metadata": {},
     "output_type": "execute_result"
    }
   ],
   "source": [
    "#Base-10 Log\n",
    "y = sympy.log(x,10)\n",
    "sympy.diff(y,x)"
   ]
  },
  {
   "cell_type": "code",
   "execution_count": 21,
   "metadata": {
    "collapsed": false
   },
   "outputs": [
    {
     "data": {
      "text/plain": [
       "exp(x)"
      ]
     },
     "execution_count": 21,
     "metadata": {},
     "output_type": "execute_result"
    }
   ],
   "source": [
    "#Exponential Function\n",
    "y = sympy.exp(x)\n",
    "\n",
    "#Derivative of the exponential function\n",
    "sympy.diff(y,x)"
   ]
  },
  {
   "cell_type": "markdown",
   "metadata": {},
   "source": [
    "### D. Unconstrained Optimization\n",
    "The maximum/minimum of a function can be found with\n",
    "$$\n",
    "\\frac{d}{dx}f(x) = 0\n",
    "$$\n",
    "\n",
    "Remember from before that we can find the solution to this equation with ```sympy.solve()```."
   ]
  },
  {
   "cell_type": "code",
   "execution_count": 22,
   "metadata": {
    "collapsed": false
   },
   "outputs": [
    {
     "name": "stdout",
     "output_type": "stream",
     "text": [
      "[1]\n",
      "2\n"
     ]
    }
   ],
   "source": [
    "#Function\n",
    "y = x**2 - 2*x + 5\n",
    "\n",
    "#Take derivative with respect to x\n",
    "dydx = sympy.diff(y,x)\n",
    "\n",
    "#Solve for x that satisfy dy/dx = 0\n",
    "print(sympy.solve(dydx,x))\n",
    "\n",
    "#Take second derivative\n",
    "print(sympy.diff(dydx,x))"
   ]
  },
  {
   "cell_type": "markdown",
   "metadata": {},
   "source": [
    "### E. Application to Economics\n",
    "\n",
    "Suppose total revenue is $R(q)=10q$ and total cost is $C(q)=2+q^2$. Find the profit-maximizing quantity to produce."
   ]
  },
  {
   "cell_type": "code",
   "execution_count": 23,
   "metadata": {
    "collapsed": false
   },
   "outputs": [
    {
     "name": "stdout",
     "output_type": "stream",
     "text": [
      "[5]\n",
      "-2\n"
     ]
    }
   ],
   "source": [
    "#Create symbol for quantity \n",
    "q = sympy.Symbol('q')\n",
    "\n",
    "#Total Revenue\n",
    "R = 10*q\n",
    "\n",
    "#Total Cost\n",
    "C = 2 + q**2\n",
    "\n",
    "#Profit = total revenue - total cost\n",
    "Profit = R - C\n",
    "\n",
    "#Take derivative of the profit function\n",
    "#The symbol PI represents profit in economics\n",
    "dPidq = sympy.diff(Profit,q)\n",
    "\n",
    "#Solve for optimal q by setting dPIdq = 0\n",
    "#Print out the solution\n",
    "print(sympy.solve(dPidq,q))\n",
    "\n",
    "#Calculate second derivative and print it out\n",
    "print(sympy.diff(dPidq,q))"
   ]
  },
  {
   "cell_type": "markdown",
   "metadata": {},
   "source": [
    "### D. Substitution\n",
    "\n",
    "To substitute a symbol with a value, use\n",
    "```python\n",
    "expression.subs(symbol,value)\n",
    "```"
   ]
  },
  {
   "cell_type": "code",
   "execution_count": 24,
   "metadata": {
    "collapsed": false
   },
   "outputs": [
    {
     "data": {
      "text/plain": [
       "23"
      ]
     },
     "execution_count": 24,
     "metadata": {},
     "output_type": "execute_result"
    }
   ],
   "source": [
    "#What's the profit when q = 5?\n",
    "Profit.subs(q,5)"
   ]
  },
  {
   "cell_type": "code",
   "execution_count": 25,
   "metadata": {
    "collapsed": false
   },
   "outputs": [
    {
     "name": "stdout",
     "output_type": "stream",
     "text": [
      "Profit when q = 5 is 23\n"
     ]
    }
   ],
   "source": [
    "#We can also use the q_star value we saved above\n",
    "q_star = sympy.solve(dPidq,q)\n",
    "\n",
    "for qi in q_star:\n",
    "    print(\"Profit when q =\",qi,\"is\",Profit.subs(q,qi))"
   ]
  }
 ],
 "metadata": {
  "anaconda-cloud": {},
  "kernelspec": {
   "display_name": "Python [Root]",
   "language": "python",
   "name": "Python [Root]"
  },
  "language_info": {
   "codemirror_mode": {
    "name": "ipython",
    "version": 3
   },
   "file_extension": ".py",
   "mimetype": "text/x-python",
   "name": "python",
   "nbconvert_exporter": "python",
   "pygments_lexer": "ipython3",
   "version": "3.5.2"
  }
 },
 "nbformat": 4,
 "nbformat_minor": 0
}
