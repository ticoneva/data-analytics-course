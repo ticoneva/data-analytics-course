{
 "cells": [
  {
   "cell_type": "markdown",
   "metadata": {
    "collapsed": true
   },
   "source": [
    "# List and Dictionary#\n",
    "Python has two main types of ordered sets: *list* and *dictionary*."
   ]
  },
  {
   "cell_type": "markdown",
   "metadata": {
    "collapsed": true
   },
   "source": [
    "### A. List###\n",
    "List is just like a set, with the crucial difference being it is ordered.\n",
    "To create a list, use the following syntax:\n",
    "```python\n",
    "list_name = [element_1,element_2,...]\n",
    "```"
   ]
  },
  {
   "cell_type": "code",
   "execution_count": 26,
   "metadata": {},
   "outputs": [],
   "source": [
    "#Let's create a list called List1 containing three elements: 4,2,7.\n",
    "List1 = [4,2,7]"
   ]
  },
  {
   "cell_type": "markdown",
   "metadata": {},
   "source": [
    "To add an element to a list, use \n",
    "```python\n",
    "list_name.append(element)\n",
    "```"
   ]
  },
  {
   "cell_type": "code",
   "execution_count": 27,
   "metadata": {},
   "outputs": [
    {
     "data": {
      "text/plain": [
       "[4, 2, 7, 3]"
      ]
     },
     "execution_count": 27,
     "metadata": {},
     "output_type": "execute_result"
    }
   ],
   "source": [
    "#Add element to list\n",
    "List1.append(3)\n",
    "List1"
   ]
  },
  {
   "cell_type": "markdown",
   "metadata": {},
   "source": [
    "To delete an element, use\n",
    "```python\n",
    "del list_name[index]\n",
    "```"
   ]
  },
  {
   "cell_type": "code",
   "execution_count": 28,
   "metadata": {},
   "outputs": [
    {
     "data": {
      "text/plain": [
       "[4, 7, 3]"
      ]
     },
     "execution_count": 28,
     "metadata": {},
     "output_type": "execute_result"
    }
   ],
   "source": [
    "# Delete the second element\n",
    "del List1[1]\n",
    "List1"
   ]
  },
  {
   "cell_type": "markdown",
   "metadata": {},
   "source": [
    "Because a list is ordered, its elements are in the order we specified.\n",
    "We can sort them if we need to with the ```sort()``` method\n",
    "```python\n",
    "list_name.sort()\n",
    "```"
   ]
  },
  {
   "cell_type": "code",
   "execution_count": 29,
   "metadata": {},
   "outputs": [
    {
     "data": {
      "text/plain": [
       "[3, 4, 7]"
      ]
     },
     "execution_count": 29,
     "metadata": {},
     "output_type": "execute_result"
    }
   ],
   "source": [
    "#Let's sort List1 and see what happens\n",
    "List1.sort()\n",
    "List1"
   ]
  },
  {
   "cell_type": "markdown",
   "metadata": {
    "collapsed": true
   },
   "source": [
    "Because list is ordered, each element in the list can be referred to by its \n",
    "index. Index always start with 0.\n",
    "```python\n",
    "list_name[index]\n",
    "```"
   ]
  },
  {
   "cell_type": "code",
   "execution_count": 30,
   "metadata": {},
   "outputs": [
    {
     "data": {
      "text/plain": [
       "4"
      ]
     },
     "execution_count": 30,
     "metadata": {},
     "output_type": "execute_result"
    }
   ],
   "source": [
    "#For example, to view the value of the second element,\n",
    "List1[1]"
   ]
  },
  {
   "cell_type": "markdown",
   "metadata": {},
   "source": [
    "We can go through every element of a list with a for loop:\n",
    "```python\n",
    "for element in List1:\n",
    "    #do something\n",
    "```"
   ]
  },
  {
   "cell_type": "code",
   "execution_count": 31,
   "metadata": {},
   "outputs": [
    {
     "name": "stdout",
     "output_type": "stream",
     "text": [
      "3\n",
      "4\n",
      "7\n"
     ]
    }
   ],
   "source": [
    "#For example, let us loop through List1 and print out each element\n",
    "for e in List1:\n",
    "    print(e)"
   ]
  },
  {
   "cell_type": "markdown",
   "metadata": {
    "collapsed": true
   },
   "source": [
    "One thing to note is that during each run of the loop, ```element``` is only a copy of the corresponding value stored inside the list. Changes to ```element``` are not saved back to the list:"
   ]
  },
  {
   "cell_type": "code",
   "execution_count": 32,
   "metadata": {},
   "outputs": [
    {
     "data": {
      "text/plain": [
       "[3, 4, 7]"
      ]
     },
     "execution_count": 32,
     "metadata": {},
     "output_type": "execute_result"
    }
   ],
   "source": [
    "#Let's make some change\n",
    "for e in List1:\n",
    "    e = 5\n",
    "    \n",
    "#Now check if the list has changed\n",
    "List1"
   ]
  },
  {
   "cell_type": "markdown",
   "metadata": {},
   "source": [
    "To actually change the content of a list, you can loop through the list index instead:\n",
    "```python\n",
    "for index in range(len(list_name)):\n",
    "    list_name[index] = #new value here\n",
    "```"
   ]
  },
  {
   "cell_type": "code",
   "execution_count": 33,
   "metadata": {},
   "outputs": [
    {
     "data": {
      "text/plain": [
       "[0, 1, 2]"
      ]
     },
     "execution_count": 33,
     "metadata": {},
     "output_type": "execute_result"
    }
   ],
   "source": [
    "#Loop via index and print out each element\n",
    "List1 = [2,4,7]\n",
    "\n",
    "for i in range(len(List1)):\n",
    "    List1[i] = i\n",
    "\n",
    "#Now check if the list has changed\n",
    "List1"
   ]
  },
  {
   "cell_type": "markdown",
   "metadata": {},
   "source": [
    "### B. Set of Sets###"
   ]
  },
  {
   "cell_type": "code",
   "execution_count": 34,
   "metadata": {},
   "outputs": [
    {
     "data": {
      "text/plain": [
       "[3, 4]"
      ]
     },
     "execution_count": 34,
     "metadata": {},
     "output_type": "execute_result"
    }
   ],
   "source": [
    "#Example of a set of sets\n",
    "List2 = [[1,2],[3,4]]\n",
    "List2[1]"
   ]
  },
  {
   "cell_type": "markdown",
   "metadata": {
    "collapsed": true
   },
   "source": [
    "Example on how user data might be stored in a website such as facebook.\n",
    "```python\n",
    "userinfo = [userid,[lastname,firstname],[city,country],...]\n",
    "```"
   ]
  },
  {
   "cell_type": "markdown",
   "metadata": {
    "collapsed": true
   },
   "source": [
    "### C. List Comprehension###\n",
    "We can use the if statement to select items out of a \n",
    "list. This is called *list comprehension*, one of Python's most useful feature. \n",
    "```python\n",
    "new_list = [element for element in old_list if condition]\n",
    "```"
   ]
  },
  {
   "cell_type": "code",
   "execution_count": 35,
   "metadata": {},
   "outputs": [
    {
     "data": {
      "text/plain": [
       "[2, 4, 6, 8, 10]"
      ]
     },
     "execution_count": 35,
     "metadata": {},
     "output_type": "execute_result"
    }
   ],
   "source": [
    "list2 = [1,2,3,4,5,6,7,8,9,10]\n",
    "\n",
    "#To create a list of even numbers contained in list2:\n",
    "list2_even_num = [x for x in list2 if x%2==0]\n",
    "\n",
    "#Check what is inside list2_even_num\n",
    "list2_even_num"
   ]
  },
  {
   "cell_type": "markdown",
   "metadata": {},
   "source": [
    "**Whenever possible, use list comprehension instead of a loop to process a list. The former is much faster due to Python's underlying optimization.**\n",
    "\n",
    "Search engines build list of keywords for websites, emails\n",
    "etc. and use if statements to search through them. \n",
    "\n",
    "For example, for ECON 1101's course website, search engine\n",
    "might have the following keywords\n",
    "```python\n",
    "[\"Vinci\",\"ECON1101\",\"Mathematics\",\"Python\",\"CUHK\"]\n",
    "```"
   ]
  },
  {
   "cell_type": "markdown",
   "metadata": {},
   "source": [
    "### D. Using if...else statement in the creation of a list###\n",
    "List comprehension ignores elements that do not meet the \n",
    "condition we specified, so we cannot do anything to those \n",
    "elements. If we want to do something to those elements, \n",
    "we have to use another method called *ternary operator*:\n",
    "```python\n",
    "new_list = [value_if_true if condition else value_if_false \n",
    "            for element in old_list]\n",
    "```"
   ]
  },
  {
   "cell_type": "code",
   "execution_count": 36,
   "metadata": {},
   "outputs": [
    {
     "data": {
      "text/plain": [
       "['odd', 'even', 'odd', 'even', 'odd', 'even', 'odd', 'even', 'odd', 'even']"
      ]
     },
     "execution_count": 36,
     "metadata": {},
     "output_type": "execute_result"
    }
   ],
   "source": [
    "#For example, if we want to have a list which tells us whether\n",
    "#a number is odd or even:\n",
    "list_oddeven = [\"even\" if x%2==0 else \"odd\" for x in list2]\n",
    "\n",
    "#Check the content of list_oddeven\n",
    "list_oddeven"
   ]
  },
  {
   "cell_type": "markdown",
   "metadata": {
    "collapsed": true
   },
   "source": [
    "### E. Dictionary###\n",
    "Dictionary, as its name imply, works like a dictionary. You provide a keyword \n",
    "and a dictionary will give you information related to that keyword, if any exists.\n",
    "```python\n",
    "Dictionary_name = {key1:value1, key2:value2,...}\n",
    "```\n",
    "You can access a value by providing the associated key: ```Dictionary_name[key1]``` would return ```value1```."
   ]
  },
  {
   "cell_type": "code",
   "execution_count": 37,
   "metadata": {},
   "outputs": [
    {
     "data": {
      "text/plain": [
       "{'Vinci': 'teacher', 'Chan Tai Man': 'student', 'Linda': 'teacher'}"
      ]
     },
     "execution_count": 37,
     "metadata": {},
     "output_type": "execute_result"
    }
   ],
   "source": [
    "#For example, here is a dictionary describing people in a class and their roles:\n",
    "ClassList = {'Vinci':'teacher','Chan Tai Man':\"student\"}\n",
    "\n",
    "#Let's try fetching the role of Vinci\n",
    "ClassList[\"Vinci\"]\n",
    "\n",
    "#Add value\n",
    "ClassList[\"Linda\"] = 'teacher'\n",
    "ClassList"
   ]
  },
  {
   "cell_type": "markdown",
   "metadata": {},
   "source": [
    "You can have dictionaries within a dictionary, which is in fact how data is stored in many applications:"
   ]
  },
  {
   "cell_type": "code",
   "execution_count": 38,
   "metadata": {},
   "outputs": [
    {
     "data": {
      "text/plain": [
       "'ELB 1004'"
      ]
     },
     "execution_count": 38,
     "metadata": {},
     "output_type": "execute_result"
    }
   ],
   "source": [
    "#Nested dictionary\n",
    "users = {\"Vinci\":{\"Office\":\"ELB 1004\",\"Position\":\"Lecturer\"},\n",
    "         \"Linda\":{\"Office\":\"ELB 1010\",\"Position\":\"Senior Lecturer\"}\n",
    "         }\n",
    "\n",
    "#Where is Vinci's office?\n",
    "users[\"Vinci\"][\"Office\"]"
   ]
  },
  {
   "cell_type": "markdown",
   "metadata": {
    "collapsed": true
   },
   "source": [
    "For more on list and dictionary, such as adding or deleting items,\n",
    "see https://docs.python.org/3.4/tutorial/datastructures.html"
   ]
  }
 ],
 "metadata": {
  "anaconda-cloud": {},
  "kernelspec": {
   "display_name": "Python 3",
   "language": "python",
   "name": "python3"
  },
  "language_info": {
   "codemirror_mode": {
    "name": "ipython",
    "version": 3
   },
   "file_extension": ".py",
   "mimetype": "text/x-python",
   "name": "python",
   "nbconvert_exporter": "python",
   "pygments_lexer": "ipython3",
   "version": "3.6.9"
  }
 },
 "nbformat": 4,
 "nbformat_minor": 1
}
