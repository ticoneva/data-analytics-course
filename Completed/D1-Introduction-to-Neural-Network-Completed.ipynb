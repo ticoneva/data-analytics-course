{
 "cells": [
  {
   "cell_type": "markdown",
   "metadata": {},
   "source": [
    "# Introduction to Neural Network\n",
    "\n",
    "The widespread adoption of artificial intelligence in recent years has been largely driven by advancement in neural networks. Neural networks is behind systems ranging from \n",
    "[AlphaGo](https://deepmind.com/research/alphago/),\n",
    "[Google Translate](https://translate.google.com/)\n",
    "to [Tesla Autopilot](https://www.tesla.com/en_HK/autopilot).\n",
    "\n",
    "Neural network is fundamentally numeric computation, so any software with decent numeric computation capabilities can be used to construct and train a neural network. That said, while in theory you can construct a neural network in Excel, in practice it will be very troublesome since Excel is not designed with neural network in mind. Libraries are that specifically geared toward neural network include:\n",
    "- Google's [Tensorflow](https://www.tensorflow.org/) and [Flax](https://github.com/google/flax)\n",
    "- Facebook's [PyTorch](http://pytorch.org/)\n",
    "- Microsoft's [CNTK](https://github.com/Microsoft/CNTK) (no longer in development)\n",
    "- [Theano](http://deeplearning.net/software/theano/) and [Caffe](http://caffe.berkeleyvision.org/) (no longer in development)\n",
    "\n",
    "In this course we will focus on using [`keras`](https://keras.io/), which is a high-level library for constructing neural networks. Keras runs on top of a numerical computation library of your choice, defaulting to `tensorflow`. A library such as Keras significantly simplify the workflow of constructing and training neural networks. \n",
    "\n",
    "<img src=\"../Images/nn_libraries.png\" width=\"80%\">"
   ]
  },
  {
   "cell_type": "markdown",
   "metadata": {},
   "source": [
    "Before we start, we will first disable the server's GPU so that everything runs on its CPU. Later we will turn it back on to see how much speed up we can get. This setting has no effect if you do not have a (Nvidia) GPU."
   ]
  },
  {
   "cell_type": "code",
   "execution_count": 48,
   "metadata": {},
   "outputs": [],
   "source": [
    "import os\n",
    "os.environ[\"CUDA_VISIBLE_DEVICES\"] = \"\""
   ]
  },
  {
   "cell_type": "markdown",
   "metadata": {},
   "source": [
    "## A Simple Example: Binary Neural Network Classifier\n",
    "\n",
    "As a first example, we will train a neural network to the following classification task:\n",
    "\n",
    "|y|x1|x2|\n",
    "|-|-|-|\n",
    "|0|1|0|\n",
    "|1|0|1|\n",
    "\n",
    "To be clear: there is absolutely no need to use neural network for such as simple task. A simpler model will train a lot faster and potentially with better accuracy.\n",
    "\n",
    "We first generate the data:"
   ]
  },
  {
   "cell_type": "code",
   "execution_count": 2,
   "metadata": {},
   "outputs": [],
   "source": [
    "import numpy as np \n",
    "from sklearn.model_selection import train_test_split\n",
    "\n",
    "#Generate 2000 samples. [1,0] -> 0, [0,1] -> 1\n",
    "X = np.repeat([[1,0]], 1000, axis=0)\n",
    "y = np.repeat([0], 1000, axis=0)\n",
    "X = np.append(X,np.repeat([[0,1]], 1000, axis=0),axis=0)\n",
    "y = np.append(y,np.repeat([1], 1000, axis=0),axis=0)\n",
    "\n",
    "#Shuffle and split data into train set and test set\n",
    "X_train, X_test, y_train, y_test = train_test_split(X,y)"
   ]
  },
  {
   "cell_type": "markdown",
   "metadata": {},
   "source": [
    "We will construct a neural network classifier for this task. \n",
    "\n",
    "A neural network model is made up of multiple layers. The simpliest model would have three layers:\n",
    "- An *input layer*. This layer specify the nature of the input data. In this example, we only need to tell Keras that we have two variables to input.\n",
    "- A *hidden layer*. This layer contains neuron(s) that process the input data.\n",
    "- An *ouput layer*. The neurons in this layer process the output from the hidden layer and generate predictions. This layer contains as many neurons as the number of target variables we try to predict. \n",
    "\n",
    "Below is the simplest neural network one can come up with, with only one hidden neuron. The neuron computes the following function:\n",
    "}\n",
    "$$\n",
    "F \\left( b + \\sum\\nolimits_{i}{w_{i}x_{i}} \\right)\n",
    "$$\n",
    "\n",
    "where $x_i$ are inputs, b the intercept (called *bias* in machine learning), $w_i$ coefficients (called *weights*) and $F$ is an *activation function*. In this example we will use the logistic function (also called the *sigmoid function*) as the activation function:\n",
    "\n",
    "$$\n",
    "F(z) = \\frac{e^z}{1+e^z}\n",
    "$$\n",
    "\n",
    "So the neuron is essentially a logit regression."
   ]
  },
  {
   "cell_type": "code",
   "execution_count": 7,
   "metadata": {},
   "outputs": [
    {
     "name": "stdout",
     "output_type": "stream",
     "text": [
      "Epoch 1/50\n",
      "47/47 [==============================] - 0s 592us/step - loss: 0.6339 - accuracy: 0.5013\n",
      "Epoch 2/50\n",
      "47/47 [==============================] - 0s 509us/step - loss: 0.6215 - accuracy: 0.5013\n",
      "Epoch 3/50\n",
      "47/47 [==============================] - 0s 410us/step - loss: 0.6095 - accuracy: 0.5013\n",
      "Epoch 4/50\n",
      "47/47 [==============================] - 0s 454us/step - loss: 0.5976 - accuracy: 0.5013\n",
      "Epoch 5/50\n",
      "47/47 [==============================] - 0s 485us/step - loss: 0.5859 - accuracy: 0.5013\n",
      "Epoch 6/50\n",
      "47/47 [==============================] - 0s 445us/step - loss: 0.5740 - accuracy: 0.5013\n",
      "Epoch 7/50\n",
      "47/47 [==============================] - 0s 472us/step - loss: 0.5622 - accuracy: 0.5013\n",
      "Epoch 8/50\n",
      "47/47 [==============================] - 0s 481us/step - loss: 0.5503 - accuracy: 0.5013\n",
      "Epoch 9/50\n",
      "47/47 [==============================] - 0s 472us/step - loss: 0.5385 - accuracy: 0.5013\n",
      "Epoch 10/50\n",
      "47/47 [==============================] - 0s 481us/step - loss: 0.5267 - accuracy: 1.0000\n",
      "Epoch 11/50\n",
      "47/47 [==============================] - 0s 474us/step - loss: 0.5149 - accuracy: 1.0000\n",
      "Epoch 12/50\n",
      "47/47 [==============================] - 0s 428us/step - loss: 0.5033 - accuracy: 1.0000\n",
      "Epoch 13/50\n",
      "47/47 [==============================] - 0s 466us/step - loss: 0.4918 - accuracy: 1.0000\n",
      "Epoch 14/50\n",
      "47/47 [==============================] - 0s 465us/step - loss: 0.4804 - accuracy: 1.0000\n",
      "Epoch 15/50\n",
      "47/47 [==============================] - 0s 588us/step - loss: 0.4692 - accuracy: 1.0000\n",
      "Epoch 16/50\n",
      "47/47 [==============================] - 0s 466us/step - loss: 0.4582 - accuracy: 1.0000\n",
      "Epoch 17/50\n",
      "47/47 [==============================] - 0s 422us/step - loss: 0.4475 - accuracy: 1.0000\n",
      "Epoch 18/50\n",
      "47/47 [==============================] - 0s 431us/step - loss: 0.4369 - accuracy: 1.0000\n",
      "Epoch 19/50\n",
      "47/47 [==============================] - 0s 394us/step - loss: 0.4266 - accuracy: 1.0000\n",
      "Epoch 20/50\n",
      "47/47 [==============================] - 0s 426us/step - loss: 0.4164 - accuracy: 1.0000\n",
      "Epoch 21/50\n",
      "47/47 [==============================] - 0s 432us/step - loss: 0.4065 - accuracy: 1.0000\n",
      "Epoch 22/50\n",
      "47/47 [==============================] - 0s 388us/step - loss: 0.3969 - accuracy: 1.0000\n",
      "Epoch 23/50\n",
      "47/47 [==============================] - 0s 392us/step - loss: 0.3875 - accuracy: 1.0000\n",
      "Epoch 24/50\n",
      "47/47 [==============================] - 0s 398us/step - loss: 0.3783 - accuracy: 1.0000\n",
      "Epoch 25/50\n",
      "47/47 [==============================] - 0s 404us/step - loss: 0.3693 - accuracy: 1.0000\n",
      "Epoch 26/50\n",
      "47/47 [==============================] - 0s 405us/step - loss: 0.3606 - accuracy: 1.0000\n",
      "Epoch 27/50\n",
      "47/47 [==============================] - 0s 428us/step - loss: 0.3521 - accuracy: 1.0000\n",
      "Epoch 28/50\n",
      "47/47 [==============================] - 0s 396us/step - loss: 0.3438 - accuracy: 1.0000\n",
      "Epoch 29/50\n",
      "47/47 [==============================] - 0s 421us/step - loss: 0.3358 - accuracy: 1.0000\n",
      "Epoch 30/50\n",
      "47/47 [==============================] - 0s 419us/step - loss: 0.3279 - accuracy: 1.0000\n",
      "Epoch 31/50\n",
      "47/47 [==============================] - 0s 439us/step - loss: 0.3203 - accuracy: 1.0000\n",
      "Epoch 32/50\n",
      "47/47 [==============================] - 0s 427us/step - loss: 0.3129 - accuracy: 1.0000\n",
      "Epoch 33/50\n",
      "47/47 [==============================] - 0s 431us/step - loss: 0.3057 - accuracy: 1.0000\n",
      "Epoch 34/50\n",
      "47/47 [==============================] - 0s 402us/step - loss: 0.2988 - accuracy: 1.0000\n",
      "Epoch 35/50\n",
      "47/47 [==============================] - 0s 408us/step - loss: 0.2920 - accuracy: 1.0000\n",
      "Epoch 36/50\n",
      "47/47 [==============================] - 0s 436us/step - loss: 0.2854 - accuracy: 1.0000\n",
      "Epoch 37/50\n",
      "47/47 [==============================] - 0s 410us/step - loss: 0.2790 - accuracy: 1.0000\n",
      "Epoch 38/50\n",
      "47/47 [==============================] - 0s 403us/step - loss: 0.2727 - accuracy: 1.0000\n",
      "Epoch 39/50\n",
      "47/47 [==============================] - 0s 444us/step - loss: 0.2667 - accuracy: 1.0000\n",
      "Epoch 40/50\n",
      "47/47 [==============================] - 0s 404us/step - loss: 0.2608 - accuracy: 1.0000\n",
      "Epoch 41/50\n",
      "47/47 [==============================] - 0s 417us/step - loss: 0.2550 - accuracy: 1.0000\n",
      "Epoch 42/50\n",
      "47/47 [==============================] - 0s 407us/step - loss: 0.2495 - accuracy: 1.0000\n",
      "Epoch 43/50\n",
      "47/47 [==============================] - 0s 430us/step - loss: 0.2440 - accuracy: 1.0000\n",
      "Epoch 44/50\n",
      "47/47 [==============================] - 0s 405us/step - loss: 0.2388 - accuracy: 1.0000\n",
      "Epoch 45/50\n",
      "47/47 [==============================] - 0s 426us/step - loss: 0.2337 - accuracy: 1.0000\n",
      "Epoch 46/50\n",
      "47/47 [==============================] - 0s 439us/step - loss: 0.2287 - accuracy: 1.0000\n",
      "Epoch 47/50\n",
      "47/47 [==============================] - 0s 396us/step - loss: 0.2239 - accuracy: 1.0000\n",
      "Epoch 48/50\n",
      "47/47 [==============================] - 0s 383us/step - loss: 0.2191 - accuracy: 1.0000\n",
      "Epoch 49/50\n",
      "47/47 [==============================] - 0s 468us/step - loss: 0.2146 - accuracy: 1.0000\n",
      "Epoch 50/50\n",
      "47/47 [==============================] - 0s 459us/step - loss: 0.2101 - accuracy: 1.0000\n"
     ]
    },
    {
     "data": {
      "text/plain": [
       "<tensorflow.python.keras.callbacks.History at 0x7fa1347f5b50>"
      ]
     },
     "execution_count": 7,
     "metadata": {},
     "output_type": "execute_result"
    }
   ],
   "source": [
    "from tensorflow.keras.layers import Input, Dense\n",
    "from tensorflow.keras.models import Model\n",
    "\n",
    "# Set up layers \n",
    "inputs = Input(shape=(2,))\n",
    "x = Dense(1, activation='sigmoid')(inputs)\n",
    "predictions = Dense(1, activation='sigmoid')(x)\n",
    "\n",
    "# Set up model\n",
    "model = Model(inputs=inputs, outputs=predictions)\n",
    "model.compile(optimizer='adam',\n",
    "              loss='binary_crossentropy',\n",
    "              metrics=['accuracy'])\n",
    "model.fit(X_train,y_train,epochs=50)  # starts training"
   ]
  },
  {
   "cell_type": "markdown",
   "metadata": {},
   "source": [
    "Out-of-sample test can be conducted with ```model.evaluate()```:"
   ]
  },
  {
   "cell_type": "code",
   "execution_count": 8,
   "metadata": {},
   "outputs": [
    {
     "name": "stdout",
     "output_type": "stream",
     "text": [
      "16/16 [==============================] - 0s 325us/step - loss: 0.2083 - accuracy: 1.0000\n"
     ]
    },
    {
     "data": {
      "text/plain": [
       "[0.20833183825016022, 1.0]"
      ]
     },
     "execution_count": 8,
     "metadata": {},
     "output_type": "execute_result"
    }
   ],
   "source": [
    "model.evaluate(x=X_test,y=y_test)"
   ]
  },
  {
   "cell_type": "markdown",
   "metadata": {},
   "source": [
    "The first number is the model's loss while the subsequent numbers are the metrics we specified. In our case, they are ```binary_crossentropy``` and ```accuracy``` respectively.\n",
    "\n",
    "Unlike OLS, a neural network's performance could vary across runs. Run the code a few more times and see how the performance vary.\n",
    "\n",
    "Make prediction (this is called *inference* in machine learning) with ```model.predict()```:"
   ]
  },
  {
   "cell_type": "code",
   "execution_count": 9,
   "metadata": {},
   "outputs": [
    {
     "name": "stdout",
     "output_type": "stream",
     "text": [
      "[[0.7768973]]\n"
     ]
    }
   ],
   "source": [
    "x = np.array([[0,1]])\n",
    "print(model.predict(x))"
   ]
  },
  {
   "cell_type": "markdown",
   "metadata": {},
   "source": [
    "## Activations\n",
    "\n",
    "Different activation can have profound impact on model performance. Besides ```sigmoid```, which is just a different name for the logistic function, there are other activation function such as ```tanh``` and ```relu```. ```relu```, which stands for **RE**ctified **L**inear **U**nit, is a particular common choice due to its good performance."
   ]
  },
  {
   "cell_type": "code",
   "execution_count": 15,
   "metadata": {},
   "outputs": [
    {
     "name": "stdout",
     "output_type": "stream",
     "text": [
      "Epoch 1/50\n",
      "47/47 [==============================] - 0s 446us/step - loss: 0.5452 - accuracy: 1.0000\n",
      "Epoch 2/50\n",
      "47/47 [==============================] - 0s 459us/step - loss: 0.5233 - accuracy: 1.0000\n",
      "Epoch 3/50\n",
      "47/47 [==============================] - 0s 475us/step - loss: 0.5007 - accuracy: 1.0000\n",
      "Epoch 4/50\n",
      "47/47 [==============================] - 0s 467us/step - loss: 0.4776 - accuracy: 1.0000\n",
      "Epoch 5/50\n",
      "47/47 [==============================] - 0s 462us/step - loss: 0.4545 - accuracy: 1.0000\n",
      "Epoch 6/50\n",
      "47/47 [==============================] - 0s 467us/step - loss: 0.4317 - accuracy: 1.0000\n",
      "Epoch 7/50\n",
      "47/47 [==============================] - 0s 463us/step - loss: 0.4095 - accuracy: 1.0000\n",
      "Epoch 8/50\n",
      "47/47 [==============================] - 0s 454us/step - loss: 0.3880 - accuracy: 1.0000\n",
      "Epoch 9/50\n",
      "47/47 [==============================] - 0s 453us/step - loss: 0.3674 - accuracy: 1.0000\n",
      "Epoch 10/50\n",
      "47/47 [==============================] - 0s 452us/step - loss: 0.3481 - accuracy: 1.0000\n",
      "Epoch 11/50\n",
      "47/47 [==============================] - 0s 464us/step - loss: 0.3303 - accuracy: 1.0000\n",
      "Epoch 12/50\n",
      "47/47 [==============================] - 0s 463us/step - loss: 0.3135 - accuracy: 1.0000\n",
      "Epoch 13/50\n",
      "47/47 [==============================] - 0s 458us/step - loss: 0.2979 - accuracy: 1.0000\n",
      "Epoch 14/50\n",
      "47/47 [==============================] - 0s 472us/step - loss: 0.2833 - accuracy: 1.0000\n",
      "Epoch 15/50\n",
      "47/47 [==============================] - 0s 432us/step - loss: 0.2696 - accuracy: 1.0000\n",
      "Epoch 16/50\n",
      "47/47 [==============================] - 0s 457us/step - loss: 0.2568 - accuracy: 1.0000\n",
      "Epoch 17/50\n",
      "47/47 [==============================] - 0s 446us/step - loss: 0.2449 - accuracy: 1.0000\n",
      "Epoch 18/50\n",
      "47/47 [==============================] - 0s 445us/step - loss: 0.2337 - accuracy: 1.0000\n",
      "Epoch 19/50\n",
      "47/47 [==============================] - 0s 452us/step - loss: 0.2232 - accuracy: 1.0000\n",
      "Epoch 20/50\n",
      "47/47 [==============================] - 0s 458us/step - loss: 0.2134 - accuracy: 1.0000\n",
      "Epoch 21/50\n",
      "47/47 [==============================] - 0s 462us/step - loss: 0.2042 - accuracy: 1.0000\n",
      "Epoch 22/50\n",
      "47/47 [==============================] - 0s 456us/step - loss: 0.1955 - accuracy: 1.0000\n",
      "Epoch 23/50\n",
      "47/47 [==============================] - 0s 473us/step - loss: 0.1873 - accuracy: 1.0000\n",
      "Epoch 24/50\n",
      "47/47 [==============================] - 0s 461us/step - loss: 0.1796 - accuracy: 1.0000\n",
      "Epoch 25/50\n",
      "47/47 [==============================] - 0s 466us/step - loss: 0.1724 - accuracy: 1.0000\n",
      "Epoch 26/50\n",
      "47/47 [==============================] - 0s 451us/step - loss: 0.1655 - accuracy: 1.0000\n",
      "Epoch 27/50\n",
      "47/47 [==============================] - 0s 455us/step - loss: 0.1591 - accuracy: 1.0000\n",
      "Epoch 28/50\n",
      "47/47 [==============================] - 0s 468us/step - loss: 0.1529 - accuracy: 1.0000\n",
      "Epoch 29/50\n",
      "47/47 [==============================] - 0s 463us/step - loss: 0.1472 - accuracy: 1.0000\n",
      "Epoch 30/50\n",
      "47/47 [==============================] - 0s 456us/step - loss: 0.1417 - accuracy: 1.0000\n",
      "Epoch 31/50\n",
      "47/47 [==============================] - 0s 447us/step - loss: 0.1364 - accuracy: 1.0000\n",
      "Epoch 32/50\n",
      "47/47 [==============================] - 0s 447us/step - loss: 0.1315 - accuracy: 1.0000\n",
      "Epoch 33/50\n",
      "47/47 [==============================] - 0s 451us/step - loss: 0.1268 - accuracy: 1.0000\n",
      "Epoch 34/50\n",
      "47/47 [==============================] - 0s 454us/step - loss: 0.1223 - accuracy: 1.0000\n",
      "Epoch 35/50\n",
      "47/47 [==============================] - 0s 453us/step - loss: 0.1181 - accuracy: 1.0000\n",
      "Epoch 36/50\n",
      "47/47 [==============================] - 0s 455us/step - loss: 0.1140 - accuracy: 1.0000\n",
      "Epoch 37/50\n",
      "47/47 [==============================] - 0s 448us/step - loss: 0.1102 - accuracy: 1.0000\n",
      "Epoch 38/50\n",
      "47/47 [==============================] - 0s 496us/step - loss: 0.1065 - accuracy: 1.0000\n",
      "Epoch 39/50\n",
      "47/47 [==============================] - 0s 486us/step - loss: 0.1030 - accuracy: 1.0000\n",
      "Epoch 40/50\n",
      "47/47 [==============================] - 0s 470us/step - loss: 0.0996 - accuracy: 1.0000\n",
      "Epoch 41/50\n",
      "47/47 [==============================] - 0s 468us/step - loss: 0.0964 - accuracy: 1.0000\n",
      "Epoch 42/50\n",
      "47/47 [==============================] - 0s 472us/step - loss: 0.0933 - accuracy: 1.0000\n",
      "Epoch 43/50\n",
      "47/47 [==============================] - 0s 462us/step - loss: 0.0903 - accuracy: 1.0000\n",
      "Epoch 44/50\n",
      "47/47 [==============================] - 0s 483us/step - loss: 0.0875 - accuracy: 1.0000\n",
      "Epoch 45/50\n",
      "47/47 [==============================] - 0s 471us/step - loss: 0.0848 - accuracy: 1.0000\n",
      "Epoch 46/50\n",
      "47/47 [==============================] - 0s 459us/step - loss: 0.0822 - accuracy: 1.0000\n",
      "Epoch 47/50\n",
      "47/47 [==============================] - 0s 453us/step - loss: 0.0797 - accuracy: 1.0000\n",
      "Epoch 48/50\n",
      "47/47 [==============================] - 0s 462us/step - loss: 0.0773 - accuracy: 1.0000\n",
      "Epoch 49/50\n",
      "47/47 [==============================] - 0s 453us/step - loss: 0.0750 - accuracy: 1.0000\n",
      "Epoch 50/50\n",
      "47/47 [==============================] - 0s 448us/step - loss: 0.0728 - accuracy: 1.0000\n"
     ]
    },
    {
     "data": {
      "text/plain": [
       "<tensorflow.python.keras.callbacks.History at 0x7fa0f87e4850>"
      ]
     },
     "execution_count": 15,
     "metadata": {},
     "output_type": "execute_result"
    }
   ],
   "source": [
    "# Replace 'sigmoid' with 'relu' for the hidden layer\n",
    "inputs = Input(shape=(2,))\n",
    "x = Dense(1, activation='relu')(inputs)\n",
    "predictions = Dense(1, activation='sigmoid')(x)\n",
    "\n",
    "model = Model(inputs=inputs,outputs=predictions)\n",
    "model.compile(optimizer='adam',\n",
    "              loss='binary_crossentropy',\n",
    "              metrics=['accuracy'])\n",
    "model.fit(X_train,y_train,epochs=50)"
   ]
  },
  {
   "cell_type": "markdown",
   "metadata": {},
   "source": [
    "Why is ReLU performing so much better than the logistic function? Let us take a look at the shape of each function:\n",
    "<img src=\"../Images/logistic_v_relu.png\">\n",
    "The most prominent feature of the logistic function is that it is bounded between 0 and 1. This means it is virtually flat for very large or very small input values, and flat means small gradient. As gradient descent relies on gradient to learn, small gradient implies slow learning. ReLU avoids this issue by being linear above zero."
   ]
  },
  {
   "cell_type": "markdown",
   "metadata": {},
   "source": [
    "## Neural Network Regression\n",
    "\n",
    "Next we are going use a neural network in a regression task. The true data generating process (DGP) is as follows:\n",
    "\n",
    "$$\n",
    "y = x^5 -2x^3 + 6x^2 + 10x - 5\n",
    "$$\n",
    "\n",
    "The model does not know the true DGP, so it needs to figure out the relationship between $y$ and $x$ from the data.\n",
    "\n",
    "First we generate the data:"
   ]
  },
  {
   "cell_type": "code",
   "execution_count": 16,
   "metadata": {},
   "outputs": [],
   "source": [
    "#Generate 1000 samples\n",
    "X = np.random.rand(1000,1)\n",
    "y = X**5 - 2*X**3 + 6*X**2 + 10*X - 5\n",
    "\n",
    "#Shuffle and split data into train set and test set\n",
    "X_train, X_test, y_train, y_test = train_test_split(X,y)"
   ]
  },
  {
   "cell_type": "markdown",
   "metadata": {},
   "source": [
    "Then we construct the model:"
   ]
  },
  {
   "cell_type": "code",
   "execution_count": 17,
   "metadata": {},
   "outputs": [
    {
     "name": "stdout",
     "output_type": "stream",
     "text": [
      "Epoch 1/200\n",
      "24/24 [==============================] - 0s 508us/step - loss: 21.9896\n",
      "Epoch 2/200\n",
      "24/24 [==============================] - 0s 524us/step - loss: 20.2422\n",
      "Epoch 3/200\n",
      "24/24 [==============================] - 0s 544us/step - loss: 18.6448\n",
      "Epoch 4/200\n",
      "24/24 [==============================] - 0s 501us/step - loss: 17.2450\n",
      "Epoch 5/200\n",
      "24/24 [==============================] - 0s 537us/step - loss: 16.0669\n",
      "Epoch 6/200\n",
      "24/24 [==============================] - 0s 533us/step - loss: 15.0782\n",
      "Epoch 7/200\n",
      "24/24 [==============================] - 0s 485us/step - loss: 14.3451\n",
      "Epoch 8/200\n",
      "24/24 [==============================] - 0s 468us/step - loss: 13.6923\n",
      "Epoch 9/200\n",
      "24/24 [==============================] - 0s 471us/step - loss: 13.0745\n",
      "Epoch 10/200\n",
      "24/24 [==============================] - 0s 464us/step - loss: 12.4410\n",
      "Epoch 11/200\n",
      "24/24 [==============================] - 0s 468us/step - loss: 11.7464\n",
      "Epoch 12/200\n",
      "24/24 [==============================] - 0s 489us/step - loss: 11.0271\n",
      "Epoch 13/200\n",
      "24/24 [==============================] - 0s 494us/step - loss: 10.2885\n",
      "Epoch 14/200\n",
      "24/24 [==============================] - 0s 458us/step - loss: 9.4966\n",
      "Epoch 15/200\n",
      "24/24 [==============================] - 0s 482us/step - loss: 8.7698\n",
      "Epoch 16/200\n",
      "24/24 [==============================] - 0s 454us/step - loss: 8.1342\n",
      "Epoch 17/200\n",
      "24/24 [==============================] - 0s 526us/step - loss: 7.5886\n",
      "Epoch 18/200\n",
      "24/24 [==============================] - 0s 468us/step - loss: 7.1053\n",
      "Epoch 19/200\n",
      "24/24 [==============================] - 0s 481us/step - loss: 6.6619\n",
      "Epoch 20/200\n",
      "24/24 [==============================] - 0s 484us/step - loss: 6.2651\n",
      "Epoch 21/200\n",
      "24/24 [==============================] - 0s 475us/step - loss: 5.9101\n",
      "Epoch 22/200\n",
      "24/24 [==============================] - 0s 474us/step - loss: 5.5827\n",
      "Epoch 23/200\n",
      "24/24 [==============================] - 0s 454us/step - loss: 5.2892\n",
      "Epoch 24/200\n",
      "24/24 [==============================] - 0s 491us/step - loss: 5.0240\n",
      "Epoch 25/200\n",
      "24/24 [==============================] - 0s 473us/step - loss: 4.7829\n",
      "Epoch 26/200\n",
      "24/24 [==============================] - 0s 460us/step - loss: 4.5715\n",
      "Epoch 27/200\n",
      "24/24 [==============================] - 0s 504us/step - loss: 4.3820\n",
      "Epoch 28/200\n",
      "24/24 [==============================] - 0s 498us/step - loss: 4.2020\n",
      "Epoch 29/200\n",
      "24/24 [==============================] - 0s 468us/step - loss: 4.0413\n",
      "Epoch 30/200\n",
      "24/24 [==============================] - 0s 472us/step - loss: 3.8907\n",
      "Epoch 31/200\n",
      "24/24 [==============================] - 0s 359us/step - loss: 3.7529\n",
      "Epoch 32/200\n",
      "24/24 [==============================] - 0s 471us/step - loss: 3.6266\n",
      "Epoch 33/200\n",
      "24/24 [==============================] - 0s 461us/step - loss: 3.5059\n",
      "Epoch 34/200\n",
      "24/24 [==============================] - 0s 498us/step - loss: 3.3980\n",
      "Epoch 35/200\n",
      "24/24 [==============================] - 0s 453us/step - loss: 3.2961\n",
      "Epoch 36/200\n",
      "24/24 [==============================] - 0s 507us/step - loss: 3.2029\n",
      "Epoch 37/200\n",
      "24/24 [==============================] - 0s 491us/step - loss: 3.1149\n",
      "Epoch 38/200\n",
      "24/24 [==============================] - 0s 464us/step - loss: 3.0330\n",
      "Epoch 39/200\n",
      "24/24 [==============================] - 0s 476us/step - loss: 2.9557\n",
      "Epoch 40/200\n",
      "24/24 [==============================] - 0s 508us/step - loss: 2.8832\n",
      "Epoch 41/200\n",
      "24/24 [==============================] - 0s 491us/step - loss: 2.8166\n",
      "Epoch 42/200\n",
      "24/24 [==============================] - 0s 479us/step - loss: 2.7539\n",
      "Epoch 43/200\n",
      "24/24 [==============================] - 0s 541us/step - loss: 2.6931\n",
      "Epoch 44/200\n",
      "24/24 [==============================] - 0s 512us/step - loss: 2.6380\n",
      "Epoch 45/200\n",
      "24/24 [==============================] - 0s 460us/step - loss: 2.5849\n",
      "Epoch 46/200\n",
      "24/24 [==============================] - 0s 462us/step - loss: 2.5346\n",
      "Epoch 47/200\n",
      "24/24 [==============================] - 0s 498us/step - loss: 2.4868\n",
      "Epoch 48/200\n",
      "24/24 [==============================] - 0s 514us/step - loss: 2.4419\n",
      "Epoch 49/200\n",
      "24/24 [==============================] - 0s 533us/step - loss: 2.3993\n",
      "Epoch 50/200\n",
      "24/24 [==============================] - 0s 465us/step - loss: 2.3584\n",
      "Epoch 51/200\n",
      "24/24 [==============================] - 0s 466us/step - loss: 2.3190\n",
      "Epoch 52/200\n",
      "24/24 [==============================] - 0s 492us/step - loss: 2.2814\n",
      "Epoch 53/200\n",
      "24/24 [==============================] - 0s 471us/step - loss: 2.2450\n",
      "Epoch 54/200\n",
      "24/24 [==============================] - 0s 483us/step - loss: 2.2098\n",
      "Epoch 55/200\n",
      "24/24 [==============================] - 0s 516us/step - loss: 2.1764\n",
      "Epoch 56/200\n",
      "24/24 [==============================] - 0s 544us/step - loss: 2.1435\n",
      "Epoch 57/200\n",
      "24/24 [==============================] - 0s 507us/step - loss: 2.1115\n",
      "Epoch 58/200\n",
      "24/24 [==============================] - 0s 469us/step - loss: 2.0805\n",
      "Epoch 59/200\n",
      "24/24 [==============================] - 0s 490us/step - loss: 2.0504\n",
      "Epoch 60/200\n",
      "24/24 [==============================] - 0s 472us/step - loss: 2.0211\n",
      "Epoch 61/200\n",
      "24/24 [==============================] - 0s 554us/step - loss: 1.9926\n",
      "Epoch 62/200\n",
      "24/24 [==============================] - 0s 484us/step - loss: 1.9648\n",
      "Epoch 63/200\n",
      "24/24 [==============================] - 0s 462us/step - loss: 1.9376\n",
      "Epoch 64/200\n",
      "24/24 [==============================] - 0s 530us/step - loss: 1.9117\n",
      "Epoch 65/200\n",
      "24/24 [==============================] - 0s 491us/step - loss: 1.8858\n",
      "Epoch 66/200\n",
      "24/24 [==============================] - 0s 464us/step - loss: 1.8602\n",
      "Epoch 67/200\n",
      "24/24 [==============================] - 0s 471us/step - loss: 1.8357\n",
      "Epoch 68/200\n",
      "24/24 [==============================] - 0s 509us/step - loss: 1.8099\n",
      "Epoch 69/200\n",
      "24/24 [==============================] - 0s 459us/step - loss: 1.7861\n",
      "Epoch 70/200\n",
      "24/24 [==============================] - 0s 509us/step - loss: 1.7616\n",
      "Epoch 71/200\n",
      "24/24 [==============================] - 0s 516us/step - loss: 1.7380\n",
      "Epoch 72/200\n",
      "24/24 [==============================] - 0s 523us/step - loss: 1.7148\n",
      "Epoch 73/200\n",
      "24/24 [==============================] - 0s 486us/step - loss: 1.6919\n",
      "Epoch 74/200\n",
      "24/24 [==============================] - 0s 467us/step - loss: 1.6699\n",
      "Epoch 75/200\n",
      "24/24 [==============================] - 0s 461us/step - loss: 1.6479\n",
      "Epoch 76/200\n",
      "24/24 [==============================] - 0s 514us/step - loss: 1.6259\n",
      "Epoch 77/200\n",
      "24/24 [==============================] - 0s 470us/step - loss: 1.6044\n",
      "Epoch 78/200\n",
      "24/24 [==============================] - 0s 443us/step - loss: 1.5828\n",
      "Epoch 79/200\n",
      "24/24 [==============================] - 0s 501us/step - loss: 1.5616\n",
      "Epoch 80/200\n",
      "24/24 [==============================] - 0s 481us/step - loss: 1.5407\n",
      "Epoch 81/200\n",
      "24/24 [==============================] - 0s 474us/step - loss: 1.5197\n",
      "Epoch 82/200\n",
      "24/24 [==============================] - 0s 486us/step - loss: 1.4993\n",
      "Epoch 83/200\n",
      "24/24 [==============================] - 0s 560us/step - loss: 1.4791\n",
      "Epoch 84/200\n",
      "24/24 [==============================] - 0s 474us/step - loss: 1.4594\n",
      "Epoch 85/200\n",
      "24/24 [==============================] - 0s 542us/step - loss: 1.4396\n",
      "Epoch 86/200\n",
      "24/24 [==============================] - 0s 514us/step - loss: 1.4195\n",
      "Epoch 87/200\n",
      "24/24 [==============================] - 0s 466us/step - loss: 1.4003\n",
      "Epoch 88/200\n",
      "24/24 [==============================] - 0s 490us/step - loss: 1.3812\n",
      "Epoch 89/200\n",
      "24/24 [==============================] - 0s 546us/step - loss: 1.3621\n",
      "Epoch 90/200\n",
      "24/24 [==============================] - 0s 520us/step - loss: 1.3438\n",
      "Epoch 91/200\n",
      "24/24 [==============================] - 0s 469us/step - loss: 1.3246\n",
      "Epoch 92/200\n",
      "24/24 [==============================] - 0s 466us/step - loss: 1.3060\n",
      "Epoch 93/200\n",
      "24/24 [==============================] - 0s 480us/step - loss: 1.2878\n",
      "Epoch 94/200\n",
      "24/24 [==============================] - 0s 479us/step - loss: 1.2698\n",
      "Epoch 95/200\n",
      "24/24 [==============================] - 0s 528us/step - loss: 1.2515\n",
      "Epoch 96/200\n",
      "24/24 [==============================] - 0s 449us/step - loss: 1.2346\n",
      "Epoch 97/200\n",
      "24/24 [==============================] - 0s 470us/step - loss: 1.2166\n",
      "Epoch 98/200\n",
      "24/24 [==============================] - 0s 383us/step - loss: 1.1996\n",
      "Epoch 99/200\n",
      "24/24 [==============================] - 0s 483us/step - loss: 1.1821\n",
      "Epoch 100/200\n",
      "24/24 [==============================] - 0s 470us/step - loss: 1.1653\n",
      "Epoch 101/200\n",
      "24/24 [==============================] - 0s 519us/step - loss: 1.1487\n",
      "Epoch 102/200\n",
      "24/24 [==============================] - 0s 529us/step - loss: 1.1317\n",
      "Epoch 103/200\n",
      "24/24 [==============================] - 0s 503us/step - loss: 1.1156\n",
      "Epoch 104/200\n",
      "24/24 [==============================] - 0s 454us/step - loss: 1.0995\n",
      "Epoch 105/200\n",
      "24/24 [==============================] - 0s 469us/step - loss: 1.0837\n",
      "Epoch 106/200\n",
      "24/24 [==============================] - 0s 532us/step - loss: 1.0676\n",
      "Epoch 107/200\n",
      "24/24 [==============================] - 0s 370us/step - loss: 1.0524\n",
      "Epoch 108/200\n",
      "24/24 [==============================] - 0s 466us/step - loss: 1.0370\n",
      "Epoch 109/200\n",
      "24/24 [==============================] - 0s 467us/step - loss: 1.0223\n",
      "Epoch 110/200\n",
      "24/24 [==============================] - 0s 509us/step - loss: 1.0075\n",
      "Epoch 111/200\n",
      "24/24 [==============================] - 0s 481us/step - loss: 0.9925\n",
      "Epoch 112/200\n",
      "24/24 [==============================] - 0s 461us/step - loss: 0.9781\n",
      "Epoch 113/200\n",
      "24/24 [==============================] - 0s 484us/step - loss: 0.9635\n",
      "Epoch 114/200\n",
      "24/24 [==============================] - 0s 468us/step - loss: 0.9490\n",
      "Epoch 115/200\n",
      "24/24 [==============================] - 0s 465us/step - loss: 0.9350\n",
      "Epoch 116/200\n",
      "24/24 [==============================] - 0s 503us/step - loss: 0.9210\n",
      "Epoch 117/200\n",
      "24/24 [==============================] - 0s 490us/step - loss: 0.9073\n",
      "Epoch 118/200\n",
      "24/24 [==============================] - 0s 403us/step - loss: 0.8938\n",
      "Epoch 119/200\n",
      "24/24 [==============================] - 0s 478us/step - loss: 0.8803\n",
      "Epoch 120/200\n",
      "24/24 [==============================] - 0s 469us/step - loss: 0.8672\n",
      "Epoch 121/200\n",
      "24/24 [==============================] - 0s 478us/step - loss: 0.8545\n",
      "Epoch 122/200\n",
      "24/24 [==============================] - 0s 457us/step - loss: 0.8415\n",
      "Epoch 123/200\n",
      "24/24 [==============================] - 0s 465us/step - loss: 0.8288\n",
      "Epoch 124/200\n",
      "24/24 [==============================] - 0s 524us/step - loss: 0.8163\n",
      "Epoch 125/200\n",
      "24/24 [==============================] - 0s 465us/step - loss: 0.8039\n",
      "Epoch 126/200\n",
      "24/24 [==============================] - 0s 509us/step - loss: 0.7922\n",
      "Epoch 127/200\n",
      "24/24 [==============================] - 0s 447us/step - loss: 0.7798\n",
      "Epoch 128/200\n",
      "24/24 [==============================] - 0s 455us/step - loss: 0.7680\n",
      "Epoch 129/200\n",
      "24/24 [==============================] - 0s 460us/step - loss: 0.7566\n",
      "Epoch 130/200\n",
      "24/24 [==============================] - 0s 471us/step - loss: 0.7451\n",
      "Epoch 131/200\n",
      "24/24 [==============================] - 0s 464us/step - loss: 0.7339\n",
      "Epoch 132/200\n",
      "24/24 [==============================] - 0s 534us/step - loss: 0.7227\n",
      "Epoch 133/200\n",
      "24/24 [==============================] - 0s 474us/step - loss: 0.7117\n",
      "Epoch 134/200\n",
      "24/24 [==============================] - 0s 461us/step - loss: 0.7007\n",
      "Epoch 135/200\n",
      "24/24 [==============================] - 0s 459us/step - loss: 0.6898\n",
      "Epoch 136/200\n",
      "24/24 [==============================] - 0s 383us/step - loss: 0.6794\n",
      "Epoch 137/200\n",
      "24/24 [==============================] - 0s 501us/step - loss: 0.6691\n",
      "Epoch 138/200\n",
      "24/24 [==============================] - 0s 460us/step - loss: 0.6589\n",
      "Epoch 139/200\n",
      "24/24 [==============================] - 0s 457us/step - loss: 0.6488\n",
      "Epoch 140/200\n",
      "24/24 [==============================] - 0s 516us/step - loss: 0.6391\n",
      "Epoch 141/200\n",
      "24/24 [==============================] - 0s 466us/step - loss: 0.6292\n",
      "Epoch 142/200\n",
      "24/24 [==============================] - 0s 481us/step - loss: 0.6196\n",
      "Epoch 143/200\n",
      "24/24 [==============================] - 0s 528us/step - loss: 0.6102\n",
      "Epoch 144/200\n",
      "24/24 [==============================] - 0s 459us/step - loss: 0.6005\n",
      "Epoch 145/200\n",
      "24/24 [==============================] - 0s 510us/step - loss: 0.5911\n",
      "Epoch 146/200\n",
      "24/24 [==============================] - 0s 507us/step - loss: 0.5819\n",
      "Epoch 147/200\n",
      "24/24 [==============================] - 0s 517us/step - loss: 0.5732\n",
      "Epoch 148/200\n",
      "24/24 [==============================] - 0s 470us/step - loss: 0.5643\n",
      "Epoch 149/200\n",
      "24/24 [==============================] - 0s 450us/step - loss: 0.5555\n",
      "Epoch 150/200\n",
      "24/24 [==============================] - 0s 497us/step - loss: 0.5469\n",
      "Epoch 151/200\n",
      "24/24 [==============================] - 0s 465us/step - loss: 0.5383\n",
      "Epoch 152/200\n",
      "24/24 [==============================] - 0s 464us/step - loss: 0.5301\n",
      "Epoch 153/200\n",
      "24/24 [==============================] - 0s 474us/step - loss: 0.5218\n",
      "Epoch 154/200\n",
      "24/24 [==============================] - 0s 462us/step - loss: 0.5138\n",
      "Epoch 155/200\n",
      "24/24 [==============================] - 0s 519us/step - loss: 0.5058\n",
      "Epoch 156/200\n",
      "24/24 [==============================] - 0s 457us/step - loss: 0.4976\n",
      "Epoch 157/200\n",
      "24/24 [==============================] - 0s 474us/step - loss: 0.4896\n",
      "Epoch 158/200\n",
      "24/24 [==============================] - 0s 464us/step - loss: 0.4818\n",
      "Epoch 159/200\n",
      "24/24 [==============================] - 0s 464us/step - loss: 0.4742\n",
      "Epoch 160/200\n",
      "24/24 [==============================] - 0s 475us/step - loss: 0.4666\n",
      "Epoch 161/200\n",
      "24/24 [==============================] - 0s 472us/step - loss: 0.4591\n",
      "Epoch 162/200\n",
      "24/24 [==============================] - 0s 516us/step - loss: 0.4519\n",
      "Epoch 163/200\n",
      "24/24 [==============================] - 0s 468us/step - loss: 0.4445\n",
      "Epoch 164/200\n",
      "24/24 [==============================] - 0s 465us/step - loss: 0.4376\n",
      "Epoch 165/200\n",
      "24/24 [==============================] - 0s 461us/step - loss: 0.4307\n",
      "Epoch 166/200\n",
      "24/24 [==============================] - 0s 506us/step - loss: 0.4237\n",
      "Epoch 167/200\n",
      "24/24 [==============================] - 0s 446us/step - loss: 0.4170\n",
      "Epoch 168/200\n",
      "24/24 [==============================] - 0s 468us/step - loss: 0.4105\n",
      "Epoch 169/200\n",
      "24/24 [==============================] - 0s 468us/step - loss: 0.4036\n",
      "Epoch 170/200\n",
      "24/24 [==============================] - 0s 439us/step - loss: 0.3972\n",
      "Epoch 171/200\n",
      "24/24 [==============================] - 0s 410us/step - loss: 0.3906\n",
      "Epoch 172/200\n",
      "24/24 [==============================] - 0s 435us/step - loss: 0.3842\n",
      "Epoch 173/200\n",
      "24/24 [==============================] - 0s 513us/step - loss: 0.3779\n",
      "Epoch 174/200\n",
      "24/24 [==============================] - 0s 467us/step - loss: 0.3717\n",
      "Epoch 175/200\n",
      "24/24 [==============================] - 0s 462us/step - loss: 0.3655\n",
      "Epoch 176/200\n",
      "24/24 [==============================] - 0s 476us/step - loss: 0.3595\n",
      "Epoch 177/200\n",
      "24/24 [==============================] - 0s 371us/step - loss: 0.3536\n",
      "Epoch 178/200\n",
      "24/24 [==============================] - 0s 534us/step - loss: 0.3477\n",
      "Epoch 179/200\n",
      "24/24 [==============================] - 0s 356us/step - loss: 0.3421\n",
      "Epoch 180/200\n",
      "24/24 [==============================] - 0s 483us/step - loss: 0.3363\n",
      "Epoch 181/200\n",
      "24/24 [==============================] - 0s 497us/step - loss: 0.3309\n",
      "Epoch 182/200\n",
      "24/24 [==============================] - 0s 463us/step - loss: 0.3253\n",
      "Epoch 183/200\n",
      "24/24 [==============================] - 0s 494us/step - loss: 0.3200\n",
      "Epoch 184/200\n",
      "24/24 [==============================] - 0s 498us/step - loss: 0.3146\n",
      "Epoch 185/200\n",
      "24/24 [==============================] - 0s 474us/step - loss: 0.3093\n",
      "Epoch 186/200\n",
      "24/24 [==============================] - 0s 483us/step - loss: 0.3042\n",
      "Epoch 187/200\n",
      "24/24 [==============================] - 0s 483us/step - loss: 0.2987\n",
      "Epoch 188/200\n",
      "24/24 [==============================] - 0s 469us/step - loss: 0.2939\n",
      "Epoch 189/200\n",
      "24/24 [==============================] - 0s 461us/step - loss: 0.2886\n",
      "Epoch 190/200\n",
      "24/24 [==============================] - 0s 561us/step - loss: 0.2838\n",
      "Epoch 191/200\n",
      "24/24 [==============================] - 0s 492us/step - loss: 0.2790\n",
      "Epoch 192/200\n",
      "24/24 [==============================] - 0s 470us/step - loss: 0.2740\n",
      "Epoch 193/200\n",
      "24/24 [==============================] - 0s 494us/step - loss: 0.2693\n",
      "Epoch 194/200\n",
      "24/24 [==============================] - 0s 551us/step - loss: 0.2646\n",
      "Epoch 195/200\n",
      "24/24 [==============================] - 0s 488us/step - loss: 0.2600\n",
      "Epoch 196/200\n",
      "24/24 [==============================] - 0s 438us/step - loss: 0.2556\n",
      "Epoch 197/200\n",
      "24/24 [==============================] - 0s 415us/step - loss: 0.2509\n",
      "Epoch 198/200\n",
      "24/24 [==============================] - 0s 465us/step - loss: 0.2465\n",
      "Epoch 199/200\n",
      "24/24 [==============================] - 0s 455us/step - loss: 0.2421\n",
      "Epoch 200/200\n",
      "24/24 [==============================] - 0s 459us/step - loss: 0.2378\n",
      "8/8 [==============================] - 0s 314us/step - loss: 0.2691\n"
     ]
    },
    {
     "data": {
      "text/plain": [
       "0.2690861225128174"
      ]
     },
     "execution_count": 17,
     "metadata": {},
     "output_type": "execute_result"
    }
   ],
   "source": [
    "# Single hidden layer with 100 neurons\n",
    "inputs = Input(shape=(1,))\n",
    "x = Dense(100, activation='relu')(inputs)\n",
    "predictions = Dense(1, activation='linear')(x)\n",
    "\n",
    "model = Model(inputs=inputs, outputs=predictions)\n",
    "model.compile(optimizer='adam',\n",
    "              loss='mean_squared_error')\n",
    "model.fit(X_train,y_train,epochs=200)\n",
    "model.evaluate(x=X_test,y=y_test)"
   ]
  },
  {
   "cell_type": "markdown",
   "metadata": {},
   "source": [
    "We are going to run the model through different settings. The function contains everything we have coded previously:"
   ]
  },
  {
   "cell_type": "code",
   "execution_count": 20,
   "metadata": {},
   "outputs": [],
   "source": [
    "import time\n",
    "from tensorflow.keras.layers import Input, Dense\n",
    "from tensorflow.keras.models import Model\n",
    "import tensorflow.keras.backend as backend\n",
    "\n",
    "def polyNN(data,\n",
    "           hidden_count=100,\n",
    "           epochs=200,\n",
    "           batch_size=32,\n",
    "           activation='relu'):\n",
    "    \n",
    "    #Record the start time\n",
    "    start = time.time()\n",
    "    \n",
    "    #Unpack the data\n",
    "    X_train, X_test, y_train, y_test = data\n",
    "    \n",
    "    #Layers\n",
    "    inputs = Input(shape=(X_train.shape[1],))\n",
    "    x = Dense(hidden_count, activation=activation)(inputs)\n",
    "    predictions = Dense(1, activation='linear')(x)\n",
    "\n",
    "    #Model\n",
    "    model = Model(inputs=inputs, outputs=predictions)\n",
    "    model.compile(optimizer='adam',\n",
    "                  loss='mean_squared_error')\n",
    "    model.fit(X_train,y_train,epochs=epochs,batch_size=batch_size,verbose=0) #Do not display progress\n",
    "    \n",
    "    #Collect and display info\n",
    "    param_count = model.count_params()\n",
    "    loss_tr = round(model.evaluate(x=X_train,y=y_train,batch_size=batch_size,verbose=0),4)\n",
    "    loss_te = round(model.evaluate(x=X_test,y=y_test,batch_size=batch_size,verbose=0),4)\n",
    "    elapsed = round(time.time() - start,2)    \n",
    "    print(\"Hidden count:\",str(hidden_count).ljust(5),\n",
    "          \"Parameters:\",str(param_count).ljust(6),\n",
    "          \"loss (train,test):\",str(loss_tr).ljust(7),str(loss_te).ljust(7),\n",
    "          \"Time:\",str(elapsed)+\"s\",\n",
    "         )\n",
    "    \n",
    "    backend.clear_session()"
   ]
  },
  {
   "cell_type": "markdown",
   "metadata": {},
   "source": [
    "`clear_session()` is called at the end of the function to clear existing models from memory. This is important if you are working with multiple models&mdash;for example, when you run through different sets of hyperparameters&mdash;to avoid running out of memory.\n",
    "\n",
    "Now we can easily try out different settings:"
   ]
  },
  {
   "cell_type": "code",
   "execution_count": 21,
   "metadata": {},
   "outputs": [
    {
     "name": "stdout",
     "output_type": "stream",
     "text": [
      "Hidden count: 1     Parameters: 4      loss (train,test): 0.5281  0.4063  Time: 1.71s\n",
      "Hidden count: 10    Parameters: 31     loss (train,test): 0.4216  0.3138  Time: 1.76s\n",
      "Hidden count: 50    Parameters: 151    loss (train,test): 0.2844  0.2063  Time: 1.81s\n",
      "Hidden count: 100   Parameters: 301    loss (train,test): 0.2402  0.1737  Time: 2.28s\n",
      "Hidden count: 500   Parameters: 1501   loss (train,test): 0.2024  0.1464  Time: 2.65s\n"
     ]
    }
   ],
   "source": [
    "data = train_test_split(X,y)\n",
    "\n",
    "polyNN(data,hidden_count=1)\n",
    "polyNN(data,hidden_count=10)\n",
    "polyNN(data,hidden_count=50)\n",
    "polyNN(data,hidden_count=100)\n",
    "polyNN(data,hidden_count=500)"
   ]
  },
  {
   "cell_type": "markdown",
   "metadata": {},
   "source": [
    "Here we see the universal approximation theorem in work: the more neurons we have the better the fit.\n",
    "\n",
    "One trick that can often improve performance: *standardizing* data."
   ]
  },
  {
   "cell_type": "code",
   "execution_count": 22,
   "metadata": {},
   "outputs": [
    {
     "name": "stdout",
     "output_type": "stream",
     "text": [
      "Hidden count: 1     Parameters: 4      loss (train,test): 19.7992 19.3042 Time: 1.66s\n",
      "Hidden count: 10    Parameters: 31     loss (train,test): 0.0223  0.0214  Time: 1.72s\n",
      "Hidden count: 50    Parameters: 151    loss (train,test): 0.0006  0.0007  Time: 1.79s\n",
      "Hidden count: 100   Parameters: 301    loss (train,test): 0.0005  0.0006  Time: 2.16s\n",
      "Hidden count: 500   Parameters: 1501   loss (train,test): 0.0     0.0     Time: 2.63s\n"
     ]
    }
   ],
   "source": [
    "from sklearn import preprocessing\n",
    "scalar = preprocessing.StandardScaler().fit(X)\n",
    "X_std = scalar.transform(X)\n",
    "\n",
    "data_std = train_test_split(X_std,y)\n",
    "\n",
    "polyNN(data_std,hidden_count=1)\n",
    "polyNN(data_std,hidden_count=10)\n",
    "polyNN(data_std,hidden_count=50)\n",
    "polyNN(data_std,hidden_count=100)\n",
    "polyNN(data_std,hidden_count=500)"
   ]
  },
  {
   "cell_type": "markdown",
   "metadata": {},
   "source": [
    "While `StandardScaler` works quite well when there is only a single feature, its sensitivity to outliers makes it unsuitable for situations with mulitple highly unbalanced features. Scikit-learn offers <a href=\"https://scikit-learn.org/stable/auto_examples/preprocessing/plot_all_scaling.html#sphx-glr-auto-examples-preprocessing-plot-all-scaling-py\">other scalers</a> such as `RobustScaler` that might work better in those cases. \n"
   ]
  },
  {
   "cell_type": "markdown",
   "metadata": {},
   "source": [
    "Now let us run everything again with logistic activation:"
   ]
  },
  {
   "cell_type": "code",
   "execution_count": 23,
   "metadata": {},
   "outputs": [
    {
     "name": "stdout",
     "output_type": "stream",
     "text": [
      "Hidden count: 1     Parameters: 4      loss (train,test): 9.2396  8.6183  Time: 1.65s\n",
      "Hidden count: 10    Parameters: 31     loss (train,test): 0.1783  0.2086  Time: 1.75s\n",
      "Hidden count: 50    Parameters: 151    loss (train,test): 0.1214  0.1338  Time: 1.81s\n",
      "Hidden count: 100   Parameters: 301    loss (train,test): 0.1335  0.1406  Time: 2.18s\n",
      "Hidden count: 500   Parameters: 1501   loss (train,test): 0.1888  0.2092  Time: 2.48s\n"
     ]
    }
   ],
   "source": [
    "polyNN(data,hidden_count=1,activation='sigmoid')\n",
    "polyNN(data,hidden_count=10,activation='sigmoid')\n",
    "polyNN(data,hidden_count=50,activation='sigmoid')\n",
    "polyNN(data,hidden_count=100,activation='sigmoid')\n",
    "polyNN(data,hidden_count=500,activation='sigmoid')"
   ]
  },
  {
   "cell_type": "code",
   "execution_count": 24,
   "metadata": {},
   "outputs": [
    {
     "name": "stdout",
     "output_type": "stream",
     "text": [
      "Hidden count: 1     Parameters: 4      loss (train,test): 5.8743  5.832   Time: 1.73s\n",
      "Hidden count: 10    Parameters: 31     loss (train,test): 0.1123  0.1113  Time: 1.76s\n",
      "Hidden count: 50    Parameters: 151    loss (train,test): 0.0222  0.0217  Time: 1.91s\n",
      "Hidden count: 100   Parameters: 301    loss (train,test): 0.0122  0.0119  Time: 2.16s\n",
      "Hidden count: 500   Parameters: 1501   loss (train,test): 0.0098  0.0098  Time: 2.48s\n"
     ]
    }
   ],
   "source": [
    "polyNN(data_std,hidden_count=1,activation='sigmoid')\n",
    "polyNN(data_std,hidden_count=10,activation='sigmoid')\n",
    "polyNN(data_std,hidden_count=50,activation='sigmoid')\n",
    "polyNN(data_std,hidden_count=100,activation='sigmoid')\n",
    "polyNN(data_std,hidden_count=500,activation='sigmoid')"
   ]
  },
  {
   "cell_type": "markdown",
   "metadata": {},
   "source": [
    "Did you notice how the logistic activation function actually performed better than ReLU when the data is not standardized? What we are seeing here is that ReLU is much more sensitive to data standardization than the logistic function. This is a good example why so much research goes into optimizing the modelling process&mdash;because every details matters.\n",
    "\n",
    "<!--Further reading: <a href=\"https://towardsdatascience.com/weight-initialization-in-neural-networks-a-journey-from-the-basics-to-kaiming-954fb9b47c79\">Weight Initialization in Neural Networks: A Journey From the Basics to Kaiming</a>. These articles also contain links to the most important research papers when\n",
    "http://deepdish.io/2015/02/24/network-initialization/\n",
    "-->"
   ]
  },
  {
   "cell_type": "markdown",
   "metadata": {},
   "source": [
    "### Dropout\n",
    "\n",
    "As neural networks are highly flexible, they can easily overfit. Dropout is a regularization technique that works by randomly setting the outputs of some neurons to zero, thereby forcing the network to not rely too much on a specific neurons or feature. The function below added a 50% dropout to the hidden layer:"
   ]
  },
  {
   "cell_type": "code",
   "execution_count": 26,
   "metadata": {},
   "outputs": [],
   "source": [
    "from tensorflow.keras.layers import Dropout\n",
    "\n",
    "def polyNN(data,\n",
    "           hidden_count=100,\n",
    "           epochs=200,\n",
    "           batch_size=32,\n",
    "           activation='relu',\n",
    "           dropout=0.5):\n",
    "    \n",
    "    #Record the start time\n",
    "    start = time.time()\n",
    "    \n",
    "    #Unpack the data\n",
    "    X_train, X_test, y_train, y_test = data\n",
    "    \n",
    "    #Layers\n",
    "    inputs = Input(shape=(X_train.shape[1],))\n",
    "    x = Dense(hidden_count, activation=activation)(inputs)\n",
    "    x = Dropout(dropout)(x)\n",
    "    predictions = Dense(1, activation='linear')(x)\n",
    "\n",
    "    #Model\n",
    "    model = Model(inputs=inputs, outputs=predictions)\n",
    "    model.compile(optimizer='adam',\n",
    "                  loss='mean_squared_error')\n",
    "    model.fit(X_train,y_train,epochs=epochs,batch_size=batch_size,verbose=0) #Do not display progress\n",
    "    \n",
    "    #Collect and display info\n",
    "    param_count = model.count_params()\n",
    "    loss_tr = round(model.evaluate(x=X_train,y=y_train,batch_size=batch_size,verbose=0),4)\n",
    "    loss_te = round(model.evaluate(x=X_test,y=y_test,batch_size=batch_size,verbose=0),4)\n",
    "    elapsed = round(time.time() - start,2)    \n",
    "    print(\"Hidden count:\",str(hidden_count).ljust(5),\n",
    "          \"Parameters:\",str(param_count).ljust(6),\n",
    "          \"loss (train,test):\",str(loss_tr).ljust(7),str(loss_te).ljust(7),\n",
    "          \"Time:\",str(elapsed)+\"s\",\n",
    "         )\n",
    "    \n",
    "    backend.clear_session()"
   ]
  },
  {
   "cell_type": "code",
   "execution_count": 27,
   "metadata": {},
   "outputs": [
    {
     "name": "stdout",
     "output_type": "stream",
     "text": [
      "Hidden count: 1     Parameters: 4      loss (train,test): 10.8034 10.7167 Time: 1.79s\n",
      "Hidden count: 10    Parameters: 31     loss (train,test): 0.7187  0.7241  Time: 1.79s\n",
      "Hidden count: 50    Parameters: 151    loss (train,test): 0.1166  0.1164  Time: 1.83s\n",
      "Hidden count: 100   Parameters: 301    loss (train,test): 0.0736  0.0752  Time: 2.38s\n",
      "Hidden count: 500   Parameters: 1501   loss (train,test): 0.0383  0.038   Time: 3.49s\n"
     ]
    }
   ],
   "source": [
    "polyNN(data_std,hidden_count=1,activation='sigmoid')\n",
    "polyNN(data_std,hidden_count=10,activation='sigmoid')\n",
    "polyNN(data_std,hidden_count=50,activation='sigmoid')\n",
    "polyNN(data_std,hidden_count=100,activation='sigmoid')\n",
    "polyNN(data_std,hidden_count=500,activation='sigmoid')"
   ]
  },
  {
   "cell_type": "markdown",
   "metadata": {},
   "source": [
    "## Speed Things Up\n",
    "\n",
    "Due to its complexity, neural network trains a lot slower than the other techniques we have covered previously. To speed up training, we can ask Keras to go through more samples before updating the model's parameters by specifying a larger ```batch_size```. Doing so allows Keras to make better use of the CPU's parallel processing capabitilies.\n",
    "\n",
    "Keras' default batch size is 32. We will try 128 instead:"
   ]
  },
  {
   "cell_type": "code",
   "execution_count": 28,
   "metadata": {
    "scrolled": true
   },
   "outputs": [
    {
     "name": "stdout",
     "output_type": "stream",
     "text": [
      "Hidden count: 1     Parameters: 4      loss (train,test): 16.2493 15.4326 Time: 0.67s\n",
      "Hidden count: 10    Parameters: 31     loss (train,test): 1.0389  0.9916  Time: 0.7s\n",
      "Hidden count: 50    Parameters: 151    loss (train,test): 0.2795  0.2678  Time: 0.93s\n",
      "Hidden count: 100   Parameters: 301    loss (train,test): 0.0546  0.0527  Time: 1.04s\n",
      "Hidden count: 500   Parameters: 1501   loss (train,test): 0.006   0.006   Time: 1.61s\n"
     ]
    }
   ],
   "source": [
    "batch_size = 128\n",
    "polyNN(data_std,hidden_count=1,batch_size=batch_size)\n",
    "polyNN(data_std,hidden_count=10,batch_size=batch_size)\n",
    "polyNN(data_std,hidden_count=50,batch_size=batch_size)\n",
    "polyNN(data_std,hidden_count=100,batch_size=batch_size)\n",
    "polyNN(data_std,hidden_count=500,batch_size=batch_size)"
   ]
  },
  {
   "cell_type": "markdown",
   "metadata": {},
   "source": [
    "Holding the number of epochs constant, what you should see with a larger batch size is faster training but also larger error. The latter is due to the fact that we are updating the parameters less often, resulting in slower learn. This can be countered by increasing the number of epochs."
   ]
  },
  {
   "cell_type": "markdown",
   "metadata": {},
   "source": [
    "## Running Model on GPU\n",
    "\n",
    "If you have a GPU in your computer, you can now turn it on to see how much it speeds up the process of training."
   ]
  },
  {
   "cell_type": "code",
   "execution_count": 46,
   "metadata": {},
   "outputs": [],
   "source": [
    "import os\n",
    "os.environ[\"CUDA_VISIBLE_DEVICES\"] = \"0\""
   ]
  },
  {
   "cell_type": "code",
   "execution_count": 30,
   "metadata": {},
   "outputs": [
    {
     "name": "stdout",
     "output_type": "stream",
     "text": [
      "Hidden count: 1     Parameters: 4      loss (train,test): 9.147   8.3436  Time: 1.8s\n"
     ]
    }
   ],
   "source": [
    "polyNN(data,hidden_count=1)"
   ]
  },
  {
   "cell_type": "markdown",
   "metadata": {},
   "source": [
    "With a GPU you can take advantage of its high number of core count by setting a much higher batch size, such as 1000:"
   ]
  },
  {
   "cell_type": "code",
   "execution_count": null,
   "metadata": {},
   "outputs": [],
   "source": [
    "batch_size = 1000\n",
    "polyNN(data,hidden_count=1,batch_size=batch_size)\n",
    "polyNN(data,hidden_count=10,batch_size=batch_size)\n",
    "polyNN(data,hidden_count=50,batch_size=batch_size)\n",
    "polyNN(data,hidden_count=100,batch_size=batch_size)\n",
    "polyNN(data,hidden_count=500,batch_size=batch_size)"
   ]
  },
  {
   "cell_type": "markdown",
   "metadata": {},
   "source": [
    "To compensate for the less frequent update, we can increase the number of epochs:"
   ]
  },
  {
   "cell_type": "code",
   "execution_count": null,
   "metadata": {},
   "outputs": [],
   "source": [
    "batch_size = 1000\n",
    "epochs = 600\n",
    "polyNN(data,hidden_count=1,epochs=epochs,batch_size=batch_size)\n",
    "polyNN(data,hidden_count=10,epochs=epochs,batch_size=batch_size)\n",
    "polyNN(data,hidden_count=50,epochs=epochs,batch_size=batch_size)\n",
    "polyNN(data,hidden_count=100,epochs=epochs,batch_size=batch_size)\n",
    "polyNN(data,hidden_count=500,epochs=epochs,batch_size=batch_size)"
   ]
  },
  {
   "cell_type": "markdown",
   "metadata": {},
   "source": [
    "### MNIST\n",
    "MNIST is a dataset of 70000 handwritten digits. It is often used to teach image recognition due to its simplicity. "
   ]
  },
  {
   "cell_type": "code",
   "execution_count": 37,
   "metadata": {},
   "outputs": [
    {
     "name": "stdout",
     "output_type": "stream",
     "text": [
      "Downloading data from https://storage.googleapis.com/tensorflow/tf-keras-datasets/mnist.npz\n",
      "11493376/11490434 [==============================] - 1s 0us/step\n"
     ]
    }
   ],
   "source": [
    "import tensorflow.keras as keras\n",
    "from tensorflow.keras.datasets import mnist\n",
    "\n",
    "# the data, split between train and test sets\n",
    "(x_train, y_train), (x_test, y_test) = mnist.load_data()"
   ]
  },
  {
   "cell_type": "markdown",
   "metadata": {},
   "source": [
    "Each sample consists of a 28x28 monochome image of a handwritten digit stored as a 2D numpy array:"
   ]
  },
  {
   "cell_type": "code",
   "execution_count": 38,
   "metadata": {},
   "outputs": [
    {
     "data": {
      "image/png": "[encoded data removed]",
      "text/plain": [
       "<Figure size 432x288 with 1 Axes>"
      ]
     },
     "metadata": {
      "needs_background": "light"
     },
     "output_type": "display_data"
    }
   ],
   "source": [
    "from matplotlib import pyplot as plt\n",
    "plt.imshow(x_train[0], cmap='gray')\n",
    "plt.show()"
   ]
  },
  {
   "cell_type": "markdown",
   "metadata": {},
   "source": [
    "Target is digit's value:"
   ]
  },
  {
   "cell_type": "code",
   "execution_count": 39,
   "metadata": {
    "scrolled": true
   },
   "outputs": [
    {
     "data": {
      "text/plain": [
       "5"
      ]
     },
     "execution_count": 39,
     "metadata": {},
     "output_type": "execute_result"
    }
   ],
   "source": [
    "y_train[0]"
   ]
  },
  {
   "cell_type": "markdown",
   "metadata": {},
   "source": [
    "For classification task, the common practice is to have one output neuron per class. We can use `keras.utils.to_categorical()` to convert the target value to a dummy vector:"
   ]
  },
  {
   "cell_type": "code",
   "execution_count": 42,
   "metadata": {},
   "outputs": [
    {
     "data": {
      "text/plain": [
       "array([0., 0., 0., 0., 0., 1., 0., 0., 0., 0.], dtype=float32)"
      ]
     },
     "execution_count": 42,
     "metadata": {},
     "output_type": "execute_result"
    }
   ],
   "source": [
    "y_train = keras.utils.to_categorical(y_train, 10)\n",
    "y_train[0]"
   ]
  },
  {
   "cell_type": "markdown",
   "metadata": {},
   "source": [
    "We will use a single-layer fully-connected network withe 100 hidden neurons. There are two more preprocessing tasks that we need to handle: flattening the 2D array into 1D and normalizing the features from 0-255 to 0-1:"
   ]
  },
  {
   "cell_type": "code",
   "execution_count": 43,
   "metadata": {},
   "outputs": [
    {
     "name": "stdout",
     "output_type": "stream",
     "text": [
      "Epoch 1/30\n",
      "469/469 [==============================] - 1s 1ms/step - loss: 0.3838 - accuracy: 0.8942\n",
      "Epoch 2/30\n",
      "469/469 [==============================] - 1s 2ms/step - loss: 0.1780 - accuracy: 0.9489\n",
      "Epoch 3/30\n",
      "469/469 [==============================] - 1s 2ms/step - loss: 0.1307 - accuracy: 0.9622\n",
      "Epoch 4/30\n",
      "469/469 [==============================] - 1s 2ms/step - loss: 0.1040 - accuracy: 0.9699\n",
      "Epoch 5/30\n",
      "469/469 [==============================] - 1s 2ms/step - loss: 0.0856 - accuracy: 0.9750\n",
      "Epoch 6/30\n",
      "469/469 [==============================] - 1s 2ms/step - loss: 0.0716 - accuracy: 0.9793\n",
      "Epoch 7/30\n",
      "469/469 [==============================] - 1s 2ms/step - loss: 0.0612 - accuracy: 0.9824\n",
      "Epoch 8/30\n",
      "469/469 [==============================] - 1s 2ms/step - loss: 0.0526 - accuracy: 0.9851\n",
      "Epoch 9/30\n",
      "469/469 [==============================] - 1s 2ms/step - loss: 0.0451 - accuracy: 0.9870\n",
      "Epoch 10/30\n",
      "469/469 [==============================] - 1s 2ms/step - loss: 0.0388 - accuracy: 0.9891\n",
      "Epoch 11/30\n",
      "469/469 [==============================] - 1s 2ms/step - loss: 0.0342 - accuracy: 0.9909\n",
      "Epoch 12/30\n",
      "469/469 [==============================] - 1s 1ms/step - loss: 0.0292 - accuracy: 0.9925\n",
      "Epoch 13/30\n",
      "469/469 [==============================] - 1s 2ms/step - loss: 0.0255 - accuracy: 0.9932\n",
      "Epoch 14/30\n",
      "469/469 [==============================] - 1s 2ms/step - loss: 0.0229 - accuracy: 0.9940\n",
      "Epoch 15/30\n",
      "469/469 [==============================] - 1s 2ms/step - loss: 0.0193 - accuracy: 0.9955\n",
      "Epoch 16/30\n",
      "469/469 [==============================] - 1s 2ms/step - loss: 0.0164 - accuracy: 0.9962\n",
      "Epoch 17/30\n",
      "469/469 [==============================] - 1s 2ms/step - loss: 0.0144 - accuracy: 0.9969\n",
      "Epoch 18/30\n",
      "469/469 [==============================] - 1s 2ms/step - loss: 0.0127 - accuracy: 0.9971\n",
      "Epoch 19/30\n",
      "469/469 [==============================] - 1s 2ms/step - loss: 0.0107 - accuracy: 0.9977\n",
      "Epoch 20/30\n",
      "469/469 [==============================] - 1s 1ms/step - loss: 0.0092 - accuracy: 0.9983\n",
      "Epoch 21/30\n",
      "469/469 [==============================] - 1s 2ms/step - loss: 0.0081 - accuracy: 0.9985\n",
      "Epoch 22/30\n",
      "469/469 [==============================] - 1s 2ms/step - loss: 0.0082 - accuracy: 0.9984\n",
      "Epoch 23/30\n",
      "469/469 [==============================] - 1s 2ms/step - loss: 0.0064 - accuracy: 0.9991\n",
      "Epoch 24/30\n",
      "469/469 [==============================] - 1s 2ms/step - loss: 0.0052 - accuracy: 0.9993\n",
      "Epoch 25/30\n",
      "469/469 [==============================] - 1s 2ms/step - loss: 0.0047 - accuracy: 0.9993\n",
      "Epoch 26/30\n",
      "469/469 [==============================] - 1s 2ms/step - loss: 0.0070 - accuracy: 0.9986\n",
      "Epoch 27/30\n",
      "469/469 [==============================] - 1s 2ms/step - loss: 0.0038 - accuracy: 0.9995\n",
      "Epoch 28/30\n",
      "469/469 [==============================] - 1s 2ms/step - loss: 0.0023 - accuracy: 0.9999\n",
      "Epoch 29/30\n",
      "469/469 [==============================] - 1s 2ms/step - loss: 0.0026 - accuracy: 0.9997\n",
      "Epoch 30/30\n",
      "469/469 [==============================] - 1s 2ms/step - loss: 0.0086 - accuracy: 0.9974\n",
      "WARNING:tensorflow:6 out of the last 11 calls to <function Model.make_test_function.<locals>.test_function at 0x7fa07c7f8310> triggered tf.function retracing. Tracing is expensive and the excessive number of tracings could be due to (1) creating @tf.function repeatedly in a loop, (2) passing tensors with different shapes, (3) passing Python objects instead of tensors. For (1), please define your @tf.function outside of the loop. For (2), @tf.function has experimental_relax_shapes=True option that relaxes argument shapes that can avoid unnecessary retracing. For (3), please refer to https://www.tensorflow.org/tutorials/customization/performance#python_or_tensor_args and https://www.tensorflow.org/api_docs/python/tf/function for  more details.\n",
      "313/313 [==============================] - 0s 439us/step - loss: 0.0995 - accuracy: 0.9778\n"
     ]
    },
    {
     "data": {
      "text/plain": [
       "[0.09952200949192047, 0.9778000116348267]"
      ]
     },
     "execution_count": 43,
     "metadata": {},
     "output_type": "execute_result"
    }
   ],
   "source": [
    "# Settings\n",
    "batch_size = 128\n",
    "epochs = 30\n",
    "pixel_count = 28 * 28\n",
    "num_classes = 10 # target classes (0-9)\n",
    "\n",
    "# The data, split between train and test sets\n",
    "(x_train, y_train), (x_test, y_test) = mnist.load_data()\n",
    "\n",
    "# Flatten each image to a vector\n",
    "x_train = x_train.reshape(len(x_train),pixel_count)\n",
    "x_test = x_test.reshape(len(x_test),pixel_count)\n",
    "\n",
    "# Normalize features\n",
    "x_train = x_train.astype('float32') / 255\n",
    "x_test = x_test.astype('float32') / 255\n",
    "\n",
    "# convert class vectors to binary class matrices\n",
    "y_train = keras.utils.to_categorical(y_train, num_classes)\n",
    "y_test = keras.utils.to_categorical(y_test, num_classes)\n",
    "\n",
    "# Model\n",
    "inputs = Input(shape=(pixel_count,))\n",
    "x = Dense(100, activation='relu')(inputs)\n",
    "predictions = Dense(num_classes, activation='softmax')(x)\n",
    "\n",
    "model = Model(inputs=inputs, outputs=predictions)\n",
    "model.compile(optimizer='adam',\n",
    "              loss='categorical_crossentropy',\n",
    "              metrics=['accuracy'])\n",
    "\n",
    "# Train and evaluate\n",
    "model.fit(x_train,y_train,\n",
    "          batch_size=batch_size,\n",
    "          epochs=epochs)\n",
    "model.evaluate(x_test,y_test)"
   ]
  },
  {
   "cell_type": "markdown",
   "metadata": {},
   "source": [
    "With just 100 neurons we are able to achieve a 97% accuracy. With a more advanced convolutional network we should be able to do even better:"
   ]
  },
  {
   "cell_type": "code",
   "execution_count": 49,
   "metadata": {},
   "outputs": [
    {
     "name": "stdout",
     "output_type": "stream",
     "text": [
      "Epoch 1/30\n",
      "469/469 [==============================] - 11s 23ms/step - loss: 0.4829 - accuracy: 0.8476 - val_loss: 0.1021 - val_accuracy: 0.9673\n",
      "Epoch 2/30\n",
      "469/469 [==============================] - 10s 22ms/step - loss: 0.1680 - accuracy: 0.9511 - val_loss: 0.0669 - val_accuracy: 0.9776\n",
      "Epoch 3/30\n",
      "469/469 [==============================] - 10s 22ms/step - loss: 0.1230 - accuracy: 0.9640 - val_loss: 0.0568 - val_accuracy: 0.9811\n",
      "Epoch 4/30\n",
      "469/469 [==============================] - 10s 22ms/step - loss: 0.0993 - accuracy: 0.9711 - val_loss: 0.0435 - val_accuracy: 0.9855\n",
      "Epoch 5/30\n",
      "469/469 [==============================] - 11s 22ms/step - loss: 0.0842 - accuracy: 0.9757 - val_loss: 0.0399 - val_accuracy: 0.9869\n",
      "Epoch 6/30\n",
      "469/469 [==============================] - 11s 23ms/step - loss: 0.0764 - accuracy: 0.9781 - val_loss: 0.0366 - val_accuracy: 0.9882\n",
      "Epoch 7/30\n",
      "469/469 [==============================] - 10s 22ms/step - loss: 0.0703 - accuracy: 0.9799 - val_loss: 0.0349 - val_accuracy: 0.9890\n",
      "Epoch 8/30\n",
      "469/469 [==============================] - 11s 22ms/step - loss: 0.0626 - accuracy: 0.9814 - val_loss: 0.0335 - val_accuracy: 0.9896\n",
      "Epoch 9/30\n",
      "469/469 [==============================] - 11s 23ms/step - loss: 0.0594 - accuracy: 0.9824 - val_loss: 0.0297 - val_accuracy: 0.9898\n",
      "Epoch 10/30\n",
      "469/469 [==============================] - 11s 22ms/step - loss: 0.0536 - accuracy: 0.9845 - val_loss: 0.0284 - val_accuracy: 0.9903\n",
      "Epoch 11/30\n",
      "469/469 [==============================] - 11s 23ms/step - loss: 0.0515 - accuracy: 0.9853 - val_loss: 0.0293 - val_accuracy: 0.9901\n",
      "Epoch 12/30\n",
      "469/469 [==============================] - 10s 22ms/step - loss: 0.0471 - accuracy: 0.9857 - val_loss: 0.0322 - val_accuracy: 0.9899\n",
      "Epoch 13/30\n",
      "469/469 [==============================] - 11s 23ms/step - loss: 0.0456 - accuracy: 0.9863 - val_loss: 0.0301 - val_accuracy: 0.9912\n",
      "Epoch 14/30\n",
      "469/469 [==============================] - 10s 22ms/step - loss: 0.0451 - accuracy: 0.9867 - val_loss: 0.0267 - val_accuracy: 0.9912\n",
      "Epoch 15/30\n",
      "469/469 [==============================] - 11s 22ms/step - loss: 0.0420 - accuracy: 0.9870 - val_loss: 0.0251 - val_accuracy: 0.9913\n",
      "Epoch 16/30\n",
      "469/469 [==============================] - 10s 22ms/step - loss: 0.0387 - accuracy: 0.9887 - val_loss: 0.0267 - val_accuracy: 0.9915\n",
      "Epoch 17/30\n",
      "469/469 [==============================] - 11s 22ms/step - loss: 0.0379 - accuracy: 0.9889 - val_loss: 0.0253 - val_accuracy: 0.9914\n",
      "Epoch 18/30\n",
      "469/469 [==============================] - 11s 23ms/step - loss: 0.0369 - accuracy: 0.9890 - val_loss: 0.0262 - val_accuracy: 0.9909\n",
      "Epoch 19/30\n",
      "469/469 [==============================] - 11s 22ms/step - loss: 0.0324 - accuracy: 0.9897 - val_loss: 0.0268 - val_accuracy: 0.9919\n",
      "Epoch 20/30\n",
      "469/469 [==============================] - 11s 23ms/step - loss: 0.0339 - accuracy: 0.9897 - val_loss: 0.0260 - val_accuracy: 0.9917\n",
      "Epoch 21/30\n",
      "469/469 [==============================] - 11s 23ms/step - loss: 0.0310 - accuracy: 0.9909 - val_loss: 0.0253 - val_accuracy: 0.9921\n",
      "Epoch 22/30\n",
      "469/469 [==============================] - 11s 23ms/step - loss: 0.0302 - accuracy: 0.9908 - val_loss: 0.0267 - val_accuracy: 0.9911\n",
      "Epoch 23/30\n",
      "469/469 [==============================] - 11s 22ms/step - loss: 0.0301 - accuracy: 0.9908 - val_loss: 0.0244 - val_accuracy: 0.9926\n",
      "Epoch 24/30\n",
      "469/469 [==============================] - 11s 22ms/step - loss: 0.0294 - accuracy: 0.9911 - val_loss: 0.0270 - val_accuracy: 0.9910\n",
      "Epoch 25/30\n",
      "469/469 [==============================] - 11s 23ms/step - loss: 0.0286 - accuracy: 0.9905 - val_loss: 0.0262 - val_accuracy: 0.9921\n",
      "Epoch 26/30\n",
      "469/469 [==============================] - 11s 23ms/step - loss: 0.0276 - accuracy: 0.9913 - val_loss: 0.0293 - val_accuracy: 0.9911\n",
      "Epoch 27/30\n",
      "469/469 [==============================] - 10s 22ms/step - loss: 0.0272 - accuracy: 0.9915 - val_loss: 0.0242 - val_accuracy: 0.9922\n",
      "Epoch 28/30\n",
      "469/469 [==============================] - 11s 23ms/step - loss: 0.0262 - accuracy: 0.9917 - val_loss: 0.0238 - val_accuracy: 0.9923\n",
      "Epoch 29/30\n",
      "469/469 [==============================] - 10s 22ms/step - loss: 0.0249 - accuracy: 0.9922 - val_loss: 0.0269 - val_accuracy: 0.9920\n",
      "Epoch 30/30\n",
      "469/469 [==============================] - 11s 22ms/step - loss: 0.0243 - accuracy: 0.9923 - val_loss: 0.0303 - val_accuracy: 0.9915\n",
      "Test loss: 0.030262673273682594\n",
      "Test accuracy: 0.9915000200271606\n"
     ]
    }
   ],
   "source": [
    "import tensorflow.keras as keras\n",
    "from tensorflow.keras.datasets import mnist\n",
    "from tensorflow.keras.models import Sequential\n",
    "from tensorflow.keras.layers import Dense, Dropout, Flatten\n",
    "from tensorflow.keras.layers import Conv2D, MaxPooling2D\n",
    "from tensorflow.keras import backend as K\n",
    "\n",
    "#Settings\n",
    "batch_size = 128\n",
    "num_classes = 10\n",
    "epochs = 30\n",
    "\n",
    "# input image dimensions\n",
    "img_rows, img_cols = 28, 28\n",
    "\n",
    "# The data, split between train and test sets\n",
    "(x_train, y_train), (x_test, y_test) = mnist.load_data()\n",
    "\n",
    "# Features has to be in the following shape: (obs, rows, cols, color channels)\n",
    "x_train = x_train.reshape(x_train.shape[0], img_rows, img_cols, 1)\n",
    "x_test = x_test.reshape(x_test.shape[0], img_rows, img_cols, 1)\n",
    "input_shape = (img_rows, img_cols, 1)\n",
    "\n",
    "# Normalize features\n",
    "x_train = x_train.astype('float32') / 255\n",
    "x_test = x_test.astype('float32') / 255\n",
    "\n",
    "# Convert class vectors to binary class matrices\n",
    "y_train = keras.utils.to_categorical(y_train, num_classes)\n",
    "y_test = keras.utils.to_categorical(y_test, num_classes)\n",
    "\n",
    "# Construct model using sequential syntax\n",
    "model = Sequential()\n",
    "model.add(Conv2D(6, kernel_size=(5, 5),\n",
    "                 activation='relu',\n",
    "                 input_shape=input_shape))\n",
    "model.add(MaxPooling2D(pool_size=(2, 2)))\n",
    "model.add(Conv2D(16, (5, 5), activation='relu'))\n",
    "model.add(MaxPooling2D(pool_size=(2, 2)))\n",
    "model.add(Dropout(0.25))\n",
    "model.add(Flatten())\n",
    "\n",
    "model.add(Dense(120, activation='relu'))\n",
    "model.add(Dense(100, activation='relu'))\n",
    "model.add(Dropout(0.5))\n",
    "model.add(Dense(num_classes, activation='softmax'))\n",
    "\n",
    "model.compile(optimizer='adam',\n",
    "              loss='categorical_crossentropy',\n",
    "              metrics=['accuracy'])\n",
    "\n",
    "model.fit(x_train, y_train,\n",
    "          batch_size=batch_size,\n",
    "          epochs=epochs,\n",
    "          verbose=1,\n",
    "          validation_data=(x_test, y_test))\n",
    "score = model.evaluate(x_test, y_test, verbose=0)\n",
    "print('Test loss:', score[0])\n",
    "print('Test accuracy:', score[1])"
   ]
  },
  {
   "cell_type": "markdown",
   "metadata": {},
   "source": [
    "Here is a very nice 3D visualization of what is going on inside a trained CNN: https://www.cs.ryerson.ca/~aharley/vis/conv/.\n",
    "I have set up the model above to resemble the one in the visualization. There are many hyperparameters that you can try adjusting to improve its performance&mdash;the number of layers, the number of filters, the size of the kernel, the type of activation and dropout ratio, etc."
   ]
  }
 ],
 "metadata": {
  "kernelspec": {
   "display_name": "Python",
   "language": "python",
   "name": "python3"
  },
  "language_info": {
   "codemirror_mode": {
    "name": "ipython",
    "version": 3
   },
   "file_extension": ".py",
   "mimetype": "text/x-python",
   "name": "python",
   "nbconvert_exporter": "python",
   "pygments_lexer": "ipython3",
   "version": "3.9.13"
  }
 },
 "nbformat": 4,
 "nbformat_minor": 4
}
