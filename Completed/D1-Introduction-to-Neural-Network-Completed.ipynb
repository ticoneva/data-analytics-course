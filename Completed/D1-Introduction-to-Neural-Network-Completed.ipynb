{
 "cells": [
  {
   "cell_type": "markdown",
   "metadata": {},
   "source": [
    "# Introduction to Neural Network\n",
    "\n",
    "The widespread adoption of artificial intelligence in recent years has been largely driven by advancement in neural networks. Neural networks is behind systems ranging from \n",
    "<a href=\"https://deepmind.com/research/alphago/\">AlphaGo</a>, \n",
    "<a href=\"https://translate.google.com/\">Google Translate</a> \n",
    "to <a href=\"https://www.tesla.com/en_HK/autopilot\">Tesla Autopilot</a>.\n",
    "\n",
    "Neural network is fundamentally numeric computation, so any software with decent numeric computation capabilities can be used to construct and train a neural network. That said, while in theory you can construct a neural network in Excel, in practice it will be very troublesome since Excel is not designed with neural network in mind. Libraries are that specifically geared toward neural network include:\n",
    "- Google's <a href=\"https://www.tensorflow.org/\">Tensorflow</a>\n",
    "- Microsoft's <a href=\"https://github.com/Microsoft/CNTK\">CNTK</a>\n",
    "- Facebook's <a href=\"http://pytorch.org/\">PyTorch</a> and <a href=\"https://caffe2.ai/\">Caffe2</a>\n",
    "- Intel's <a href=\"https://ai.intel.com/neon/\">neon</a>\n",
    "- <a href=\"http://deeplearning.net/software/theano/\">Theano</a> and <a href=\"http://caffe.berkeleyvision.org/\">Caffe</a>\n",
    "\n",
    "In this course we will focus on using <a href=\"https://keras.io/\">```keras```</a>, which is a high-level library for constructing neural networks. Keras runs on top of a numerical computation library of your choice, defaulting to ```tensorflow```. A library such as Keras significantly simplify the workflow of constructing and training neural networks. \n",
    "\n",
    "<img src=\"http://www.ticoneva.com/econ/econ4130/images/nn_libraries.png\" width=\"80%\">"
   ]
  },
  {
   "cell_type": "markdown",
   "metadata": {},
   "source": [
    "Before we start, we will first disable the server's GPU so that everything runs on its CPU. Later we will turn it back on to see how much speed up we can get."
   ]
  },
  {
   "cell_type": "code",
   "execution_count": 1,
   "metadata": {},
   "outputs": [],
   "source": [
    "import os\n",
    "os.environ[\"CUDA_VISIBLE_DEVICES\"] = \"\""
   ]
  },
  {
   "cell_type": "markdown",
   "metadata": {},
   "source": [
    "## A Simple Example: Binary Neural Network Classifier\n",
    "\n",
    "As a first example, we will train a neural network to the following classification task:\n",
    "\n",
    "|y|x1|x2|\n",
    "|-|-|-|\n",
    "|0|1|0|\n",
    "|1|0|1|\n",
    "\n",
    "To be clear: there is absolutely no need to use neural network for such as simple task. A simpler model will train a lot faster and potentially with better accuracy.\n",
    "\n",
    "We first generate the data:"
   ]
  },
  {
   "cell_type": "code",
   "execution_count": 2,
   "metadata": {},
   "outputs": [],
   "source": [
    "import numpy as np \n",
    "from sklearn.model_selection import train_test_split\n",
    "\n",
    "#Generate 2000 samples. [1,0] -> 0, [0,1] -> 1\n",
    "X = np.repeat([[1,0]], 1000, axis=0)\n",
    "y = np.repeat([0], 1000, axis=0)\n",
    "X = np.append(X,np.repeat([[0,1]], 1000, axis=0),axis=0)\n",
    "y = np.append(y,np.repeat([1], 1000, axis=0),axis=0)\n",
    "\n",
    "#Shuffle and split data into train set and test set\n",
    "X_train, X_test, y_train, y_test = train_test_split(X,y)"
   ]
  },
  {
   "cell_type": "markdown",
   "metadata": {},
   "source": [
    "We will construct a neural network classifier for this task. \n",
    "\n",
    "A neural network model is made up of multiple layers. The simpliest model would have three layers:\n",
    "- An *input layer*. This layer specify the nature of the input data. In this example, we only need to tell Keras that we have two variables to input.\n",
    "- A *hidden layer*. This layer contains neuron(s) that process the input data.\n",
    "- An *ouput layer*. The neurons in this layer process the output from the hidden layer and generate predictions. This layer contains as many neurons as the number of target variables we try to predict. \n",
    "\n",
    "Below is the simplest neural network one can come up with, with only one hidden neuron. The neuron computes the following function:\n",
    "}\n",
    "$$\n",
    "F \\left( b + \\sum\\nolimits_{i}{w_{i}x_{i}} \\right)\n",
    "$$\n",
    "\n",
    "where $x_i$ are inputs, b the intercept (called *bias* in machine learning), $w_i$ coefficients (called *weights*) and $F$ is an *activation function*. In this example we will use the logistic function (also called the *sigmoid function*) as the activation function:\n",
    "\n",
    "$$\n",
    "F(z) = \\frac{e^z}{1+e^z}\n",
    "$$\n",
    "\n",
    "So the neuron is essentially a logit regression."
   ]
  },
  {
   "cell_type": "code",
   "execution_count": 3,
   "metadata": {},
   "outputs": [
    {
     "name": "stderr",
     "output_type": "stream",
     "text": [
      "/usr/local/lib/python3.5/dist-packages/h5py/__init__.py:36: FutureWarning: Conversion of the second argument of issubdtype from `float` to `np.floating` is deprecated. In future, it will be treated as `np.float64 == np.dtype(float).type`.\n",
      "  from ._conv import register_converters as _register_converters\n",
      "Using TensorFlow backend.\n"
     ]
    },
    {
     "name": "stdout",
     "output_type": "stream",
     "text": [
      "Epoch 1/50\n",
      "1500/1500 [==============================] - 0s 108us/step - loss: 0.8546 - acc: 0.5027\n",
      "Epoch 2/50\n",
      "1500/1500 [==============================] - 0s 28us/step - loss: 0.8253 - acc: 0.5027\n",
      "Epoch 3/50\n",
      "1500/1500 [==============================] - 0s 31us/step - loss: 0.7997 - acc: 0.5027\n",
      "Epoch 4/50\n",
      "1500/1500 [==============================] - 0s 31us/step - loss: 0.7766 - acc: 0.5027\n",
      "Epoch 5/50\n",
      "1500/1500 [==============================] - 0s 31us/step - loss: 0.7560 - acc: 0.5027\n",
      "Epoch 6/50\n",
      "1500/1500 [==============================] - 0s 28us/step - loss: 0.7378 - acc: 0.5027\n",
      "Epoch 7/50\n",
      "1500/1500 [==============================] - 0s 31us/step - loss: 0.7214 - acc: 0.5027\n",
      "Epoch 8/50\n",
      "1500/1500 [==============================] - 0s 28us/step - loss: 0.7069 - acc: 0.5027\n",
      "Epoch 9/50\n",
      "1500/1500 [==============================] - 0s 29us/step - loss: 0.6938 - acc: 0.5027\n",
      "Epoch 10/50\n",
      "1500/1500 [==============================] - 0s 27us/step - loss: 0.6820 - acc: 0.5027\n",
      "Epoch 11/50\n",
      "1500/1500 [==============================] - 0s 27us/step - loss: 0.6713 - acc: 0.5027\n",
      "Epoch 12/50\n",
      "1500/1500 [==============================] - 0s 29us/step - loss: 0.6615 - acc: 0.5027\n",
      "Epoch 13/50\n",
      "1500/1500 [==============================] - 0s 27us/step - loss: 0.6523 - acc: 0.5027\n",
      "Epoch 14/50\n",
      "1500/1500 [==============================] - 0s 27us/step - loss: 0.6437 - acc: 0.5027\n",
      "Epoch 15/50\n",
      "1500/1500 [==============================] - 0s 28us/step - loss: 0.6354 - acc: 0.5027\n",
      "Epoch 16/50\n",
      "1500/1500 [==============================] - 0s 31us/step - loss: 0.6273 - acc: 0.5027\n",
      "Epoch 17/50\n",
      "1500/1500 [==============================] - 0s 36us/step - loss: 0.6193 - acc: 0.5027\n",
      "Epoch 18/50\n",
      "1500/1500 [==============================] - 0s 29us/step - loss: 0.6114 - acc: 0.5027\n",
      "Epoch 19/50\n",
      "1500/1500 [==============================] - 0s 28us/step - loss: 0.6033 - acc: 0.5460\n",
      "Epoch 20/50\n",
      "1500/1500 [==============================] - 0s 29us/step - loss: 0.5951 - acc: 1.0000\n",
      "Epoch 21/50\n",
      "1500/1500 [==============================] - 0s 27us/step - loss: 0.5868 - acc: 1.0000\n",
      "Epoch 22/50\n",
      "1500/1500 [==============================] - 0s 29us/step - loss: 0.5783 - acc: 1.0000\n",
      "Epoch 23/50\n",
      "1500/1500 [==============================] - 0s 31us/step - loss: 0.5696 - acc: 1.0000\n",
      "Epoch 24/50\n",
      "1500/1500 [==============================] - 0s 30us/step - loss: 0.5606 - acc: 1.0000\n",
      "Epoch 25/50\n",
      "1500/1500 [==============================] - 0s 27us/step - loss: 0.5515 - acc: 1.0000\n",
      "Epoch 26/50\n",
      "1500/1500 [==============================] - 0s 28us/step - loss: 0.5422 - acc: 1.0000\n",
      "Epoch 27/50\n",
      "1500/1500 [==============================] - 0s 30us/step - loss: 0.5326 - acc: 1.0000\n",
      "Epoch 28/50\n",
      "1500/1500 [==============================] - 0s 29us/step - loss: 0.5230 - acc: 1.0000\n",
      "Epoch 29/50\n",
      "1500/1500 [==============================] - 0s 30us/step - loss: 0.5132 - acc: 1.0000\n",
      "Epoch 30/50\n",
      "1500/1500 [==============================] - 0s 29us/step - loss: 0.5033 - acc: 1.0000\n",
      "Epoch 31/50\n",
      "1500/1500 [==============================] - 0s 32us/step - loss: 0.4934 - acc: 1.0000\n",
      "Epoch 32/50\n",
      "1500/1500 [==============================] - 0s 29us/step - loss: 0.4835 - acc: 1.0000\n",
      "Epoch 33/50\n",
      "1500/1500 [==============================] - 0s 27us/step - loss: 0.4735 - acc: 1.0000\n",
      "Epoch 34/50\n",
      "1500/1500 [==============================] - 0s 27us/step - loss: 0.4636 - acc: 1.0000\n",
      "Epoch 35/50\n",
      "1500/1500 [==============================] - 0s 29us/step - loss: 0.4537 - acc: 1.0000\n",
      "Epoch 36/50\n",
      "1500/1500 [==============================] - 0s 29us/step - loss: 0.4438 - acc: 1.0000\n",
      "Epoch 37/50\n",
      "1500/1500 [==============================] - 0s 29us/step - loss: 0.4341 - acc: 1.0000\n",
      "Epoch 38/50\n",
      "1500/1500 [==============================] - 0s 27us/step - loss: 0.4245 - acc: 1.0000\n",
      "Epoch 39/50\n",
      "1500/1500 [==============================] - 0s 29us/step - loss: 0.4150 - acc: 1.0000\n",
      "Epoch 40/50\n",
      "1500/1500 [==============================] - 0s 29us/step - loss: 0.4056 - acc: 1.0000\n",
      "Epoch 41/50\n",
      "1500/1500 [==============================] - 0s 27us/step - loss: 0.3964 - acc: 1.0000\n",
      "Epoch 42/50\n",
      "1500/1500 [==============================] - 0s 30us/step - loss: 0.3874 - acc: 1.0000\n",
      "Epoch 43/50\n",
      "1500/1500 [==============================] - 0s 30us/step - loss: 0.3785 - acc: 1.0000\n",
      "Epoch 44/50\n",
      "1500/1500 [==============================] - 0s 27us/step - loss: 0.3698 - acc: 1.0000\n",
      "Epoch 45/50\n",
      "1500/1500 [==============================] - 0s 31us/step - loss: 0.3613 - acc: 1.0000\n",
      "Epoch 46/50\n",
      "1500/1500 [==============================] - 0s 30us/step - loss: 0.3530 - acc: 1.0000\n",
      "Epoch 47/50\n",
      "1500/1500 [==============================] - 0s 30us/step - loss: 0.3448 - acc: 1.0000\n",
      "Epoch 48/50\n",
      "1500/1500 [==============================] - 0s 29us/step - loss: 0.3369 - acc: 1.0000\n",
      "Epoch 49/50\n",
      "1500/1500 [==============================] - 0s 29us/step - loss: 0.3291 - acc: 1.0000\n",
      "Epoch 50/50\n",
      "1500/1500 [==============================] - 0s 29us/step - loss: 0.3216 - acc: 1.0000\n"
     ]
    },
    {
     "data": {
      "text/plain": [
       "<keras.callbacks.History at 0x7f6ac4e74a20>"
      ]
     },
     "execution_count": 3,
     "metadata": {},
     "output_type": "execute_result"
    }
   ],
   "source": [
    "from keras.layers import Input, Dense\n",
    "from keras.models import Model\n",
    "\n",
    "# Set up layers \n",
    "inputs = Input(shape=(2,))\n",
    "x = Dense(1, activation='sigmoid')(inputs)\n",
    "predictions = Dense(1, activation='sigmoid')(x)\n",
    "\n",
    "# Set up model\n",
    "model = Model(inputs=inputs, outputs=predictions)\n",
    "model.compile(optimizer='adam',\n",
    "              loss='binary_crossentropy',\n",
    "              metrics=['accuracy'])\n",
    "model.fit(X_train,y_train,epochs=50)  # starts training"
   ]
  },
  {
   "cell_type": "markdown",
   "metadata": {},
   "source": [
    "Out-of-sample test can be conducted with ```model.evaluate()```:"
   ]
  },
  {
   "cell_type": "code",
   "execution_count": 4,
   "metadata": {},
   "outputs": [
    {
     "name": "stdout",
     "output_type": "stream",
     "text": [
      "500/500 [==============================] - 0s 59us/step\n"
     ]
    },
    {
     "data": {
      "text/plain": [
       "[0.3190232439041138, 1.0]"
      ]
     },
     "execution_count": 4,
     "metadata": {},
     "output_type": "execute_result"
    }
   ],
   "source": [
    "model.evaluate(x=X_test,y=y_test)"
   ]
  },
  {
   "cell_type": "markdown",
   "metadata": {},
   "source": [
    "The first number is the model's loss while the subsequent numbers are the metrics we specified. In our case, they are ```binary_crossentropy``` and ```accuracy``` respectively.\n",
    "\n",
    "Unlike OLS, a neural network's performance could vary across runs. Run the code a few more times and see how the performance vary.\n",
    "\n",
    "Make prediction (this is called *inference* in machine learning) with ```model.predict()```:"
   ]
  },
  {
   "cell_type": "code",
   "execution_count": 5,
   "metadata": {
    "scrolled": false
   },
   "outputs": [
    {
     "name": "stdout",
     "output_type": "stream",
     "text": [
      "[[0.6856742]]\n"
     ]
    }
   ],
   "source": [
    "x = np.array([[0,1]])\n",
    "print(model.predict(x))"
   ]
  },
  {
   "cell_type": "markdown",
   "metadata": {},
   "source": [
    "## Neural Network Regression\n",
    "\n",
    "Next we are going use a neural network in a regression task. The true data generating process (DGP) is as follows:\n",
    "\n",
    "$$\n",
    "y = x^5 -2x^3 + 6x^2 + 10x - 5\n",
    "$$\n",
    "\n",
    "The model does not know the true DGP, so it needs to figure out the relationship between $y$ and $x$ from the data.\n",
    "\n",
    "First we generate the data:"
   ]
  },
  {
   "cell_type": "code",
   "execution_count": 6,
   "metadata": {},
   "outputs": [],
   "source": [
    "#Generate 1000 samples\n",
    "X = np.random.rand(1000,1)\n",
    "y = X**5 - 2*X**3 + 6*X**2 + 10*X - 5\n",
    "\n",
    "#Shuffle and split data into train set and test set\n",
    "X_train, X_test, y_train, y_test = train_test_split(X,y)"
   ]
  },
  {
   "cell_type": "code",
   "execution_count": 7,
   "metadata": {},
   "outputs": [
    {
     "name": "stdout",
     "output_type": "stream",
     "text": [
      "Epoch 1/200\n",
      "750/750 [==============================] - 0s 149us/step - loss: 24.7736\n",
      "Epoch 2/200\n",
      "750/750 [==============================] - 0s 28us/step - loss: 20.4868\n",
      "Epoch 3/200\n",
      "750/750 [==============================] - 0s 26us/step - loss: 19.1489\n",
      "Epoch 4/200\n",
      "750/750 [==============================] - 0s 28us/step - loss: 18.7362\n",
      "Epoch 5/200\n",
      "750/750 [==============================] - 0s 25us/step - loss: 18.5726\n",
      "Epoch 6/200\n",
      "750/750 [==============================] - 0s 28us/step - loss: 18.4260\n",
      "Epoch 7/200\n",
      "750/750 [==============================] - 0s 26us/step - loss: 18.2642\n",
      "Epoch 8/200\n",
      "750/750 [==============================] - 0s 27us/step - loss: 18.1041\n",
      "Epoch 9/200\n",
      "750/750 [==============================] - 0s 26us/step - loss: 17.9185\n",
      "Epoch 10/200\n",
      "750/750 [==============================] - 0s 28us/step - loss: 17.7380\n",
      "Epoch 11/200\n",
      "750/750 [==============================] - 0s 29us/step - loss: 17.5465\n",
      "Epoch 12/200\n",
      "750/750 [==============================] - 0s 27us/step - loss: 17.3319\n",
      "Epoch 13/200\n",
      "750/750 [==============================] - 0s 29us/step - loss: 17.1169\n",
      "Epoch 14/200\n",
      "750/750 [==============================] - 0s 24us/step - loss: 16.8816\n",
      "Epoch 15/200\n",
      "750/750 [==============================] - 0s 27us/step - loss: 16.6407\n",
      "Epoch 16/200\n",
      "750/750 [==============================] - 0s 27us/step - loss: 16.3987\n",
      "Epoch 17/200\n",
      "750/750 [==============================] - 0s 30us/step - loss: 16.1011\n",
      "Epoch 18/200\n",
      "750/750 [==============================] - 0s 25us/step - loss: 15.8077\n",
      "Epoch 19/200\n",
      "750/750 [==============================] - 0s 28us/step - loss: 15.4890\n",
      "Epoch 20/200\n",
      "750/750 [==============================] - 0s 27us/step - loss: 15.1690\n",
      "Epoch 21/200\n",
      "750/750 [==============================] - 0s 26us/step - loss: 14.8078\n",
      "Epoch 22/200\n",
      "750/750 [==============================] - 0s 27us/step - loss: 14.4470\n",
      "Epoch 23/200\n",
      "750/750 [==============================] - 0s 24us/step - loss: 14.0730\n",
      "Epoch 24/200\n",
      "750/750 [==============================] - 0s 22us/step - loss: 13.6561\n",
      "Epoch 25/200\n",
      "750/750 [==============================] - 0s 23us/step - loss: 13.2499\n",
      "Epoch 26/200\n",
      "750/750 [==============================] - 0s 24us/step - loss: 12.7773\n",
      "Epoch 27/200\n",
      "750/750 [==============================] - 0s 29us/step - loss: 12.3261\n",
      "Epoch 28/200\n",
      "750/750 [==============================] - 0s 29us/step - loss: 11.8465\n",
      "Epoch 29/200\n",
      "750/750 [==============================] - 0s 29us/step - loss: 11.3676\n",
      "Epoch 30/200\n",
      "750/750 [==============================] - 0s 26us/step - loss: 10.8577\n",
      "Epoch 31/200\n",
      "750/750 [==============================] - 0s 28us/step - loss: 10.3528\n",
      "Epoch 32/200\n",
      "750/750 [==============================] - 0s 25us/step - loss: 9.8498\n",
      "Epoch 33/200\n",
      "750/750 [==============================] - 0s 27us/step - loss: 9.3194\n",
      "Epoch 34/200\n",
      "750/750 [==============================] - 0s 26us/step - loss: 8.7666\n",
      "Epoch 35/200\n",
      "750/750 [==============================] - 0s 25us/step - loss: 8.2168\n",
      "Epoch 36/200\n",
      "750/750 [==============================] - 0s 26us/step - loss: 7.6865\n",
      "Epoch 37/200\n",
      "750/750 [==============================] - 0s 24us/step - loss: 7.1384\n",
      "Epoch 38/200\n",
      "750/750 [==============================] - 0s 25us/step - loss: 6.6378\n",
      "Epoch 39/200\n",
      "750/750 [==============================] - 0s 30us/step - loss: 6.1155\n",
      "Epoch 40/200\n",
      "750/750 [==============================] - 0s 31us/step - loss: 5.6354\n",
      "Epoch 41/200\n",
      "750/750 [==============================] - 0s 31us/step - loss: 5.1505\n",
      "Epoch 42/200\n",
      "750/750 [==============================] - 0s 30us/step - loss: 4.6914\n",
      "Epoch 43/200\n",
      "750/750 [==============================] - 0s 23us/step - loss: 4.2634\n",
      "Epoch 44/200\n",
      "750/750 [==============================] - 0s 27us/step - loss: 3.8358\n",
      "Epoch 45/200\n",
      "750/750 [==============================] - 0s 25us/step - loss: 3.4476\n",
      "Epoch 46/200\n",
      "750/750 [==============================] - 0s 24us/step - loss: 3.0957\n",
      "Epoch 47/200\n",
      "750/750 [==============================] - 0s 28us/step - loss: 2.7578\n",
      "Epoch 48/200\n",
      "750/750 [==============================] - 0s 23us/step - loss: 2.4476\n",
      "Epoch 49/200\n",
      "750/750 [==============================] - 0s 27us/step - loss: 2.1552\n",
      "Epoch 50/200\n",
      "750/750 [==============================] - 0s 27us/step - loss: 1.8940\n",
      "Epoch 51/200\n",
      "750/750 [==============================] - 0s 25us/step - loss: 1.6617\n",
      "Epoch 52/200\n",
      "750/750 [==============================] - 0s 28us/step - loss: 1.4509\n",
      "Epoch 53/200\n",
      "750/750 [==============================] - 0s 29us/step - loss: 1.2659\n",
      "Epoch 54/200\n",
      "750/750 [==============================] - 0s 27us/step - loss: 1.1017\n",
      "Epoch 55/200\n",
      "750/750 [==============================] - 0s 27us/step - loss: 0.9625\n",
      "Epoch 56/200\n",
      "750/750 [==============================] - 0s 29us/step - loss: 0.8410\n",
      "Epoch 57/200\n",
      "750/750 [==============================] - 0s 25us/step - loss: 0.7336\n",
      "Epoch 58/200\n",
      "750/750 [==============================] - 0s 28us/step - loss: 0.6430\n",
      "Epoch 59/200\n",
      "750/750 [==============================] - 0s 27us/step - loss: 0.5675\n",
      "Epoch 60/200\n",
      "750/750 [==============================] - 0s 28us/step - loss: 0.5013\n",
      "Epoch 61/200\n",
      "750/750 [==============================] - 0s 27us/step - loss: 0.4475\n",
      "Epoch 62/200\n",
      "750/750 [==============================] - 0s 28us/step - loss: 0.4033\n",
      "Epoch 63/200\n",
      "750/750 [==============================] - 0s 27us/step - loss: 0.3657\n",
      "Epoch 64/200\n",
      "750/750 [==============================] - 0s 28us/step - loss: 0.3362\n",
      "Epoch 65/200\n",
      "750/750 [==============================] - 0s 30us/step - loss: 0.3108\n",
      "Epoch 66/200\n",
      "750/750 [==============================] - 0s 26us/step - loss: 0.2918\n",
      "Epoch 67/200\n",
      "750/750 [==============================] - 0s 26us/step - loss: 0.2769\n",
      "Epoch 68/200\n",
      "750/750 [==============================] - 0s 28us/step - loss: 0.2622\n",
      "Epoch 69/200\n",
      "750/750 [==============================] - 0s 25us/step - loss: 0.2519\n",
      "Epoch 70/200\n",
      "750/750 [==============================] - 0s 24us/step - loss: 0.2442\n",
      "Epoch 71/200\n",
      "750/750 [==============================] - 0s 28us/step - loss: 0.2386\n",
      "Epoch 72/200\n",
      "750/750 [==============================] - 0s 24us/step - loss: 0.2320\n",
      "Epoch 73/200\n",
      "750/750 [==============================] - 0s 26us/step - loss: 0.2281\n",
      "Epoch 74/200\n",
      "750/750 [==============================] - 0s 29us/step - loss: 0.2248\n",
      "Epoch 75/200\n",
      "750/750 [==============================] - 0s 31us/step - loss: 0.2223\n",
      "Epoch 76/200\n",
      "750/750 [==============================] - 0s 35us/step - loss: 0.2203\n",
      "Epoch 77/200\n",
      "750/750 [==============================] - 0s 28us/step - loss: 0.2176\n",
      "Epoch 78/200\n",
      "750/750 [==============================] - 0s 29us/step - loss: 0.2169\n",
      "Epoch 79/200\n",
      "750/750 [==============================] - 0s 27us/step - loss: 0.2152\n",
      "Epoch 80/200\n",
      "750/750 [==============================] - 0s 32us/step - loss: 0.2138\n",
      "Epoch 81/200\n",
      "750/750 [==============================] - 0s 29us/step - loss: 0.2128\n",
      "Epoch 82/200\n",
      "750/750 [==============================] - 0s 25us/step - loss: 0.2125\n",
      "Epoch 83/200\n",
      "750/750 [==============================] - 0s 28us/step - loss: 0.2112\n",
      "Epoch 84/200\n",
      "750/750 [==============================] - 0s 25us/step - loss: 0.2106\n",
      "Epoch 85/200\n",
      "750/750 [==============================] - 0s 24us/step - loss: 0.2099\n",
      "Epoch 86/200\n",
      "750/750 [==============================] - 0s 25us/step - loss: 0.2089\n",
      "Epoch 87/200\n",
      "750/750 [==============================] - 0s 29us/step - loss: 0.2085\n",
      "Epoch 88/200\n",
      "750/750 [==============================] - 0s 31us/step - loss: 0.2077\n",
      "Epoch 89/200\n",
      "750/750 [==============================] - 0s 28us/step - loss: 0.2081\n",
      "Epoch 90/200\n",
      "750/750 [==============================] - 0s 28us/step - loss: 0.2073\n",
      "Epoch 91/200\n",
      "750/750 [==============================] - 0s 23us/step - loss: 0.2074\n",
      "Epoch 92/200\n",
      "750/750 [==============================] - 0s 25us/step - loss: 0.2060\n",
      "Epoch 93/200\n",
      "750/750 [==============================] - 0s 23us/step - loss: 0.2043\n",
      "Epoch 94/200\n",
      "750/750 [==============================] - 0s 26us/step - loss: 0.2048\n",
      "Epoch 95/200\n",
      "750/750 [==============================] - 0s 24us/step - loss: 0.2031\n",
      "Epoch 96/200\n",
      "750/750 [==============================] - 0s 24us/step - loss: 0.2020\n",
      "Epoch 97/200\n",
      "750/750 [==============================] - 0s 26us/step - loss: 0.2016\n",
      "Epoch 98/200\n"
     ]
    },
    {
     "name": "stdout",
     "output_type": "stream",
     "text": [
      "750/750 [==============================] - 0s 24us/step - loss: 0.2015\n",
      "Epoch 99/200\n",
      "750/750 [==============================] - 0s 25us/step - loss: 0.2014\n",
      "Epoch 100/200\n",
      "750/750 [==============================] - 0s 25us/step - loss: 0.1993\n",
      "Epoch 101/200\n",
      "750/750 [==============================] - 0s 23us/step - loss: 0.2007\n",
      "Epoch 102/200\n",
      "750/750 [==============================] - 0s 24us/step - loss: 0.1987\n",
      "Epoch 103/200\n",
      "750/750 [==============================] - 0s 27us/step - loss: 0.1977\n",
      "Epoch 104/200\n",
      "750/750 [==============================] - 0s 23us/step - loss: 0.1970\n",
      "Epoch 105/200\n",
      "750/750 [==============================] - 0s 24us/step - loss: 0.1961\n",
      "Epoch 106/200\n",
      "750/750 [==============================] - 0s 24us/step - loss: 0.1958\n",
      "Epoch 107/200\n",
      "750/750 [==============================] - 0s 23us/step - loss: 0.1952\n",
      "Epoch 108/200\n",
      "750/750 [==============================] - 0s 27us/step - loss: 0.1950\n",
      "Epoch 109/200\n",
      "750/750 [==============================] - 0s 24us/step - loss: 0.1934\n",
      "Epoch 110/200\n",
      "750/750 [==============================] - 0s 23us/step - loss: 0.1933\n",
      "Epoch 111/200\n",
      "750/750 [==============================] - 0s 28us/step - loss: 0.1917\n",
      "Epoch 112/200\n",
      "750/750 [==============================] - 0s 26us/step - loss: 0.1912\n",
      "Epoch 113/200\n",
      "750/750 [==============================] - 0s 26us/step - loss: 0.1910\n",
      "Epoch 114/200\n",
      "750/750 [==============================] - 0s 25us/step - loss: 0.1903\n",
      "Epoch 115/200\n",
      "750/750 [==============================] - 0s 25us/step - loss: 0.1904\n",
      "Epoch 116/200\n",
      "750/750 [==============================] - 0s 23us/step - loss: 0.1890\n",
      "Epoch 117/200\n",
      "750/750 [==============================] - 0s 26us/step - loss: 0.1884\n",
      "Epoch 118/200\n",
      "750/750 [==============================] - 0s 27us/step - loss: 0.1875\n",
      "Epoch 119/200\n",
      "750/750 [==============================] - 0s 29us/step - loss: 0.1873\n",
      "Epoch 120/200\n",
      "750/750 [==============================] - 0s 25us/step - loss: 0.1865\n",
      "Epoch 121/200\n",
      "750/750 [==============================] - 0s 26us/step - loss: 0.1865\n",
      "Epoch 122/200\n",
      "750/750 [==============================] - 0s 25us/step - loss: 0.1840\n",
      "Epoch 123/200\n",
      "750/750 [==============================] - 0s 27us/step - loss: 0.1834\n",
      "Epoch 124/200\n",
      "750/750 [==============================] - 0s 25us/step - loss: 0.1834\n",
      "Epoch 125/200\n",
      "750/750 [==============================] - 0s 24us/step - loss: 0.1822\n",
      "Epoch 126/200\n",
      "750/750 [==============================] - 0s 25us/step - loss: 0.1831\n",
      "Epoch 127/200\n",
      "750/750 [==============================] - 0s 25us/step - loss: 0.1807\n",
      "Epoch 128/200\n",
      "750/750 [==============================] - 0s 23us/step - loss: 0.1794\n",
      "Epoch 129/200\n",
      "750/750 [==============================] - 0s 30us/step - loss: 0.1791\n",
      "Epoch 130/200\n",
      "750/750 [==============================] - 0s 26us/step - loss: 0.1791\n",
      "Epoch 131/200\n",
      "750/750 [==============================] - 0s 27us/step - loss: 0.1774\n",
      "Epoch 132/200\n",
      "750/750 [==============================] - 0s 24us/step - loss: 0.1776\n",
      "Epoch 133/200\n",
      "750/750 [==============================] - 0s 26us/step - loss: 0.1756\n",
      "Epoch 134/200\n",
      "750/750 [==============================] - 0s 25us/step - loss: 0.1773\n",
      "Epoch 135/200\n",
      "750/750 [==============================] - 0s 23us/step - loss: 0.1758\n",
      "Epoch 136/200\n",
      "750/750 [==============================] - 0s 28us/step - loss: 0.1755\n",
      "Epoch 137/200\n",
      "750/750 [==============================] - 0s 27us/step - loss: 0.1733\n",
      "Epoch 138/200\n",
      "750/750 [==============================] - 0s 26us/step - loss: 0.1740\n",
      "Epoch 139/200\n",
      "750/750 [==============================] - 0s 24us/step - loss: 0.1723\n",
      "Epoch 140/200\n",
      "750/750 [==============================] - 0s 24us/step - loss: 0.1713\n",
      "Epoch 141/200\n",
      "750/750 [==============================] - 0s 26us/step - loss: 0.1706\n",
      "Epoch 142/200\n",
      "750/750 [==============================] - 0s 26us/step - loss: 0.1696\n",
      "Epoch 143/200\n",
      "750/750 [==============================] - 0s 28us/step - loss: 0.1688\n",
      "Epoch 144/200\n",
      "750/750 [==============================] - 0s 23us/step - loss: 0.1682\n",
      "Epoch 145/200\n",
      "750/750 [==============================] - 0s 27us/step - loss: 0.1674\n",
      "Epoch 146/200\n",
      "750/750 [==============================] - 0s 26us/step - loss: 0.1663\n",
      "Epoch 147/200\n",
      "750/750 [==============================] - 0s 27us/step - loss: 0.1674\n",
      "Epoch 148/200\n",
      "750/750 [==============================] - 0s 25us/step - loss: 0.1656\n",
      "Epoch 149/200\n",
      "750/750 [==============================] - 0s 29us/step - loss: 0.1665\n",
      "Epoch 150/200\n",
      "750/750 [==============================] - 0s 28us/step - loss: 0.1645\n",
      "Epoch 151/200\n",
      "750/750 [==============================] - 0s 28us/step - loss: 0.1629\n",
      "Epoch 152/200\n",
      "750/750 [==============================] - 0s 27us/step - loss: 0.1620\n",
      "Epoch 153/200\n",
      "750/750 [==============================] - 0s 29us/step - loss: 0.1610\n",
      "Epoch 154/200\n",
      "750/750 [==============================] - 0s 31us/step - loss: 0.1637\n",
      "Epoch 155/200\n",
      "750/750 [==============================] - 0s 29us/step - loss: 0.1606\n",
      "Epoch 156/200\n",
      "750/750 [==============================] - 0s 25us/step - loss: 0.1589\n",
      "Epoch 157/200\n",
      "750/750 [==============================] - 0s 24us/step - loss: 0.1593\n",
      "Epoch 158/200\n",
      "750/750 [==============================] - 0s 27us/step - loss: 0.1589\n",
      "Epoch 159/200\n",
      "750/750 [==============================] - 0s 29us/step - loss: 0.1567\n",
      "Epoch 160/200\n",
      "750/750 [==============================] - 0s 30us/step - loss: 0.1560\n",
      "Epoch 161/200\n",
      "750/750 [==============================] - 0s 27us/step - loss: 0.1563\n",
      "Epoch 162/200\n",
      "750/750 [==============================] - 0s 27us/step - loss: 0.1562\n",
      "Epoch 163/200\n",
      "750/750 [==============================] - 0s 25us/step - loss: 0.1560\n",
      "Epoch 164/200\n",
      "750/750 [==============================] - 0s 27us/step - loss: 0.1543\n",
      "Epoch 165/200\n",
      "750/750 [==============================] - 0s 24us/step - loss: 0.1530\n",
      "Epoch 166/200\n",
      "750/750 [==============================] - 0s 26us/step - loss: 0.1539\n",
      "Epoch 167/200\n",
      "750/750 [==============================] - 0s 25us/step - loss: 0.1515\n",
      "Epoch 168/200\n",
      "750/750 [==============================] - 0s 24us/step - loss: 0.1527\n",
      "Epoch 169/200\n",
      "750/750 [==============================] - 0s 28us/step - loss: 0.1499\n",
      "Epoch 170/200\n",
      "750/750 [==============================] - 0s 29us/step - loss: 0.1496\n",
      "Epoch 171/200\n",
      "750/750 [==============================] - 0s 27us/step - loss: 0.1493\n",
      "Epoch 172/200\n",
      "750/750 [==============================] - 0s 24us/step - loss: 0.1502\n",
      "Epoch 173/200\n",
      "750/750 [==============================] - 0s 26us/step - loss: 0.1487\n",
      "Epoch 174/200\n",
      "750/750 [==============================] - 0s 24us/step - loss: 0.1471\n",
      "Epoch 175/200\n",
      "750/750 [==============================] - 0s 29us/step - loss: 0.1463\n",
      "Epoch 176/200\n",
      "750/750 [==============================] - 0s 28us/step - loss: 0.1458\n",
      "Epoch 177/200\n",
      "750/750 [==============================] - 0s 26us/step - loss: 0.1461\n",
      "Epoch 178/200\n",
      "750/750 [==============================] - 0s 23us/step - loss: 0.1448\n",
      "Epoch 179/200\n",
      "750/750 [==============================] - 0s 25us/step - loss: 0.1430\n",
      "Epoch 180/200\n",
      "750/750 [==============================] - 0s 25us/step - loss: 0.1432\n",
      "Epoch 181/200\n",
      "750/750 [==============================] - 0s 27us/step - loss: 0.1417\n",
      "Epoch 182/200\n",
      "750/750 [==============================] - 0s 23us/step - loss: 0.1429\n",
      "Epoch 183/200\n",
      "750/750 [==============================] - 0s 27us/step - loss: 0.1408\n",
      "Epoch 184/200\n",
      "750/750 [==============================] - 0s 24us/step - loss: 0.1469\n",
      "Epoch 185/200\n",
      "750/750 [==============================] - 0s 24us/step - loss: 0.1416\n",
      "Epoch 186/200\n",
      "750/750 [==============================] - 0s 26us/step - loss: 0.1383\n",
      "Epoch 187/200\n",
      "750/750 [==============================] - 0s 26us/step - loss: 0.1391\n",
      "Epoch 188/200\n",
      "750/750 [==============================] - 0s 26us/step - loss: 0.1371\n",
      "Epoch 189/200\n",
      "750/750 [==============================] - 0s 30us/step - loss: 0.1368\n",
      "Epoch 190/200\n",
      "750/750 [==============================] - 0s 29us/step - loss: 0.1356\n",
      "Epoch 191/200\n",
      "750/750 [==============================] - 0s 26us/step - loss: 0.1352\n",
      "Epoch 192/200\n",
      "750/750 [==============================] - 0s 28us/step - loss: 0.1342\n",
      "Epoch 193/200\n",
      "750/750 [==============================] - 0s 28us/step - loss: 0.1338\n",
      "Epoch 194/200\n"
     ]
    },
    {
     "name": "stdout",
     "output_type": "stream",
     "text": [
      "750/750 [==============================] - 0s 23us/step - loss: 0.1334\n",
      "Epoch 195/200\n",
      "750/750 [==============================] - 0s 25us/step - loss: 0.1325\n",
      "Epoch 196/200\n",
      "750/750 [==============================] - 0s 27us/step - loss: 0.1319\n",
      "Epoch 197/200\n",
      "750/750 [==============================] - 0s 28us/step - loss: 0.1316\n",
      "Epoch 198/200\n",
      "750/750 [==============================] - 0s 26us/step - loss: 0.1317\n",
      "Epoch 199/200\n",
      "750/750 [==============================] - 0s 27us/step - loss: 0.1298\n",
      "Epoch 200/200\n",
      "750/750 [==============================] - 0s 26us/step - loss: 0.1297\n",
      "250/250 [==============================] - 0s 85us/step\n"
     ]
    },
    {
     "data": {
      "text/plain": [
       "0.12120804953575134"
      ]
     },
     "execution_count": 7,
     "metadata": {},
     "output_type": "execute_result"
    }
   ],
   "source": [
    "inputs = Input(shape=(1,))\n",
    "x = Dense(100, activation='sigmoid')(inputs)\n",
    "predictions = Dense(1, activation='linear')(x)\n",
    "\n",
    "model = Model(inputs=inputs, outputs=predictions)\n",
    "model.compile(optimizer='adam',\n",
    "              loss='mean_squared_error')\n",
    "model.fit(X_train,y_train,epochs=200)\n",
    "model.evaluate(x=X_test,y=y_test)"
   ]
  },
  {
   "cell_type": "markdown",
   "metadata": {},
   "source": [
    "We are going to run the model through different settings. The function contains everything we have coded previously:"
   ]
  },
  {
   "cell_type": "code",
   "execution_count": 20,
   "metadata": {},
   "outputs": [],
   "source": [
    "import time\n",
    "\n",
    "def polyNN(data,hidden_count=100,epochs=200,batch_size=32):\n",
    "    \n",
    "    #Record the start time\n",
    "    start = time.time()\n",
    "    \n",
    "    #Unpack the data\n",
    "    X_train, X_test, y_train, y_test = data\n",
    "    \n",
    "    #Layers\n",
    "    inputs = Input(shape=(X_train.shape[1],))\n",
    "    x = Dense(hidden_count, activation='sigmoid')(inputs)\n",
    "    predictions = Dense(1, activation='linear')(x)\n",
    "\n",
    "    #Model\n",
    "    model = Model(inputs=inputs, outputs=predictions)\n",
    "    model.compile(optimizer='adam',\n",
    "                  loss='mean_squared_error')\n",
    "    model.fit(X_train,y_train,epochs=epochs,batch_size=batch_size,verbose=0) #Do not display progress\n",
    "    \n",
    "    #Collect and display info\n",
    "    param_count = model.count_params()\n",
    "    loss = round(model.evaluate(x=X_test,y=y_test,batch_size=batch_size,verbose=0),5)\n",
    "    elapsed = round(time.time() - start,2)    \n",
    "    print(\"Hidden count:\",str(hidden_count).ljust(5),\n",
    "          \"Parameters:\",str(param_count).ljust(8),\n",
    "          \"loss:\",str(loss).ljust(10),\n",
    "          \"Time:\",str(elapsed)+\"s\",\n",
    "         )"
   ]
  },
  {
   "cell_type": "markdown",
   "metadata": {},
   "source": [
    "Now we can easily try out different settings:"
   ]
  },
  {
   "cell_type": "code",
   "execution_count": 21,
   "metadata": {},
   "outputs": [
    {
     "name": "stdout",
     "output_type": "stream",
     "text": [
      "Hidden count: 1     Parameters: 4        loss: 15.44601   Time: 4.51s\n",
      "Hidden count: 10    Parameters: 31       loss: 0.09365    Time: 4.52s\n",
      "Hidden count: 50    Parameters: 151      loss: 0.07055    Time: 4.7s\n",
      "Hidden count: 100   Parameters: 301      loss: 0.10033    Time: 4.7s\n",
      "Hidden count: 500   Parameters: 1501     loss: 0.11597    Time: 5.05s\n"
     ]
    }
   ],
   "source": [
    "data = train_test_split(X,y)\n",
    "\n",
    "polyNN(data,hidden_count=1)\n",
    "polyNN(data,hidden_count=10)\n",
    "polyNN(data,hidden_count=50)\n",
    "polyNN(data,hidden_count=100)\n",
    "polyNN(data,hidden_count=500)"
   ]
  },
  {
   "cell_type": "markdown",
   "metadata": {},
   "source": [
    "Here we see the universal approximation theory in work: the more neurons we have the better the fit.\n",
    "\n",
    "One trick that can often improve performance: *standardizing* data."
   ]
  },
  {
   "cell_type": "code",
   "execution_count": 22,
   "metadata": {},
   "outputs": [
    {
     "name": "stdout",
     "output_type": "stream",
     "text": [
      "Hidden count: 1     Parameters: 4        loss: 7.84441    Time: 4.68s\n",
      "Hidden count: 10    Parameters: 31       loss: 0.1123     Time: 4.73s\n",
      "Hidden count: 50    Parameters: 151      loss: 0.01967    Time: 4.72s\n",
      "Hidden count: 100   Parameters: 301      loss: 0.00905    Time: 4.8s\n",
      "Hidden count: 500   Parameters: 1501     loss: 0.01       Time: 5.35s\n"
     ]
    }
   ],
   "source": [
    "from sklearn import preprocessing\n",
    "scalar = preprocessing.StandardScaler().fit(X)\n",
    "X_std = scalar.transform(X)\n",
    "\n",
    "data = train_test_split(X_std,y)\n",
    "\n",
    "polyNN(data,hidden_count=1)\n",
    "polyNN(data,hidden_count=10)\n",
    "polyNN(data,hidden_count=50)\n",
    "polyNN(data,hidden_count=100)\n",
    "polyNN(data,hidden_count=500)"
   ]
  },
  {
   "cell_type": "markdown",
   "metadata": {},
   "source": [
    "## Speed Things Up\n",
    "\n",
    "Due to its complexity, neural network trains a lot slower than the other techniques we have covered previously. To speed up training, we can ask Keras to go through more samples before updating the model's parameters by specifying a larger ```batch_size```. Doing so allows Keras to make better use of the CPU's parallel processing capabitilies.\n",
    "\n",
    "Keras' default batch size is 32. We will try 128 instead:"
   ]
  },
  {
   "cell_type": "code",
   "execution_count": 23,
   "metadata": {},
   "outputs": [
    {
     "name": "stdout",
     "output_type": "stream",
     "text": [
      "Hidden count: 1     Parameters: 4        loss: 19.49446   Time: 1.77s\n",
      "Hidden count: 10    Parameters: 31       loss: 1.85994    Time: 1.81s\n",
      "Hidden count: 50    Parameters: 151      loss: 0.11633    Time: 1.81s\n",
      "Hidden count: 100   Parameters: 301      loss: 0.07967    Time: 1.95s\n",
      "Hidden count: 500   Parameters: 1501     loss: 0.10118    Time: 2.73s\n"
     ]
    }
   ],
   "source": [
    "batch_size = 128\n",
    "polyNN(data,hidden_count=1,batch_size=batch_size)\n",
    "polyNN(data,hidden_count=10,batch_size=batch_size)\n",
    "polyNN(data,hidden_count=50,batch_size=batch_size)\n",
    "polyNN(data,hidden_count=100,batch_size=batch_size)\n",
    "polyNN(data,hidden_count=500,batch_size=batch_size)"
   ]
  },
  {
   "cell_type": "markdown",
   "metadata": {},
   "source": [
    "## Running Model on GPU"
   ]
  },
  {
   "cell_type": "code",
   "execution_count": 16,
   "metadata": {},
   "outputs": [
    {
     "data": {
      "text/plain": [
       "<module 'keras' from '/usr/local/lib/python3.5/dist-packages/keras/__init__.py'>"
      ]
     },
     "execution_count": 16,
     "metadata": {},
     "output_type": "execute_result"
    }
   ],
   "source": [
    "import os\n",
    "os.environ[\"CUDA_VISIBLE_DEVICES\"] = \"0\""
   ]
  },
  {
   "cell_type": "code",
   "execution_count": 17,
   "metadata": {},
   "outputs": [
    {
     "name": "stdout",
     "output_type": "stream",
     "text": [
      "Hidden count: 1     Parameters: 4        loss: 6.26372    Time: 4.36s\n"
     ]
    }
   ],
   "source": [
    "polyNN(data,hidden_count=1)"
   ]
  },
  {
   "cell_type": "code",
   "execution_count": null,
   "metadata": {},
   "outputs": [],
   "source": [
    "batch_size = 1000\n",
    "polyNN(data,hidden_count=1,batch_size=batch_size)\n",
    "polyNN(data,hidden_count=10,batch_size=batch_size)\n",
    "polyNN(data,hidden_count=50,batch_size=batch_size)\n",
    "polyNN(data,hidden_count=100,batch_size=batch_size)\n",
    "polyNN(data,hidden_count=500,batch_size=batch_size)"
   ]
  },
  {
   "cell_type": "code",
   "execution_count": null,
   "metadata": {},
   "outputs": [],
   "source": [
    "batch_size = 1000\n",
    "epochs = 600\n",
    "polyNN(data,hidden_count=1,epochs=epochs,batch_size=batch_size)\n",
    "polyNN(data,hidden_count=10,epochs=epochs,batch_size=batch_size)\n",
    "polyNN(data,hidden_count=50,epochs=epochs,batch_size=batch_size)\n",
    "polyNN(data,hidden_count=100,epochs=epochs,batch_size=batch_size)\n",
    "polyNN(data,hidden_count=500,epochs=epochs,batch_size=batch_size)"
   ]
  },
  {
   "cell_type": "markdown",
   "metadata": {},
   "source": [
    "## Deep Learning\n",
    "\n",
    "*Deep learning* is the stacking of multiple layers of neurons. Holding the number of parameters constant, this often performs better than having only a single hidden layer."
   ]
  },
  {
   "cell_type": "code",
   "execution_count": 19,
   "metadata": {},
   "outputs": [],
   "source": [
    "def polyDNN(data,\n",
    "            hidden_count=100,\n",
    "            epochs=200,\n",
    "            batch_size=1000,\n",
    "            layers=1,\n",
    "            activation='sigmoid'\n",
    "           ):\n",
    "        \n",
    "    start = time.time()    \n",
    "\n",
    "    X_train, X_test, y_train, y_test = data\n",
    "    \n",
    "    #Layers\n",
    "    inputs = Input(shape=(X_train.shape[1],))\n",
    "    x = Dense(hidden_count, activation=activation)(inputs)\n",
    "    for _ in range(1,layers):\n",
    "        x = Dense(hidden_count, activation=activation)(x)    \n",
    "    predictions = Dense(1, activation='linear')(x)\n",
    "\n",
    "    #Model\n",
    "    model = Model(inputs=inputs, outputs=predictions)\n",
    "    model.compile(optimizer='adam',\n",
    "                  loss='mean_squared_error')\n",
    "    model.fit(X_train,y_train,epochs=epochs,batch_size=batch_size,verbose=0) \n",
    "    \n",
    "    #Collect and display info\n",
    "    param_count = model.count_params()\n",
    "    loss = round(model.evaluate(x=X_test,y=y_test,batch_size=batch_size,verbose=0),5)\n",
    "    elapsed = round(time.time() - start,2)    \n",
    "    print(\"Hidden count:\",str(hidden_count).ljust(5),\n",
    "          \"Parameters:\",str(param_count).ljust(8),\n",
    "          \"loss:\",str(loss).ljust(10),\n",
    "          \"Time:\",str(elapsed)+\"s\",\n",
    "         )"
   ]
  },
  {
   "cell_type": "markdown",
   "metadata": {},
   "source": [
    "Let us run the model through various settings. I have chosen the neuron count such that the number of parameters is roughly the same as in the single-layer case."
   ]
  },
  {
   "cell_type": "code",
   "execution_count": 21,
   "metadata": {},
   "outputs": [
    {
     "name": "stdout",
     "output_type": "stream",
     "text": [
      "Hidden count: 1     Parameters: 6        loss: 18.50988   Time: 1.49s\n",
      "Hidden count: 10    Parameters: 141      loss: 17.78656   Time: 1.47s\n",
      "Hidden count: 15    Parameters: 286      loss: 17.98838   Time: 1.65s\n",
      "Hidden count: 36    Parameters: 1441     loss: 16.80461   Time: 1.54s\n"
     ]
    }
   ],
   "source": [
    "polyDNN(data,hidden_count=1,layers=2,activation='sigmoid')\n",
    "polyDNN(data,hidden_count=10,layers=2,activation='sigmoid')\n",
    "polyDNN(data,hidden_count=15,layers=2,activation='sigmoid')\n",
    "polyDNN(data,hidden_count=36,layers=2,activation='sigmoid')"
   ]
  },
  {
   "cell_type": "markdown",
   "metadata": {},
   "source": [
    "## Activations\n",
    "\n",
    "Different activation can have profound impact on model performance. Besides ```sigmoid```, which is just a different name for the logistic function, there are other activation function such as ```tanh``` and ```relu```. ```relu```, which stands for **RE**ctified **L**inear **U**nit, is a particular common choice due to its good performance."
   ]
  },
  {
   "cell_type": "code",
   "execution_count": 20,
   "metadata": {
    "scrolled": true
   },
   "outputs": [
    {
     "name": "stdout",
     "output_type": "stream",
     "text": [
      "Hidden count: 1     Parameters: 6        loss: 19.61141   Time: 1.36s\n",
      "Hidden count: 10    Parameters: 141      loss: 14.55007   Time: 1.4s\n",
      "Hidden count: 15    Parameters: 286      loss: 7.37173    Time: 1.43s\n",
      "Hidden count: 36    Parameters: 1441     loss: 5.06284    Time: 1.45s\n"
     ]
    }
   ],
   "source": [
    "polyDNN(data,hidden_count=1,layers=2,activation='relu')\n",
    "polyDNN(data,hidden_count=10,layers=2,activation='relu')\n",
    "polyDNN(data,hidden_count=15,layers=2,activation='relu')\n",
    "polyDNN(data,hidden_count=36,layers=2,activation='relu')"
   ]
  }
 ],
 "metadata": {
  "kernelspec": {
   "display_name": "Python 3",
   "language": "python",
   "name": "python3"
  },
  "language_info": {
   "codemirror_mode": {
    "name": "ipython",
    "version": 3
   },
   "file_extension": ".py",
   "mimetype": "text/x-python",
   "name": "python",
   "nbconvert_exporter": "python",
   "pygments_lexer": "ipython3",
   "version": "3.5.2"
  }
 },
 "nbformat": 4,
 "nbformat_minor": 2
}
