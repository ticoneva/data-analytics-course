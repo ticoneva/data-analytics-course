{
 "cells": [
  {
   "cell_type": "markdown",
   "metadata": {
    "collapsed": true
   },
   "source": [
    "# Control Statements#\n",
    "\n",
    "Control statements allow us to tell Python to do something\n",
    "only if certain conditions are met. "
   ]
  },
  {
   "cell_type": "markdown",
   "metadata": {},
   "source": [
    "### A. Loop\n",
    "\n",
    "To do something repeatedly, use a ```for``` loop:\n",
    "```python\n",
    "for i in range(number_of_runs):\n",
    "    #Do something\n",
    "```\n",
    "```number_of_runs``` specify how many times you want to run the loop for. Notice that tab space I put before ```#do something```. This is how Python knows that it should be part of the loop. Without the tab space, you would either get an error or a different result."
   ]
  },
  {
   "cell_type": "code",
   "execution_count": 1,
   "metadata": {},
   "outputs": [
    {
     "name": "stdout",
     "output_type": "stream",
     "text": [
      "2\n",
      "3\n",
      "4\n",
      "5\n",
      "6\n",
      "7\n",
      "8\n",
      "9\n",
      "10\n",
      "11\n"
     ]
    }
   ],
   "source": [
    "#First we assign x = 1\n",
    "x = 1\n",
    "\n",
    "#Now let's trying add 1 to x for 10 times\n",
    "for i in range(10):\n",
    "    x = x + 1\n",
    "    print(x)"
   ]
  },
  {
   "cell_type": "markdown",
   "metadata": {},
   "source": [
    "What does ```x = x + 1``` mean? Remember that a single ```=``` means assigning the value on the left to the variable on the right. Python will first compute the value on the left (```x + 1```) before saving the resulting number to the variable on the right (```x```). "
   ]
  },
  {
   "cell_type": "markdown",
   "metadata": {},
   "source": [
    "Let's see what happen without the tab space in front of ```print(x)```."
   ]
  },
  {
   "cell_type": "code",
   "execution_count": 2,
   "metadata": {},
   "outputs": [
    {
     "name": "stdout",
     "output_type": "stream",
     "text": [
      "21\n"
     ]
    }
   ],
   "source": [
    "for i in range(10):\n",
    "    x = x + 1\n",
    "print(x)"
   ]
  },
  {
   "cell_type": "markdown",
   "metadata": {},
   "source": [
    "You can use the counter variable i too. In this case, you might want to specify the starting value of ```i``` too. ```range(a,b)``` tells Python to start from ```a``` and stop **before** ```b```:\n",
    "```python\n",
    "for i in range(a,b):\n",
    "    #Do something\n",
    "```"
   ]
  },
  {
   "cell_type": "code",
   "execution_count": 8,
   "metadata": {},
   "outputs": [
    {
     "name": "stdout",
     "output_type": "stream",
     "text": [
      "10\n",
      "21\n",
      "33\n",
      "46\n",
      "60\n",
      "75\n",
      "91\n",
      "108\n",
      "126\n",
      "145\n"
     ]
    }
   ],
   "source": [
    "#Add from 10 to 19\n",
    "x= 0\n",
    "for i in range(10,20):\n",
    "    x = x + i\n",
    "    print(x)"
   ]
  },
  {
   "cell_type": "markdown",
   "metadata": {},
   "source": [
    "### B. IF statements###\n",
    "\n",
    "```if``` statement decides what to do based on given conditions.\n",
    "```python\n",
    "if #condition:\n",
    "    #do something\n",
    "elif #another condition:\n",
    "    #do something\n",
    "else:\n",
    "    #do something\n",
    "```"
   ]
  },
  {
   "cell_type": "code",
   "execution_count": 4,
   "metadata": {},
   "outputs": [],
   "source": [
    "#For example, suppose we want to print out a number only if \n",
    "#it is bigger than or equal to 10.\n",
    "x = 5\n",
    "\n",
    "if x >= 10:\n",
    "    print(x,\"is bigger than or equal to 10\")"
   ]
  },
  {
   "cell_type": "code",
   "execution_count": 5,
   "metadata": {},
   "outputs": [
    {
     "name": "stdout",
     "output_type": "stream",
     "text": [
      "5 is smaller than 10\n"
     ]
    }
   ],
   "source": [
    "#We can also print a message when the number is smaller than 10.\n",
    "x=5\n",
    "\n",
    "if x >= 10:\n",
    "    print(x,\"is bigger than or equal to 10\")\n",
    "else:\n",
    "    print(x,\"is smaller than 10\")"
   ]
  },
  {
   "cell_type": "code",
   "execution_count": 7,
   "metadata": {},
   "outputs": [
    {
     "name": "stdout",
     "output_type": "stream",
     "text": [
      "10 is exactly 10\n"
     ]
    }
   ],
   "source": [
    "#Finally, let's try printing out a message when the number is \n",
    "#exactly 10.\n",
    "x=10\n",
    "if x > 10:\n",
    "    print(x,\"is bigger than 10\")\n",
    "elif x == 10:\n",
    "    print(x,\"is exactly 10\")\n",
    "else:\n",
    "    print(x,\"is smaller than 10\")"
   ]
  }
 ],
 "metadata": {
  "anaconda-cloud": {},
  "kernelspec": {
   "display_name": "Python 3",
   "language": "python",
   "name": "python3"
  },
  "language_info": {
   "codemirror_mode": {
    "name": "ipython",
    "version": 3
   },
   "file_extension": ".py",
   "mimetype": "text/x-python",
   "name": "python",
   "nbconvert_exporter": "python",
   "pygments_lexer": "ipython3",
   "version": "3.6.2"
  }
 },
 "nbformat": 4,
 "nbformat_minor": 1
}
