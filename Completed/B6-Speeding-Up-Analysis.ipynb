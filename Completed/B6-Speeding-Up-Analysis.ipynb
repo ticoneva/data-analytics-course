{
 "cells": [
  {
   "cell_type": "markdown",
   "id": "aad16403",
   "metadata": {},
   "source": [
    "# Speeding Up Analysis\n",
    "\n",
    "In this notebook we will go over how we can speed up our analysis by distributing it over multiply CPU cores. \n",
    "\n",
    "First, some terminology and history on CPU:\n",
    "- A central processing unit (CPU) refers to the component in a computer that executes instructions. \n",
    "- Once upon a time, each computer only has one CPU, but those days were long gone. \n",
    "- When you buy a CPU today, it typically has multiple *cores*. \n",
    "Each core is an individual unit capable of executing instructions, \n",
    "so it is totally valid if we want to call each core 'a CPU'.\n",
    "- Further complicating matters, modern CPU typically comes with a feature called *simultaneous multithreading/hyperthreading*,\n",
    "which allows each CPU core to pretend to be multiple logical CPUs. \n",
    "- In resource monitoring, *CPU* refers to these logical CPUs. \n",
    "If your computer has, say, an [Intel i7-11700 processor](https://ark.intel.com/content/www/us/en/ark/products/212279/intel-core-i711700-processor-16m-cache-up-to-4-90-ghz.html), \n",
    "it comes with 8 physical cores, each capable of running two logical CPUs. \n",
    "As a result, both Windows and Linux will report that your computer has 16 CPUs.\n",
    "- When it comes to computing, what matters is the number of actual CPU cores. \n",
    "The department's SCRP cluster does *not* have SMT enabled, \n",
    "so each logical CPU is an actual CPU core."
   ]
  },
  {
   "cell_type": "markdown",
   "id": "1f941953",
   "metadata": {},
   "source": [
    "## A. Scikit-Learn Models\n",
    "\n",
    "Scikit-learn algorithms are often based on libraries written in other programming languages. Some of these algorithms are fast to train (e.g. linear regression) while others are slow (e.g. support vector machine). For the latter, the [Intel Extension for Scikit-learn](https://intel.github.io/scikit-learn-intelex/index.html) provides drop-in replacement that can [significantly speed up](https://intel.github.io/scikit-learn-intelex/acceleration.html) training. You can find the list of supported algorithms [here](https://intel.github.io/scikit-learn-intelex/algorithms.html).\n",
    "\n",
    "First, let us generate some artifical data:"
   ]
  },
  {
   "cell_type": "code",
   "execution_count": 1,
   "id": "594b3c0d",
   "metadata": {},
   "outputs": [],
   "source": [
    "import pandas as pd\n",
    "import numpy as np\n",
    "\n",
    "# 50K samples with binary target and 10 features \n",
    "var_num = 10\n",
    "X = np.random.rand(20000,var_num)\n",
    "y = np.where(np.sum(X,axis=1)>var_num*0.5,1,0)"
   ]
  },
  {
   "cell_type": "markdown",
   "id": "1912a832",
   "metadata": {},
   "source": [
    "Next, we will train scikit-learn's default support vector classifier and time it with Jupyter's magic command `%%time`:"
   ]
  },
  {
   "cell_type": "code",
   "execution_count": 2,
   "id": "bad19277",
   "metadata": {},
   "outputs": [
    {
     "name": "stdout",
     "output_type": "stream",
     "text": [
      "CPU times: user 1.83 s, sys: 108 ms, total: 1.93 s\n",
      "Wall time: 2.08 s\n"
     ]
    },
    {
     "data": {
      "text/plain": [
       "SVC()"
      ]
     },
     "execution_count": 2,
     "metadata": {},
     "output_type": "execute_result"
    }
   ],
   "source": [
    "%%time\n",
    "\n",
    "#Original Scikit Learn SVC\n",
    "from sklearn.svm import SVC\n",
    "svc = SVC()\n",
    "svc.fit(X,y)"
   ]
  },
  {
   "cell_type": "markdown",
   "id": "5521726f",
   "metadata": {},
   "source": [
    "Finally, let us train the Intel replacement of SVC. This is done by placing the following two lines of code *before* we import scikit-learn:\n",
    "```python\n",
    "from sklearnex import patch_sklearn\n",
    "patch_sklearn()\n",
    "```"
   ]
  },
  {
   "cell_type": "code",
   "execution_count": 3,
   "id": "26f04c40",
   "metadata": {
    "scrolled": false
   },
   "outputs": [
    {
     "name": "stderr",
     "output_type": "stream",
     "text": [
      "Intel(R) Extension for Scikit-learn* enabled (https://github.com/intel/scikit-learn-intelex)\n"
     ]
    },
    {
     "name": "stdout",
     "output_type": "stream",
     "text": [
      "CPU times: user 2.09 s, sys: 396 ms, total: 2.49 s\n",
      "Wall time: 1.18 s\n"
     ]
    },
    {
     "data": {
      "text/plain": [
       "SVC()"
      ]
     },
     "execution_count": 3,
     "metadata": {},
     "output_type": "execute_result"
    }
   ],
   "source": [
    "%%time\n",
    "\n",
    "# Scikit Learn Intel Extension\n",
    "from sklearnex import patch_sklearn\n",
    "patch_sklearn()\n",
    "\n",
    "# Intel version of SVC\n",
    "from sklearn.svm import SVC\n",
    "svc = SVC()\n",
    "svc.fit(X,y)"
   ]
  },
  {
   "cell_type": "markdown",
   "id": "db3df1bb",
   "metadata": {},
   "source": [
    "We have achieved about 90% speed up just by switching to the Intel replacement. Because scikit-learn's default SVC scales quadratically with the number of samples while the Intel replacement scales close to linearly, the speedup gets more impressive as we scale up the task.\n",
    "\n",
    "### Running on Compute Node\n",
    "\n",
    "We will now run the same code on a compute node, which allows us vary the number of CPU cores we use. I have put the code in `../Examples/speed-up.py`. We will make use of three convenient commands provided on the cluster:\n",
    "- `compute [command]` runs a command with four CPU cores.\n",
    "- `compute-1 [command]` does the same with one CPU core.\n",
    "- `compute-16 [command]` does the same with 16 CPU cores.\n",
    "\n",
    "To run a shell command in a notebook, prepend the line with `!`."
   ]
  },
  {
   "cell_type": "code",
   "execution_count": 11,
   "id": "2578809c",
   "metadata": {
    "scrolled": false
   },
   "outputs": [
    {
     "name": "stdout",
     "output_type": "stream",
     "text": [
      "Available CPUs: 1\n",
      "Generating 50000 samples...\n",
      "Mode: Scikit-learn\n",
      "10.864s\n",
      "Available CPUs: 16\n",
      "Generating 50000 samples...\n",
      "Mode: Scikit-learn\n",
      "10.902s\n"
     ]
    }
   ],
   "source": [
    "# Scikit-learn SVC\n",
    "!compute-1 python ../Examples/speed-up.py -N 50000\n",
    "!compute-16 python ../Examples/speed-up.py -N 50000"
   ]
  },
  {
   "cell_type": "markdown",
   "id": "366f87d2",
   "metadata": {},
   "source": [
    "As we can see from above, scikit-learn's default SVC is incapable of making use of more than one CPU core.\n",
    "\n",
    "Now the Intel replacement:"
   ]
  },
  {
   "cell_type": "code",
   "execution_count": 12,
   "id": "23931d2e",
   "metadata": {
    "scrolled": true
   },
   "outputs": [
    {
     "name": "stdout",
     "output_type": "stream",
     "text": [
      "Available CPUs: 1\n",
      "Generating 50000 samples...\n",
      "Mode: Intel Extension for Scikit-learn\n",
      "Intel(R) Extension for Scikit-learn* enabled (https://github.com/intel/scikit-learn-intelex)\n",
      "3.886s\n",
      "Available CPUs: 4\n",
      "Generating 50000 samples...\n",
      "Mode: Intel Extension for Scikit-learn\n",
      "Intel(R) Extension for Scikit-learn* enabled (https://github.com/intel/scikit-learn-intelex)\n",
      "2.721s\n",
      "Available CPUs: 16\n",
      "Generating 50000 samples...\n",
      "Mode: Intel Extension for Scikit-learn\n",
      "Intel(R) Extension for Scikit-learn* enabled (https://github.com/intel/scikit-learn-intelex)\n",
      "2.707s\n"
     ]
    }
   ],
   "source": [
    "# Intel Extension for Scikit-learn\n",
    "!compute-1 python ../Examples/speed-up.py sklearnex -N 50000\n",
    "!compute python ../Examples/speed-up.py sklearnex -N 50000\n",
    "!compute-16 python ../Examples/speed-up.py sklearnex -N 50000"
   ]
  },
  {
   "cell_type": "markdown",
   "id": "61bded9a",
   "metadata": {},
   "source": [
    "Not only is the Intel replacement is faster on a single CPU core, it is also able to use multiple cores. That said, the algorithm does not utilize the additional cores all that efficiently. As we will see in the next section, it often makes more sense to parallelize the cross validation process than the model algorithm itself."
   ]
  },
  {
   "cell_type": "markdown",
   "id": "7d21477a",
   "metadata": {},
   "source": [
    "## B. GridSearchCV"
   ]
  },
  {
   "cell_type": "markdown",
   "id": "80fc12bb",
   "metadata": {},
   "source": [
    "K-Fold Cross Validation is an *embarassingly parallel* task, \n",
    "meaning that it can be easily decomposed into many identical subtasks.\n",
    "These subtasks can be run concurrently to speed up the task.\n",
    "\n",
    "First, let us run `GridSearchCV` in its default settings, \n",
    "which only uses one CPU core:"
   ]
  },
  {
   "cell_type": "code",
   "execution_count": 17,
   "id": "b6338067",
   "metadata": {},
   "outputs": [
    {
     "name": "stdout",
     "output_type": "stream",
     "text": [
      "CPU times: user 1min 6s, sys: 447 ms, total: 1min 6s\n",
      "Wall time: 1min 6s\n"
     ]
    },
    {
     "data": {
      "text/plain": [
       "GridSearchCV(cv=5, estimator=SVC(),\n",
       "             param_grid={'C': array([1.00230524e+00, 4.65157470e+00, 2.15873832e+01, 1.00184377e+02,\n",
       "       4.64943307e+02, 2.15774441e+03, 1.00138251e+04, 4.64729242e+04,\n",
       "       2.15675096e+05, 1.00092146e+06, 4.64515275e+06, 2.15575797e+07,\n",
       "       1.00046062e+08, 4.64301407e+08, 2.15476543e+09, 1.00000000e+10])})"
      ]
     },
     "execution_count": 17,
     "metadata": {},
     "output_type": "execute_result"
    }
   ],
   "source": [
    "%%time\n",
    "\n",
    "# Remove the Intel Replacement\n",
    "from sklearnex import unpatch_sklearn\n",
    "unpatch_sklearn()\n",
    "\n",
    "# GridSearchCV\n",
    "from sklearn.model_selection import GridSearchCV\n",
    "from sklearn.svm import SVC\n",
    "parameters = {'C':np.logspace(0.001,10,16)}\n",
    "svc = SVC()\n",
    "gscv = GridSearchCV(svc,parameters,cv=5)\n",
    "gscv.fit(X, y)    "
   ]
  },
  {
   "cell_type": "markdown",
   "id": "beb45dec",
   "metadata": {},
   "source": [
    "To make use of the additional CPU cores, we should increase `n_jobs` accordingly:"
   ]
  },
  {
   "cell_type": "code",
   "execution_count": 18,
   "id": "d14b48c6",
   "metadata": {
    "scrolled": true
   },
   "outputs": [
    {
     "name": "stdout",
     "output_type": "stream",
     "text": [
      "CPU times: user 1.15 s, sys: 26.4 ms, total: 1.18 s\n",
      "Wall time: 19.1 s\n"
     ]
    },
    {
     "data": {
      "text/plain": [
       "GridSearchCV(cv=5, estimator=SVC(), n_jobs=4,\n",
       "             param_grid={'C': array([1.00230524e+00, 4.65157470e+00, 2.15873832e+01, 1.00184377e+02,\n",
       "       4.64943307e+02, 2.15774441e+03, 1.00138251e+04, 4.64729242e+04,\n",
       "       2.15675096e+05, 1.00092146e+06, 4.64515275e+06, 2.15575797e+07,\n",
       "       1.00046062e+08, 4.64301407e+08, 2.15476543e+09, 1.00000000e+10])})"
      ]
     },
     "execution_count": 18,
     "metadata": {},
     "output_type": "execute_result"
    }
   ],
   "source": [
    "%%time\n",
    "\n",
    "# GridSearchCV\n",
    "from sklearn.model_selection import GridSearchCV\n",
    "from sklearn.svm import SVC\n",
    "parameters = {'C':np.logspace(0.001,10,16)}\n",
    "svc = SVC()\n",
    "gscv = GridSearchCV(svc,parameters,n_jobs=4,cv=5)\n",
    "gscv.fit(X, y)    "
   ]
  },
  {
   "cell_type": "markdown",
   "id": "d218d425",
   "metadata": {},
   "source": [
    "Note how with four CPU cores we actually managed to achieve a 5x increase in speed.\n",
    "\n",
    "\n",
    "### Running on Compute Node\n",
    "\n",
    "\n",
    "As before, let us try running the code on a compute node. \n",
    "\n",
    "First, the default grid search. Because the default use only \n",
    "one CPU core, there is no speed up from having more CPUs:"
   ]
  },
  {
   "cell_type": "code",
   "execution_count": 9,
   "id": "e92967ac",
   "metadata": {},
   "outputs": [
    {
     "name": "stdout",
     "output_type": "stream",
     "text": [
      "Available CPUs: 4\n",
      "Generating 20000 samples...\n",
      "Mode: Default GridSearchCV\n",
      "89.597s\n",
      "Available CPUs: 16\n",
      "Generating 20000 samples...\n",
      "Mode: Default GridSearchCV\n",
      "88.163s\n"
     ]
    }
   ],
   "source": [
    "!compute python ../Examples/speed-up.py gridsearch\n",
    "!compute-16 python ../Examples/speed-up.py gridsearch"
   ]
  },
  {
   "cell_type": "markdown",
   "id": "03cdf525",
   "metadata": {},
   "source": [
    "To make use of the additional CPU cores, we should increase `n_jobs` accordingly:"
   ]
  },
  {
   "cell_type": "code",
   "execution_count": 3,
   "id": "509d72d0",
   "metadata": {
    "scrolled": true
   },
   "outputs": [
    {
     "name": "stdout",
     "output_type": "stream",
     "text": [
      "Available CPUs: 4\n",
      "Generating 20000 samples...\n",
      "Mode: GridSearchCV with n_jobs=4\n",
      "24.863s\n",
      "Available CPUs: 16\n",
      "Generating 20000 samples...\n",
      "Mode: GridSearchCV with n_jobs=16\n",
      "9.221s\n"
     ]
    }
   ],
   "source": [
    "!compute python ../Examples/speed-up.py gridsearch-4\n",
    "!compute-16 python ../Examples/speed-up.py gridsearch-16"
   ]
  },
  {
   "cell_type": "markdown",
   "id": "02b3c6b6",
   "metadata": {},
   "source": [
    "Is it worthwhile to use `sklearnex` with a parallelized `GridSearchCV`? It appears only worthwhile if training is quite time-consuming:"
   ]
  },
  {
   "cell_type": "code",
   "execution_count": 22,
   "id": "eb7345d4",
   "metadata": {
    "scrolled": true
   },
   "outputs": [
    {
     "name": "stdout",
     "output_type": "stream",
     "text": [
      "Available CPUs: 4\n",
      "Generating 20000 samples...\n",
      "Mode: GridSearchCV with n_jobs=4 and Intel Extension for Scikit-learn\n",
      "Intel(R) Extension for Scikit-learn* enabled (https://github.com/intel/scikit-learn-intelex)\n",
      "18.225s\n",
      "Available CPUs: 16\n",
      "Generating 20000 samples...\n",
      "Mode: GridSearchCV with n_jobs=16 and Intel Extension for Scikit-learn\n",
      "Intel(R) Extension for Scikit-learn* enabled (https://github.com/intel/scikit-learn-intelex)\n",
      "12.754s\n"
     ]
    }
   ],
   "source": [
    "# 20K samples. Intel Extension.\n",
    "!compute python ../Examples/speed-up.py gridsearch-4-sklearnex\n",
    "!compute-16 python ../Examples/speed-up.py gridsearch-16-sklearnex"
   ]
  },
  {
   "cell_type": "code",
   "execution_count": 19,
   "id": "701aebc0",
   "metadata": {},
   "outputs": [
    {
     "name": "stdout",
     "output_type": "stream",
     "text": [
      "Available CPUs: 4\n",
      "Generating 50000 samples...\n",
      "Mode: GridSearchCV with n_jobs=4\n",
      "102.673s\n",
      "Available CPUs: 16\n",
      "Generating 50000 samples...\n",
      "Mode: GridSearchCV with n_jobs=16\n",
      "33.389s\n"
     ]
    }
   ],
   "source": [
    "# 50K samples. Default scikit-learn.\n",
    "!compute python ../Examples/speed-up.py -N 50000 gridsearch-4\n",
    "!compute-16 python ../Examples/speed-up.py -N 50000 gridsearch-16"
   ]
  },
  {
   "cell_type": "code",
   "execution_count": 26,
   "id": "539c5828",
   "metadata": {},
   "outputs": [
    {
     "name": "stdout",
     "output_type": "stream",
     "text": [
      "Available CPUs: 4\n",
      "Generating 50000 samples...\n",
      "Mode: GridSearchCV with n_jobs=4 and Intel Extension for Scikit-learn\n",
      "Intel(R) Extension for Scikit-learn* enabled (https://github.com/intel/scikit-learn-intelex)\n",
      "38.576s\n",
      "Available CPUs: 16\n",
      "Generating 50000 samples...\n",
      "Mode: GridSearchCV with n_jobs=16 and Intel Extension for Scikit-learn\n",
      "Intel(R) Extension for Scikit-learn* enabled (https://github.com/intel/scikit-learn-intelex)\n",
      "20.851s\n"
     ]
    }
   ],
   "source": [
    "# 50K samples. Intel Extension.\n",
    "!compute python ../Examples/speed-up.py -N 50000 gridsearch-4-sklearnex\n",
    "!compute-16 python ../Examples/speed-up.py -N 50000 gridsearch-16-sklearnex"
   ]
  },
  {
   "cell_type": "markdown",
   "id": "072fe221",
   "metadata": {},
   "source": [
    "## Multi-Processing\n",
    "\n",
    "Finally, for algorithms that do not have a built-in method to run on multiple CPU cores, \n",
    "we can run multiple copies of identical code with the `multiprocessing` package. \n",
    "We could use this to run, for example, our own implementation of bootstrapping or \n",
    "cross validation.\n",
    "\n",
    "The simpliest way to do so is:\n",
    "1. Define a function that contains code you want to run multiple copies of:\n",
    "```python\n",
    "def f(data):\n",
    "        # Do something\n",
    "        return result\n",
    "```\n",
    "2. Use the following code to run the function:\n",
    "```python\n",
    "with Pool(N) as p:\n",
    "        results = p.map(f,list_of_data)\n",
    "```\n",
    "    - `N` is the number of workers. \n",
    "        - Because workers work concurrently, we typically want to set it to the number of CPU cores.\n",
    "        - The exception is, if the algorithm itself is capable of using\n",
    "        multiple CPU cores, we might want to set the number of workers to\n",
    "        a number smaller than the number of CPU cores.\n",
    "    - `list_of_data` is a list of data. Each element in this list will result in a subtask being created\n",
    "    and executed by a worker.\n",
    "    - `results` is a list that contains the result returned by each subtask.\n",
    "    \n",
    "First, let us trying running four subtasks with one worker:"
   ]
  },
  {
   "cell_type": "code",
   "execution_count": 29,
   "id": "245ed132",
   "metadata": {},
   "outputs": [
    {
     "name": "stdout",
     "output_type": "stream",
     "text": [
      "CPU times: user 8.54 ms, sys: 11.9 ms, total: 20.4 ms\n",
      "Wall time: 14.3 s\n"
     ]
    },
    {
     "data": {
      "text/plain": [
       "[0.99475, 0.9945, 0.99365, 0.99445]"
      ]
     },
     "execution_count": 29,
     "metadata": {},
     "output_type": "execute_result"
    }
   ],
   "source": [
    "%%time \n",
    "\n",
    "from multiprocessing import Pool\n",
    "import numpy as np\n",
    "from sklearn.utils import resample\n",
    "from sklearn.svm import SVC\n",
    "\n",
    "def reg(id):\n",
    "    # Bootstrap data and run SVC\n",
    "    boot_X,boot_y = resample(X,y)\n",
    "    svc = SVC()\n",
    "    svc.fit(boot_X,boot_y)\n",
    "    return svc.score(boot_X,boot_y)\n",
    "\n",
    "# Multiprocessing pool with one worker\n",
    "with Pool(1) as p:\n",
    "    results = p.map(reg,np.arange(4))\n",
    "    \n",
    "results"
   ]
  },
  {
   "cell_type": "markdown",
   "id": "0b0730bd",
   "metadata": {},
   "source": [
    "Now we will run four subtasks with four workers. We should see essentially linear speedup:"
   ]
  },
  {
   "cell_type": "code",
   "execution_count": 30,
   "id": "8f808fc1",
   "metadata": {},
   "outputs": [
    {
     "name": "stdout",
     "output_type": "stream",
     "text": [
      "CPU times: user 4.81 ms, sys: 28 ms, total: 32.8 ms\n",
      "Wall time: 3.93 s\n"
     ]
    },
    {
     "data": {
      "text/plain": [
       "[0.99475, 0.99475, 0.99475, 0.99475]"
      ]
     },
     "execution_count": 30,
     "metadata": {},
     "output_type": "execute_result"
    }
   ],
   "source": [
    "%%time \n",
    "\n",
    "from multiprocessing import Pool\n",
    "import numpy as np\n",
    "from sklearn.utils import resample\n",
    "from sklearn.svm import SVC\n",
    "\n",
    "def reg(id):\n",
    "    # Bootstrap data and run SVC\n",
    "    boot_X,boot_y = resample(X,y)\n",
    "    svc = SVC()\n",
    "    svc.fit(boot_X,boot_y)\n",
    "    return svc.score(boot_X,boot_y)\n",
    "\n",
    "# Multiprocessing pool with four worker\n",
    "with Pool(4) as p:\n",
    "    results = p.map(reg,np.arange(4))\n",
    "    \n",
    "results"
   ]
  }
 ],
 "metadata": {
  "kernelspec": {
   "display_name": "Python 3 (ipykernel)",
   "language": "python",
   "name": "python3"
  },
  "language_info": {
   "codemirror_mode": {
    "name": "ipython",
    "version": 3
   },
   "file_extension": ".py",
   "mimetype": "text/x-python",
   "name": "python",
   "nbconvert_exporter": "python",
   "pygments_lexer": "ipython3",
   "version": "3.8.11"
  },
  "varInspector": {
   "cols": {
    "lenName": 16,
    "lenType": 16,
    "lenVar": 40
   },
   "kernels_config": {
    "python": {
     "delete_cmd_postfix": "",
     "delete_cmd_prefix": "del ",
     "library": "var_list.py",
     "varRefreshCmd": "print(var_dic_list())"
    },
    "r": {
     "delete_cmd_postfix": ") ",
     "delete_cmd_prefix": "rm(",
     "library": "var_list.r",
     "varRefreshCmd": "cat(var_dic_list()) "
    }
   },
   "types_to_exclude": [
    "module",
    "function",
    "builtin_function_or_method",
    "instance",
    "_Feature"
   ],
   "window_display": false
  }
 },
 "nbformat": 4,
 "nbformat_minor": 5
}
