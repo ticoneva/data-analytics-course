{
 "cells": [
  {
   "cell_type": "markdown",
   "metadata": {},
   "source": [
    "# Solving Simultaneous Equations#\n",
    "Solving simultaneous equations with SymPy is very much the same as solving single variate ones. We start with loading the SymPy add-on.  "
   ]
  },
  {
   "cell_type": "code",
   "execution_count": 1,
   "metadata": {
    "collapsed": true
   },
   "outputs": [],
   "source": [
    "#Load SymPy. Press SHIFT-ENTER to run.\n",
    "from sympy import *"
   ]
  },
  {
   "cell_type": "markdown",
   "metadata": {},
   "source": [
    "Notice how we are loading sympy in a way different from the previous \n",
    "exercise. The method we use here allow us to skip specifying the module \n",
    "name when calling the functions. Doing so is convenient, but is not\n",
    "recommended when you import a lot of modules, because different \n",
    "modules might have functions with the same name.\n",
    "\n",
    "Let see how this works. When we declare symbols, we no longer need \n",
    "to type ```sympy.Symbol(...)```, but rather just ```Symbol(...)```."
   ]
  },
  {
   "cell_type": "code",
   "execution_count": 2,
   "metadata": {
    "collapsed": true
   },
   "outputs": [],
   "source": [
    "#Set up symbols x and y.\n",
    "x = Symbol('x')\n",
    "y = Symbol('y')"
   ]
  },
  {
   "cell_type": "markdown",
   "metadata": {},
   "source": [
    "Let's solve $3x+y-9=0$ and $x+2y-8=0$. This is done by \n",
    "passing to ```solve()``` the expressions inside a pair of \n",
    "square brackets ```[]```:\n",
    "```python\n",
    "solve([eq1,eq2,...],x,y,...)\n",
    "```\n"
   ]
  },
  {
   "cell_type": "code",
   "execution_count": 3,
   "metadata": {
    "collapsed": false
   },
   "outputs": [
    {
     "data": {
      "text/plain": [
       "{x: 2, y: 3}"
      ]
     },
     "execution_count": 3,
     "metadata": {},
     "output_type": "execute_result"
    }
   ],
   "source": [
    "#Solving the pair of simultaneous equations. \n",
    "solve([3*x+y-9,x+2*y-8],x,y)"
   ]
  },
  {
   "cell_type": "markdown",
   "metadata": {},
   "source": [
    "Let's try another example. This time we name the symbol ```P``` as *Price* and ```Q``` as *Quantity*.\n"
   ]
  },
  {
   "cell_type": "code",
   "execution_count": 4,
   "metadata": {
    "collapsed": true
   },
   "outputs": [],
   "source": [
    "P = Symbol('P')\n",
    "Q = Symbol('Q')"
   ]
  },
  {
   "cell_type": "markdown",
   "metadata": {},
   "source": [
    "Suppose demand is $Q_D=3-P^2$ and supply is $Q_S=6P-4$. \n",
    "We would like to solve for the market equilibrium.\n",
    "\n",
    "The first step is to rearrange all terms to left of\n",
    "the equation, which gives us\n",
    "- Demand: $Q-3+P^2 = 0$\n",
    "- Supply: $Q-6P+4 = 0$\n",
    "\n",
    "For convenience, we save these mathematical expressions\n",
    "in two variables named *demand* and *supply*."
   ]
  },
  {
   "cell_type": "code",
   "execution_count": 5,
   "metadata": {
    "collapsed": false,
    "scrolled": true
   },
   "outputs": [],
   "source": [
    "#Demand and supply equations\n",
    "Demand = Q - 3 + P**2\n",
    "Supply = Q - 6*P + 4"
   ]
  },
  {
   "cell_type": "markdown",
   "metadata": {},
   "source": [
    "We then solve these two equations and save the solutions\n",
    "to a variable named *result*."
   ]
  },
  {
   "cell_type": "code",
   "execution_count": 6,
   "metadata": {
    "collapsed": false
   },
   "outputs": [
    {
     "name": "stdout",
     "output_type": "stream",
     "text": [
      "[(-7, -46), (1, 2)]\n"
     ]
    }
   ],
   "source": [
    "result = solve([Demand,Supply],P,Q)\n",
    "print(result)"
   ]
  },
  {
   "cell_type": "markdown",
   "metadata": {},
   "source": [
    "A solution with negative price *and* negative quantity \n",
    "does not make a lot of sense. We can use list comprehension \n",
    "to discard all such solutions."
   ]
  },
  {
   "cell_type": "code",
   "execution_count": 8,
   "metadata": {
    "collapsed": false
   },
   "outputs": [
    {
     "name": "stdout",
     "output_type": "stream",
     "text": [
      "[(1, 2)]\n"
     ]
    }
   ],
   "source": [
    "#Reject solutions with negative Price and Quantity\n",
    "positive_result = [e for e in result if e[0]>=0 and e[1]>=0]\n",
    "print(positive_result)"
   ]
  }
 ],
 "metadata": {
  "anaconda-cloud": {},
  "kernelspec": {
   "display_name": "Python [Root]",
   "language": "python",
   "name": "Python [Root]"
  },
  "language_info": {
   "codemirror_mode": {
    "name": "ipython",
    "version": 3
   },
   "file_extension": ".py",
   "mimetype": "text/x-python",
   "name": "python",
   "nbconvert_exporter": "python",
   "pygments_lexer": "ipython3",
   "version": "3.5.2"
  }
 },
 "nbformat": 4,
 "nbformat_minor": 0
}
