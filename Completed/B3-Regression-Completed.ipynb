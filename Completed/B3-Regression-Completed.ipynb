{
 "cells": [
  {
   "cell_type": "markdown",
   "metadata": {},
   "source": [
    "# Regression\n",
    "\n",
    "Version: 2024-9-17\n",
    "\n",
    "In this notebook, we will learn how to run a regression in Python and investigate the effect of regularization. We will be using several Python libraries: ```pandas``` for organizing data, ```statsmodel```, ```scikit-learn``` for analysis and ```numpy``` for calculating mean and standard deviations."
   ]
  },
  {
   "cell_type": "code",
   "execution_count": 1,
   "metadata": {},
   "outputs": [],
   "source": [
    "import pandas as pd #organize data\n",
    "import numpy as np #calculate mean and standard deviation"
   ]
  },
  {
   "cell_type": "markdown",
   "metadata": {},
   "source": [
    "### A. Loading Data\n",
    "\n",
    "We first load the data we need. ```auto.csv``` contains the information of 74 vehicle models from 1978. We can load it with panda's ```read_csv()``` method:"
   ]
  },
  {
   "cell_type": "code",
   "execution_count": 2,
   "metadata": {},
   "outputs": [],
   "source": [
    "# Load data. Specify the full path if your data \n",
    "# is not in the same directory as the notebook\n",
    "auto = pd.read_csv(\"../Data/auto.csv\")"
   ]
  },
  {
   "cell_type": "markdown",
   "metadata": {},
   "source": [
    "We can fetch columns just like if we are using a dictionary:"
   ]
  },
  {
   "cell_type": "code",
   "execution_count": 3,
   "metadata": {},
   "outputs": [
    {
     "data": {
      "text/html": [
       "<div>\n",
       "<style scoped>\n",
       "    .dataframe tbody tr th:only-of-type {\n",
       "        vertical-align: middle;\n",
       "    }\n",
       "\n",
       "    .dataframe tbody tr th {\n",
       "        vertical-align: top;\n",
       "    }\n",
       "\n",
       "    .dataframe thead th {\n",
       "        text-align: right;\n",
       "    }\n",
       "</style>\n",
       "<table border=\"1\" class=\"dataframe\">\n",
       "  <thead>\n",
       "    <tr style=\"text-align: right;\">\n",
       "      <th></th>\n",
       "      <th>price</th>\n",
       "    </tr>\n",
       "  </thead>\n",
       "  <tbody>\n",
       "    <tr>\n",
       "      <th>0</th>\n",
       "      <td>4099</td>\n",
       "    </tr>\n",
       "    <tr>\n",
       "      <th>1</th>\n",
       "      <td>4749</td>\n",
       "    </tr>\n",
       "    <tr>\n",
       "      <th>2</th>\n",
       "      <td>3799</td>\n",
       "    </tr>\n",
       "    <tr>\n",
       "      <th>3</th>\n",
       "      <td>4816</td>\n",
       "    </tr>\n",
       "    <tr>\n",
       "      <th>4</th>\n",
       "      <td>7827</td>\n",
       "    </tr>\n",
       "    <tr>\n",
       "      <th>...</th>\n",
       "      <td>...</td>\n",
       "    </tr>\n",
       "    <tr>\n",
       "      <th>69</th>\n",
       "      <td>7140</td>\n",
       "    </tr>\n",
       "    <tr>\n",
       "      <th>70</th>\n",
       "      <td>5397</td>\n",
       "    </tr>\n",
       "    <tr>\n",
       "      <th>71</th>\n",
       "      <td>4697</td>\n",
       "    </tr>\n",
       "    <tr>\n",
       "      <th>72</th>\n",
       "      <td>6850</td>\n",
       "    </tr>\n",
       "    <tr>\n",
       "      <th>73</th>\n",
       "      <td>11995</td>\n",
       "    </tr>\n",
       "  </tbody>\n",
       "</table>\n",
       "<p>74 rows × 1 columns</p>\n",
       "</div>"
      ],
      "text/plain": [
       "    price\n",
       "0    4099\n",
       "1    4749\n",
       "2    3799\n",
       "3    4816\n",
       "4    7827\n",
       "..    ...\n",
       "69   7140\n",
       "70   5397\n",
       "71   4697\n",
       "72   6850\n",
       "73  11995\n",
       "\n",
       "[74 rows x 1 columns]"
      ]
     },
     "execution_count": 3,
     "metadata": {},
     "output_type": "execute_result"
    }
   ],
   "source": [
    "# Fetch a column\n",
    "auto[[\"price\"]]"
   ]
  },
  {
   "cell_type": "code",
   "execution_count": 4,
   "metadata": {},
   "outputs": [
    {
     "data": {
      "text/html": [
       "<div>\n",
       "<style scoped>\n",
       "    .dataframe tbody tr th:only-of-type {\n",
       "        vertical-align: middle;\n",
       "    }\n",
       "\n",
       "    .dataframe tbody tr th {\n",
       "        vertical-align: top;\n",
       "    }\n",
       "\n",
       "    .dataframe thead th {\n",
       "        text-align: right;\n",
       "    }\n",
       "</style>\n",
       "<table border=\"1\" class=\"dataframe\">\n",
       "  <thead>\n",
       "    <tr style=\"text-align: right;\">\n",
       "      <th></th>\n",
       "      <th>price</th>\n",
       "      <th>mpg</th>\n",
       "    </tr>\n",
       "  </thead>\n",
       "  <tbody>\n",
       "    <tr>\n",
       "      <th>0</th>\n",
       "      <td>4099</td>\n",
       "      <td>22</td>\n",
       "    </tr>\n",
       "    <tr>\n",
       "      <th>1</th>\n",
       "      <td>4749</td>\n",
       "      <td>17</td>\n",
       "    </tr>\n",
       "    <tr>\n",
       "      <th>2</th>\n",
       "      <td>3799</td>\n",
       "      <td>22</td>\n",
       "    </tr>\n",
       "    <tr>\n",
       "      <th>3</th>\n",
       "      <td>4816</td>\n",
       "      <td>20</td>\n",
       "    </tr>\n",
       "    <tr>\n",
       "      <th>4</th>\n",
       "      <td>7827</td>\n",
       "      <td>15</td>\n",
       "    </tr>\n",
       "    <tr>\n",
       "      <th>...</th>\n",
       "      <td>...</td>\n",
       "      <td>...</td>\n",
       "    </tr>\n",
       "    <tr>\n",
       "      <th>69</th>\n",
       "      <td>7140</td>\n",
       "      <td>23</td>\n",
       "    </tr>\n",
       "    <tr>\n",
       "      <th>70</th>\n",
       "      <td>5397</td>\n",
       "      <td>41</td>\n",
       "    </tr>\n",
       "    <tr>\n",
       "      <th>71</th>\n",
       "      <td>4697</td>\n",
       "      <td>25</td>\n",
       "    </tr>\n",
       "    <tr>\n",
       "      <th>72</th>\n",
       "      <td>6850</td>\n",
       "      <td>25</td>\n",
       "    </tr>\n",
       "    <tr>\n",
       "      <th>73</th>\n",
       "      <td>11995</td>\n",
       "      <td>17</td>\n",
       "    </tr>\n",
       "  </tbody>\n",
       "</table>\n",
       "<p>74 rows × 2 columns</p>\n",
       "</div>"
      ],
      "text/plain": [
       "    price  mpg\n",
       "0    4099   22\n",
       "1    4749   17\n",
       "2    3799   22\n",
       "3    4816   20\n",
       "4    7827   15\n",
       "..    ...  ...\n",
       "69   7140   23\n",
       "70   5397   41\n",
       "71   4697   25\n",
       "72   6850   25\n",
       "73  11995   17\n",
       "\n",
       "[74 rows x 2 columns]"
      ]
     },
     "execution_count": 4,
     "metadata": {},
     "output_type": "execute_result"
    }
   ],
   "source": [
    "# See more than one columns\n",
    "auto[[\"price\",\"mpg\"]]"
   ]
  },
  {
   "cell_type": "markdown",
   "metadata": {},
   "source": [
    "By default ```pandas``` returns a lot of rows. If you just want to get an idea how the data looks lke, it might be useful just to fetch a few rows from the top or the bottom of the data:"
   ]
  },
  {
   "cell_type": "code",
   "execution_count": 5,
   "metadata": {},
   "outputs": [
    {
     "name": "stdout",
     "output_type": "stream",
     "text": [
      "   price  mpg\n",
      "0   4099   22\n",
      "1   4749   17\n",
      "2   3799   22\n",
      "3   4816   20\n",
      "4   7827   15\n",
      "    price  mpg\n",
      "69   7140   23\n",
      "70   5397   41\n",
      "71   4697   25\n",
      "72   6850   25\n",
      "73  11995   17\n"
     ]
    }
   ],
   "source": [
    "print(auto[[\"price\",\"mpg\"]].head()) #top\n",
    "print(auto[[\"price\",\"mpg\"]].tail()) #bottom"
   ]
  },
  {
   "cell_type": "markdown",
   "metadata": {},
   "source": [
    "### B. Ordinary Least Squares Regression\n",
    "\n",
    "Now that we have data, we can run a simple **Ordinary Least Squares** (OLS) regression. \n",
    "\n",
    "\n",
    "Let $y_i$ be the target/dependent variable and \n",
    "$x_i$ a vector of features/independent variables of observation $i$.\n",
    "OLS have the following objective function:\n",
    "$$\n",
    "\\min_{a, \\beta}{\\sum_{i}{[y_i-(a+x_i\\beta)]}}\n",
    "$$\n",
    "$a$ is called the *intecept* and $\\beta$ *coefficients*. These are parameters that needs to be estimated by the model."
   ]
  },
  {
   "cell_type": "markdown",
   "metadata": {},
   "source": [
    "OLS is common enough that it is included in more than one library. The choices are:\n",
    "- ```statsmodels.api.OLS```: formatted output, statistics\n",
    "- ```sklearn.linear_model.LinearRegression```: no output, machine learning"
   ]
  },
  {
   "cell_type": "markdown",
   "metadata": {},
   "source": [
    "```Statsmodel``` gives formatted statistical output:"
   ]
  },
  {
   "cell_type": "code",
   "execution_count": 6,
   "metadata": {},
   "outputs": [
    {
     "data": {
      "text/html": [
       "<table class=\"simpletable\">\n",
       "<caption>OLS Regression Results</caption>\n",
       "<tr>\n",
       "  <th>Dep. Variable:</th>          <td>price</td>      <th>  R-squared:         </th> <td>   0.293</td>\n",
       "</tr>\n",
       "<tr>\n",
       "  <th>Model:</th>                   <td>OLS</td>       <th>  Adj. R-squared:    </th> <td>   0.273</td>\n",
       "</tr>\n",
       "<tr>\n",
       "  <th>Method:</th>             <td>Least Squares</td>  <th>  F-statistic:       </th> <td>   14.74</td>\n",
       "</tr>\n",
       "<tr>\n",
       "  <th>Date:</th>             <td>Thu, 22 Sep 2022</td> <th>  Prob (F-statistic):</th> <td>4.42e-06</td>\n",
       "</tr>\n",
       "<tr>\n",
       "  <th>Time:</th>                 <td>14:04:14</td>     <th>  Log-Likelihood:    </th> <td> -682.86</td>\n",
       "</tr>\n",
       "<tr>\n",
       "  <th>No. Observations:</th>      <td>    74</td>      <th>  AIC:               </th> <td>   1372.</td>\n",
       "</tr>\n",
       "<tr>\n",
       "  <th>Df Residuals:</th>          <td>    71</td>      <th>  BIC:               </th> <td>   1379.</td>\n",
       "</tr>\n",
       "<tr>\n",
       "  <th>Df Model:</th>              <td>     2</td>      <th>                     </th>     <td> </td>   \n",
       "</tr>\n",
       "<tr>\n",
       "  <th>Covariance Type:</th>      <td>nonrobust</td>    <th>                     </th>     <td> </td>   \n",
       "</tr>\n",
       "</table>\n",
       "<table class=\"simpletable\">\n",
       "<tr>\n",
       "     <td></td>       <th>coef</th>     <th>std err</th>      <th>t</th>      <th>P>|t|</th>  <th>[0.025</th>    <th>0.975]</th>  \n",
       "</tr>\n",
       "<tr>\n",
       "  <th>const</th>  <td> 1946.0687</td> <td> 3597.050</td> <td>    0.541</td> <td> 0.590</td> <td>-5226.245</td> <td> 9118.382</td>\n",
       "</tr>\n",
       "<tr>\n",
       "  <th>mpg</th>    <td>  -49.5122</td> <td>   86.156</td> <td>   -0.575</td> <td> 0.567</td> <td> -221.302</td> <td>  122.278</td>\n",
       "</tr>\n",
       "<tr>\n",
       "  <th>weight</th> <td>    1.7466</td> <td>    0.641</td> <td>    2.723</td> <td> 0.008</td> <td>    0.468</td> <td>    3.025</td>\n",
       "</tr>\n",
       "</table>\n",
       "<table class=\"simpletable\">\n",
       "<tr>\n",
       "  <th>Omnibus:</th>       <td>13.514</td> <th>  Durbin-Watson:     </th> <td>   1.108</td>\n",
       "</tr>\n",
       "<tr>\n",
       "  <th>Prob(Omnibus):</th> <td> 0.001</td> <th>  Jarque-Bera (JB):  </th> <td>  14.723</td>\n",
       "</tr>\n",
       "<tr>\n",
       "  <th>Skew:</th>          <td> 1.055</td> <th>  Prob(JB):          </th> <td>0.000635</td>\n",
       "</tr>\n",
       "<tr>\n",
       "  <th>Kurtosis:</th>      <td> 3.567</td> <th>  Cond. No.          </th> <td>3.84e+04</td>\n",
       "</tr>\n",
       "</table><br/><br/>Notes:<br/>[1] Standard Errors assume that the covariance matrix of the errors is correctly specified.<br/>[2] The condition number is large, 3.84e+04. This might indicate that there are<br/>strong multicollinearity or other numerical problems."
      ],
      "text/plain": [
       "<class 'statsmodels.iolib.summary.Summary'>\n",
       "\"\"\"\n",
       "                            OLS Regression Results                            \n",
       "==============================================================================\n",
       "Dep. Variable:                  price   R-squared:                       0.293\n",
       "Model:                            OLS   Adj. R-squared:                  0.273\n",
       "Method:                 Least Squares   F-statistic:                     14.74\n",
       "Date:                Thu, 22 Sep 2022   Prob (F-statistic):           4.42e-06\n",
       "Time:                        14:04:14   Log-Likelihood:                -682.86\n",
       "No. Observations:                  74   AIC:                             1372.\n",
       "Df Residuals:                      71   BIC:                             1379.\n",
       "Df Model:                           2                                         \n",
       "Covariance Type:            nonrobust                                         \n",
       "==============================================================================\n",
       "                 coef    std err          t      P>|t|      [0.025      0.975]\n",
       "------------------------------------------------------------------------------\n",
       "const       1946.0687   3597.050      0.541      0.590   -5226.245    9118.382\n",
       "mpg          -49.5122     86.156     -0.575      0.567    -221.302     122.278\n",
       "weight         1.7466      0.641      2.723      0.008       0.468       3.025\n",
       "==============================================================================\n",
       "Omnibus:                       13.514   Durbin-Watson:                   1.108\n",
       "Prob(Omnibus):                  0.001   Jarque-Bera (JB):               14.723\n",
       "Skew:                           1.055   Prob(JB):                     0.000635\n",
       "Kurtosis:                       3.567   Cond. No.                     3.84e+04\n",
       "==============================================================================\n",
       "\n",
       "Notes:\n",
       "[1] Standard Errors assume that the covariance matrix of the errors is correctly specified.\n",
       "[2] The condition number is large, 3.84e+04. This might indicate that there are\n",
       "strong multicollinearity or other numerical problems.\n",
       "\"\"\""
      ]
     },
     "execution_count": 6,
     "metadata": {},
     "output_type": "execute_result"
    }
   ],
   "source": [
    "# statsmodel OLS\n",
    "import statsmodels.api as sm\n",
    "\n",
    "# statsmodel does not add the constant by default, so add manually\n",
    "results = sm.OLS(auto[\"price\"],\n",
    "                 sm.add_constant(auto[[\"mpg\",\"weight\"]])).fit()\n",
    "results.summary()"
   ]
  },
  {
   "cell_type": "markdown",
   "metadata": {},
   "source": [
    "Train a model in ```scikit-learn```:"
   ]
  },
  {
   "cell_type": "code",
   "execution_count": 7,
   "metadata": {},
   "outputs": [
    {
     "data": {
      "text/html": [
       "<style>#sk-container-id-1 {color: black;background-color: white;}#sk-container-id-1 pre{padding: 0;}#sk-container-id-1 div.sk-toggleable {background-color: white;}#sk-container-id-1 label.sk-toggleable__label {cursor: pointer;display: block;width: 100%;margin-bottom: 0;padding: 0.3em;box-sizing: border-box;text-align: center;}#sk-container-id-1 label.sk-toggleable__label-arrow:before {content: \"▸\";float: left;margin-right: 0.25em;color: #696969;}#sk-container-id-1 label.sk-toggleable__label-arrow:hover:before {color: black;}#sk-container-id-1 div.sk-estimator:hover label.sk-toggleable__label-arrow:before {color: black;}#sk-container-id-1 div.sk-toggleable__content {max-height: 0;max-width: 0;overflow: hidden;text-align: left;background-color: #f0f8ff;}#sk-container-id-1 div.sk-toggleable__content pre {margin: 0.2em;color: black;border-radius: 0.25em;background-color: #f0f8ff;}#sk-container-id-1 input.sk-toggleable__control:checked~div.sk-toggleable__content {max-height: 200px;max-width: 100%;overflow: auto;}#sk-container-id-1 input.sk-toggleable__control:checked~label.sk-toggleable__label-arrow:before {content: \"▾\";}#sk-container-id-1 div.sk-estimator input.sk-toggleable__control:checked~label.sk-toggleable__label {background-color: #d4ebff;}#sk-container-id-1 div.sk-label input.sk-toggleable__control:checked~label.sk-toggleable__label {background-color: #d4ebff;}#sk-container-id-1 input.sk-hidden--visually {border: 0;clip: rect(1px 1px 1px 1px);clip: rect(1px, 1px, 1px, 1px);height: 1px;margin: -1px;overflow: hidden;padding: 0;position: absolute;width: 1px;}#sk-container-id-1 div.sk-estimator {font-family: monospace;background-color: #f0f8ff;border: 1px dotted black;border-radius: 0.25em;box-sizing: border-box;margin-bottom: 0.5em;}#sk-container-id-1 div.sk-estimator:hover {background-color: #d4ebff;}#sk-container-id-1 div.sk-parallel-item::after {content: \"\";width: 100%;border-bottom: 1px solid gray;flex-grow: 1;}#sk-container-id-1 div.sk-label:hover label.sk-toggleable__label {background-color: #d4ebff;}#sk-container-id-1 div.sk-serial::before {content: \"\";position: absolute;border-left: 1px solid gray;box-sizing: border-box;top: 0;bottom: 0;left: 50%;z-index: 0;}#sk-container-id-1 div.sk-serial {display: flex;flex-direction: column;align-items: center;background-color: white;padding-right: 0.2em;padding-left: 0.2em;position: relative;}#sk-container-id-1 div.sk-item {position: relative;z-index: 1;}#sk-container-id-1 div.sk-parallel {display: flex;align-items: stretch;justify-content: center;background-color: white;position: relative;}#sk-container-id-1 div.sk-item::before, #sk-container-id-1 div.sk-parallel-item::before {content: \"\";position: absolute;border-left: 1px solid gray;box-sizing: border-box;top: 0;bottom: 0;left: 50%;z-index: -1;}#sk-container-id-1 div.sk-parallel-item {display: flex;flex-direction: column;z-index: 1;position: relative;background-color: white;}#sk-container-id-1 div.sk-parallel-item:first-child::after {align-self: flex-end;width: 50%;}#sk-container-id-1 div.sk-parallel-item:last-child::after {align-self: flex-start;width: 50%;}#sk-container-id-1 div.sk-parallel-item:only-child::after {width: 0;}#sk-container-id-1 div.sk-dashed-wrapped {border: 1px dashed gray;margin: 0 0.4em 0.5em 0.4em;box-sizing: border-box;padding-bottom: 0.4em;background-color: white;}#sk-container-id-1 div.sk-label label {font-family: monospace;font-weight: bold;display: inline-block;line-height: 1.2em;}#sk-container-id-1 div.sk-label-container {text-align: center;}#sk-container-id-1 div.sk-container {/* jupyter's `normalize.less` sets `[hidden] { display: none; }` but bootstrap.min.css set `[hidden] { display: none !important; }` so we also need the `!important` here to be able to override the default hidden behavior on the sphinx rendered scikit-learn.org. See: https://github.com/scikit-learn/scikit-learn/issues/21755 */display: inline-block !important;position: relative;}#sk-container-id-1 div.sk-text-repr-fallback {display: none;}</style><div id=\"sk-container-id-1\" class=\"sk-top-container\"><div class=\"sk-text-repr-fallback\"><pre>LinearRegression()</pre><b>In a Jupyter environment, please rerun this cell to show the HTML representation or trust the notebook. <br />On GitHub, the HTML representation is unable to render, please try loading this page with nbviewer.org.</b></div><div class=\"sk-container\" hidden><div class=\"sk-item\"><div class=\"sk-estimator sk-toggleable\"><input class=\"sk-toggleable__control sk-hidden--visually\" id=\"sk-estimator-id-1\" type=\"checkbox\" checked><label for=\"sk-estimator-id-1\" class=\"sk-toggleable__label sk-toggleable__label-arrow\">LinearRegression</label><div class=\"sk-toggleable__content\"><pre>LinearRegression()</pre></div></div></div></div></div>"
      ],
      "text/plain": [
       "LinearRegression()"
      ]
     },
     "execution_count": 7,
     "metadata": {},
     "output_type": "execute_result"
    }
   ],
   "source": [
    "from sklearn.linear_model import LinearRegression\n",
    "\n",
    "ols = LinearRegression()\n",
    "ols.fit(auto[[\"mpg\",\"weight\"]],auto[\"price\"])"
   ]
  },
  {
   "cell_type": "markdown",
   "metadata": {},
   "source": [
    "What we did above is common to all ```scikit-learn``` models:\n",
    "1. Specify the model we need.\n",
    "2. Train the model with ```fit()```.\n",
    "\n",
    "To get an idea how well the model does we can use the ```score()``` method.\n",
    "For regressions this returns the $R^2$ statistic:"
   ]
  },
  {
   "cell_type": "code",
   "execution_count": 8,
   "metadata": {
    "scrolled": true
   },
   "outputs": [
    {
     "data": {
      "text/plain": [
       "0.29338912319475285"
      ]
     },
     "execution_count": 8,
     "metadata": {},
     "output_type": "execute_result"
    }
   ],
   "source": [
    "# R-squared\n",
    "ols.score(auto[[\"mpg\",\"weight\"]],auto[\"price\"])"
   ]
  },
  {
   "cell_type": "markdown",
   "metadata": {},
   "source": [
    "Fitted values can be obtained by calling ```predict()```:"
   ]
  },
  {
   "cell_type": "code",
   "execution_count": 9,
   "metadata": {},
   "outputs": [
    {
     "name": "stderr",
     "output_type": "stream",
     "text": [
      "/opt/network/anaconda3/lib/python3.9/site-packages/sklearn/base.py:450: UserWarning: X does not have valid feature names, but LinearRegression was fitted with feature names\n",
      "  warnings.warn(\n"
     ]
    },
    {
     "data": {
      "text/plain": [
       "array([4944.06477799])"
      ]
     },
     "execution_count": 9,
     "metadata": {},
     "output_type": "execute_result"
    }
   ],
   "source": [
    "# Predict the price of a car with mpg of 10 and weight of 2000\n",
    "ols.predict([[10,2000]])"
   ]
  },
  {
   "cell_type": "markdown",
   "metadata": {},
   "source": [
    "The warning is due to us training the model with data that comes with feature names, but now we try to provide it with a new sample that comes without. To get rid of the warning, we can always provide feature names, or never provide them."
   ]
  },
  {
   "cell_type": "code",
   "execution_count": 10,
   "metadata": {},
   "outputs": [
    {
     "data": {
      "text/plain": [
       "array([[4944.06477799]])"
      ]
     },
     "execution_count": 10,
     "metadata": {},
     "output_type": "execute_result"
    }
   ],
   "source": [
    "# Option 1: always provide feature names by using dataframes throughout\n",
    "ols.fit(auto[[\"mpg\",\"weight\"]],auto[[\"price\"]])\n",
    "df = pd.DataFrame([[10,2000]],columns=[\"mpg\",\"weight\"])\n",
    "ols.predict(df)"
   ]
  },
  {
   "cell_type": "code",
   "execution_count": 11,
   "metadata": {},
   "outputs": [
    {
     "data": {
      "text/plain": [
       "array([[4944.06477799]])"
      ]
     },
     "execution_count": 11,
     "metadata": {},
     "output_type": "execute_result"
    }
   ],
   "source": [
    "# Option 2: never provide feature names by using values throughout\n",
    "ols.fit(auto[[\"mpg\",\"weight\"]].values,auto[[\"price\"]])\n",
    "ols.predict([[10,2000]])"
   ]
  },
  {
   "cell_type": "markdown",
   "metadata": {},
   "source": [
    "As a machine-learning library, ```scikit-learn``` makes it very easy to build models by hiding a lot of the details behind the background. Here is how to fetch the regression coefficients:"
   ]
  },
  {
   "cell_type": "code",
   "execution_count": 12,
   "metadata": {
    "scrolled": true
   },
   "outputs": [
    {
     "name": "stdout",
     "output_type": "stream",
     "text": [
      "Coefficients: [[-49.51222067   1.74655916]]\n",
      "Intecept: [1946.06866796]\n"
     ]
    }
   ],
   "source": [
    "# Coefficients\n",
    "print(\"Coefficients:\",ols.coef_)\n",
    "print(\"Intecept:\",ols.intercept_)"
   ]
  },
  {
   "cell_type": "markdown",
   "metadata": {},
   "source": [
    "The problem with using OLS as a predictive model is that its predictions have very high variance, meaning that predictions vary significantly across models trained with different samples.\n",
    "\n",
    "To see this, we will:\n",
    "1. Repeatedly draw samples of data.\n",
    "2. Train the model.\n",
    "3. Make predictions base on the model.\n",
    "4. Calculate the mean and standard deviation of predictions from different samples."
   ]
  },
  {
   "cell_type": "code",
   "execution_count": 13,
   "metadata": {},
   "outputs": [
    {
     "name": "stdout",
     "output_type": "stream",
     "text": [
      "Mean of predictions: 6308.235015598306\n",
      "S.D. of predictions: 4816.599594894569\n"
     ]
    }
   ],
   "source": [
    "from sklearn.utils import resample #for resampling\n",
    "\n",
    "# Whole data\n",
    "x_pop = auto[[\"mpg\",\"weight\"]]\n",
    "y_pop = auto[\"price\"]\n",
    "\n",
    "# Empty list to contain predictions\n",
    "predict_list = []\n",
    "\n",
    "# Draw random samples and fit model for 30 times\n",
    "for i in range(30):\n",
    "    \n",
    "    # Draw 20 random samples\n",
    "    y,x = resample(y_pop,x_pop,n_samples=20) \n",
    "    model = LinearRegression() #OLS\n",
    "    model.fit(x.values,y)\n",
    "    \n",
    "    xb = model.predict([[10,2000]]) #Predict price\n",
    "    predict_list.append(xb) #Append the predicted price to predict_list \n",
    "\n",
    "print(\"Mean of predictions:\", np.mean(predict_list)) #mean of predictions    \n",
    "print(\"S.D. of predictions:\", np.std(predict_list)) #standard deviation of predictions\n"
   ]
  },
  {
   "cell_type": "markdown",
   "metadata": {},
   "source": [
    "### C. Regularized Regression"
   ]
  },
  {
   "cell_type": "markdown",
   "metadata": {},
   "source": [
    "**Ridge Regression** have the following objective function:\n",
    "$$\n",
    "\\min_{a, \\beta}{\\left\\{ \\sum_{i}{[y_i-(a+x_i\\beta)]}+\\alpha \\sum_{k}{\\beta_k^2} \\right\\} }\n",
    "$$\n",
    "$\\alpha$ is the strength of regularization. All else equal, higher $\\alpha$ would result in smaller coefficients.\n",
    "\n",
    "Scikit-learn's ridge regression is ```Ridge()```. Play around with different values of ```alpha```&mdash;e.g. 50, 5000, 5000000&mdash;and see how the estimated coefficients change."
   ]
  },
  {
   "cell_type": "code",
   "execution_count": 14,
   "metadata": {},
   "outputs": [
    {
     "name": "stdout",
     "output_type": "stream",
     "text": [
      "Coefficients: [-7.21498025  2.00048319]\n",
      "Intecept: 278.5384537611908\n"
     ]
    }
   ],
   "source": [
    "from sklearn.linear_model import Ridge\n",
    "\n",
    "# Run a ridge regression\n",
    "ridge = Ridge(alpha=5000)\n",
    "ridge.fit(auto[[\"mpg\",\"weight\"]],auto[\"price\"])\n",
    "\n",
    "# Coefficients\n",
    "print(\"Coefficients:\",ridge.coef_)\n",
    "print(\"Intecept:\",ridge.intercept_)"
   ]
  },
  {
   "cell_type": "markdown",
   "metadata": {},
   "source": [
    "**Lasso Regression** have the following objective function:\n",
    "$$\n",
    "\\min_{a, \\beta}{\\left\\{ \\sum_{i}{[y_i-(a+x_i\\beta)]}+\\alpha \\sum_{k}{\\left|\\beta_k\\right|} \\right\\} }\n",
    "$$\n",
    "$\\alpha$ is the strength of regularization. All else equal, higher $\\alpha$ would result more coefficients becoming zero. As before, play around with ```alpha``` to get an idea of how the coefficients change."
   ]
  },
  {
   "cell_type": "code",
   "execution_count": 15,
   "metadata": {},
   "outputs": [
    {
     "name": "stdout",
     "output_type": "stream",
     "text": [
      "Coefficients: [-0.          2.03567146]\n",
      "Intecept: 18.629324665401327\n"
     ]
    }
   ],
   "source": [
    "from sklearn.linear_model import Lasso \n",
    "\n",
    "# Run a lasso regression\n",
    "lasso = Lasso(alpha=5000)\n",
    "lasso.fit(auto[[\"mpg\",\"weight\"]],auto[\"price\"])\n",
    "\n",
    "# Coefficients\n",
    "print(\"Coefficients:\",lasso.coef_)\n",
    "print(\"Intecept:\",lasso.intercept_)"
   ]
  },
  {
   "cell_type": "markdown",
   "metadata": {},
   "source": [
    "### D. Standardizing Data\n",
    "\n",
    "Because regularization penalizes large coefficients, standardizing data is usually necessary, otherwise variables with small units of measure&mdash;thus large coefficients&mdash;will get unfairly penalized."
   ]
  },
  {
   "cell_type": "code",
   "execution_count": 17,
   "metadata": {},
   "outputs": [
    {
     "name": "stdout",
     "output_type": "stream",
     "text": [
      "Coefficients: [-257.04604023 1320.38067856]\n",
      "Intecept: 6165.256756756757\n"
     ]
    }
   ],
   "source": [
    "from sklearn.linear_model import Lasso \n",
    "from sklearn.preprocessing import StandardScaler\n",
    "from sklearn.pipeline import Pipeline\n",
    "\n",
    "# Run a lasso regression after standardizing data\n",
    "scaler = StandardScaler()\n",
    "lasso = Lasso(alpha=50)\n",
    "lasso_pipe = Pipeline(steps=[(\"scaler\", scaler),\n",
    "                       (\"lasso\", lasso)])\n",
    "lasso_pipe.fit(auto[[\"mpg\",\"weight\"]],auto[\"price\"])\n",
    "\n",
    "# Coefficients\n",
    "print(\"Coefficients:\",lasso_pipe[\"lasso\"].coef_)\n",
    "print(\"Intecept:\",lasso_pipe[\"lasso\"].intercept_)"
   ]
  },
  {
   "cell_type": "markdown",
   "metadata": {},
   "source": [
    "### E. Regularized vs Non-Regularized: Coefficient Estimates\n",
    "\n",
    "For a more systematic examination, let us pick a list of regularization strengths and use a loop to run the three types of regressions. We will store the estimated coefficients and plot them in two diagrams with the ```matplotlib``` library."
   ]
  },
  {
   "cell_type": "code",
   "execution_count": 19,
   "metadata": {},
   "outputs": [
    {
     "data": {
      "text/plain": [
       "<matplotlib.legend.Legend at 0x7f0dbea94c40>"
      ]
     },
     "execution_count": 19,
     "metadata": {},
     "output_type": "execute_result"
    },
    {
     "data": {
      "image/png": "[encoded data removed]",
      "text/plain": [
       "<Figure size 720x360 with 2 Axes>"
      ]
     },
     "metadata": {
      "needs_background": "light"
     },
     "output_type": "display_data"
    }
   ],
   "source": [
    "# Alphas to go through\n",
    "alphas = [0.1,1,5,50,500,5000,50000,500000,5000000,50000000]\n",
    "\n",
    "# Empty lists to store coefficients\n",
    "mpg_ols = []\n",
    "mpg_ridge = [] \n",
    "mpg_lasso = []\n",
    "weight_ols = []\n",
    "weight_ridge = []\n",
    "weight_lasso = []\n",
    "\n",
    "# Run regressions for each alpha and save coefficients \n",
    "for a in alphas:\n",
    "    # OLS\n",
    "    scaler = StandardScaler()\n",
    "    ols = LinearRegression()\n",
    "    ols_pipe = Pipeline(steps=[(\"scaler\",scaler),\n",
    "                               (\"ols\",ols)])\n",
    "    ols_pipe.fit(auto[[\"mpg\",\"weight\"]],auto[\"price\"])\n",
    "    mpg_ols.append(ols_pipe[\"ols\"].coef_[0]) #Append coef. of mpg to list mpg_ols\n",
    "    weight_ols.append(ols_pipe[\"ols\"].coef_[1]) #Append coef. of weight to list weight_ols\n",
    "    \n",
    "    # Ridge\n",
    "    scaler1 = StandardScaler()\n",
    "    ridge = Ridge(alpha=a)\n",
    "    ridge_pipe = Pipeline(steps=[(\"scaler\", scaler1),\n",
    "                                 (\"ridge\", ridge)])\n",
    "    ridge_pipe.fit(auto[[\"mpg\",\"weight\"]],auto[\"price\"])\n",
    "    mpg_ridge.append(ridge_pipe[\"ridge\"].coef_[0])\n",
    "    weight_ridge.append(ridge_pipe[\"ridge\"].coef_[1])\n",
    "    \n",
    "    # Lasso\n",
    "    scaler2 = StandardScaler()\n",
    "    lasso = Lasso(alpha=a)\n",
    "    lasso_pipe = Pipeline(steps=[(\"scaler\", scaler2),\n",
    "                                 (\"lasso\", lasso)])\n",
    "    lasso_pipe.fit(auto[[\"mpg\",\"weight\"]],auto[\"price\"])\n",
    "    mpg_lasso.append(lasso_pipe[\"lasso\"].coef_[0])\n",
    "    weight_lasso.append(lasso_pipe[\"lasso\"].coef_[1])\n",
    "    \n",
    "# Import library for graphing    \n",
    "%matplotlib inline\n",
    "import matplotlib.pyplot as plt\n",
    "\n",
    "# Plot mpg graph\n",
    "fig, (gm, gw) = plt.subplots(ncols=2,figsize=(10,5))\n",
    "gm.set_title(\"mpg\")\n",
    "gm.set_ylabel(\"estimated coefficient\")\n",
    "gm.set_xlabel(\"alpha\")\n",
    "gm.set_xscale(\"log\")\n",
    "gm.plot(alphas, mpg_ols, label='OLS')\n",
    "gm.plot(alphas, mpg_ridge, label='Ridge')\n",
    "gm.plot(alphas, mpg_lasso, label='Lasso')\n",
    "gm.legend(loc=0)\n",
    "\n",
    "# Plot weight graph\n",
    "gw.set_title(\"weight\")\n",
    "gw.set_ylabel(\"estimated coefficient\")\n",
    "gw.set_xlabel(\"alpha\")\n",
    "gw.set_xscale(\"log\")\n",
    "gw.plot(alphas, weight_ols, label='OLS')\n",
    "gw.plot(alphas, weight_ridge, label='Ridge')\n",
    "gw.plot(alphas, weight_lasso, label='Lasso')\n",
    "gw.legend(loc=0)"
   ]
  },
  {
   "cell_type": "markdown",
   "metadata": {},
   "source": [
    "### F. Regularized vs Non-Regularized: Prediction Variance\n",
    "\n",
    "How does the regularized regressions help with the problem of variance? To investigate, we will repeat what we did previously:\n",
    "1. Repeatedly draw samples of data.\n",
    "2. Train various models.\n",
    "3. Make predictions base on the models.\n",
    "4. Calculate the mean and standard deviation of predictions from different models and different samples.\n",
    "\n",
    "For ridge and lasso, we additionally need to try different values of alpha."
   ]
  },
  {
   "cell_type": "code",
   "execution_count": 20,
   "metadata": {},
   "outputs": [
    {
     "data": {
      "text/plain": [
       "<matplotlib.legend.Legend at 0x7f0dbe95a940>"
      ]
     },
     "execution_count": 20,
     "metadata": {},
     "output_type": "execute_result"
    },
    {
     "data": {
      "image/png": "[encoded data removed]",
      "text/plain": [
       "<Figure size 720x360 with 2 Axes>"
      ]
     },
     "metadata": {
      "needs_background": "light"
     },
     "output_type": "display_data"
    }
   ],
   "source": [
    "# Alphas to go through\n",
    "alphas = [0.1,1,5,50,500,5000,50000,500000,5000000,50000000]\n",
    "\n",
    "# An sample/observation of independent variables to be used for prediction\n",
    "query = [[10,2000]]\n",
    "\n",
    "# Empty lists to contain mean predictions\n",
    "ols_mean = []\n",
    "ridge_mean = []\n",
    "lasso_mean = []\n",
    "\n",
    "# Empty lists to contain standard deviations\n",
    "ols_std = []\n",
    "ridge_std = []\n",
    "lasso_std = []\n",
    "\n",
    "# Loop through alphas\n",
    "for a in alphas: \n",
    "    \n",
    "    # Empty lists to contain predictions\n",
    "    ols_predict = []\n",
    "    ridge_predict = []\n",
    "    lasso_predict = []\n",
    "\n",
    "    # Draw 20 random samples and fit models for 50 times\n",
    "    for i in range(50):\n",
    "        \n",
    "        y,x = resample(y_pop,x_pop,n_samples=20) \n",
    "\n",
    "        # OLS\n",
    "        ols = LinearRegression()\n",
    "        ols.fit(x.values,y)\n",
    "        ols_xb = ols.predict(query) \n",
    "        ols_predict.append(ols_xb)\n",
    "        \n",
    "        # Ridge\n",
    "        scaler1 = StandardScaler()\n",
    "        ridge = Ridge(alpha=a)\n",
    "        ridge_pipe = Pipeline(steps=[(\"scaler\", scaler1),\n",
    "                               (\"ridge\", ridge)])\n",
    "        ridge_pipe.fit(x.values,y)\n",
    "        ridge_xb = ridge_pipe.predict(query)\n",
    "        ridge_predict.append(ridge_xb)\n",
    "\n",
    "        # Lasso\n",
    "        scaler2 = StandardScaler()\n",
    "        lasso = Lasso(alpha=a)\n",
    "        lasso_pipe = Pipeline(steps=[(\"scaler\", scaler2),\n",
    "                               (\"lasso\", lasso)])\n",
    "        lasso_pipe.fit(x.values,y)\n",
    "        lasso_xb = lasso_pipe.predict(query)\n",
    "        lasso_predict.append(lasso_xb)         \n",
    "\n",
    "    # Calculate and store mean prediction\n",
    "    ols_mean.append(np.mean(ols_predict))\n",
    "    ridge_mean.append(np.mean(ridge_predict))\n",
    "    lasso_mean.append(np.mean(lasso_predict))        \n",
    "        \n",
    "    # alculate and store standard deviations\n",
    "    ols_std.append(np.std(ols_predict))\n",
    "    ridge_std.append(np.std(ridge_predict))\n",
    "    lasso_std.append(np.std(lasso_predict))\n",
    "\n",
    "# Import library for graphing    \n",
    "%matplotlib inline\n",
    "import matplotlib.pyplot as plt    \n",
    "\n",
    "# Plot mean\n",
    "fig, (mn, sd) = plt.subplots(ncols=2,figsize=(10,5))\n",
    "mn.set_title(\"Mean of Prediction from Different Samples \\n (mpg=10, weight=2000)\")\n",
    "mn.set_xlabel(\"alpha\")\n",
    "mn.set_xscale(\"log\")\n",
    "mn.plot(alphas, ols_mean, label='OLS')\n",
    "mn.plot(alphas, ridge_mean, label='Ridge')\n",
    "mn.plot(alphas, lasso_mean, label='Lasso')\n",
    "mn.legend(loc=0)  \n",
    "\n",
    "# Plot standard deviations\n",
    "sd.set_title(\"S.D. of Prediction from Different Samples \\n (mpg=10, weight=2000)\")\n",
    "sd.set_xlabel(\"alpha\")\n",
    "sd.set_xscale(\"log\")\n",
    "sd.plot(alphas, ols_std, label='OLS')\n",
    "sd.plot(alphas, ridge_std, label='Ridge')\n",
    "sd.plot(alphas, lasso_std, label='Lasso')\n",
    "sd.legend(loc=0)  "
   ]
  },
  {
   "cell_type": "markdown",
   "metadata": {},
   "source": [
    "Two things you should have noticed:\n",
    "- Ridge and lasso have much smaller variance than OLS when ```alpha``` is large.\n",
    "- Even though OLS is an unbiased estimator, it does not appear to produce more accurate predictions than ridge or lasso when the sample size is small. You can verify this by changing the number of samples drawn each time."
   ]
  },
  {
   "cell_type": "markdown",
   "metadata": {},
   "source": [
    "### E. Conclusion\n",
    "\n",
    "In this notebook, we have investigated how regularization can help reduce the variance of predictions. This ensures that the model we trained on a particular sample of data will be reasonably accurate when applied to other samples. \n",
    "\n",
    "A question that we have not yet touch on is, how do we choose the strength of regularization, ```alpha```? Conceptually, what we want to do is to pick a value that gives us the most accurate prediction when applied to other samples. In order to do so we would need to conduct out-of-sample test, which is the topic of the next notebook."
   ]
  }
 ],
 "metadata": {
  "anaconda-cloud": {},
  "kernelspec": {
   "display_name": "Python 3 (ipykernel)",
   "language": "python",
   "name": "python3"
  },
  "language_info": {
   "codemirror_mode": {
    "name": "ipython",
    "version": 3
   },
   "file_extension": ".py",
   "mimetype": "text/x-python",
   "name": "python",
   "nbconvert_exporter": "python",
   "pygments_lexer": "ipython3",
   "version": "3.11.7"
  }
 },
 "nbformat": 4,
 "nbformat_minor": 4
}
