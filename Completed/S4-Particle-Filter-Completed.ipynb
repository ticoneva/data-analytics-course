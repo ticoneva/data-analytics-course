{
 "cells": [
  {
   "cell_type": "markdown",
   "metadata": {},
   "source": [
    "# How Good is this Firm, cont'd: Tell Me in Real Time!\n",
    "\n",
    "Your boss was very pleased with the MCMC estimator you came up with previously. Impressed by your statistics and programming skills, he now asks you to build a system capable of providing a continuously-updated estimate as data comes in. \n",
    "\n",
    "MCMC is not suitable for this task&mdash;remember how it took tens of thousands of time steps before the estimate stablized? If data were to come in continuously, this would simply be too slow for all but the simpliest models. Fortunately, you have previously heard about a technique called *particle filtering*. Particle filtering is commonly deployed in situations that require continuous processing of data, such as GPS positioning (perhaps because you have watched <a href=\"https://www.youtube.com/watch?v=aUkBa1zMKv4&t=313s\">this video</a> on YouTube.)\n",
    "\n",
    "<!--In computer science, an algorithm that processes data as they come in is called an *online algorithm*.  -->"
   ]
  },
  {
   "cell_type": "markdown",
   "metadata": {},
   "source": [
    "### Data \n",
    "\n",
    "We start with creating some data. In this case, we want 60 observations with an average success rate of 2/3:"
   ]
  },
  {
   "cell_type": "code",
   "execution_count": 74,
   "metadata": {},
   "outputs": [
    {
     "name": "stdout",
     "output_type": "stream",
     "text": [
      "[0 1 1 1 1 0 1 0 1 1 0 1 1 1 1 1 1 1 0 1 0 1 1 0 1 1 1 1 1 1 1 0 0 1 1 0 1\n",
      " 0 1 1 1 1 0 1 0 1 1 0 1 0 0 0 0 0 1 1 0 1 1 1]\n",
      "Actual success rate: 0.6666666666666666\n"
     ]
    }
   ],
   "source": [
    "import numpy as np\n",
    "\n",
    "Y = np.random.randint(0,3,60)\n",
    "Y[Y==2] = 1\n",
    "print(Y)\n",
    "print(\"Actual success rate:\",np.sum(Y)/len(Y))"
   ]
  },
  {
   "cell_type": "markdown",
   "metadata": {},
   "source": [
    "We will sequentially take one value from $Y$ at each time step, which we will treat as our \"real-time\" data."
   ]
  },
  {
   "cell_type": "markdown",
   "metadata": {},
   "source": [
    "### Particle Filter\n",
    "\n",
    "The concept of particle filtering is actually very simple: \n",
    "- We start with a random sample of possible values, called particles.\n",
    "- Everytime new data comes in, \n",
    " - we weigh each particle base on how well it explain the data.\n",
    " - We generate new particles from old ones. Particles with higher weights are more likely to be resampled. \n",
    " \n",
    "As data accumulates, we will eventually be left with samples that have explained the data well."
   ]
  },
  {
   "cell_type": "code",
   "execution_count": 136,
   "metadata": {
    "collapsed": true
   },
   "outputs": [],
   "source": [
    "#Particle filter\n",
    "\n",
    "p_count = 100 #Number of particles\n",
    "\n",
    "import numpy as np\n",
    "import random\n",
    "\n",
    "def get_weight(X,y):\n",
    "    #Weight X based on P(y|X)\n",
    "    pyx = [[0.5,0.5],[0.3,0.7]]\n",
    "    W = np.asarray([pyx[x][y] for x in X_prev])\n",
    "    W = W/np.sum(W)\n",
    "    return W\n",
    "\n",
    "def resample(X,W):\n",
    "    #Stochastic universal resampling/systematic resampling\n",
    "    new_samples = []    \n",
    "    \n",
    "    cW = np.cumsum(W)\n",
    "    pointer_bias = random.uniform(0,1/p_count)\n",
    "    cur_c = 0        \n",
    "    for i in range(p_count):\n",
    "        pointer = i/p_count + pointer_bias\n",
    "        for c in range(cur_c,len(cW)):\n",
    "            if cW[c] > pointer:\n",
    "                new_samples.append(X[c])\n",
    "                cur_c = c\n",
    "                break    \n",
    "    return np.asarray(new_samples)\n",
    "\n",
    "#Main loop\n",
    "X_prev = np.random.randint(0,2,p_count) #Initial random guess\n",
    "X_list = [X_prev] #This holds our particles at each time step\n",
    "for y in Y:\n",
    "    W = get_weight(X_prev,y)     #Weight particles\n",
    "    X_cur = resample(X_prev,W)   #Resample\n",
    "    \n",
    "    X_list.append(X_cur)\n",
    "    X_prev = X_cur    "
   ]
  },
  {
   "cell_type": "markdown",
   "metadata": {},
   "source": [
    "Let us plot the estimated chance that the firm is a good one in each time step:"
   ]
  },
  {
   "cell_type": "code",
   "execution_count": 110,
   "metadata": {
    "scrolled": false
   },
   "outputs": [
    {
     "data": {
      "text/plain": [
       "Text(0,0.5,'% of particles with type=1')"
      ]
     },
     "execution_count": 110,
     "metadata": {},
     "output_type": "execute_result"
    },
    {
     "data": {
      "image/png": "[encoded data removed]",
      "text/plain": [
       "<Figure size 432x288 with 1 Axes>"
      ]
     },
     "metadata": {},
     "output_type": "display_data"
    }
   ],
   "source": [
    "%matplotlib inline\n",
    "import matplotlib.pyplot as plt\n",
    "\n",
    "#Plot estimate at each time step\n",
    "X_est = np.sum(X_list,axis=1) / p_count\n",
    "fig, ax = plt.subplots()\n",
    "ax.plot(X_est)    \n",
    "ax.set_xlabel(\"time step\")\n",
    "ax.set_ylabel(\"% of particles with type=1\")"
   ]
  },
  {
   "cell_type": "markdown",
   "metadata": {},
   "source": [
    "It is quite clear that by step 30 it is virtually certain that the firm is a good one."
   ]
  },
  {
   "cell_type": "markdown",
   "metadata": {},
   "source": [
    "### Monitoring for Underlying Change\n",
    "\n",
    "What is the point of processing data as it comes in, you might ask, \n",
    "if the underlying parameter of interest, X, never changes?\n",
    "Parameters could indeed change in reality. Let us model a situation\n",
    "where in each period, there is a small chance that a firm would switch type.\n",
    "\n",
    "Our data consistent 100 observations generated by a good firm, \n",
    "followed by 100 observations generated by a bad firm. \n",
    "To make the change easier to pick up, a good firm now has a 90% chance of succeeding\n",
    "in any given month:"
   ]
  },
  {
   "cell_type": "code",
   "execution_count": 202,
   "metadata": {
    "collapsed": true
   },
   "outputs": [],
   "source": [
    "Y1 = np.random.randint(0,10,100)\n",
    "Y1[Y1<1] = 0\n",
    "Y1[Y1>=1] = 1\n",
    "Y2 = np.concatenate([Y1,np.random.randint(0,2,100)])"
   ]
  },
  {
   "cell_type": "markdown",
   "metadata": {},
   "source": [
    "There are two changes we need to make to our particle filter to accommodate the possibility of\n",
    "firms changing type:\n",
    "- We need a model of how change happen. \n",
    "We will employ a very simple model in this case&mdash;\n",
    "each firm has a 1% change of switching type in each period.  \n",
    "- In every time step, we alter our particles according to the model \n",
    "before we calculate new weights."
   ]
  },
  {
   "cell_type": "code",
   "execution_count": 204,
   "metadata": {
    "scrolled": true
   },
   "outputs": [
    {
     "data": {
      "text/plain": [
       "Text(0,0.5,'% of particles with type=1')"
      ]
     },
     "execution_count": 204,
     "metadata": {},
     "output_type": "execute_result"
    },
    {
     "data": {
      "image/png": "[encoded data removed]",
      "text/plain": [
       "<Figure size 432x288 with 1 Axes>"
      ]
     },
     "metadata": {},
     "output_type": "display_data"
    }
   ],
   "source": [
    "p_count = 100 #Number of particles\n",
    "\n",
    "def update_X(X):\n",
    "    #Update X\n",
    "    rand_vec = np.random.rand(*X.shape)\n",
    "    X = np.where(rand_vec>=0.99,1-X,X)\n",
    "    return X\n",
    "\n",
    "#Main loop\n",
    "X_prev = np.random.randint(0,2,p_count) #Initial random guess\n",
    "X_list = [X_prev] #This holds our particles at each time step\n",
    "for y in Y2:\n",
    "    X_prev = update_X(X_prev)    #Update X\n",
    "    W = get_weight(X_prev,y)     #Weight particles\n",
    "    X_cur = resample(X_prev,W)   #Resample\n",
    "    \n",
    "    X_list.append(X_cur)\n",
    "    X_prev = X_cur    \n",
    "    \n",
    "%matplotlib inline\n",
    "import matplotlib.pyplot as plt\n",
    "\n",
    "#Plot estimate at each time step\n",
    "X_est = np.sum(X_list,axis=1) / p_count\n",
    "fig, ax = plt.subplots()\n",
    "ax.plot(X_est)    \n",
    "ax.set_xlabel(\"time step\")\n",
    "ax.set_ylabel(\"% of particles with type=1\")    "
   ]
  },
  {
   "cell_type": "markdown",
   "metadata": {},
   "source": [
    "It worked! Our algorithm detected the type switch not long after time step 100. If you re-run the code a few times though, you will see that things do not always work out so nicely&mdash;bad firms sometimes get lucky and have a few consecutive rounds of good performance, making it hard to detect the change. "
   ]
  },
  {
   "cell_type": "markdown",
   "metadata": {},
   "source": [
    "### Continuous Type\n",
    "\n",
    "As a final example, let us once again modify the script to accommodate continuous type:"
   ]
  },
  {
   "cell_type": "code",
   "execution_count": 111,
   "metadata": {},
   "outputs": [
    {
     "name": "stdout",
     "output_type": "stream",
     "text": [
      "Most probable type: 0.65\n"
     ]
    },
    {
     "data": {
      "text/plain": [
       "Text(0,0.5,'most probably type')"
      ]
     },
     "execution_count": 111,
     "metadata": {},
     "output_type": "execute_result"
    },
    {
     "data": {
      "image/png": "[encoded data removed]",
      "text/plain": [
       "<Figure size 432x288 with 1 Axes>"
      ]
     },
     "metadata": {},
     "output_type": "display_data"
    }
   ],
   "source": [
    "#Particle filter\n",
    "\n",
    "p_count = 5000 #Number of particles\n",
    "\n",
    "def get_weight(X,y):\n",
    "    #Weight X based on P(y|X)\n",
    "    if y==1:\n",
    "        W = X\n",
    "    else:\n",
    "        W = 1 - X\n",
    "    return W/np.sum(W)\n",
    "\n",
    "#Main loop\n",
    "X_prev = np.random.rand(p_count) #Initial random guess\n",
    "X_list = [X_prev] #This holds our particles at each time step\n",
    "for y in Y:\n",
    "    W = get_weight(X_prev,y)     #Weight particles\n",
    "    X_cur = resample(X_prev,W)   #Resample\n",
    "    \n",
    "    X_list.append(X_cur)\n",
    "    X_prev = X_cur    \n",
    "    \n",
    "#Plot estimate at each time step\n",
    "from scipy import stats\n",
    "X_list = np.round(X_list,2)\n",
    "X_est = stats.mode(X_list,axis=1)[0].flatten() #Find the most common type\n",
    "print(\"Most probable type:\",X_est[-1])\n",
    "fig, ax = plt.subplots()\n",
    "ax.plot(X_est)    \n",
    "ax.set_xlabel(\"time step\")\n",
    "ax.set_ylabel(\"most probably type\")    "
   ]
  }
 ],
 "metadata": {
  "kernelspec": {
   "display_name": "Python 3",
   "language": "python",
   "name": "python3"
  },
  "language_info": {
   "codemirror_mode": {
    "name": "ipython",
    "version": 3
   },
   "file_extension": ".py",
   "mimetype": "text/x-python",
   "name": "python",
   "nbconvert_exporter": "python",
   "pygments_lexer": "ipython3",
   "version": "3.6.2"
  }
 },
 "nbformat": 4,
 "nbformat_minor": 2
}
