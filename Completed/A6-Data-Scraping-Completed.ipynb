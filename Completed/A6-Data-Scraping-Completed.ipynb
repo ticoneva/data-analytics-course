{
 "cells": [
  {
   "cell_type": "markdown",
   "metadata": {},
   "source": [
    "# Data Scraping\n",
    "Version: 2020-3-19\n",
    "\n",
    "In this exercise, we will scrape data from Hong Kong Jockey Club's race result page: http://racing.hkjc.com/racing/Info/Meeting/Results/english/Local/20151213/ST\n",
    "\n",
    "Libraries needed:\n",
    "- For static webpage, `requests`: http://docs.python-requests.org/en/master/ \n",
    "- For dynamic webpage, `selenium`: https://selenium-python.readthedocs.io/\n",
    "- For parsing the webpage, `BeautifulSoup`: https://www.crummy.com/software/BeautifulSoup/bs4/doc/\n",
    "- Regular expression: https://docs.python.org/3.6/library/re.html\n",
    "\n",
    "We first use ```requests``` or ```selenium``` to access a page, which we then pass to ```BeautifulSoup``` to parse into a searchable structure. Regular expression allows us to find specific part of the structure by keyword match."
   ]
  },
  {
   "cell_type": "markdown",
   "metadata": {},
   "source": [
    "### A. Fetching the Webpage\n",
    "\n",
    "We will begin by fetching the webpage. Because HKJC has switched to using a dynamic page with Javascript and AJAX, we will use `selenium`, which loads the webpage through an actual browser.\n",
    "\n",
    "Selenium needs an interface to control the browser. The interface is called *WebDriver* and is browser dependent. Here are the links to the WebDrivers of common browsers:\n",
    "- Firefox: https://github.com/mozilla/geckodriver/releases\n",
    "- Chrome: https://chromedriver.chromium.org/\n",
    "\n",
    "What to do after the download:\n",
    "- On linux, decompress the package then move its content to `/usr/local/bin/`.\n",
    "- On Windows, decompress the package and move its content to somewhere that makes sense (e.g. `Program Files`). You will need to manually add the path to where you put the content to the system variable `Path`.\n",
    "\n",
    "If the above procedure confuses you, it might be easier just to put the WebDriver somewhere and directly passing its location to Selenium through the `executable_path` option.\n"
   ]
  },
  {
   "cell_type": "code",
   "execution_count": 1,
   "metadata": {},
   "outputs": [],
   "source": [
    "from selenium import webdriver\n",
    "from selenium.webdriver.common.keys import Keys\n",
    "from selenium.webdriver.firefox.options import Options\n",
    "\n",
    "# Set up selenium to use Firefox\n",
    "options = Options()\n",
    "options.headless = True #No need to open a browser window\n",
    "driver = webdriver.Firefox(options=options)\n",
    "\n",
    "# Example of manaully specifying the WebDriver's location: \n",
    "# driver = webdriver.Firefox(executable_path=\"../Others/geckodriver.exe\",options=options) #Windows\n",
    "# driver = webdriver.Firefox(executable_path=\"../Others/geckodriver\",options=options) #Linux\n",
    "\n",
    "# Fetch the page\n",
    "driver.get('http://racing.hkjc.com/racing/Info/Meeting/Results/english/Local/20151213/ST')\n"
   ]
  },
  {
   "cell_type": "markdown",
   "metadata": {},
   "source": [
    "If the page static then we can use `requests`, which does not require a browser to work:"
   ]
  },
  {
   "cell_type": "code",
   "execution_count": 1,
   "metadata": {},
   "outputs": [],
   "source": [
    "# Only works with static content\n",
    "import requests\n",
    "\n",
    "# URL of data\n",
    "url = \"http://racing.hkjc.com/racing/Info/Meeting/Results/english/Local/20151213/ST\"\n",
    "\n",
    "# Access the page\n",
    "page = requests.get(url)"
   ]
  },
  {
   "cell_type": "markdown",
   "metadata": {},
   "source": [
    "We can fetch the webpage's source with:\n",
    "\n",
    "- `driver.page_source` for `selenium`.\n",
    "- `page.text` for `requests`.\n",
    "\n",
    "For Selenium, we should close the browser with `driver.quit()` once we have the page source to free resources taken by the browser. **Closing the notebook alone does not close the browser!**"
   ]
  },
  {
   "cell_type": "code",
   "execution_count": null,
   "metadata": {},
   "outputs": [],
   "source": [
    "from bs4 import BeautifulSoup\n",
    "\n",
    "# Make a copy of the page source\n",
    "page_source = driver.page_source\n",
    "\n",
    "# Load the page into BeautifulSoup\n",
    "# Change 'driver.page_source' to 'page.content' when using requests\n",
    "soup = BeautifulSoup(page_source,'html.parser')\n",
    "\n",
    "# Once the data is passed to Beautiful Soup \n",
    "# we can close the browser and clear out Selenium\n",
    "driver.quit()"
   ]
  },
  {
   "cell_type": "markdown",
   "metadata": {},
   "source": [
    "### A. Getting a Single Column of Data\n",
    "\n",
    "Let's begin with fetching the names of the horses. We note that each horse's name is enclosed in a HTML ```<a>``` tag, with the term *HorseId* contained in its hypertext reference.\n",
    "\n",
    "<img src=\"../Images/webscraping-2020/HorseId.png\" style=\"border: 1px solid grey; width: 750px;\">"
   ]
  },
  {
   "cell_type": "code",
   "execution_count": 3,
   "metadata": {
    "scrolled": true
   },
   "outputs": [
    {
     "name": "stdout",
     "output_type": "stream",
     "text": [
      "JOLLY JOLLY\n",
      "PEOPLE'S KNIGHT\n",
      "RUN FORREST\n",
      "MODERN TSAR\n",
      "MAGNETISM\n",
      "ENORMOUS HONOUR\n",
      "HAPPY JOURNEY\n",
      "WINGOLD\n",
      "OVETT\n",
      "PAKISTAN BABY\n",
      "SUPER FLUKE\n",
      "JUN GONG\n",
      "LAUGH OUT LOUD\n",
      "TEN SPEED\n"
     ]
    }
   ],
   "source": [
    "from bs4 import BeautifulSoup\n",
    "import re\n",
    "\n",
    "# Load the page into BeautifulSoup\n",
    "# Change 'driver.page_source' to 'page.content' when using requests\n",
    "soup = BeautifulSoup(driver.page_source,'html.parser')\n",
    "\n",
    "# Find all tags with href containing \"horseno\"\n",
    "#horses is a list of matched tags\n",
    "horses = soup.find_all(href=re.compile(\"HorseId\"))\n",
    "\n",
    "# Print the result\n",
    "for horse in horses:\n",
    "    print(horse.text)"
   ]
  },
  {
   "cell_type": "markdown",
   "metadata": {},
   "source": [
    "We can do the same for jockeys, noting that each jockey name is enclosed in a ```<a>``` tag with hypertext reference containing the term *jockeyprofile.aspx*."
   ]
  },
  {
   "cell_type": "code",
   "execution_count": 4,
   "metadata": {},
   "outputs": [
    {
     "name": "stdout",
     "output_type": "stream",
     "text": [
      "K Teetan\n",
      "T Berry\n",
      "J Moreira\n",
      "H W Lai\n",
      "M L Yeung\n",
      "H N Wong\n",
      "D Whyte\n",
      "M Demuro\n",
      "C Y Ho\n",
      "G Mosse\n"
     ]
    }
   ],
   "source": [
    "# Find all tags with href containing \"jockeyprofile.asp\" \n",
    "jockeys = soup.find_all(href=re.compile(\"JockeyProfile.aspx\"))\n",
    "\n",
    "# Print the result\n",
    "for jockey in jockeys:\n",
    "    print(jockey.text)"
   ]
  },
  {
   "cell_type": "markdown",
   "metadata": {},
   "source": [
    "Finally, we can also match by the class of the ```<td>``` tag one layer up. This would return horse names, jockey names and trainer names.\n",
    "\n",
    "<img src=\"../Images/webscraping-2020/HorseClass.png\" style=\"border: 1px solid grey; width: 750px;\">"
   ]
  },
  {
   "cell_type": "code",
   "execution_count": 6,
   "metadata": {
    "scrolled": true
   },
   "outputs": [
    {
     "name": "stdout",
     "output_type": "stream",
     "text": [
      "JOLLY JOLLY(T087)\n",
      "K Teetan\n",
      "P O'Sullivan\n",
      "PEOPLE'S KNIGHT(T305)\n",
      "T Berry\n",
      "J Moore\n",
      "RUN FORREST(T176)\n",
      "J Moreira\n",
      "C S Shum\n",
      "MODERN TSAR(S167)\n",
      "B Prebble\n",
      "W Y So\n",
      "MAGNETISM(V114)\n",
      "G Lerena\n",
      "D E Ferraris\n",
      "ENORMOUS HONOUR(T236)\n",
      "N Rawiller\n",
      "Y S Tsui\n",
      "HAPPY JOURNEY(S299)\n",
      "H W Lai\n",
      "S Woods\n",
      "WINGOLD(T202)\n",
      "M L Yeung\n",
      "A Lee\n",
      "OVETT(P351)\n",
      "H N Wong\n",
      "A T Millard\n",
      "PAKISTAN BABY(S442)\n",
      "D Whyte\n",
      "A S Cruz\n",
      "SUPER FLUKE(T382)\n",
      "M Demuro\n",
      "D Cruz\n",
      "JUN GONG(N325)\n",
      "C Y Ho\n",
      "C H Yip\n",
      "LAUGH OUT LOUD(P297)\n",
      "G Mosse\n",
      "K L Man\n",
      "TEN SPEED(T239)\n",
      "Y T Cheng\n",
      "C W Chang\n"
     ]
    }
   ],
   "source": [
    "data = soup.find_all(\"td\",class_=\"f_fs13 f_tal\")\n",
    "\n",
    "for d in data:\n",
    "    print(d.text.strip())"
   ]
  },
  {
   "cell_type": "markdown",
   "metadata": {},
   "source": [
    "### B. Fetching Adjacent Fields\n",
    "Let's now try fetching the jockeys' and trainers' names, having first located the horse names.\n",
    "\n",
    "<img src=\"../Images/webscraping-2020/HorseId_siblings.png\" style=\"border: 1px solid grey; width: 750px;\">"
   ]
  },
  {
   "cell_type": "code",
   "execution_count": 40,
   "metadata": {
    "scrolled": false
   },
   "outputs": [
    {
     "name": "stdout",
     "output_type": "stream",
     "text": [
      "JOLLY JOLLY          K Teetan        P O'Sullivan\n",
      "PEOPLE'S KNIGHT      T Berry         J Moore\n",
      "RUN FORREST          J Moreira       C S Shum\n",
      "MODERN TSAR          B Prebble       W Y So\n",
      "MAGNETISM            G Lerena        D E Ferraris\n",
      "ENORMOUS HONOUR      N Rawiller      Y S Tsui\n",
      "HAPPY JOURNEY        H W Lai         S Woods\n",
      "WINGOLD              M L Yeung       A Lee\n",
      "OVETT                H N Wong        A T Millard\n",
      "PAKISTAN BABY        D Whyte         A S Cruz\n",
      "SUPER FLUKE          M Demuro        D Cruz\n",
      "JUN GONG             C Y Ho          C H Yip\n",
      "LAUGH OUT LOUD       G Mosse         K L Man\n",
      "TEN SPEED            Y T Cheng       C W Chang\n"
     ]
    }
   ],
   "source": [
    "# Loop through each horse and find the jockey and trainer along the way\n",
    "from bs4 import NavigableString\n",
    "\n",
    "for horse in horses:\n",
    "    \n",
    "    # jockey is supposed to be horse.parent.next_sibling\n",
    "    jockey = horse.parent.next_sibling\n",
    "       \n",
    "    # But there are whitespace between tags, which BeautifulSoup picks \n",
    "    # up as 'NavigableString'. We use a while loop to keep moving when \n",
    "    # we encounter such cases\n",
    "    while isinstance(jockey, NavigableString):\n",
    "            jockey = jockey.next_sibling\n",
    "            \n",
    "    # Now do the same to find trainer            \n",
    "    trainer = jockey.next_sibling\n",
    "    while isinstance(trainer, NavigableString):\n",
    "            trainer = trainer.next_sibling\n",
    "    \n",
    "    # Print what we find\n",
    "    print(horse.text.strip().ljust(20),\n",
    "          jockey.text.strip().ljust(15),\n",
    "          trainer.text.strip())"
   ]
  },
  {
   "cell_type": "markdown",
   "metadata": {},
   "source": [
    "We could also first locate the jockey's name, before fetching the horse name and the trainer's name relative to it.\n",
    "\n",
    "<img src=\"../Images/webscraping-2020/JockeyProfile_siblings.png\" style=\"border: 1px solid grey; width: 750px;\">"
   ]
  },
  {
   "cell_type": "markdown",
   "metadata": {},
   "source": [
    "Because we are going to need to deal with whitespace very often, let us first write a function that runs the while loop for us:"
   ]
  },
  {
   "cell_type": "code",
   "execution_count": 34,
   "metadata": {},
   "outputs": [],
   "source": [
    "def get_sibling(tag,previous=False):\n",
    "    if previous:\n",
    "        sibling = tag.previous_sibling\n",
    "        while isinstance(sibling, NavigableString):\n",
    "            sibling = sibling.previous_sibling\n",
    "    else:\n",
    "        sibling = tag.next_sibling\n",
    "        while isinstance(sibling, NavigableString):\n",
    "            sibling = sibling.next_sibling        \n",
    "    return sibling"
   ]
  },
  {
   "cell_type": "markdown",
   "metadata": {},
   "source": [
    "Now we can loop through all jockeys and fetch other fields relative to them:"
   ]
  },
  {
   "cell_type": "code",
   "execution_count": 41,
   "metadata": {
    "scrolled": true
   },
   "outputs": [
    {
     "name": "stdout",
     "output_type": "stream",
     "text": [
      "JOLLY JOLLY(T087)    K Teetan        P O'Sullivan    114             1214\n",
      "PEOPLE'S KNIGHT(T305) T Berry         J Moore         119             1163\n",
      "RUN FORREST(T176)    J Moreira       C S Shum        115             1135\n",
      "HAPPY JOURNEY(S299)  H W Lai         S Woods         114             1040\n",
      "WINGOLD(T202)        M L Yeung       A Lee           111             1154\n",
      "OVETT(P351)          H N Wong        A T Millard     105             1153\n",
      "PAKISTAN BABY(S442)  D Whyte         A S Cruz        121             1023\n",
      "SUPER FLUKE(T382)    M Demuro        D Cruz          120             1109\n",
      "JUN GONG(N325)       C Y Ho          C H Yip         115             1147\n",
      "LAUGH OUT LOUD(P297) G Mosse         K L Man         126             1127\n"
     ]
    }
   ],
   "source": [
    "# Use jockey instead\n",
    "for jockey in jockeys:\n",
    "    horse = get_sibling(jockey.parent,previous=True)\n",
    "    trainer = get_sibling(jockey.parent)\n",
    "    actual_weight = get_sibling(trainer)\n",
    "    declare_weight = get_sibling(actual_weight)\n",
    "\n",
    "    print(horse.text.strip().ljust(20),\n",
    "          jockey.text.strip().ljust(15),\n",
    "          trainer.text.strip().ljust(15),\n",
    "          actual_weight.text.strip().ljust(15),\n",
    "          declare_weight.text.strip())\n"
   ]
  },
  {
   "cell_type": "markdown",
   "metadata": {},
   "source": [
    "### C. Multiple Pages\n",
    "\n",
    "Most of the time we need more than one page. We can go through pages with for loop(s).\n",
    "\n",
    "Before we go there, let's write a helper function that returns the content we want from each page in a list:"
   ]
  },
  {
   "cell_type": "code",
   "execution_count": 130,
   "metadata": {},
   "outputs": [],
   "source": [
    "from selenium import webdriver\n",
    "from selenium.webdriver.common.keys import Keys\n",
    "from selenium.webdriver.firefox.options import Options\n",
    "from bs4 import BeautifulSoup\n",
    "import re\n",
    "\n",
    "from selenium.webdriver.support import expected_conditions as EC\n",
    "from selenium.webdriver.common.by import By\n",
    "from selenium.webdriver.support.ui import WebDriverWait\n",
    "\n",
    "\n",
    "def scrape_horses(url):\n",
    "    # Function to access a page and save all horses into a list\n",
    "\n",
    "    # Fetch the page\n",
    "    driver.get(url)\n",
    "    \n",
    "    # Is there anything?\n",
    "    if driver.page_source.find(\"No information.\") != -1:\n",
    "        return []\n",
    "    \n",
    "    # Wait 30 secs so that the dynamic content has time to load.\n",
    "    # Proceed to next date if page doesn't load.\n",
    "    try:\n",
    "        wait = WebDriverWait(driver, 30).until(\n",
    "            EC.presence_of_element_located((By.CLASS_NAME, \"f_fs13\")))\n",
    "    except:\n",
    "        return []\n",
    "    \n",
    "    # Load the page into BeautifulSoup\n",
    "    soup = BeautifulSoup(driver.page_source, 'html.parser')\n",
    "\n",
    "    # Find all tags with href containing \"HorseId\"\n",
    "    horses = soup.find_all(href=re.compile(\"HorseId\"))\n",
    "\n",
    "    # 'output_list' is the whole table\n",
    "    # 'output' is a single row\n",
    "    output_list = []\n",
    "    \n",
    "    # Loop through horses\n",
    "    for horse in horses:\n",
    "\n",
    "        # Get the horse name\n",
    "        output = [horse.text.strip()]\n",
    "        \n",
    "        # This while loop fetch all remaining fields in a row\n",
    "        a = get_sibling(horse.parent)\n",
    "        while a != None:\n",
    "            output.append(a.text\n",
    "                          .strip()\n",
    "                          # The last two lines are for running positions\n",
    "                          .replace('\\n','') \n",
    "                          .replace(' '*20,' ') \n",
    "                         )\n",
    "            a = get_sibling(a)\n",
    "        \n",
    "        # Append each row to the output list\n",
    "        output_list.append(output)\n",
    "\n",
    "    return output_list"
   ]
  },
  {
   "cell_type": "markdown",
   "metadata": {},
   "source": [
    "Let us first try the function on one single page:"
   ]
  },
  {
   "cell_type": "code",
   "execution_count": 116,
   "metadata": {},
   "outputs": [
    {
     "data": {
      "text/plain": [
       "[['JOLLY JOLLY',\n",
       "  'K Teetan',\n",
       "  \"P O'Sullivan\",\n",
       "  '114',\n",
       "  '1214',\n",
       "  '13',\n",
       "  '-',\n",
       "  '1   1   1   1',\n",
       "  '1:22.05',\n",
       "  '2.6'],\n",
       " [\"PEOPLE'S KNIGHT\",\n",
       "  'T Berry',\n",
       "  'J Moore',\n",
       "  '119',\n",
       "  '1163',\n",
       "  '8',\n",
       "  '2',\n",
       "  '2   4   2   2',\n",
       "  '1:22.39',\n",
       "  '5.7'],\n",
       " ['RUN FORREST',\n",
       "  'J Moreira',\n",
       "  'C S Shum',\n",
       "  '115',\n",
       "  '1135',\n",
       "  '10',\n",
       "  '3',\n",
       "  '14   10   10   3',\n",
       "  '1:22.54',\n",
       "  '3.9'],\n",
       " ['MODERN TSAR',\n",
       "  'B Prebble',\n",
       "  'W Y So',\n",
       "  '123',\n",
       "  '1101',\n",
       "  '11',\n",
       "  '4-3/4',\n",
       "  '9   13   13   4',\n",
       "  '1:22.80',\n",
       "  '13'],\n",
       " ['MAGNETISM',\n",
       "  'G Lerena',\n",
       "  'D E Ferraris',\n",
       "  '125',\n",
       "  '1130',\n",
       "  '3',\n",
       "  '4-3/4',\n",
       "  '7   6   6   5',\n",
       "  '1:22.81',\n",
       "  '52'],\n",
       " ['ENORMOUS HONOUR',\n",
       "  'N Rawiller',\n",
       "  'Y S Tsui',\n",
       "  '131',\n",
       "  '1127',\n",
       "  '9',\n",
       "  '5-1/4',\n",
       "  '11   12   12   6',\n",
       "  '1:22.87',\n",
       "  '10'],\n",
       " ['HAPPY JOURNEY',\n",
       "  'H W Lai',\n",
       "  'S Woods',\n",
       "  '114',\n",
       "  '1040',\n",
       "  '5',\n",
       "  '6-1/2',\n",
       "  '5   7   7   7',\n",
       "  '1:23.08',\n",
       "  '121'],\n",
       " ['WINGOLD',\n",
       "  'M L Yeung',\n",
       "  'A Lee',\n",
       "  '111',\n",
       "  '1154',\n",
       "  '12',\n",
       "  '6-1/2',\n",
       "  '13   14   14   8',\n",
       "  '1:23.11',\n",
       "  '331'],\n",
       " ['OVETT',\n",
       "  'H N Wong',\n",
       "  'A T Millard',\n",
       "  '105',\n",
       "  '1153',\n",
       "  '4',\n",
       "  '7-1/4',\n",
       "  '3   2   3   9',\n",
       "  '1:23.20',\n",
       "  '41'],\n",
       " ['PAKISTAN BABY',\n",
       "  'D Whyte',\n",
       "  'A S Cruz',\n",
       "  '121',\n",
       "  '1023',\n",
       "  '7',\n",
       "  '7-1/4',\n",
       "  '6   11   11   10',\n",
       "  '1:23.22',\n",
       "  '12'],\n",
       " ['SUPER FLUKE',\n",
       "  'M Demuro',\n",
       "  'D Cruz',\n",
       "  '120',\n",
       "  '1109',\n",
       "  '14',\n",
       "  '7-3/4',\n",
       "  '4   3   4   11',\n",
       "  '1:23.27',\n",
       "  '65'],\n",
       " ['JUN GONG',\n",
       "  'C Y Ho',\n",
       "  'C H Yip',\n",
       "  '115',\n",
       "  '1147',\n",
       "  '6',\n",
       "  '10-1/4',\n",
       "  '10   9   8   12',\n",
       "  '1:23.68',\n",
       "  '83'],\n",
       " ['LAUGH OUT LOUD',\n",
       "  'G Mosse',\n",
       "  'K L Man',\n",
       "  '126',\n",
       "  '1127',\n",
       "  '1',\n",
       "  '10-1/2',\n",
       "  '8   5   5   13',\n",
       "  '1:23.73',\n",
       "  '15'],\n",
       " ['TEN SPEED',\n",
       "  'Y T Cheng',\n",
       "  'C W Chang',\n",
       "  '116',\n",
       "  '1033',\n",
       "  '2',\n",
       "  '12-3/4',\n",
       "  '12   8   9   14',\n",
       "  '1:24.08',\n",
       "  '202']]"
      ]
     },
     "execution_count": 116,
     "metadata": {},
     "output_type": "execute_result"
    }
   ],
   "source": [
    "scrape_horses('http://racing.hkjc.com/racing/Info/Meeting/Results/english/Local/20151213/ST')"
   ]
  },
  {
   "cell_type": "markdown",
   "metadata": {},
   "source": [
    "Here we have the loops. Note that month and day are always in two digits. \n",
    "\n",
    "String formatting: https://docs.python.org/3.4/library/string.html#format-string-syntax\n"
   ]
  },
  {
   "cell_type": "code",
   "execution_count": 131,
   "metadata": {
    "scrolled": false
   },
   "outputs": [
    {
     "name": "stdout",
     "output_type": "stream",
     "text": [
      "http://racing.hkjc.com/racing/Info/Meeting/Results/english/Local/20170101\n",
      "[['ROCK THE TREE', 'B Prebble', 'D E Ferraris', '133', '1056', '11', '-', '12   12   11   12   1', '2:03.16', '9.7'], ['HIGH SPEED METRO', 'K C Leung', 'L Ho', '119', '1169', '12', '3/4', '11   10   10   4   2', '2:03.31', '10'], ['WIN CHANCE', 'M L Yeung', 'A Lee', '112', '1026', '2', '4', '7   7   7   2   3', '2:03.82', '17'], ['LOYAL CRAFTSMAN', 'S Clipperton', 'D E Ferraris', '120', '1080', '13', '4-1/2', '13   13   13   9   4', '2:03.88', '8.3'], ['CHOICE EXCHEQUER', 'A Badel', 'C H Yip', '133', '1209', '3', '5-1/2', '1   1   1   1   5', '2:04.03', '15'], ['SWEET BEAN', 'N Callan', 'C Fownes', '128', '1031', '7', '5-3/4', '8   8   8   10   6', '2:04.10', '22'], ['TELEPHATIA', 'Z Purton', 'A Lee', '130', '1077', '8', '6', '10   9   9   7   7', '2:04.13', '7.9'], ['KERKENI', 'O Doleuze', 'R Gibson', '127', '1053', '5', '6-1/4', '9   11   12   11   8', '2:04.16', '12'], ['GLAMOROUS RYDER', 'S de Sousa', 'D E Ferraris', '123', '1098', '6', '8', '6   6   6   6   9', '2:04.45', '18'], ['VIVACIOUS WINNER', 'K K Chiong', 'D Cruz', '109', '1193', '4', '9-3/4', '5   5   5   8   10', '2:04.73', '14'], ['MY FOLKS', 'O Murphy', 'C W Chang', '124', '1174', '1', '15-1/2', '3   4   3   5   11', '2:05.66', '3.7'], ['MAGIC STAR', 'T H So', \"P O'Sullivan\", '119', '1150', '9', '18-1/2', '2   2   2   3   12', '2:06.12', '92'], ['FRANCE VALOUR', 'J Moreira', 'T P Yung', '126', '1148', '10', '72-1/2', '4   3   4   13   13', '2:14.75', '8.6']]\n",
      "http://racing.hkjc.com/racing/Info/Meeting/Results/english/Local/20170102\n",
      "[]\n",
      "http://racing.hkjc.com/racing/Info/Meeting/Results/english/Local/20170103\n",
      "[]\n",
      "http://racing.hkjc.com/racing/Info/Meeting/Results/english/Local/20170104\n",
      "[['INVISIBLE', 'O Doleuze', 'C Fownes', '132', '1128', '5', '-', '5   6   1', '1:10.94', '9.2'], ['FOREVER FUN', 'S de Sousa', 'K L Man', '132', '1032', '12', 'N', '2   2   2', '1:10.98', '22'], ['SIR JOHN', 'O Murphy', 'W Y So', '130', '1161', '1', '1-3/4', '3   4   3', '1:11.23', '13'], ['TREASURE AND GOLD', 'J Moreira', 'C H Yip', '126', '1143', '9', '2-1/4', '6   5   4', '1:11.32', '3.7'], ['OPTIMISM', 'N Callan', 'D E Ferraris', '126', '1075', '2', '2-1/2', '9   9   5', '1:11.34', '7.5'], ['RICHCITY FORTUNE', 'S Clipperton', 'J Moore', '133', '1145', '8', '2-1/2', '4   3   6', '1:11.34', '5'], ['INTELLECTUAL GLIDE', 'M L Yeung', 'A Lee', '111', '1014', '3', '3-1/4', '12   12   7', '1:11.47', '11'], ['TELECOM BOOM', 'Z Purton', 'Y S Tsui', '123', '1107', '6', '3-1/4', '11   11   8', '1:11.48', '7.8'], ['GIDDY GIDDY', 'B Prebble', 'J Size', '130', '1130', '10', '3-1/2', '1   1   9', '1:11.52', '8.4'], ['PERFECT SMART', 'M Chadwick', 'C W Chang', '121', '1074', '4', '5-3/4', '7   7   10', '1:11.87', '42'], ['CHANS DELIGHT', 'K K Chiong', 'D Cruz', '118', '1095', '11', '7', '8   8   11', '1:12.06', '58'], ['ABLE TALENT', 'K C Ng', 'T K Ng', '108', '1042', '7', '7', '10   10   12', '1:12.07', '101']]\n",
      "http://racing.hkjc.com/racing/Info/Meeting/Results/english/Local/20170105\n",
      "[]\n",
      "http://racing.hkjc.com/racing/Info/Meeting/Results/english/Local/20170106\n",
      "[]\n",
      "http://racing.hkjc.com/racing/Info/Meeting/Results/english/Local/20170107\n",
      "[]\n",
      "http://racing.hkjc.com/racing/Info/Meeting/Results/english/Local/20170108\n",
      "[['BEST EFFORT', 'M L Yeung', 'A Lee', '131', '1018', '5', '-', '4   3   2   1', '1:35.38', '7.5'], ['CASH COURIER', 'S de Sousa', 'K L Man', '133', '1215', '9', 'N', '9   8   8   2', '1:35.44', '6.9'], ['GORGEOUS AGAIN', 'J Moreira', 'C S Shum', '127', '1066', '12', '3/4', '10   10   10   3', '1:35.51', '4.4'], ['LUCKY PLACE', 'O Doleuze', 'C W Chang', '120', '1064', '8', '1-1/4', '6   6   6   4', '1:35.60', '7.7'], ['DANEWIN EXPRESS', 'Z Purton', 'Y S Tsui', '130', '1146', '14', '2-3/4', '14   14   14   5', '1:35.82', '6.5'], ['DRAGON GLORY', 'A Badel', 'C W Chang', '113', '1110', '11', '2-3/4', '7   7   7   6', '1:35.83', '109'], ['SWEET BEAN', 'O Murphy', 'C Fownes', '127', '1021', '2', '4', '11   11   13   7', '1:36.01', '34'], ['MEDIC SWORDSMAN', 'H T Mo', 'D Cruz', '109', '1177', '13', '5-1/2', '13   12   11   8', '1:36.25', '95'], ['PERFECT TIMING', 'M Chadwick', 'T P Yung', '113', '1091', '10', '5-1/2', '12   13   12   9', '1:36.26', '16'], ['DASHING FORTUNE', 'N Callan', 'D E Ferraris', '124', '1149', '1', '6-1/4', '5   4   4   10', '1:36.39', '7.6'], ['FANTASTICLIFE', 'K Teetan', 'C Fownes', '127', '1105', '3', '8-3/4', '8   9   9   11', '1:36.77', '12'], ['POWER DRAGON', 'K K Chiong', 'C H Yip', '123', '1151', '4', '12-3/4', '1   1   1   12', '1:37.44', '16'], ['DASHING SUPER', 'C Y Ho', 'Y S Tsui', '130', '1172', '6', '14-1/4', '3   5   5   13', '1:37.66', '72'], ['FRESH AND FRESH', 'K C Ng', 'L Ho', '108', '1079', '7', '15-1/2', '2   2   3   14', '1:37.85', '31']]\n",
      "http://racing.hkjc.com/racing/Info/Meeting/Results/english/Local/20170109\n",
      "[]\n",
      "http://racing.hkjc.com/racing/Info/Meeting/Results/english/Local/20170110\n",
      "[]\n",
      "http://racing.hkjc.com/racing/Info/Meeting/Results/english/Local/20170111\n",
      "[['GLORY STAR', 'J Moreira', 'C S Shum', '128', '1116', '4', '-', '6   6   5   1', '1:40.57', '2.4'], ['GOLDEN PARTNERS', 'C Schofield', 'A T Millard', '118', '1101', '6', '1-1/4', '9   9   9   2', '1:40.76', '10'], ['SUPER SWEET ORANGE', 'N Callan', 'D E Ferraris', '130', '1243', '7', '1-1/4', '1   1   1   3', '1:40.77', '5'], ['LAUGHING LORD', 'O Doleuze', 'C W Chang', '122', '1095', '1', '3', '3   3   3   4', '1:41.05', '12'], ['PRECISIONCRAFTSMAN', 'M L Yeung', 'T P Yung', '126', '1066', '2', '3', '7   7   8   5', '1:41.06', '20'], ['MALAYAN PEARL', 'S Clipperton', 'D Cruz', '128', '1173', '3', '3-1/4', '2   2   2   6', '1:41.11', '23'], ['WEALTHY FORTUNE', 'S de Sousa', 'K L Man', '129', '1026', '8', '3-1/2', '10   10   10   7', '1:41.12', '17'], ['YOURTHEWONFORME', 'A Badel', 'T K Ng', '125', '1129', '9', '3-3/4', '8   8   7   8', '1:41.17', '18'], ['MY BLESSING', 'Z Purton', 'C H Yip', '123', '1068', '10', '4', '11   11   11   9', '1:41.20', '10'], ['BEST JADE TRIUMPH', 'B Prebble', 'A Lee', '127', '1022', '12', '5-3/4', '12   12   12   10', '1:41.47', '22'], ['LUCKY BALL', 'O Murphy', 'D J Hall', '124', '1055', '5', '10', '4   5   6   11', '1:42.15', '21'], ['DOUBLE POINT', 'K Teetan', 'C Fownes', '128', '1040', '11', '10', '5   4   4   12', '1:42.17', '30']]\n",
      "http://racing.hkjc.com/racing/Info/Meeting/Results/english/Local/20170112\n",
      "[]\n",
      "http://racing.hkjc.com/racing/Info/Meeting/Results/english/Local/20170113\n",
      "[]\n",
      "http://racing.hkjc.com/racing/Info/Meeting/Results/english/Local/20170114\n",
      "[['RICHCITY FORTUNE', 'B Prebble', 'J Moore', '132', '1142', '9', '-', '1   1   1', '1:10.25', '3.4'], [\"BERNARD'S CHOICE\", 'K Teetan', 'T K Ng', '113', '1065', '5', '2-3/4', '10   8   2', '1:10.68', '20'], ['TELECOM BOOM', 'C Y Ho', 'Y S Tsui', '120', '1102', '1', '4-1/4', '6   6   3', '1:10.91', '14'], ['GREAT SPEED', 'S de Sousa', 'L Ho', '116', '1089', '3', '4-1/4', '3   3   4', '1:10.93', '8.1'], [\"EVERYONE'S CHOICE\", 'N Callan', 'K L Man', '131', '1160', '7', '4-3/4', '2   2   5', '1:11.02', '10'], ['LEAN JOURNEY', 'O Doleuze', 'C H Yip', '127', '1118', '11', '6-3/4', '8   7   6', '1:11.33', '9.9'], ['STARRY STARLIES', 'J Moreira', \"P O'Sullivan\", '117', '1169', '12', '7-1/2', '11   11   7', '1:11.45', '4'], ['SILVER GATSBY', 'O Murphy', 'W Y So', '123', '1146', '8', '8-3/4', '5   4   8', '1:11.67', '13'], ['MANHATTAN STRIKER', 'C Schofield', 'C Fownes', '128', '1111', '4', '10-1/4', '4   5   9', '1:11.90', '15'], ['EMPIRE OF MONGOLIA', 'H T Mo', 'C S Shum', '123', '1050', '10', '11-1/4', '7   10   10', '1:12.07', '46'], ['THUNDER DASH', 'A Badel', 'D Cruz', '126', '1062', '2', '11-3/4', '9   9   11', '1:12.14', '13'], ['STRIKING STAR', 'M L Yeung', 'A Lee', '125', '---', '---', '---', '---', '---', '---']]\n",
      "http://racing.hkjc.com/racing/Info/Meeting/Results/english/Local/20170115\n",
      "[]\n",
      "http://racing.hkjc.com/racing/Info/Meeting/Results/english/Local/20170116\n",
      "[]\n",
      "http://racing.hkjc.com/racing/Info/Meeting/Results/english/Local/20170117\n",
      "[]\n",
      "http://racing.hkjc.com/racing/Info/Meeting/Results/english/Local/20170118\n",
      "[['BORN DRAGON', 'J Moreira', 'C Fownes', '131', '1011', '5', '-', '1   1   1', '1:09.57', '2.8'], ['AMBITIOUS SPEEDY', 'M L Yeung', 'A Lee', '126', '1209', '4', '2-1/4', '4   4   2', '1:09.94', '32'], ['LUCKY SEBRING', 'C Y Ho', 'Y S Tsui', '116', '1075', '1', '2-3/4', '6   5   3', '1:10.02', '120'], ['NO LAUGHING MATTER', 'H T Mo', 'C S Shum', '112', '1077', '12', '5-1/2', '11   11   4', '1:10.46', '60'], ['PLANET GIANT', 'N Callan', 'R Gibson', '128', '1096', '10', '5-3/4', '5   6   5', '1:10.47', '9.8'], ['LUCKY FRIENDS', 'D Whyte', 'D E Ferraris', '124', '1106', '3', '7', '3   2   6', '1:10.68', '11'], ['RISING POWER', 'O Doleuze', 'C W Chang', '132', '1106', '8', '7', '9   7   7', '1:10.70', '24'], ['LEAN JOURNEY', 'O Murphy', 'C H Yip', '127', '1107', '9', '7-1/4', '10   10   8', '1:10.72', '25'], ['SNOWHOOVES', 'K Teetan', 'D Cruz', '122', '1093', '11', '7-1/4', '8   9   9', '1:10.74', '6'], ['NOVEL START', 'S de Sousa', 'T K Ng', '121', '1092', '7', '8-1/4', '7   8   10', '1:10.89', '14'], ['SIR JOHN', 'B Prebble', 'W Y So', '130', '1147', '2', '8-3/4', '2   3   11', '1:10.99', '4.1'], ['BE THERE AHEAD', 'H W Lai', 'L Ho', '130', '1055', '6', '13-3/4', '12   12   12', '1:11.78', '18']]\n",
      "http://racing.hkjc.com/racing/Info/Meeting/Results/english/Local/20170119\n"
     ]
    },
    {
     "name": "stdout",
     "output_type": "stream",
     "text": [
      "[]\n",
      "http://racing.hkjc.com/racing/Info/Meeting/Results/english/Local/20170120\n",
      "[]\n",
      "http://racing.hkjc.com/racing/Info/Meeting/Results/english/Local/20170121\n",
      "[]\n",
      "http://racing.hkjc.com/racing/Info/Meeting/Results/english/Local/20170122\n",
      "[['KEEP MOVING', 'N Callan', 'P F Yiu', '126', '1104', '12', '-', '2   2   1', '0:58.15', '5.3'], ['CITY LEGEND', 'K Teetan', 'T P Yung', '126', '1032', '7', 'N', '11   10   2', '0:58.22', '74'], ['MERRYGOWIN', 'Z Purton', \"P O'Sullivan\", '126', '1124', '5', '1/2', '7   8   3', '0:58.25', '2.9'], ['HEALTHY LUCK', 'D Whyte', 'K L Man', '133', '1026', '3', '1', '4   5   4', '0:58.31', '4.7'], ['VITAL SPRING', 'J Moreira', 'J Size', '126', '1082', '1', '3-1/4', '8   6   5', '0:58.67', '9.8'], ['GRACE HEART', 'C Y Ho', 'C Fownes', '128', '979', '11', '3-1/4', '5   7   6', '0:58.67', '20'], ['VICTORY MUSIC', 'T Berry', 'J Moore', '126', '1153', '8', '4-1/4', '9   9   7', '0:58.83', '26'], ['BELOVED', 'C Schofield', 'P F Yiu', '131', '1076', '14', '4-3/4', '10   11   8', '0:58.91', '84'], ['JOLLY AMBER', 'O Murphy', 'P F Yiu', '126', '1081', '9', '5-3/4', '13   12   9', '0:59.06', '84'], ['HAPPY SOUND', 'H W Lai', 'A Lee', '116', '1146', '2', '6-3/4', '3   4   10', '0:59.22', '27'], ['MASSIVE MOVE', 'K K Chiong', 'L Ho', '113', '1107', '10', '8-1/4', '6   3   11', '0:59.47', '9.5'], [\"GENERAL O'REILLY\", 'K C Ng', 'Y S Tsui', '121', '1094', '4', '8-1/4', '14   14   12', '0:59.48', '212'], ['LUNAR ZEPHYR', 'N Rawiller', 'T P Yung', '126', '1039', '13', '11-3/4', '1   1   13', '1:00.01', '9.9'], ['FUN MANAGER', 'T H So', 'C H Yip', '118', '1064', '6', '12-1/2', '12   13   14', '1:00.16', '216'], ['PRINCE HARMONY', 'S de Sousa', 'W Y So', '122', '---', '---', '---', '---', '---', '---']]\n",
      "http://racing.hkjc.com/racing/Info/Meeting/Results/english/Local/20170123\n",
      "[]\n",
      "http://racing.hkjc.com/racing/Info/Meeting/Results/english/Local/20170124\n",
      "[]\n",
      "http://racing.hkjc.com/racing/Info/Meeting/Results/english/Local/20170125\n",
      "[['RUGBY DIAMOND', 'Z Purton', 'W Y So', '131', '1030', '11', '-', '1   1   1', '0:57.69', '23'], ['ALL TIMES LUCKY', 'T H So', 'L Ho', '111', '1049', '6', '1/2', '10   10   2', '0:57.79', '39'], ['GIDDY GIDDY', 'J Moreira', 'J Size', '131', '1128', '1', '1-3/4', '2   2   3', '0:57.99', '1.9'], ['TELECOM BOOM', 'C Y Ho', 'Y S Tsui', '119', '1109', '10', '2-3/4', '11   11   4', '0:58.14', '14'], ['POWER DRAGON', 'O Doleuze', 'C H Yip', '127', '1151', '7', '2-3/4', '5   6   5', '0:58.15', '9.9'], ['HIGHLAND DRAGON', 'N Callan', 'T K Ng', '129', '1092', '2', '3', '6   4   6', '0:58.18', '15'], ['KIM GLORY', 'K C Leung', 'D Cruz', '129', '1208', '5', '3-3/4', '7   8   7', '0:58.30', '8.2'], ['NOBLE BUDDIES', 'M L Yeung', 'A Lee', '111', '1189', '4', '4-1/4', '9   7   8', '0:58.37', '21'], ['DOUBLE MASTER', 'O Murphy', 'T K Ng', '132', '1082', '3', '4-3/4', '3   3   9', '0:58.46', '17'], ['PERFECT SMART', 'K Teetan', 'C W Chang', '120', '1083', '8', '5-1/4', '8   9   10', '0:58.54', '28'], ['GLORY HORSIE', 'K K Chiong', 'D Cruz', '128', '1264', '12', '5-3/4', '4   5   11', '0:58.61', '12'], ['A FAST ONE', 'D Whyte', 'D E Ferraris', '131', '1110', '9', '---', '---', '---', '24']]\n",
      "http://racing.hkjc.com/racing/Info/Meeting/Results/english/Local/20170126\n",
      "[]\n",
      "http://racing.hkjc.com/racing/Info/Meeting/Results/english/Local/20170127\n",
      "[]\n",
      "http://racing.hkjc.com/racing/Info/Meeting/Results/english/Local/20170128\n",
      "[]\n",
      "http://racing.hkjc.com/racing/Info/Meeting/Results/english/Local/20170129\n",
      "[]\n",
      "http://racing.hkjc.com/racing/Info/Meeting/Results/english/Local/20170130\n",
      "[['TREASURE AND GOLD', 'J Moreira', 'C H Yip', '124', '1154', '13', '-', '8   8   1', '1:10.35', '4.7'], ['FRIENDS FOREVER', 'K K Chiong', 'K L Man', '114', '1253', '7', '3/4', '1   1   2', '1:10.50', '8.4'], ['MANHATTAN STRIKER', 'O Doleuze', 'C Fownes', '122', '1088', '3', '1-1/4', '7   6   3', '1:10.58', '14'], ['STARRY STARLIES', 'H T Mo', \"P O'Sullivan\", '105', '1173', '11', '2-1/4', '13   12   4', '1:10.70', '16'], ['FURIOUS PEGASUS', 'O Murphy', 'T K Ng', '132', '1041', '6', '2-1/2', '11   10   5', '1:10.74', '47'], [\"BERNARD'S CHOICE\", 'K Teetan', 'T K Ng', '113', '1058', '8', '2-1/2', '12   13   6', '1:10.74', '16'], ['DYNAMIC VOYAGE', 'K C Leung', 'L Ho', '123', '1138', '4', '2-1/2', '9   7   7', '1:10.76', '19'], ['SHOW MISSION', 'H W Lai', 'Y S Tsui', '121', '1088', '14', '2-3/4', '5   5   8', '1:10.78', '15'], ['HAPPY FIERY DRAGON', 'N Callan', 'D Cruz', '132', '1022', '5', '2-3/4', '2   2   9', '1:10.81', '3.8'], ['EMPIRE OF MONGOLIA', 'C Y Ho', 'C S Shum', '126', '1043', '1', '3-1/4', '3   3   10', '1:10.87', '38'], ['INTELLECTUAL GLIDE', 'M L Yeung', 'A Lee', '112', '1017', '9', '3-3/4', '10   11   11', '1:10.96', '17'], ['OPTIMISM', 'C Schofield', 'D E Ferraris', '124', '1076', '10', '4-1/2', '14   14   12', '1:11.08', '13'], ['CHANS DELIGHT', 'M Chadwick', 'D Cruz', '121', '1089', '2', '6-1/2', '4   4   13', '1:11.38', '26'], ['HAPPY WAY WINNER', 'K C Ng', 'K W Lui', '127', '1055', '12', '8-1/4', '6   9   14', '1:11.67', '9.8']]\n",
      "http://racing.hkjc.com/racing/Info/Meeting/Results/english/Local/20170131\n",
      "[]\n"
     ]
    }
   ],
   "source": [
    "#URL of data\n",
    "url_front = \"http://racing.hkjc.com/racing/Info/Meeting/Results/english/Local/\"\n",
    "\n",
    "#Write a loop to go through year, month and day\n",
    "#Note that month and day is always 2 digit\n",
    "#Call scrape_horses() in each iteration\n",
    "for year in range(2017,2018):\n",
    "    for month in range(1,2):\n",
    "        for day in range(1,32):\n",
    "            \n",
    "            #Convert month and day to 2-digit representation\n",
    "            month_2d = '{:02d}'.format(month)\n",
    "            day_2d = '{:02d}'.format(day)\n",
    "            \n",
    "            url = url_front + str(year) + month_2d + day_2d\n",
    "            \n",
    "            print(url)\n",
    "            print(scrape_horses(url))\n",
    "            "
   ]
  },
  {
   "cell_type": "markdown",
   "metadata": {},
   "source": [
    "### D. Saving data to file\n",
    "\n",
    "Most of the time we want to save the data for future use. The most common method is to save the data in a CSV file, a format that is supported by virtually all data analysis software.\n",
    "\n",
    "Package needed:\n",
    "- CSV file reading and writing: https://docs.python.org/3.6/library/csv.html\n",
    "\n",
    "The basic syntax of saving into a CSV file is:"
   ]
  },
  {
   "cell_type": "code",
   "execution_count": 133,
   "metadata": {},
   "outputs": [],
   "source": [
    "filepath = \"../data/temp.csv\"\n",
    "content = [[1,\"ha\",\"abc\"]]\n",
    "\n",
    "import csv\n",
    "with open(filepath, 'w', newline='') as csvfile:\n",
    "    mywriter = csv.writer(csvfile)\n",
    "    mywriter.writerows(content)"
   ]
  },
  {
   "cell_type": "markdown",
   "metadata": {},
   "source": [
    "Now we will incorporate file-saving to our loop:"
   ]
  },
  {
   "cell_type": "code",
   "execution_count": null,
   "metadata": {},
   "outputs": [
    {
     "name": "stdout",
     "output_type": "stream",
     "text": [
      "Trying: http://racing.hkjc.com/racing/Info/Meeting/Results/english/Local/20160101\n",
      "20160101.csv saved.\n",
      "Trying: http://racing.hkjc.com/racing/Info/Meeting/Results/english/Local/20160102\n",
      "Trying: http://racing.hkjc.com/racing/Info/Meeting/Results/english/Local/20160103\n",
      "Trying: http://racing.hkjc.com/racing/Info/Meeting/Results/english/Local/20160104\n",
      "Trying: http://racing.hkjc.com/racing/Info/Meeting/Results/english/Local/20160105\n",
      "Trying: http://racing.hkjc.com/racing/Info/Meeting/Results/english/Local/20160106\n",
      "20160106.csv saved.\n",
      "Trying: http://racing.hkjc.com/racing/Info/Meeting/Results/english/Local/20160107\n",
      "Trying: http://racing.hkjc.com/racing/Info/Meeting/Results/english/Local/20160108\n",
      "Trying: http://racing.hkjc.com/racing/Info/Meeting/Results/english/Local/20160109\n",
      "20160109.csv saved.\n",
      "Trying: http://racing.hkjc.com/racing/Info/Meeting/Results/english/Local/20160110\n",
      "Trying: http://racing.hkjc.com/racing/Info/Meeting/Results/english/Local/20160111\n",
      "Trying: http://racing.hkjc.com/racing/Info/Meeting/Results/english/Local/20160112\n",
      "Trying: http://racing.hkjc.com/racing/Info/Meeting/Results/english/Local/20160113\n",
      "20160113.csv saved.\n",
      "Trying: http://racing.hkjc.com/racing/Info/Meeting/Results/english/Local/20160114\n",
      "Trying: http://racing.hkjc.com/racing/Info/Meeting/Results/english/Local/20160115\n",
      "Trying: http://racing.hkjc.com/racing/Info/Meeting/Results/english/Local/20160116\n",
      "Trying: http://racing.hkjc.com/racing/Info/Meeting/Results/english/Local/20160117\n",
      "20160117.csv saved.\n",
      "Trying: http://racing.hkjc.com/racing/Info/Meeting/Results/english/Local/20160118\n",
      "Trying: http://racing.hkjc.com/racing/Info/Meeting/Results/english/Local/20160119\n",
      "Trying: http://racing.hkjc.com/racing/Info/Meeting/Results/english/Local/20160120\n",
      "20160120.csv saved.\n",
      "Trying: http://racing.hkjc.com/racing/Info/Meeting/Results/english/Local/20160121\n",
      "Trying: http://racing.hkjc.com/racing/Info/Meeting/Results/english/Local/20160122\n",
      "Trying: http://racing.hkjc.com/racing/Info/Meeting/Results/english/Local/20160123\n",
      "Trying: http://racing.hkjc.com/racing/Info/Meeting/Results/english/Local/20160124\n",
      "20160124.csv saved.\n",
      "Trying: http://racing.hkjc.com/racing/Info/Meeting/Results/english/Local/20160125\n",
      "Trying: http://racing.hkjc.com/racing/Info/Meeting/Results/english/Local/20160126\n",
      "Trying: http://racing.hkjc.com/racing/Info/Meeting/Results/english/Local/20160127\n",
      "Trying: http://racing.hkjc.com/racing/Info/Meeting/Results/english/Local/20160128\n",
      "Trying: http://racing.hkjc.com/racing/Info/Meeting/Results/english/Local/20160129\n",
      "Trying: http://racing.hkjc.com/racing/Info/Meeting/Results/english/Local/20160130\n",
      "Trying: http://racing.hkjc.com/racing/Info/Meeting/Results/english/Local/20160131\n",
      "20160131.csv saved.\n",
      "Trying: http://racing.hkjc.com/racing/Info/Meeting/Results/english/Local/20160201\n",
      "Trying: http://racing.hkjc.com/racing/Info/Meeting/Results/english/Local/20160202\n",
      "Trying: http://racing.hkjc.com/racing/Info/Meeting/Results/english/Local/20160203\n",
      "20160203.csv saved.\n",
      "Trying: http://racing.hkjc.com/racing/Info/Meeting/Results/english/Local/20160204\n",
      "Trying: http://racing.hkjc.com/racing/Info/Meeting/Results/english/Local/20160205\n",
      "Trying: http://racing.hkjc.com/racing/Info/Meeting/Results/english/Local/20160206\n",
      "20160206.csv saved.\n",
      "Trying: http://racing.hkjc.com/racing/Info/Meeting/Results/english/Local/20160207\n",
      "Trying: http://racing.hkjc.com/racing/Info/Meeting/Results/english/Local/20160208\n",
      "Trying: http://racing.hkjc.com/racing/Info/Meeting/Results/english/Local/20160209\n",
      "Trying: http://racing.hkjc.com/racing/Info/Meeting/Results/english/Local/20160210\n",
      "20160210.csv saved.\n",
      "Trying: http://racing.hkjc.com/racing/Info/Meeting/Results/english/Local/20160211\n",
      "Trying: http://racing.hkjc.com/racing/Info/Meeting/Results/english/Local/20160212\n",
      "Trying: http://racing.hkjc.com/racing/Info/Meeting/Results/english/Local/20160213\n",
      "Trying: http://racing.hkjc.com/racing/Info/Meeting/Results/english/Local/20160214\n",
      "20160214.csv saved.\n",
      "Trying: http://racing.hkjc.com/racing/Info/Meeting/Results/english/Local/20160215\n",
      "Trying: http://racing.hkjc.com/racing/Info/Meeting/Results/english/Local/20160216\n",
      "Trying: http://racing.hkjc.com/racing/Info/Meeting/Results/english/Local/20160217\n",
      "20160217.csv saved.\n",
      "Trying: http://racing.hkjc.com/racing/Info/Meeting/Results/english/Local/20160218\n",
      "Trying: http://racing.hkjc.com/racing/Info/Meeting/Results/english/Local/20160219\n",
      "Trying: http://racing.hkjc.com/racing/Info/Meeting/Results/english/Local/20160220\n",
      "Trying: http://racing.hkjc.com/racing/Info/Meeting/Results/english/Local/20160221\n",
      "20160221.csv saved.\n",
      "Trying: http://racing.hkjc.com/racing/Info/Meeting/Results/english/Local/20160222\n",
      "Trying: http://racing.hkjc.com/racing/Info/Meeting/Results/english/Local/20160223\n",
      "Trying: http://racing.hkjc.com/racing/Info/Meeting/Results/english/Local/20160224\n",
      "20160224.csv saved.\n",
      "Trying: http://racing.hkjc.com/racing/Info/Meeting/Results/english/Local/20160225\n",
      "Trying: http://racing.hkjc.com/racing/Info/Meeting/Results/english/Local/20160226\n",
      "Trying: http://racing.hkjc.com/racing/Info/Meeting/Results/english/Local/20160227\n",
      "Trying: http://racing.hkjc.com/racing/Info/Meeting/Results/english/Local/20160228\n",
      "20160228.csv saved.\n",
      "Trying: http://racing.hkjc.com/racing/Info/Meeting/Results/english/Local/20160229\n",
      "Trying: http://racing.hkjc.com/racing/Info/Meeting/Results/english/Local/20160230\n",
      "Trying: http://racing.hkjc.com/racing/Info/Meeting/Results/english/Local/20160231\n",
      "Trying: http://racing.hkjc.com/racing/Info/Meeting/Results/english/Local/20160301\n",
      "Trying: http://racing.hkjc.com/racing/Info/Meeting/Results/english/Local/20160302\n",
      "20160302.csv saved.\n",
      "Trying: http://racing.hkjc.com/racing/Info/Meeting/Results/english/Local/20160303\n",
      "Trying: http://racing.hkjc.com/racing/Info/Meeting/Results/english/Local/20160304\n",
      "Trying: http://racing.hkjc.com/racing/Info/Meeting/Results/english/Local/20160305\n",
      "Trying: http://racing.hkjc.com/racing/Info/Meeting/Results/english/Local/20160306\n",
      "20160306.csv saved.\n",
      "Trying: http://racing.hkjc.com/racing/Info/Meeting/Results/english/Local/20160307\n",
      "Trying: http://racing.hkjc.com/racing/Info/Meeting/Results/english/Local/20160308\n",
      "Trying: http://racing.hkjc.com/racing/Info/Meeting/Results/english/Local/20160309\n",
      "20160309.csv saved.\n",
      "Trying: http://racing.hkjc.com/racing/Info/Meeting/Results/english/Local/20160310\n",
      "Trying: http://racing.hkjc.com/racing/Info/Meeting/Results/english/Local/20160311\n",
      "Trying: http://racing.hkjc.com/racing/Info/Meeting/Results/english/Local/20160312\n",
      "Trying: http://racing.hkjc.com/racing/Info/Meeting/Results/english/Local/20160313\n",
      "20160313.csv saved.\n",
      "Trying: http://racing.hkjc.com/racing/Info/Meeting/Results/english/Local/20160314\n",
      "Trying: http://racing.hkjc.com/racing/Info/Meeting/Results/english/Local/20160315\n",
      "Trying: http://racing.hkjc.com/racing/Info/Meeting/Results/english/Local/20160316\n",
      "20160316.csv saved.\n",
      "Trying: http://racing.hkjc.com/racing/Info/Meeting/Results/english/Local/20160317\n",
      "Trying: http://racing.hkjc.com/racing/Info/Meeting/Results/english/Local/20160318\n",
      "Trying: http://racing.hkjc.com/racing/Info/Meeting/Results/english/Local/20160319\n",
      "Trying: http://racing.hkjc.com/racing/Info/Meeting/Results/english/Local/20160320\n",
      "20160320.csv saved.\n",
      "Trying: http://racing.hkjc.com/racing/Info/Meeting/Results/english/Local/20160321\n",
      "Trying: http://racing.hkjc.com/racing/Info/Meeting/Results/english/Local/20160322\n",
      "Trying: http://racing.hkjc.com/racing/Info/Meeting/Results/english/Local/20160323\n",
      "20160323.csv saved.\n",
      "Trying: http://racing.hkjc.com/racing/Info/Meeting/Results/english/Local/20160324\n",
      "Trying: http://racing.hkjc.com/racing/Info/Meeting/Results/english/Local/20160325\n",
      "Trying: http://racing.hkjc.com/racing/Info/Meeting/Results/english/Local/20160326\n",
      "Trying: http://racing.hkjc.com/racing/Info/Meeting/Results/english/Local/20160327\n",
      "Trying: http://racing.hkjc.com/racing/Info/Meeting/Results/english/Local/20160328\n",
      "20160328.csv saved.\n",
      "Trying: http://racing.hkjc.com/racing/Info/Meeting/Results/english/Local/20160329\n",
      "Trying: http://racing.hkjc.com/racing/Info/Meeting/Results/english/Local/20160330\n",
      "Trying: http://racing.hkjc.com/racing/Info/Meeting/Results/english/Local/20160331\n",
      "20160331.csv saved.\n",
      "Trying: http://racing.hkjc.com/racing/Info/Meeting/Results/english/Local/20160401\n"
     ]
    },
    {
     "name": "stdout",
     "output_type": "stream",
     "text": [
      "Trying: http://racing.hkjc.com/racing/Info/Meeting/Results/english/Local/20160402\n"
     ]
    }
   ],
   "source": [
    "#The first part of the URL of data source\n",
    "url_front = \"http://racing.hkjc.com/racing/Info/Meeting/Results/english/Local/\"\n",
    "\n",
    "#Copy the loop from above and incorporate the csv-saving code\n",
    "for year in range(2017,2018):\n",
    "    for month in range(1,2):\n",
    "        for day in range(1,32):\n",
    "            \n",
    "            #Convert month and day to 2-digit representation\n",
    "            month_2d = '{:02d}'.format(month)\n",
    "            day_2d = '{:02d}'.format(day)\n",
    "            \n",
    "            #Full URL of data source\n",
    "            url = url_front + str(year) + month_2d + day_2d\n",
    "            \n",
    "            #Print the URL so we know the progress so far\n",
    "            print(\"Trying:\",url)\n",
    "            \n",
    "            #Call our function to fetch and process data given the URL\n",
    "            content = scrape_horses(url)\n",
    "            \n",
    "            #Only save if there is something in content\n",
    "            if len(content) > 0:\n",
    "                filepath = str(year)+month_2d+day_2d+\".csv\"\n",
    "                \n",
    "                #This part is just standard CSV-writing code\n",
    "                import csv\n",
    "                with open(filepath, 'w', newline='') as csvfile:\n",
    "                    mywriter = csv.writer(csvfile)\n",
    "                    mywriter.writerows(content)   \n",
    "                    print(filepath,\"saved.\")"
   ]
  },
  {
   "cell_type": "markdown",
   "metadata": {},
   "source": [
    "### E. Exercise\n",
    "How to get the data for different races? In particular, how should we handle the code for race tracks in the URL?"
   ]
  },
  {
   "cell_type": "code",
   "execution_count": null,
   "metadata": {
    "collapsed": true
   },
   "outputs": [],
   "source": []
  }
 ],
 "metadata": {
  "kernelspec": {
   "display_name": "Python 3",
   "language": "python",
   "name": "python3"
  },
  "language_info": {
   "codemirror_mode": {
    "name": "ipython",
    "version": 3
   },
   "file_extension": ".py",
   "mimetype": "text/x-python",
   "name": "python",
   "nbconvert_exporter": "python",
   "pygments_lexer": "ipython3",
   "version": "3.6.10"
  }
 },
 "nbformat": 4,
 "nbformat_minor": 1
}
