{
 "cells": [
  {
   "cell_type": "markdown",
   "metadata": {},
   "source": [
    "# Numpy\n",
    "\n",
    "Version: 2024-9-17\n",
    "\n",
    "When it comes to calculation that involves numeric data, look no further than the ```numpy``` library.  ```numpy``` is a workhorse library whose format and functions are utilized in most Python data processing packages. In this notebook we will go through basic manipulation of numeric data, including linear algebra functions.\n",
    "\n",
    "We start with importing the NumPy library:"
   ]
  },
  {
   "cell_type": "code",
   "execution_count": null,
   "metadata": {},
   "outputs": [],
   "source": [
    "# Import the NumPy library\n",
    "import numpy as np"
   ]
  },
  {
   "cell_type": "markdown",
   "metadata": {},
   "source": [
    "You might notice we are using a slightly different way to import the library\n",
    "than before. The ```as``` keyword allows us to shorten the name of the imported\n",
    "module to whatever we wish it to be, which is convenient when the original \n",
    "module name is long.\n",
    "\n",
    "### A. Data Format: Matrix vs Array\n",
    "When you convert data into numpy format, you have a choice of converting it into a ```matrix``` or an ```array```. Which one to use depends on your need: \n",
    "- ```matrix```: when data is in this format, it behaves in exactly the way you would expect in linear algebra. This format also provides shortcuts to functions commonly used in linear algebra. The downside is that matrix, by definition, can only have two dimensions, so operations on ```matrix``` assume the data is 2D. Furthermore you also lose some convenient features of numpy.\n",
    "- ```array```: data in this format can have any number of dimension, which is often necessary when it comes to processing data. Operations such as multiplication and power are also treated differently from ```matrix```. Most python data processing libraries return data in this format.\n",
    "\n",
    "We will first cover ```matrix``` because linear algebra is what you should be more familiar with, followed by ```array```."
   ]
  },
  {
   "cell_type": "markdown",
   "metadata": {},
   "source": [
    "### B. Creating Matrices\n",
    "\n",
    "Let us start with creating a matrix. The syntax to create a matrix is\n",
    "```python \n",
    "matrix_name = np.matrix([[row1],[row2],...])\n",
    "```\n",
    "\n",
    "So if we have a matrix \n",
    "$ A =\n",
    "\\begin{bmatrix}\n",
    "a & b \\\\\n",
    "c & d\n",
    "\\end{bmatrix}\n",
    "$, we would create it by\n",
    "```python\n",
    "A = np.matrix([[a,b],[c,d]])\n",
    "```"
   ]
  },
  {
   "cell_type": "code",
   "execution_count": null,
   "metadata": {},
   "outputs": [],
   "source": [
    "# Create a matrix\n"
   ]
  },
  {
   "cell_type": "markdown",
   "metadata": {},
   "source": [
    "We can get the dimension/shape of the matrix by ```matrix_name.shape```."
   ]
  },
  {
   "cell_type": "code",
   "execution_count": null,
   "metadata": {},
   "outputs": [],
   "source": [
    "# Shape of matrix\n"
   ]
  },
  {
   "cell_type": "markdown",
   "metadata": {},
   "source": [
    "There are additional commands to create special matrices:\n",
    "- Identity matrix: ```np.identity(dimension)``` or ```np.eye(dimension)```\n",
    "- Matrix of ones: ```np.ones((row,column))```\n",
    "- Matrix of zeros: ```np.zeros((row,column))```\n",
    "- Empty matrix: ```np.empty((row,column))```\n",
    "- Replacing all values with a constant: ```matrix_name.fill(new_value)```"
   ]
  },
  {
   "cell_type": "code",
   "execution_count": null,
   "metadata": {},
   "outputs": [],
   "source": [
    "# Identity matrix with 3 rows and 3 columns\n"
   ]
  },
  {
   "cell_type": "code",
   "execution_count": null,
   "metadata": {},
   "outputs": [],
   "source": [
    "# A 2x3 matrix of ones\n"
   ]
  },
  {
   "cell_type": "code",
   "execution_count": null,
   "metadata": {
    "scrolled": true
   },
   "outputs": [],
   "source": [
    "# A 3x4 matrix of zeros\n"
   ]
  },
  {
   "cell_type": "code",
   "execution_count": null,
   "metadata": {},
   "outputs": [],
   "source": [
    "# A 3x3 matrix of 5\n",
    "# There are many ways to achive this\n",
    "\n",
    "# Method 1\n",
    "\n",
    "\n",
    "# Method 2\n",
    "\n",
    "\n",
    "# Method 3\n"
   ]
  },
  {
   "cell_type": "markdown",
   "metadata": {},
   "source": [
    "### C. Arithmetics\n",
    "\n",
    "Basic arithmetics work as you would expect:"
   ]
  },
  {
   "cell_type": "code",
   "execution_count": null,
   "metadata": {},
   "outputs": [],
   "source": [
    "# Addition\n"
   ]
  },
  {
   "cell_type": "code",
   "execution_count": null,
   "metadata": {},
   "outputs": [],
   "source": [
    "# Subtraction\n"
   ]
  },
  {
   "cell_type": "code",
   "execution_count": null,
   "metadata": {},
   "outputs": [],
   "source": [
    "# Multiplication\n"
   ]
  },
  {
   "cell_type": "code",
   "execution_count": null,
   "metadata": {},
   "outputs": [],
   "source": [
    "# Multiplication with constant term\n"
   ]
  },
  {
   "cell_type": "markdown",
   "metadata": {},
   "source": [
    "### D. Transpose and Inverse\n",
    "\n",
    "- Transpose: ```matrix_name.T```\n",
    "- Inverse: ```matrix_name.I```\n",
    "- Determinant: ```np.linalg.det(matrix_name)```\n",
    "- Rank: ```np.linalg.matrix_rank(matrix_name)```"
   ]
  },
  {
   "cell_type": "code",
   "execution_count": null,
   "metadata": {},
   "outputs": [],
   "source": [
    "# Transpose\n"
   ]
  },
  {
   "cell_type": "code",
   "execution_count": null,
   "metadata": {
    "scrolled": true
   },
   "outputs": [],
   "source": [
    "# Inverse\n"
   ]
  },
  {
   "cell_type": "code",
   "execution_count": null,
   "metadata": {},
   "outputs": [],
   "source": [
    "# Determinant\n"
   ]
  },
  {
   "cell_type": "code",
   "execution_count": null,
   "metadata": {},
   "outputs": [],
   "source": [
    "# Rank (number of independent rows)\n"
   ]
  },
  {
   "cell_type": "markdown",
   "metadata": {},
   "source": [
    "To change to shape of a matrix, use ```matrix_name.reshape(size)```."
   ]
  },
  {
   "cell_type": "code",
   "execution_count": null,
   "metadata": {},
   "outputs": [],
   "source": [
    "# A 2x3 matrix\n",
    "\n",
    "\n",
    "# B is A reshaped to 3x2\n"
   ]
  },
  {
   "cell_type": "markdown",
   "metadata": {},
   "source": [
    "### E. Accessing Individual elements, Rows and Columns\n",
    "\n",
    "You can access an individual element within a matrix with \n",
    "```python\n",
    "matrix_name[row - 1,column - 1]\n",
    "```"
   ]
  },
  {
   "cell_type": "code",
   "execution_count": null,
   "metadata": {},
   "outputs": [],
   "source": [
    "A = np.matrix([[1,2],[3,4]])\n",
    "\n",
    "# Element in the 1st row and 2nd column\n"
   ]
  },
  {
   "cell_type": "markdown",
   "metadata": {},
   "source": [
    "Access a whole row by specifying only the row number:\n",
    "```python\n",
    "matrix_name[row - 1]\n",
    "```"
   ]
  },
  {
   "cell_type": "code",
   "execution_count": null,
   "metadata": {},
   "outputs": [],
   "source": [
    "# 1st Row \n"
   ]
  },
  {
   "cell_type": "markdown",
   "metadata": {},
   "source": [
    "Access a whole column by specifying the row number to be ```:```,\n",
    "which means all rows, and the column number:\n",
    "```python\n",
    "matrix_name[:,column - 1]\n",
    "```"
   ]
  },
  {
   "cell_type": "code",
   "execution_count": null,
   "metadata": {},
   "outputs": [],
   "source": [
    "# 1st Column\n"
   ]
  },
  {
   "cell_type": "markdown",
   "metadata": {},
   "source": [
    "The ```:``` above represents a range. You can specify the \n",
    "beginning and the end of the range as follows:\n",
    "```python\n",
    "start:end\n",
    "```\n",
    "As with ```range()```, the range starts at ```start``` but \n",
    "ends *before* ```end```. \n",
    "\n",
    "If you do not specify ```start```, \n",
    "the default is to start from the beginning. If you do not \n",
    "specify ```end```, the default is to end at the maximum."
   ]
  },
  {
   "cell_type": "code",
   "execution_count": null,
   "metadata": {},
   "outputs": [],
   "source": [
    "# Create a 3x3 matrix\n",
    "A = np.matrix([[1,2,3],[4,5,6],[7,8,9]])\n",
    "\n",
    "# Bottom-right 2x2 matrix\n",
    "\n",
    "\n",
    "# The two leftmost columns\n",
    "\n"
   ]
  },
  {
   "cell_type": "markdown",
   "metadata": {},
   "source": [
    "### F. Arrays"
   ]
  },
  {
   "cell_type": "markdown",
   "metadata": {},
   "source": [
    "To see the difference between ```matrix``` and ```array```, let us create identical sets of data in both formats:"
   ]
  },
  {
   "cell_type": "code",
   "execution_count": null,
   "metadata": {},
   "outputs": [],
   "source": [
    "A = np.matrix([[1,2],[3,4]])\n",
    "B = np.matrix([[2,2],[2,2]])\n",
    "\n",
    "C = np.array([[1,2],[3,4]])\n",
    "D = np.array([[2,2],[2,2]])"
   ]
  },
  {
   "cell_type": "markdown",
   "metadata": {},
   "source": [
    "Now let us try multiplying the data:"
   ]
  },
  {
   "cell_type": "code",
   "execution_count": null,
   "metadata": {
    "scrolled": true
   },
   "outputs": [],
   "source": []
  },
  {
   "cell_type": "code",
   "execution_count": null,
   "metadata": {
    "scrolled": true
   },
   "outputs": [],
   "source": []
  },
  {
   "cell_type": "markdown",
   "metadata": {},
   "source": [
    "The results are different. ```A*B``` gave us the result of a matrix multiplication, while ```C*D``` gave us something else. What did it do, exactly?\n",
    "\n",
    "Let us try squaring ```A``` and ```C``` instead:"
   ]
  },
  {
   "cell_type": "code",
   "execution_count": null,
   "metadata": {},
   "outputs": [],
   "source": []
  },
  {
   "cell_type": "code",
   "execution_count": null,
   "metadata": {},
   "outputs": [],
   "source": []
  },
  {
   "cell_type": "markdown",
   "metadata": {},
   "source": [
    "Now it should be clear what ```array``` operations do: it is performing *elementwise* operations. In other words,\n",
    "$$\n",
    "A \\text{ op } B = \\left[a_{ij} \\text{ op } b_{ij} \\right]\n",
    "$$\n",
    "\n",
    "For matrix operations that are elementwise in nature, ```matrix``` and ```array``` format give the same results:"
   ]
  },
  {
   "cell_type": "code",
   "execution_count": null,
   "metadata": {},
   "outputs": [],
   "source": []
  },
  {
   "cell_type": "code",
   "execution_count": null,
   "metadata": {
    "scrolled": true
   },
   "outputs": [],
   "source": []
  },
  {
   "cell_type": "markdown",
   "metadata": {},
   "source": [
    "To perform matrix multiplication on arrays, you can use ```np.dot()```:"
   ]
  },
  {
   "cell_type": "code",
   "execution_count": null,
   "metadata": {},
   "outputs": [],
   "source": []
  },
  {
   "cell_type": "markdown",
   "metadata": {},
   "source": [
    "```Array``` does not have a ```.I``` shortcut for inverse:"
   ]
  },
  {
   "cell_type": "code",
   "execution_count": null,
   "metadata": {
    "scrolled": true
   },
   "outputs": [],
   "source": []
  },
  {
   "cell_type": "markdown",
   "metadata": {},
   "source": [
    "Instead you have to use ```np.linalg.inv()```:"
   ]
  },
  {
   "cell_type": "code",
   "execution_count": null,
   "metadata": {},
   "outputs": [],
   "source": []
  },
  {
   "cell_type": "markdown",
   "metadata": {},
   "source": [
    "Conversion between the two formats can be done with ```np.asarray()``` and ```np.asmatrix()```:"
   ]
  },
  {
   "cell_type": "code",
   "execution_count": null,
   "metadata": {
    "scrolled": true
   },
   "outputs": [],
   "source": []
  },
  {
   "cell_type": "markdown",
   "metadata": {},
   "source": [
    "### G. Basic Statistics\n",
    "\n",
    "- Mean: ```np.mean()```\n",
    "- Median: ```np.median()```\n",
    "- Variance: ```np.var()```\n",
    "- Standard Deviation: ```np.std()```\n",
    "- Mode: ```scipy.stats.mode()```\n",
    "\n",
    "The default behavior of these functions is to take all elements in the array into consideration:"
   ]
  },
  {
   "cell_type": "code",
   "execution_count": null,
   "metadata": {},
   "outputs": [],
   "source": [
    "# Mean\n"
   ]
  },
  {
   "cell_type": "markdown",
   "metadata": {},
   "source": [
    "If you want the mean across a particular dimension, you need to specify that with the ```axis``` option:"
   ]
  },
  {
   "cell_type": "code",
   "execution_count": null,
   "metadata": {},
   "outputs": [],
   "source": [
    "# Mean across rows\n",
    "\n",
    "\n",
    "# Mean across columns\n"
   ]
  },
  {
   "cell_type": "markdown",
   "metadata": {},
   "source": [
    "### H: Random Number Generators\n",
    "\n",
    "- Uniform, from 0 to smaller than 1: ```np.random.rand(d0,d1,...)```\n",
    "- Uniform, integers, from *a* to smaller than *b*: ```np.random.randint(low,high,size)```\n",
    "- Standard normal distribution: ```np.random.rand(d0,d1,...)```"
   ]
  },
  {
   "cell_type": "code",
   "execution_count": null,
   "metadata": {},
   "outputs": [],
   "source": [
    "# 10 random integers between 0 and 9\n"
   ]
  }
 ],
 "metadata": {
  "anaconda-cloud": {},
  "kernelspec": {
   "display_name": "Python 3 (ipykernel)",
   "language": "python",
   "name": "python3"
  },
  "language_info": {
   "codemirror_mode": {
    "name": "ipython",
    "version": 3
   },
   "file_extension": ".py",
   "mimetype": "text/x-python",
   "name": "python",
   "nbconvert_exporter": "python",
   "pygments_lexer": "ipython3",
   "version": "3.11.7"
  }
 },
 "nbformat": 4,
 "nbformat_minor": 4
}
