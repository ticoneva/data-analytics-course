{
 "cells": [
  {
   "cell_type": "markdown",
   "metadata": {},
   "source": [
    "# Object-Oriented Programming\n",
    "\n",
    "Most modern programming languages implement a paradigm called *object-oriented programming (OOP)*. The basic idea of OOP is to organize a program around self-containing 'objects'. This has many benefits, such as encouraging reuse of codes and making the program easier to maintain.\n",
    "\n",
    "First some terminology: \n",
    "- **Class** is the definition of a given class of objects. This is where you write the codes defining what the object is and does.\n",
    "- **Object** is an instance of a class. You can have many objects of the same class in a program, each sharing the same mechanisms but have their own set of data. \n",
    "\n",
    "Example: Scikit-learn's `LinearRegression()` is a class, defining a linear regression. when you write `ols = LinearRegresssion()`, you are creating an object called `ols` that is an instance of `LinearRegression()`. If you need to run multiple regressions, you will create multiple instances of linear regression (e.g. `ols_2`, `ols_robust_check`,...), each with its own set of variables and coefficients.\n",
    "\n",
    "The main characteristics of OOP are:\n",
    "- **Abstraction**:The user of an object only needs to know the high-level mechanism of the object. Implementation details are hidden from the user.\n",
    "- **Encapsulation**: An object's data is kept safe from outside interference.\n",
    "- **Interitance**: A class derived from another class retains the mechanism of the latter.\n",
    "- **Polymorphism**: A dervied class can vary the implementation of inherited mechanism as needed.\n",
    "\n",
    "The basic structure of a class is:\n",
    "```python\n",
    "class name(parent_class):\n",
    "    \n",
    "    #Put variables which values need to be shared across \n",
    "    #all instances here\n",
    "    class_var = value \n",
    "    \n",
    "    def __init__(self,params):\n",
    "        #This runs when an object is created\n",
    "        \n",
    "        #Put variables which values need to be unique\n",
    "        #for each instance here\n",
    "        instance_var = value\n",
    "        \n",
    "    def method(self,params_2):\n",
    "        #Do something here\n",
    "        \n",
    "    def method_3(self,params_3):\n",
    "        #This is how you use another method from \n",
    "        #the same class\n",
    "        self.method(params_3) \n",
    "        \n",
    "        #This is how you call parent_class's methods\n",
    "        super().method_3(params_3)\n",
    "      \n",
    "```\n",
    "\n",
    "In this notebook, we will create three classes:\n",
    "1. `shape`, a class that defines some basic properties of a shape.\n",
    "2. `rectangle`, a class that contains a rectangle.\n",
    "3. `triangle`, a class that contains a triangle."
   ]
  },
  {
   "cell_type": "code",
   "execution_count": null,
   "metadata": {},
   "outputs": [],
   "source": [
    "# Definition of shape\n"
   ]
  },
  {
   "cell_type": "code",
   "execution_count": null,
   "metadata": {},
   "outputs": [],
   "source": [
    "# Definition of rectangle\n"
   ]
  },
  {
   "cell_type": "code",
   "execution_count": null,
   "metadata": {},
   "outputs": [],
   "source": [
    "# Definition of triangle\n"
   ]
  },
  {
   "cell_type": "code",
   "execution_count": null,
   "metadata": {},
   "outputs": [],
   "source": [
    "# Try it out\n"
   ]
  },
  {
   "cell_type": "markdown",
   "metadata": {},
   "source": [
    "Because the dimensions of a shape are stored in instance variables, shapes can differ in dimension. In contrast, class variables are shared across all instances of the same shape. To modify a class variable for all instances, use `class_name.class_var = value`."
   ]
  },
  {
   "cell_type": "code",
   "execution_count": null,
   "metadata": {},
   "outputs": [],
   "source": [
    "# class variable\n"
   ]
  },
  {
   "cell_type": "code",
   "execution_count": null,
   "metadata": {},
   "outputs": [],
   "source": [
    "# Try it out\n"
   ]
  }
 ],
 "metadata": {
  "kernelspec": {
   "display_name": "Python 3",
   "language": "python",
   "name": "python3"
  },
  "language_info": {
   "codemirror_mode": {
    "name": "ipython",
    "version": 3
   },
   "file_extension": ".py",
   "mimetype": "text/x-python",
   "name": "python",
   "nbconvert_exporter": "python",
   "pygments_lexer": "ipython3",
   "version": "3.7.6"
  }
 },
 "nbformat": 4,
 "nbformat_minor": 4
}
