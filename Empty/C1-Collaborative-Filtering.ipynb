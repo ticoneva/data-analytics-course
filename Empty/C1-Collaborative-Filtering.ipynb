{
 "cells": [
  {
   "cell_type": "markdown",
   "metadata": {},
   "source": [
    "# Collaborative Filtering\n",
    "\n",
    "How do companies such as Amazon and Netflix choose what to recommend to users out of thousands of available products? A key technique they employ is *collaborative filtering*, which is the use of information from similar users and items to predict preference for a given item.\n",
    "\n",
    "Suppose we have some movie-streaming data:"
   ]
  },
  {
   "cell_type": "code",
   "execution_count": null,
   "metadata": {},
   "outputs": [],
   "source": [
    "import pandas as pd\n",
    "\n",
    "#Data\n",
    "raw_data = [\n",
    "            [1,1,1,0,0,0],    \n",
    "            [2,1,1,0,0,1],\n",
    "            [3,1,0,0,0,0],\n",
    "            [4,1,0,0,0,1],\n",
    "            [5,0,0,1,0,1],\n",
    "            [6,0,1,0,1,0],\n",
    "            ]\n",
    "labels = ['customer','movie1','movie2','movie3','movie4','movie5']\n",
    "data = pd.DataFrame.from_records(raw_data,columns=labels)\n",
    "data"
   ]
  },
  {
   "cell_type": "markdown",
   "metadata": {},
   "source": [
    "Choice data such as the one above is called *implicit data*, because it only reflects the users' preference implicitly through their choices. Because it is possible that some users dislike some choices they have made, a chosen item is not the same as a prefered item. But since it is highly unlikely that most users hate most of the choices they have made, the data is usually quite informative as a whole. \n",
    "\n",
    "Data that includes actual preference is called *explicit data*. For example, the data might contain user ratings from 1 to 5:"
   ]
  },
  {
   "cell_type": "code",
   "execution_count": null,
   "metadata": {},
   "outputs": [],
   "source": [
    "import pandas as pd\n",
    "\n",
    "#Data\n",
    "raw_data_explicit = [\n",
    "            [1,4,2,0,0,0],    \n",
    "            [2,3,2,0,0,3],\n",
    "            [3,3,0,0,0,0],\n",
    "            [4,5,0,0,0,4],\n",
    "            [5,0,0,3,0,1],\n",
    "            [6,0,3,0,4,0],\n",
    "            ]\n",
    "labels = ['customer','movie1','movie2','movie3','movie4','movie5']\n",
    "data_explicit = pd.DataFrame.from_records(raw_data_explicit,columns=labels)\n",
    "data_explicit"
   ]
  },
  {
   "cell_type": "markdown",
   "metadata": {},
   "source": [
    "It is also possible that both explicit and implicit data are available. This is often the case because only a minority of users who have chosen an item will voluntarily provide ratings.\n",
    "\n",
    "We will mostly work with implicit data, but the techniques we cover do work with both types of data in general."
   ]
  },
  {
   "cell_type": "markdown",
   "metadata": {},
   "source": [
    "## A. Nearest Neighbor\n",
    "\n",
    "One intuitively appealing approach is to look for other users that have similar records and see what they have chosen before. \n",
    "\n",
    "In the following example, we will look for the three closest neighbors to a new user and average their choices:"
   ]
  },
  {
   "cell_type": "code",
   "execution_count": null,
   "metadata": {},
   "outputs": [],
   "source": [
    "from sklearn.neighbors import NearestNeighbors\n",
    "import numpy as np\n",
    "\n",
    "#Extract data from dataframe\n",
    "X = np.asarray(data[[\"movie1\",\"movie2\",\"movie3\",\"movie4\",\"movie5\"]])\n",
    "\n",
    "#Only consider the three nearest neighbor\n",
    "\n",
    "\n",
    "#New user who have only watched movie 1\n",
    "\n",
    "\n",
    "#Get neighbor and calculate average choices\n"
   ]
  },
  {
   "cell_type": "markdown",
   "metadata": {},
   "source": [
    "Our model suggests that we should recommend the user to try out movie 2 and movie 5. \n",
    "\n",
    "We can also use ```np.argsort()``` to get a list of index to recommend starting from the most recommended item:"
   ]
  },
  {
   "cell_type": "code",
   "execution_count": null,
   "metadata": {},
   "outputs": [],
   "source": [
    "np.argsort(-(np.mean(X[neigh],axis=1) - x))"
   ]
  },
  {
   "cell_type": "markdown",
   "metadata": {},
   "source": [
    "The above recommendation is based on the fact that the new user having already chosen movie 1. What if the new user has not yet tried anything? In that case, we might want to simply recommend the average of all users. In other words, we recommend the most popular items."
   ]
  },
  {
   "cell_type": "markdown",
   "metadata": {},
   "source": [
    "## B. Matrix Factorization\n",
    "\n",
    "Matrix factorization assumes that choice data can be represented by a matrix multiplication of item features (usually called *factors*) and user preference on those features:\n",
    "\n",
    "<img src=\"http://danielnee.com/wp-content/uploads/2015/04/Matrix-Factorisation-1.png\">\n",
    "\n",
    "Source: <a href=\"http://danielnee.com/2016/09/collaborative-filtering-using-alternating-least-squares/\">Daniel Nee</a>\n",
    "\n",
    "Let $P$ be a matrix of user preference of shape $\\text{no. of users} \\times \\text{no. of factors}$ and $Q$ a matrix of item factors of shape $\\text{no. of items} \\times \\text{no. of factors}$. Then the choice data $X$ can be represented by\n",
    "$$\n",
    "X = PQ^T\n",
    "$$\n",
    "\n",
    "There are several ways to get from $X$ to $P$ and $Q$. "
   ]
  },
  {
   "cell_type": "markdown",
   "metadata": {},
   "source": [
    "### B1. Single Value Decomposition (SVD)\n",
    "\n",
    "Single value decomposition performs the following factorization:\n",
    "\n",
    "$$\n",
    "X = U \\Sigma V^T\n",
    "$$\n",
    "\n",
    "where $\\Sigma$ is a diagonal matrix of *singular values*. To get $X=PQ^T$, we can let $P=U$ and $Q^T=\\Sigma V^T$.\n",
    "\n",
    "SVD can be performed by calling ```scipy.sparse.linalg.svds(X,k)```, where $1\\leq k<\\min{\\{\\text{X.shape}\\}}$ is the number of singular values. Several things to note:\n",
    "- ```svds()``` expects float-point numbers, so if the data contains integers we will need to convert them to float via ```.astype(float)```.\n",
    "- ```svds()``` does not return a diagonal matrix $\\Sigma$, instead it returns its diagonal values in a 1-D array. We can apply ```np.diag()``` on this array to get $\\Sigma$. \n",
    "\n",
    "Let us try running ```svds``` on our data:"
   ]
  },
  {
   "cell_type": "code",
   "execution_count": null,
   "metadata": {
    "scrolled": true
   },
   "outputs": [],
   "source": [
    "import numpy as np\n",
    "from scipy.sparse import csc_matrix\n",
    "from scipy.sparse.linalg import svds\n",
    "\n"
   ]
  },
  {
   "cell_type": "markdown",
   "metadata": {},
   "source": [
    "The $P$ matrix represents user preference. Each row is one user and each column is the user's preference for a particular factor:"
   ]
  },
  {
   "cell_type": "code",
   "execution_count": null,
   "metadata": {
    "scrolled": true
   },
   "outputs": [],
   "source": [
    "print(P)"
   ]
  },
  {
   "cell_type": "markdown",
   "metadata": {},
   "source": [
    "Since the factors are automatically generated, it is hard to know what they represent without further investigation. For movies, you can imagine that one factor might represent how much action element there is, while another might represent how much romance element there is. In any case, from the perspective of generating recommendation we do not necessarily care about what these underlying factors are, since what we want is $PQ^T$."
   ]
  },
  {
   "cell_type": "markdown",
   "metadata": {},
   "source": [
    "Now let us take a look at $Q^T$:"
   ]
  },
  {
   "cell_type": "code",
   "execution_count": null,
   "metadata": {},
   "outputs": [],
   "source": [
    "#Compute Qt\n",
    "\n",
    "\n",
    "#print out the content of Qt\n",
    "print(Qt)"
   ]
  },
  {
   "cell_type": "markdown",
   "metadata": {},
   "source": [
    "Each column is one item and each row is the item's exposure to a particular factor."
   ]
  },
  {
   "cell_type": "markdown",
   "metadata": {},
   "source": [
    "What is the effect of having different values of $k$? Let's try that out:"
   ]
  },
  {
   "cell_type": "code",
   "execution_count": null,
   "metadata": {},
   "outputs": [],
   "source": [
    "#k=4\n",
    "\n",
    "\n",
    "print(\"k =\",k)\n",
    "print(np.round(np.dot(P,Qt),5))\n",
    "\n",
    "#k=2\n",
    "\n",
    "\n",
    "print(\"k =\",k)\n",
    "print(np.round(np.dot(P,Qt),5))\n"
   ]
  },
  {
   "cell_type": "markdown",
   "metadata": {},
   "source": [
    "Note how much more $PQ^T$ resembles $X$ when $k$ is large. Does that mean we want a large $k$ then? Far from it. A large $k$ means that our model will predict the existing chocies of the users perfectly. If the user has not chosen an item before, the model will predict that she does not like the item, resulting in no recommendation. In other words, our model is overfitting the data. \n",
    "\n",
    "As you should now realize, $k$ is the main hyperparameter that you would want to tune in SVD models."
   ]
  },
  {
   "cell_type": "markdown",
   "metadata": {},
   "source": [
    "How do we generate recommendations for an arbitrary user, particular one that is not already in the data? Since\n",
    "\n",
    "$$\n",
    "X = PQ^T \\\\\n",
    "XQ = PQ^TQ \\\\\n",
    "XQ(Q^TQ)^{-1} = P\n",
    "$$\n",
    "\n",
    "This gives us an equation to find the preference of a particular user $u$:\n",
    "\n",
    "$$\n",
    "p_u = x_uQ(Q^TQ)^{-1}\n",
    "$$\n",
    "\n",
    "Which in turn allows us to predict what the user might choose:\n",
    "\n",
    "$$\n",
    "\\hat{x}_u = p_uQ^T\n",
    "$$"
   ]
  },
  {
   "cell_type": "markdown",
   "metadata": {},
   "source": [
    "Let $S=Q(Q^TQ)^{-1}$. Then $p_u = x_uS$:"
   ]
  },
  {
   "cell_type": "code",
   "execution_count": null,
   "metadata": {},
   "outputs": [],
   "source": [
    "#New user who have only watched movie 1\n",
    "x = np.array([1,0,0,0,0])\n",
    "\n",
    "#Generate prediction\n"
   ]
  },
  {
   "cell_type": "markdown",
   "metadata": {},
   "source": [
    "As in the case of nearest neighbor, our model suggests that we should recommend the user to try out movie 2 and movie 5."
   ]
  },
  {
   "cell_type": "markdown",
   "metadata": {},
   "source": [
    "We will write a simple class that implements an interface similar to ```scikit-learn```. We will call it ```SVDarnoldi``` because ```svds``` implements the <a href=\"https://en.wikipedia.org/wiki/Arnoldi_iteration#Implicitly_restarted_Arnoldi_method_.28IRAM.29\">Arnoldi iteration</a>.  \n",
    "\n",
    "The class needs to expose two methods: \n",
    "- ```fit(X)``` that fits the model for a given set of training data ```X```.\n",
    "- ```predict(x)``` that generates prediction for a given set of new data ```x```."
   ]
  },
  {
   "cell_type": "code",
   "execution_count": null,
   "metadata": {},
   "outputs": [],
   "source": [
    "#Implement SVDarnoldi here\n"
   ]
  },
  {
   "cell_type": "markdown",
   "metadata": {},
   "source": [
    "With this class, it is easy to try out different values of $k$:"
   ]
  },
  {
   "cell_type": "code",
   "execution_count": null,
   "metadata": {},
   "outputs": [],
   "source": [
    "#New user who have only watched movie 1\n",
    "x = np.array([1,0,0,0,0])\n",
    "\n",
    "#Loop through\n",
    "for k in range(1,5):\n",
    "    print(\"k =\",k)\n",
    "    model = SVDarnoldi(k=k)\n",
    "    model.fit(X)\n",
    "    print(model.predict(x))"
   ]
  },
  {
   "cell_type": "markdown",
   "metadata": {},
   "source": [
    "### B2. Alternating Least Squared (ALS)\n",
    "\n",
    "For efficiency reasons, practical implementations of matrix-factorization-based filtering mostly utilize approximation of SVD. Here we will cover a method called *alternating least squared*. The idea is as follows: we first randomly initiatizes $P$ and $Q^T$, and then iteratively update these two matrices until $PQ^T \\approx X$. But how should we update the matrices? \n",
    "\n",
    "For clarity, I will be using $'$ instead of $^T$ to denote inverse. Starting with the objective $PQ' = X$:\n",
    "\n",
    "$$\n",
    "PQ' = X \\\\\n",
    "PQ'Q = XQ \\\\\n",
    "P = XQ(Q'Q)^{-1}\n",
    "$$\n",
    "\n",
    "Similarly, \n",
    "\n",
    "$$\n",
    "PQ' = X  \\\\\n",
    "P'PQ' = P'X \\\\\n",
    "Q' = (P'P)^{-1}P'X \n",
    "$$\n",
    "\n",
    "So what we are going to do is to run $P = XQ(Q'Q)^{-1}$ and $Q = (P'P)^{-1}P'X$ iteratively until $PQ' \\approx X$. \n",
    "\n",
    "Note that what we are doing here are essentially running OLS repeatedly until we converge on a stable combination of $P$ and $Q'.$ Now it is true that when we run OLS we usually have a single column vector of dependent variable, whereas here $X$ is a matrix, but the technique is the same.\n",
    "\n",
    "Reference:\n",
    "- <a href=\"http://citeseerx.ist.psu.edu/viewdoc/download;jsessionid=34AEEE06F0C2428083376C26C71D7CFF?doi=10.1.1.167.5120&rep=rep1&type=pdf\">Collaborative Filtering for Implicit Datasets</a>\n",
    "- <a href=\"https://pdfs.semanticscholar.org/dbe9/d04bffb5c1df8eb721dab4f744ea81d9a4c1.pdf\">Alternating Least Squared for Personalized Ranking</a>\n",
    "\n",
    "Below is a straight-forward implementation of ALS:"
   ]
  },
  {
   "cell_type": "code",
   "execution_count": null,
   "metadata": {},
   "outputs": [],
   "source": [
    "#Implement ALS here\n"
   ]
  },
  {
   "cell_type": "markdown",
   "metadata": {},
   "source": [
    "The predicted preference is essentially the same as what we got from a real SVD.\n",
    "\n",
    "If we are going use the algorithm repeatedly, however, it would be best to write a self-contained class that we can use repeatedly:"
   ]
  },
  {
   "cell_type": "code",
   "execution_count": null,
   "metadata": {},
   "outputs": [],
   "source": [
    "class SVDals():\n",
    "    \"\"\"\n",
    "    Alternating Least Square SVD\n",
    "    \"\"\"    \n",
    "        \n",
    "    def __init__(self,k=2,min_loss_delta=0.00001,max_epochs=20):\n",
    "        \"\"\"\n",
    "        k:               Number of latent factors\n",
    "        min_loss_delta:  Minimum change in mean squared error to continue training\n",
    "        max_epochs:      Maximum number of training rounds\n",
    "        \"\"\"\n",
    "        self.k = k\n",
    "        self.min_loss_delta = min_loss_delta\n",
    "        self.max_epochs = max_epochs\n",
    "       \n",
    "    def fit(self,X):\n",
    "        \"\"\"\n",
    "        Fit the model\n",
    "        X: training data\n",
    "        \"\"\"\n",
    "        \n",
    "        #Initialize model parameters\n",
    "        self.initialize(X)\n",
    "        loss, loss_delta = self.update_loss(X,0) \n",
    "        \n",
    "        print(\"Training...\")\n",
    "        epoch = 0\n",
    "        while loss_delta > self.min_loss_delta and epoch < self.max_epochs:\n",
    "            #Update parameters\n",
    "            self.update_params()\n",
    "            \n",
    "            #Update error and loss\n",
    "            loss, loss_delta = self.update_loss(X,loss)\n",
    "            \n",
    "            #Increment counter\n",
    "            epoch = epoch + 1\n",
    "\n",
    "            #Show each round's epoch and self.error\n",
    "            self._printloss(epoch,loss)\n",
    "       \n",
    "    def initialize(self,X):\n",
    "        \"\"\"\n",
    "        Initializes P and Qt\n",
    "        \"\"\"\n",
    "        self.user_count = X.shape[0]\n",
    "        self.item_count = X.shape[1]\n",
    "        #P and Qt uniformly distributed from -0.5 to 0.5\n",
    "        self.P = np.random.rand(self.user_count,self.k) - 0.5 \n",
    "        self.Qt = np.random.rand(self.k,self.item_count ) - 0.5\n",
    "        \n",
    "    def update_params(self):\n",
    "        \"\"\"\n",
    "        Update parameters\n",
    "        \"\"\"        \n",
    "        #Update P and Qt\n",
    "        self.P = np.dot(X,np.dot(self.Qt.T,np.linalg.inv(np.dot(self.Qt,self.Qt.T))))\n",
    "        self.Qt = np.dot(np.dot(np.linalg.inv(np.dot(self.P.T,self.P)),self.P.T),X)\n",
    "        self.S = np.dot(self.Qt.T,np.linalg.inv(np.dot(self.Qt,self.Qt.T)))\n",
    "                \n",
    "    def update_loss(self,X,loss_prev):\n",
    "        \"\"\"\n",
    "        Update self.error and mean squared self.error\n",
    "        \"\"\"        \n",
    "        #Generate Prediction   \n",
    "        X_hat = np.dot(self.P,self.Qt)\n",
    "        \n",
    "        #Error matrix\n",
    "        self.error = X - X_hat\n",
    "        \n",
    "        #loss\n",
    "        loss = self._loss(X,X_hat)\n",
    "        loss_delta = abs(loss_prev - loss)  \n",
    "        \n",
    "        return loss, loss_delta  \n",
    "            \n",
    "    def _loss(self,X,X_hat):\n",
    "        \"\"\"\n",
    "        Calculate mean squared error\n",
    "        \"\"\"\n",
    "        return np.mean(np.asarray(np.square(X - X_hat)))\n",
    "    \n",
    "    def _printloss(self,epoch,loss):\n",
    "        \"\"\"\n",
    "        Print formated loss\n",
    "        \"\"\"\n",
    "        print(str(epoch).ljust(3),\"loss:\",round(loss,4))\n",
    "        \n",
    "    def predict(self,x):\n",
    "        \"\"\"\n",
    "        Inference\n",
    "        x: input data\n",
    "        \"\"\"        \n",
    "        p = np.dot(x,self.S)\n",
    "        x_hat = np.dot(p,self.Qt)\n",
    "        return x_hat"
   ]
  },
  {
   "cell_type": "markdown",
   "metadata": {},
   "source": [
    "Let us try it out:"
   ]
  },
  {
   "cell_type": "code",
   "execution_count": null,
   "metadata": {},
   "outputs": [],
   "source": [
    "model = SVDals(k=2)\n",
    "model.fit(X)\n",
    "print(model.predict(x))"
   ]
  },
  {
   "cell_type": "markdown",
   "metadata": {},
   "source": [
    "The main advantage of ALS is that it is highly parallelizable and converges very quickly, resulting in very fast training. This is in contrast to the stochastic gradient descent approach that we will cover next."
   ]
  },
  {
   "cell_type": "markdown",
   "metadata": {},
   "source": [
    "### B3. Gradient Descent\n",
    "\n",
    "*Gradient descent* nudges parameters by an amount proportional to their contribution to the loss function. Gradient Descent and its approximation, *Stochastic Gradient Descent* (SGD), are very general optimization methods, usable in all sorts of models from logistic regression to neural network.\n",
    "\n",
    "A simple example is as follows: Suppose our model is\n",
    "\n",
    "$$\n",
    "\\hat{y} = \\alpha + x\n",
    "$$\n",
    "\n",
    "As is common in regression problem, we would like to minimize the squared error. So our loss function is:\n",
    "\n",
    "$$\n",
    "c = \\left( y - \\hat{y} \\right)^2\n",
    "$$\n",
    "\n",
    "<img src=\"http://www.ticoneva.com/econ/econ4130/images/loss-error.png\" width=\"300\">\n",
    "\n",
    "We have an initial guess of what $\\alpha$ is---often just a random number---and an initial prediction $\\hat{y}_0 = \\alpha_0 + x$. This prediction is likely inaccurate, which means the loss will be positive:\n",
    "\n",
    "$$\n",
    "c_0 = \\left( y - \\hat{y}_0 \\right)^2 > 0\n",
    "$$\n",
    "\n",
    "How do we use this information to update $\\alpha$? Let $\\epsilon_0 = y - \\hat{y}_0$. \n",
    "The marginal effect, or *gradient*, of $\\alpha$ on $c$ is:\n",
    "\n",
    "$$\n",
    "\\frac{\\partial c}{\\partial \\alpha} \n",
    "= \\frac{\\partial}{\\partial \\alpha}\\left( y-\\hat{y} \\right)^2 = -2 \\epsilon\n",
    "$$\n",
    "\n",
    "Suppose the error is positive, so $\\epsilon_0 = y - \\hat{y}_0  > 0$. The loss function will be decreasing in $\\alpha$, which makes sense---$\\hat{y}$ is increasing in $\\alpha$, and right now $\\hat{y} < y$. We can make our model more accurate by increasing $\\alpha$. Conversely, we should decrease $\\alpha$ if the error is negative.\n",
    "\n",
    "The gradient thus tells us the direction we need to adjustment our parameter. Furthermore, the amount we need to adjust is, to a first-order approximation, proportional to\n",
    "\n",
    "$$\n",
    "- \\frac{\\partial c}{\\partial \\alpha}\n",
    "$$\n",
    "\n",
    "We therefore have the following update rule:\n",
    "\n",
    "$$\n",
    "\\alpha_{t} = \\alpha_{t-1} - \\gamma \\frac{\\partial c}{\\partial \\alpha} \\bigg\\rvert_{\\alpha_{t-1}}\n",
    "$$\n",
    "\n",
    "Or more typical in computer science:\n",
    "\n",
    "$$\n",
    "\\alpha \\gets \\alpha - \\gamma \\frac{\\partial c}{\\partial \\alpha} \n",
    "$$\n",
    "\n",
    "$\\gamma$ is called the *learning rate*. Learning rate is usually much smaller than 1 to prevent overshooting. It can be manually specified in simple settings such as ours but is often automatically adjusted in more advance alogrithms.\n",
    "\n",
    "There are a couple of options when it comes to the computation of gradient:\n",
    "- Averaging the gradient from all samples. The advantage of this method is that the \"true\" gradient is used, in the sense that it reflects the overall gradient of the training data. The disadvantage is that the speed of convergence is slow, since we are only updating the model parameters after we compute the gradient of all observations.\n",
    "- **Stochastic Gradient Descent (SGD):** Update parameters with the average gradient of a subset of samples. Some updates will push the parameters in one direction while some others will push them in the other direction---this is the *stochastic* part of the algorithm---but on average the parameters will move towards the right direction. Besides allowing for faster convergence, the fact that the gradient is noisy also helps the model avoid local minimas. \n",
    "\n",
    "Large-scale machine learning models are typically trained on variations of SGD. Data is broken into mutually-exclusive groups called *mini-batches* and model parameters are updated with the average gradient of each mini-batch.  \n",
    "\n",
    "Now specifically for SVD, we have for each user $u$ and each item $i$,\n",
    "\n",
    "$$\n",
    "\\hat{x}_{ui} = p_u q^T_i\n",
    "$$\n",
    "\n",
    "The loss function is:\n",
    "\n",
    "$$\n",
    "\\sum_{u,i}{\\left( x_{ui} - \\hat{x}_{ui} \\right)^2}\n",
    "$$\n",
    "\n",
    "so the gradient consists of:\n",
    "\n",
    "$$\n",
    "\\frac{\\partial c_{ui}}{\\partial p_u} = -2 \\epsilon_{ui} \\cdot q_i \\\\\n",
    "\\frac{\\partial c_{ui}}{\\partial q_i} = -2 \\epsilon_{ui} \\cdot p_u\n",
    "$$\n",
    "\n",
    "The update rules for $P$ and $Q^T$ are thus:\n",
    "\n",
    "$$\n",
    "P \\gets P + \\gamma \\mathcal{E} Q \\\\\n",
    "Q^T \\gets Q^T + \\gamma P^T \\mathcal{E}\n",
    "$$\n",
    "\n",
    "As before, here is a straight-forward implementation of gradient descent SVD:"
   ]
  },
  {
   "cell_type": "code",
   "execution_count": null,
   "metadata": {},
   "outputs": [],
   "source": [
    "#Implement GD-SVD here\n"
   ]
  },
  {
   "cell_type": "markdown",
   "metadata": {},
   "source": [
    "Note how many more epochs it takes for gradient descent to converge in contrast to ALS. Can we speed things up by setting a higher learning rate? If we try different learning rates, we will see that having too high a learning rate would result in constant overshooting, and as a result no convergence.\n",
    "\n",
    "Below is a class implementing gradient descent SVD:"
   ]
  },
  {
   "cell_type": "code",
   "execution_count": null,
   "metadata": {},
   "outputs": [],
   "source": [
    "class SVDgd():\n",
    "    \"\"\"\n",
    "    Gradient Descent SVD\n",
    "    \"\"\"\n",
    "        \n",
    "    def __init__(self,k=2,\n",
    "                 min_loss_delta=0.00001,\n",
    "                 max_epochs=100,\n",
    "                 learning_rate=0.1,\n",
    "                 show_progress=True\n",
    "                ):\n",
    "        \"\"\"\n",
    "        k:               Number of latent factors\n",
    "        min_loss_delta:   Minimum change in mean squared error to continue training\n",
    "        max_epochs:      Maximum number of training rounds\n",
    "        learning_rate:   Learning rate\n",
    "        show_progress:   Print error of each epoch\n",
    "        \"\"\"\n",
    "        self.k = k\n",
    "        self.min_loss_delta = min_loss_delta\n",
    "        self.max_epochs = max_epochs\n",
    "        self.learning_rate = learning_rate\n",
    "        self.show_progress = show_progress\n",
    "        \n",
    "    def fit(self,X):\n",
    "        \"\"\"\n",
    "        Fit the  model\n",
    "        X: training data\n",
    "        \"\"\"\n",
    "        \n",
    "        #Initialize model parameters\n",
    "        self.initialize(X)\n",
    "        loss, loss_delta = self.update_loss(X,0) \n",
    "        \n",
    "        print(\"Training...\")\n",
    "        epoch = 0\n",
    "        while loss_delta > self.min_loss_delta and epoch < self.max_epochs:\n",
    "            #Update parameters\n",
    "            self.update_params()\n",
    "            \n",
    "            #Update error and loss\n",
    "            loss, loss_delta = self.update_loss(X,loss)\n",
    "            \n",
    "            #Increment counter\n",
    "            epoch = epoch + 1\n",
    "            \n",
    "            if self.show_progress:\n",
    "                #Show each round's epoch and self.error\n",
    "                self._printloss(epoch,loss)\n",
    "                \n",
    "        if not self.show_progress:\n",
    "            #Show the final epoch and self.error\n",
    "            self._printloss(epoch,loss)\n",
    "       \n",
    "    def initialize(self,X):\n",
    "        \"\"\"\n",
    "        Initializes P and Qt\n",
    "        \"\"\"\n",
    "        self.user_count = X.shape[0]\n",
    "        self.item_count = X.shape[1]\n",
    "        #P and Qt uniformly distributed from -0.5 to 0.5\n",
    "        self.P = np.random.rand(self.user_count,self.k) - 0.5 \n",
    "        self.Qt = np.random.rand(self.k,self.item_count ) - 0.5\n",
    "        \n",
    "    def update_params(self):\n",
    "        \"\"\"\n",
    "        Update parameters\n",
    "        \"\"\"        \n",
    "        #Update P and Qt with previous epoch's loss\n",
    "        self.P = self.P + self.learning_rate * (np.dot(self.error, self.Qt.T))\n",
    "        self.Qt = self.Qt + self.learning_rate * (np.dot(self.P.T,self.error))\n",
    "        self.S = np.dot(self.Qt.T,np.linalg.inv(np.dot(self.Qt,self.Qt.T)))\n",
    "                \n",
    "    def update_loss(self,X,loss_prev):\n",
    "        \"\"\"\n",
    "        Update self.error and mean squared self.error\n",
    "        \"\"\"        \n",
    "        #Generate Prediction   \n",
    "        X_hat = np.dot(self.P,self.Qt)\n",
    "        \n",
    "        #Error matrix\n",
    "        self.error = X - X_hat\n",
    "        \n",
    "        #loss\n",
    "        loss = self._loss(X,X_hat)\n",
    "        loss_delta = abs(loss_prev - loss)  \n",
    "        \n",
    "        return loss, loss_delta  \n",
    "            \n",
    "    def _loss(self,X,X_hat):\n",
    "        \"\"\"\n",
    "        Calculate mean squared error\n",
    "        \"\"\"\n",
    "        return np.mean(np.asarray(np.square(X - X_hat)))\n",
    "    \n",
    "    def _printloss(self,epoch,loss):\n",
    "        \"\"\"\n",
    "        Print formated loss\n",
    "        \"\"\"\n",
    "        print(str(epoch).ljust(3),\"loss:\",round(loss,4))\n",
    "        \n",
    "    def predict(self,x):\n",
    "        \"\"\"\n",
    "        Inference\n",
    "        x: input data\n",
    "        \"\"\"        \n",
    "        p = np.dot(x,self.S)\n",
    "        x_hat = np.dot(p,self.Qt)\n",
    "        return x_hat"
   ]
  },
  {
   "cell_type": "markdown",
   "metadata": {},
   "source": [
    "As before, let us try out the algorithm:"
   ]
  },
  {
   "cell_type": "code",
   "execution_count": null,
   "metadata": {},
   "outputs": [],
   "source": [
    "model = SVDgd(k=2)\n",
    "model.fit(X)\n",
    "print(model.predict(x))"
   ]
  },
  {
   "cell_type": "markdown",
   "metadata": {},
   "source": [
    "### B3. Simon Funk's SVD\n",
    "\n",
    "This is a method popularized during the Netflix Prize, and it is usually what people refers to when they mention \"SVD\" in the context of collaborative filtering.  \n",
    "\n",
    "The prediction of the model is given by:\n",
    "$$\n",
    "\\hat{x}_{ui} = \\mu + b_u + b_i + p_u q^T_i\n",
    "$$\n",
    "\n",
    "$\\mu$, $b_u$ and $b_i$ are called *bias* in machine learning, but a more familiar name for economists would be dummy variables. So Funk's SVD is essentially SVD with fixed effects.\n",
    "\n",
    "The model is also regularized, so the loss function is:\n",
    "$$\n",
    "\\sum_{u,i}{\\left( x_{ui} - \\hat{x}_{ui} \\right)^2 \n",
    "+ \\alpha \\left( b_u^2 + b_i^2 + \\lVert p_u \\rVert^2 + \\lVert q_i \\rVert^2  \\right) }\n",
    "$$\n",
    "where $\\alpha$ is the strength of regularization. \n",
    "\n",
    "Reference:\n",
    "- <a href=\"http://sifter.org/~simon/journal/20061211.html\">Netflix Update: Try This at Home</a>\n",
    " \n",
    "Below we extend the ```SVDsgd``` class to create a new ```SVDfunk``` class. Since we have more parameters to estimate we will increase the maximum epochs to give the model more time to train."
   ]
  },
  {
   "cell_type": "code",
   "execution_count": null,
   "metadata": {},
   "outputs": [],
   "source": [
    "class SVDfunk(SVDgd):\n",
    "    \"\"\"\n",
    "    Simon Funk's SVD. Regularized.\n",
    "    \"\"\"\n",
    "    \n",
    "    def __init__(self,alpha=0,max_epochs=500,*args,**kargs):\n",
    "        \"\"\"\n",
    "        alpha: regularization strength\n",
    "        \"\"\"    \n",
    "        self.alpha = alpha\n",
    "        #pass other arguments to parent class\n",
    "        super().__init__(max_epochs=max_epochs,*args,**kargs)\n",
    "      \n",
    "    def initialize(self,X):\n",
    "        \"\"\"\n",
    "        Initializes biases, P and Qt\n",
    "        \"\"\"\n",
    "        super().initialize(X) #Use parent class to initialize P and Qt\n",
    "        self.mu = np.mean(X)\n",
    "        self.bu = np.random.normal(size=(self.user_count,1)) \n",
    "        self.bi = np.random.normal(size=(self.item_count,1))\n",
    "        \n",
    "    def update_params(self):\n",
    "        \"\"\"\n",
    "        Update parameters\n",
    "        \"\"\"        \n",
    "         #Update self.biases, self.P and self.Qt with previous epoch's loss\n",
    "        self.mu = self.mu + self.learning_rate * np.mean(self.error)\n",
    "        self.bu = self.bu + self.learning_rate * (\n",
    "                np.mean(self.error,axis=1).reshape(self.user_count,1)\n",
    "                - self.alpha * self.bu\n",
    "                )\n",
    "        self.bi = self.bi + self.learning_rate * (\n",
    "                np.mean(self.error,axis=0).reshape(self.item_count,1)\n",
    "                - self.alpha * self.bi\n",
    "                )\n",
    "        self.P = self.P + self.learning_rate * (\n",
    "                np.dot(self.error, self.Qt.T)\n",
    "                - self.alpha * self.P\n",
    "                )\n",
    "        self.Qt = self.Qt + self.learning_rate * (\n",
    "                np.dot(self.P.T,self.error)\n",
    "                - self.alpha * self.Qt\n",
    "                )\n",
    "        self.S = np.dot(self.Qt.T,np.linalg.inv(np.dot(self.Qt,self.Qt.T)))\n",
    "        \n",
    "    def update_loss(self,X,loss_prev):\n",
    "        \"\"\"\n",
    "        Update error and mean squared self.error\n",
    "        \"\"\"        \n",
    "        #Generate Prediction\n",
    "        ones_i = np.ones((1,self.item_count))\n",
    "        ones_u = np.ones((self.user_count,1))        \n",
    "        X_hat = (self.mu + np.dot(self.bu,ones_i) \n",
    "                 + np.dot(ones_u,self.bi.T) \n",
    "                 + np.dot(self.P,self.Qt))  \n",
    "        \n",
    "        #Error matrix\n",
    "        self.error = X - X_hat\n",
    "        \n",
    "        #Regularized loss\n",
    "        loss = self._loss(X,X_hat) + self.alpha * (\n",
    "                np.mean(self.bu**2)\n",
    "                + np.mean(self.bi**2)\n",
    "                + np.mean(self.P**2)\n",
    "                + np.mean(self.Qt**2)\n",
    "                )\n",
    "        loss_delta = abs(loss_prev - loss)  \n",
    "        \n",
    "        return loss, loss_delta  \n",
    "\n",
    "    def predict(self,x):\n",
    "        \"\"\"\n",
    "        Inference\n",
    "        x: input data\n",
    "        \"\"\"        \n",
    "        p = np.dot(x,self.S)\n",
    "        x_hat = self.mu + self.bi.T + np.dot(p,self.Qt) #user bias is zero for new user\n",
    "        return x_hat    "
   ]
  },
  {
   "cell_type": "markdown",
   "metadata": {},
   "source": [
    "Now let us try out the model:"
   ]
  },
  {
   "cell_type": "code",
   "execution_count": null,
   "metadata": {},
   "outputs": [],
   "source": [
    "model = SVDfunk(k=2,alpha=0.05,show_progress=False)\n",
    "model.fit(X)\n",
    "print(model.predict(x))"
   ]
  },
  {
   "cell_type": "markdown",
   "metadata": {},
   "source": [
    "At first sight, there seems to be little difference between ```SVDfunk``` and ```SVDsgd```. Taking a closer look at the mean-squared errors of the two models, however, and it is clear that ```SVDfunk``` performs better for this particular metric."
   ]
  },
  {
   "cell_type": "code",
   "execution_count": null,
   "metadata": {},
   "outputs": [],
   "source": [
    "#SGD\n",
    "model = SVDgd(k=2,show_progress=False)\n",
    "model.fit(X)\n",
    "print(model.predict(x))\n",
    "\n",
    "#Funk's\n",
    "model = SVDfunk(k=2,show_progress=False)\n",
    "model.fit(X)\n",
    "print(model.predict(x))"
   ]
  },
  {
   "cell_type": "markdown",
   "metadata": {},
   "source": [
    "A similar performance lead exists for explicit data:"
   ]
  },
  {
   "cell_type": "code",
   "execution_count": null,
   "metadata": {
    "scrolled": true
   },
   "outputs": [],
   "source": [
    "#Extract data from dataframe\n",
    "X2 = np.asarray(data_explicit[[\"movie1\",\"movie2\",\"movie3\",\"movie4\",\"movie5\"]])\n",
    "\n",
    "#New user who rated movie1 with a 3\n",
    "x2 = np.array([3,0,0,0,0])\n",
    "\n",
    "#SGD\n",
    "model = SVDgd(k=2,show_progress=False)\n",
    "model.fit(X2)\n",
    "print(model.predict(x2))\n",
    "\n",
    "#Funk's\n",
    "model = SVDfunk(k=2,show_progress=False)\n",
    "model.fit(X2)\n",
    "print(model.predict(x2))"
   ]
  },
  {
   "cell_type": "markdown",
   "metadata": {},
   "source": [
    "## Conclusion\n",
    "\n",
    "We have gone through a few different methods of generating recommendations based on existing records. \n",
    "\n",
    "If you are interested in collaborative filtering, be sure to check out the Netflix Prize. The data is <a href=\"https://www.kaggle.com/netflix-inc/netflix-prize-data\">available on Kaggle</a>, and you can find the winning team's research papers <a href=\"https://netflixprize.com/community/topic_1537.html\">here</a>. One thing you will find is the the winning teams all employ an ensemble of models, which very often perform better than any single model."
   ]
  }
 ],
 "metadata": {
  "kernelspec": {
   "display_name": "Python 3",
   "language": "python",
   "name": "python3"
  },
  "language_info": {
   "codemirror_mode": {
    "name": "ipython",
    "version": 3
   },
   "file_extension": ".py",
   "mimetype": "text/x-python",
   "name": "python",
   "nbconvert_exporter": "python",
   "pygments_lexer": "ipython3",
   "version": "3.6.4"
  }
 },
 "nbformat": 4,
 "nbformat_minor": 2
}
