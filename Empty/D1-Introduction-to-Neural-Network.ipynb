{
 "cells": [
  {
   "cell_type": "markdown",
   "metadata": {},
   "source": [
    "# Introduction to Neural Network\n",
    "\n",
    "The widespread adoption of artificial intelligence in recent years has been largely driven by advancement in neural networks. Neural networks is behind systems ranging from \n",
    "<a href=\"https://deepmind.com/research/alphago/\">AlphaGo</a>, \n",
    "<a href=\"https://translate.google.com/\">Google Translate</a> \n",
    "to <a href=\"https://www.tesla.com/en_HK/autopilot\">Tesla Autopilot</a>.\n",
    "\n",
    "Neural network is fundamentally numeric computation, so any software with decent numeric computation capabilities can be used to construct and train a neural network. That said, while in theory you can construct a neural network in Excel, in practice it will be very troublesome since Excel is not designed with neural network in mind. Libraries are that specifically geared toward neural network include:\n",
    "- Google's <a href=\"https://www.tensorflow.org/\">Tensorflow</a>\n",
    "- Microsoft's <a href=\"https://github.com/Microsoft/CNTK\">CNTK</a>\n",
    "- Facebook's <a href=\"http://pytorch.org/\">PyTorch</a> and <a href=\"https://caffe2.ai/\">Caffe2</a>\n",
    "- Intel's <a href=\"https://ai.intel.com/neon/\">neon</a>\n",
    "- <a href=\"http://deeplearning.net/software/theano/\">Theano</a> and <a href=\"http://caffe.berkeleyvision.org/\">Caffe</a>\n",
    "\n",
    "In this course we will focus on using <a href=\"https://keras.io/\">```keras```</a>, which is a high-level library for constructing neural networks. Keras runs on top of a numerical computation library of your choice, defaulting to ```tensorflow```. A library such as Keras significantly simplify the workflow of constructing and training neural networks. \n",
    "\n",
    "<img src=\"http://www.ticoneva.com/econ/econ4130/images/nn_libraries.png\" width=\"80%\">"
   ]
  },
  {
   "cell_type": "markdown",
   "metadata": {},
   "source": [
    "Before we start, we will first disable the server's GPU so that everything runs on its CPU. Later we will turn it back on to see how much speed up we can get. This setting has no effect if you do not have a (Nvidia) GPU."
   ]
  },
  {
   "cell_type": "code",
   "execution_count": null,
   "metadata": {
    "collapsed": true
   },
   "outputs": [],
   "source": [
    "import os\n",
    "os.environ[\"CUDA_VISIBLE_DEVICES\"] = \"\""
   ]
  },
  {
   "cell_type": "markdown",
   "metadata": {},
   "source": [
    "## A Simple Example: Binary Neural Network Classifier\n",
    "\n",
    "As a first example, we will train a neural network to the following classification task:\n",
    "\n",
    "|y|x1|x2|\n",
    "|-|-|-|\n",
    "|0|1|0|\n",
    "|1|0|1|\n",
    "\n",
    "To be clear: there is absolutely no need to use neural network for such as simple task. A simpler model will train a lot faster and potentially with better accuracy.\n",
    "\n",
    "We first generate the data:"
   ]
  },
  {
   "cell_type": "code",
   "execution_count": null,
   "metadata": {
    "collapsed": true
   },
   "outputs": [],
   "source": [
    "import numpy as np \n",
    "from sklearn.model_selection import train_test_split\n",
    "\n",
    "#Generate 2000 samples. [1,0] -> 0, [0,1] -> 1\n",
    "X = np.repeat([[1,0]], 1000, axis=0)\n",
    "y = np.repeat([0], 1000, axis=0)\n",
    "X = np.append(X,np.repeat([[0,1]], 1000, axis=0),axis=0)\n",
    "y = np.append(y,np.repeat([1], 1000, axis=0),axis=0)\n",
    "\n",
    "#Shuffle and split data into train set and test set\n",
    "X_train, X_test, y_train, y_test = train_test_split(X,y)"
   ]
  },
  {
   "cell_type": "markdown",
   "metadata": {},
   "source": [
    "We will construct a neural network classifier for this task. \n",
    "\n",
    "A neural network model is made up of multiple layers. The simpliest model would have three layers:\n",
    "- An *input layer*. This layer specify the nature of the input data. In this example, we only need to tell Keras that we have two variables to input.\n",
    "- A *hidden layer*. This layer contains neuron(s) that process the input data.\n",
    "- An *ouput layer*. The neurons in this layer process the output from the hidden layer and generate predictions. This layer contains as many neurons as the number of target variables we try to predict. \n",
    "\n",
    "Below is the simplest neural network one can come up with, with only one hidden neuron. The neuron computes the following function:\n",
    "}\n",
    "$$\n",
    "F \\left( b + \\sum\\nolimits_{i}{w_{i}x_{i}} \\right)\n",
    "$$\n",
    "\n",
    "where $x_i$ are inputs, b the intercept (called *bias* in machine learning), $w_i$ coefficients (called *weights*) and $F$ is an *activation function*. In this example we will use the logistic function (also called the *sigmoid function*) as the activation function:\n",
    "\n",
    "$$\n",
    "F(z) = \\frac{e^z}{1+e^z}\n",
    "$$\n",
    "\n",
    "So the neuron is essentially a logit regression."
   ]
  },
  {
   "cell_type": "code",
   "execution_count": null,
   "metadata": {
    "collapsed": true
   },
   "outputs": [],
   "source": [
    "from keras.layers import Input, Dense\n",
    "from keras.models import Model\n",
    "\n",
    "# Set up layers \n",
    "\n",
    "\n",
    "# Set up model\n",
    "\n",
    "\n",
    "#start training"
   ]
  },
  {
   "cell_type": "markdown",
   "metadata": {},
   "source": [
    "Out-of-sample test can be conducted with ```model.evaluate()```:"
   ]
  },
  {
   "cell_type": "code",
   "execution_count": null,
   "metadata": {
    "collapsed": true
   },
   "outputs": [],
   "source": []
  },
  {
   "cell_type": "markdown",
   "metadata": {},
   "source": [
    "The first number is the model's loss while the subsequent numbers are the metrics we specified. In our case, they are ```binary_crossentropy``` and ```accuracy``` respectively.\n",
    "\n",
    "Unlike OLS, a neural network's performance could vary across runs. Run the code a few more times and see how the performance vary."
   ]
  },
  {
   "cell_type": "markdown",
   "metadata": {},
   "source": [
    "Make prediction (this is called *inference* in machine learning) with ```model.predict()```:"
   ]
  },
  {
   "cell_type": "code",
   "execution_count": null,
   "metadata": {
    "collapsed": true,
    "scrolled": false
   },
   "outputs": [],
   "source": []
  },
  {
   "cell_type": "markdown",
   "metadata": {},
   "source": [
    "## Activations\n",
    "\n",
    "Different activation can have profound impact on model performance. Besides ```sigmoid```, which is just a different name for the logistic function, there are other activation function such as ```tanh``` and ```relu```. ```relu```, which stands for **RE**ctified **L**inear **U**nit, is a particular common choice due to its good performance."
   ]
  },
  {
   "cell_type": "code",
   "execution_count": null,
   "metadata": {
    "collapsed": true,
    "scrolled": true
   },
   "outputs": [],
   "source": [
    "#Replace 'sigmoid' with 'relu' for the hidden layer\n"
   ]
  },
  {
   "cell_type": "markdown",
   "metadata": {},
   "source": [
    "## Neural Network Regression\n",
    "\n",
    "Next we are going use a neural network in a regression task. The true data generating process (DGP) is as follows:\n",
    "\n",
    "$$\n",
    "y = x^5 -2x^3 + 6x^2 + 10x - 5\n",
    "$$\n",
    "\n",
    "The model does not know the true DGP, so it needs to figure out the relationship between $y$ and $x$ from the data.\n",
    "\n",
    "First we generate the data:"
   ]
  },
  {
   "cell_type": "code",
   "execution_count": null,
   "metadata": {
    "collapsed": true
   },
   "outputs": [],
   "source": [
    "#Generate 1000 samples\n",
    "X = np.random.rand(1000,1)\n",
    "y = X**5 - 2*X**3 + 6*X**2 + 10*X - 5\n",
    "\n",
    "#Shuffle and split data into train set and test set\n",
    "X_train, X_test, y_train, y_test = train_test_split(X,y)"
   ]
  },
  {
   "cell_type": "markdown",
   "metadata": {},
   "source": [
    "Then we construct the model:"
   ]
  },
  {
   "cell_type": "code",
   "execution_count": null,
   "metadata": {
    "collapsed": true
   },
   "outputs": [],
   "source": [
    "#Layers\n",
    "\n",
    "\n",
    "#Model\n",
    "\n",
    "\n",
    "#Training\n",
    "\n",
    "\n",
    "#Evaluate\n"
   ]
  },
  {
   "cell_type": "markdown",
   "metadata": {},
   "source": [
    "We are going to run the model through different settings. The function contains everything we have coded previously:"
   ]
  },
  {
   "cell_type": "code",
   "execution_count": null,
   "metadata": {
    "collapsed": true
   },
   "outputs": [],
   "source": [
    "import time\n",
    "\n",
    "def polyNN(data,hidden_count=100,epochs=200,batch_size=32):\n",
    "    \n",
    "    #Record the start time\n",
    "    start = time.time()\n",
    "    \n",
    "    #Unpack the data\n",
    "    X_train, X_test, y_train, y_test = data\n",
    "    \n",
    "    #Layers\n",
    "    inputs = Input(shape=(X_train.shape[1],))\n",
    "    x = Dense(hidden_count, activation='sigmoid')(inputs)\n",
    "    predictions = Dense(1, activation='linear')(x)\n",
    "\n",
    "    #Model\n",
    "    model = Model(inputs=inputs, outputs=predictions)\n",
    "    model.compile(optimizer='adam',\n",
    "                  loss='mean_squared_error')\n",
    "    model.fit(X_train,y_train,epochs=epochs,batch_size=batch_size,verbose=0) #Do not display progress\n",
    "    \n",
    "    #Collect and display info\n",
    "    param_count = model.count_params()\n",
    "    loss = round(model.evaluate(x=X_test,y=y_test,batch_size=batch_size,verbose=0),5)\n",
    "    elapsed = round(time.time() - start,2)    \n",
    "    print(\"Hidden count:\",str(hidden_count).ljust(5),\n",
    "          \"Parameters:\",str(param_count).ljust(8),\n",
    "          \"loss:\",str(loss).ljust(10),\n",
    "          \"Time:\",str(elapsed)+\"s\",\n",
    "         )"
   ]
  },
  {
   "cell_type": "markdown",
   "metadata": {},
   "source": [
    "Now we can easily try out different settings:"
   ]
  },
  {
   "cell_type": "code",
   "execution_count": null,
   "metadata": {
    "collapsed": true
   },
   "outputs": [],
   "source": [
    "#data = X_train, X_test, y_train, y_test\n",
    "data = train_test_split(X,y)\n",
    "\n",
    "#Try various neuron count\n",
    "polyNN(data,hidden_count=1)\n",
    "polyNN(data,hidden_count=10)\n",
    "polyNN(data,hidden_count=50)\n",
    "polyNN(data,hidden_count=100)\n",
    "polyNN(data,hidden_count=500)"
   ]
  },
  {
   "cell_type": "markdown",
   "metadata": {},
   "source": [
    "Here we see the universal approximation theory in work: the more neurons we have the better the fit.\n",
    "\n",
    "One trick that can often improve performance: *standardizing* data."
   ]
  },
  {
   "cell_type": "code",
   "execution_count": null,
   "metadata": {
    "collapsed": true
   },
   "outputs": [],
   "source": [
    "from sklearn import preprocessing\n",
    "\n",
    "#Standardize X\n",
    "\n",
    "\n",
    "#Run the model again\n"
   ]
  },
  {
   "cell_type": "markdown",
   "metadata": {},
   "source": [
    "## Speed Things Up\n",
    "\n",
    "Due to its complexity, neural network trains a lot slower than the other techniques we have covered previously. To speed up training, we can ask Keras to go through more samples before updating the model's parameters by specifying a larger ```batch_size```. Doing so allows Keras to make better use of the CPU's parallel processing capabitilies.\n",
    "\n",
    "Keras' default batch size is 32. We will try 128 instead:"
   ]
  },
  {
   "cell_type": "code",
   "execution_count": null,
   "metadata": {
    "collapsed": true
   },
   "outputs": [],
   "source": [
    "batch_size = 128\n",
    "polyNN(data,hidden_count=1,batch_size=batch_size)\n",
    "polyNN(data,hidden_count=10,batch_size=batch_size)\n",
    "polyNN(data,hidden_count=50,batch_size=batch_size)\n",
    "polyNN(data,hidden_count=100,batch_size=batch_size)\n",
    "polyNN(data,hidden_count=500,batch_size=batch_size)"
   ]
  },
  {
   "cell_type": "markdown",
   "metadata": {},
   "source": [
    "Holding the number of epochs constant, what you should see with a larger batch size is faster training but also larger error. The latter is due to the fact that we are updating the parameters less often, resulting in slower learn. This can be countered by increasing the number of epochs."
   ]
  },
  {
   "cell_type": "markdown",
   "metadata": {},
   "source": [
    "## Running Model on GPU\n",
    "\n",
    "If you have a GPU in your computer, you can now turn it on to see how much it speeds up the process of training."
   ]
  },
  {
   "cell_type": "code",
   "execution_count": null,
   "metadata": {
    "collapsed": true
   },
   "outputs": [],
   "source": [
    "import os\n",
    "os.environ[\"CUDA_VISIBLE_DEVICES\"] = \"0\""
   ]
  },
  {
   "cell_type": "code",
   "execution_count": null,
   "metadata": {
    "collapsed": true
   },
   "outputs": [],
   "source": [
    "polyNN(data,hidden_count=1)"
   ]
  },
  {
   "cell_type": "markdown",
   "metadata": {},
   "source": [
    "With a GPU you can take advantage of its high number of core count by setting a much higher batch size, such as 1000:"
   ]
  },
  {
   "cell_type": "code",
   "execution_count": null,
   "metadata": {
    "collapsed": true
   },
   "outputs": [],
   "source": []
  },
  {
   "cell_type": "markdown",
   "metadata": {},
   "source": [
    "To compensate for the less frequent update, we can increase the number of epochs:"
   ]
  },
  {
   "cell_type": "code",
   "execution_count": null,
   "metadata": {
    "collapsed": true
   },
   "outputs": [],
   "source": []
  },
  {
   "cell_type": "markdown",
   "metadata": {},
   "source": [
    "## Deep Learning\n",
    "\n",
    "*Deep learning* is the stacking of multiple layers of neurons. Holding the number of parameters constant, this often performs better than having only a single hidden layer."
   ]
  },
  {
   "cell_type": "code",
   "execution_count": null,
   "metadata": {
    "collapsed": true
   },
   "outputs": [],
   "source": [
    "#Write a function polyDNN() that have a variable number of layers\n",
    "\n"
   ]
  },
  {
   "cell_type": "markdown",
   "metadata": {},
   "source": [
    "Let us run the model through various settings. I have chosen the neuron count such that the number of parameters is roughly the same as in the single-layer case."
   ]
  },
  {
   "cell_type": "code",
   "execution_count": null,
   "metadata": {
    "collapsed": true
   },
   "outputs": [],
   "source": [
    "polyDNN(data,hidden_count=1,layers=2)\n",
    "polyDNN(data,hidden_count=10,layers=2)\n",
    "polyDNN(data,hidden_count=15,layers=2)\n",
    "polyDNN(data,hidden_count=36,layers=2)"
   ]
  },
  {
   "cell_type": "markdown",
   "metadata": {},
   "source": [
    "## Activations\n",
    "\n",
    "Different activation can have profound impact on model performance. Besides ```sigmoid```, which is just a different name for the logistic function, there are other activation function such as ```tanh``` and ```relu```. ```relu```, which stands for **RE**ctified **L**inear **U**nit, is a particular common choice due to its good performance."
   ]
  },
  {
   "cell_type": "code",
   "execution_count": null,
   "metadata": {
    "collapsed": true
   },
   "outputs": [],
   "source": [
    "polyDNN(data,hidden_count=1,layers=2,activation='relu')\n",
    "polyDNN(data,hidden_count=10,layers=2,activation='relu')\n",
    "polyDNN(data,hidden_count=15,layers=2,activation='relu')\n",
    "polyDNN(data,hidden_count=36,layers=2,activation='relu')"
   ]
  }
 ],
 "metadata": {
  "kernelspec": {
   "display_name": "Python 3",
   "language": "python",
   "name": "python3"
  },
  "language_info": {
   "codemirror_mode": {
    "name": "ipython",
    "version": 3
   },
   "file_extension": ".py",
   "mimetype": "text/x-python",
   "name": "python",
   "nbconvert_exporter": "python",
   "pygments_lexer": "ipython3",
   "version": "3.6.2"
  }
 },
 "nbformat": 4,
 "nbformat_minor": 2
}
