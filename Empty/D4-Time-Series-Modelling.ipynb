{
 "cells": [
  {
   "cell_type": "markdown",
   "id": "aa50ed52-6d76-4462-ace7-08b842cdddd1",
   "metadata": {},
   "source": [
    "# Time Series Forecasting\n",
    "\n",
    "There are quite a few libraries for time series forecasting:\n",
    "- [Darts](https://unit8co.github.io/darts/index.html)\n",
    "- [GluonTS](https://ts.gluon.ai/stable/)\n",
    "- [NeuralForecast](https://nixtla.mintlify.app/neuralforecast/index.html)\n",
    "- [PyTorchForecasting](https://pytorch-forecasting.readthedocs.io/en/stable/)\n",
    "- [Flow Forecast](https://flow-forecast.atlassian.net/wiki/spaces/FF/overview)\n",
    "\n",
    "As their names suggest, the last three libraries focus on deep-learning\n",
    "methods, while the first two libraries cover also traditional methods.\n",
    "We will be using Darts in this notebook.\n"
   ]
  },
  {
   "cell_type": "markdown",
   "id": "0c4a5cc2-9f65-4577-aff4-d53fd026c831",
   "metadata": {},
   "source": [
    "## A. Loading Data\n",
    "\n",
    "First, let us import our data:"
   ]
  },
  {
   "cell_type": "code",
   "execution_count": null,
   "id": "3415beb6-a635-45ff-90d2-83b56f2990ac",
   "metadata": {
    "tags": []
   },
   "outputs": [],
   "source": [
    "import pandas as pd\n",
    "df = pd.read_csv(\"hk-export.csv\")\n",
    "df"
   ]
  },
  {
   "cell_type": "markdown",
   "id": "e692a408-6b57-41ec-9edf-27e0610ad569",
   "metadata": {},
   "source": [
    "Construct a time series index:"
   ]
  },
  {
   "cell_type": "code",
   "execution_count": null,
   "id": "d5266046-24d8-4ae3-b02e-6f598e70c4af",
   "metadata": {
    "tags": []
   },
   "outputs": [],
   "source": [
    "# Create date index\n"
   ]
  },
  {
   "cell_type": "markdown",
   "id": "69387154-bd3e-46db-8ffe-cfed440af704",
   "metadata": {},
   "source": [
    "Plot a chart of the exports data:"
   ]
  },
  {
   "cell_type": "code",
   "execution_count": null,
   "id": "0d9a6bed-129e-4295-acdd-442e6246b560",
   "metadata": {
    "tags": []
   },
   "outputs": [],
   "source": [
    "# Plot export against date\n"
   ]
  },
  {
   "cell_type": "markdown",
   "id": "7a39c8ee-9e38-4d16-a3d1-6d0ce88ca6fa",
   "metadata": {},
   "source": [
    "## B. Darts TimeSeries\n",
    "\n",
    "The first step of using the Darts library is to convert our data into the library's `TimeSeries` format. The ones that are most relevant to us are:\n",
    "- `TimeSeries.from_dataframe()` for Pandas `DataFrame`\n",
    "- `TimeSeries.from_series()` for Pandas `Series`\n",
    "- `TimeSeries.from_values()` for Numpy arrays\n",
    "\n",
    "There are also methods to convert from CSV and JSON files. See the [documentation](https://unit8co.github.io/darts/generated_api/darts.timeseries.html) for details."
   ]
  },
  {
   "cell_type": "code",
   "execution_count": null,
   "id": "8c7f25c6-5f0f-423a-abf8-db2435b9d59c",
   "metadata": {
    "tags": []
   },
   "outputs": [],
   "source": [
    "# Convert Pandas dataframe to Darts TimeSeries\n",
    "from darts import TimeSeries\n",
    "\n",
    "\n",
    "# Split the data into training and validation sets\n"
   ]
  },
  {
   "cell_type": "markdown",
   "id": "1323f51a-9ae4-491e-847d-b49e3beba292",
   "metadata": {},
   "source": [
    "Next we create a Darts model in a way that is similar to creating Scikit-Learn models. Darts provide us with many [models](https://unit8co.github.io/darts/generated_api/darts.models.forecasting.html) to choose from."
   ]
  },
  {
   "cell_type": "code",
   "execution_count": null,
   "id": "285c2fd1-40c2-4132-b09e-e373b0134b23",
   "metadata": {},
   "outputs": [],
   "source": [
    "# Create Darts model\n",
    "from darts.models import ExponentialSmoothing\n"
   ]
  },
  {
   "cell_type": "markdown",
   "id": "12fcfab9-393b-4b66-bbbe-c073a77c6d25",
   "metadata": {},
   "source": [
    "Some models, like the `ExponentialSmoothing` model we are using, are probabilistic in nature, allowing us to generate multiple samples for each time period. "
   ]
  },
  {
   "cell_type": "code",
   "execution_count": null,
   "id": "db8ff366-6f50-453a-bf0b-aab753766132",
   "metadata": {
    "tags": []
   },
   "outputs": [],
   "source": [
    "# Prediction is stored in time-dimension-samples format\n",
    "\n",
    "\n",
    "# Plot actual vs predicted values\n",
    "import matplotlib.pyplot as plt\n",
    "\n",
    "series[-72:].plot()\n",
    "prediction[-72:].plot(label=\"forecast\", \n",
    "                      low_quantile=0.05, \n",
    "                      high_quantile=0.95)\n",
    "plt.legend()"
   ]
  },
  {
   "cell_type": "markdown",
   "id": "2d847cc3-da31-4d0c-a3f0-bff5fb62838f",
   "metadata": {},
   "source": [
    "Darts provide some common [metrics](https://unit8co.github.io/darts/generated_api/darts.metrics.metrics.html) for evaluating the model's performance:"
   ]
  },
  {
   "cell_type": "code",
   "execution_count": null,
   "id": "314ea285-f575-4957-9e59-d6cfb5a378ad",
   "metadata": {
    "tags": []
   },
   "outputs": [],
   "source": [
    "# Mean absolute percentage error\n",
    "from darts.metrics import smape\n"
   ]
  },
  {
   "cell_type": "markdown",
   "id": "33af3c59-7b55-404f-b4d2-bf6a9760a380",
   "metadata": {},
   "source": [
    "Now let us try using a neural network:"
   ]
  },
  {
   "cell_type": "code",
   "execution_count": null,
   "id": "3170c756-1398-44f4-a2b2-2a452dedb9d0",
   "metadata": {
    "tags": []
   },
   "outputs": [],
   "source": [
    "# Create Darts RNN model\n",
    "from darts.models import RNNModel\n"
   ]
  },
  {
   "cell_type": "markdown",
   "id": "e7fe33a0-f86f-41ef-96b3-a881359b79e3",
   "metadata": {},
   "source": [
    "This looks pretty bad. Standardizing the data will help a little bit:"
   ]
  },
  {
   "cell_type": "code",
   "execution_count": null,
   "id": "71dac4b1-aa07-4828-bfff-2b53793e21bd",
   "metadata": {
    "tags": []
   },
   "outputs": [],
   "source": [
    "from sklearn.preprocessing import StandardScaler\n",
    "scaler = StandardScaler()\n",
    "exports_std = scaler.fit_transform(df[\"Exports\"].to_numpy().reshape(-1, 1))\n",
    "series = TimeSeries.from_values(exports_std)\n",
    "\n",
    "train, val = series[:-36], series[-36:]\n",
    "\n",
    "# Create Darts RNN model\n"
   ]
  },
  {
   "cell_type": "markdown",
   "id": "df2eaabf-e9e2-4ee7-ac39-6dc30a2ee461",
   "metadata": {},
   "source": [
    "Let us try a model advanced model called [NBEATS](https://nixtla.mintlify.app/neuralforecast/models.nbeats.html):"
   ]
  },
  {
   "cell_type": "code",
   "execution_count": null,
   "id": "f0fb59a0-8edf-4f5b-a9fa-798d11715dc4",
   "metadata": {
    "tags": []
   },
   "outputs": [],
   "source": [
    "from darts.models import NBEATSModel\n"
   ]
  },
  {
   "cell_type": "markdown",
   "id": "090f34a4-cb1e-4834-80bf-ab3bc3085490",
   "metadata": {},
   "source": [
    "Another popular model is [D-Linear](https://github.com/cure-lab/LTSF-Linear):"
   ]
  },
  {
   "cell_type": "code",
   "execution_count": null,
   "id": "dff77cd3-511f-44fb-b12e-e92ee5dffe23",
   "metadata": {},
   "outputs": [],
   "source": [
    "from darts.models import DLinearModel\n"
   ]
  }
 ],
 "metadata": {
  "kernelspec": {
   "display_name": "Python [env:pytorch]",
   "language": "python",
   "name": "conda-env-pytorch-py"
  },
  "language_info": {
   "codemirror_mode": {
    "name": "ipython",
    "version": 3
   },
   "file_extension": ".py",
   "mimetype": "text/x-python",
   "name": "python",
   "nbconvert_exporter": "python",
   "pygments_lexer": "ipython3",
   "version": "3.10.11"
  }
 },
 "nbformat": 4,
 "nbformat_minor": 5
}
