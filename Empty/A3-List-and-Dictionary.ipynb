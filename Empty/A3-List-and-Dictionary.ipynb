{
 "cells": [
  {
   "cell_type": "markdown",
   "metadata": {},
   "source": [
    "# List and Dictionary\n",
    "Python has two main types of ordered sets: *list* and *dictionary*."
   ]
  },
  {
   "cell_type": "markdown",
   "metadata": {},
   "source": [
    "### A. List\n",
    "List is an ordered series of elements. To create a list, use the following syntax:\n",
    "```python\n",
    "list_name = [element_1,element_2,...]\n",
    "```"
   ]
  },
  {
   "cell_type": "code",
   "execution_count": null,
   "metadata": {},
   "outputs": [],
   "source": [
    "# Let's create a list called List1 containing three elements: 4,2,7.\n"
   ]
  },
  {
   "cell_type": "markdown",
   "metadata": {},
   "source": [
    "Each element in the list can be referred to by its \n",
    "index. Index always start with 0.\n",
    "```python\n",
    "list_name[index]\n",
    "```"
   ]
  },
  {
   "cell_type": "code",
   "execution_count": null,
   "metadata": {},
   "outputs": [],
   "source": [
    "# For example, to view the value of the second element,\n"
   ]
  },
  {
   "cell_type": "markdown",
   "metadata": {},
   "source": [
    "To add an element to a list, use \n",
    "```python\n",
    "list_name.append(element)\n",
    "```"
   ]
  },
  {
   "cell_type": "code",
   "execution_count": null,
   "metadata": {},
   "outputs": [],
   "source": [
    "# Add element to list\n"
   ]
  },
  {
   "cell_type": "markdown",
   "metadata": {},
   "source": [
    "To delete an element, use\n",
    "```python\n",
    "del list_name[index]\n",
    "```"
   ]
  },
  {
   "cell_type": "code",
   "execution_count": null,
   "metadata": {},
   "outputs": [],
   "source": [
    "# Delete the second element\n"
   ]
  },
  {
   "cell_type": "markdown",
   "metadata": {},
   "source": [
    "Because a list is ordered, its elements are in the order we specified.\n",
    "We can sort them if we need to with the ```sort()``` method\n",
    "```python\n",
    "list_name.sort()\n",
    "```"
   ]
  },
  {
   "cell_type": "code",
   "execution_count": null,
   "metadata": {},
   "outputs": [],
   "source": [
    "# Let's sort List1 and see what happens\n"
   ]
  },
  {
   "cell_type": "markdown",
   "metadata": {},
   "source": [
    "Nested list are allowed. This could be used, for example, to store a matrix:"
   ]
  },
  {
   "cell_type": "code",
   "execution_count": null,
   "metadata": {
    "collapsed": true,
    "jupyter": {
     "outputs_hidden": true
    }
   },
   "outputs": [],
   "source": [
    "# A 2x3 matrix\n",
    "\n",
    "\n",
    "# The element in the second row, third column\n"
   ]
  },
  {
   "cell_type": "markdown",
   "metadata": {},
   "source": [
    "We can go through every element of a list with a for loop:\n",
    "```python\n",
    "for element in List1:\n",
    "    # do something\n",
    "```"
   ]
  },
  {
   "cell_type": "code",
   "execution_count": null,
   "metadata": {},
   "outputs": [],
   "source": [
    "# For example, let us loop through List1 and print out each element\n"
   ]
  },
  {
   "cell_type": "markdown",
   "metadata": {},
   "source": [
    "One thing to note is that during each run of the loop, changes to ```element``` are not saved back to the list:"
   ]
  },
  {
   "cell_type": "code",
   "execution_count": null,
   "metadata": {
    "collapsed": true,
    "jupyter": {
     "outputs_hidden": true
    }
   },
   "outputs": [],
   "source": [
    "# Let's make some change\n",
    "\n",
    "    \n",
    "# Now check if the list has changed\n",
    "List1"
   ]
  },
  {
   "cell_type": "markdown",
   "metadata": {},
   "source": [
    "To actually change the content of a list, you can loop through the list index instead:\n",
    "```python\n",
    "for index in range(len(list_name)):\n",
    "    list_name[index] = # new value here\n",
    "```"
   ]
  },
  {
   "cell_type": "code",
   "execution_count": null,
   "metadata": {},
   "outputs": [],
   "source": [
    "# Loop via index and print out each element\n",
    "\n",
    "\n",
    "# Now check if the list has changed\n",
    "List1"
   ]
  },
  {
   "cell_type": "markdown",
   "metadata": {},
   "source": [
    "### C. List Comprehension\n",
    "We can use the if statement to select items out of a \n",
    "list. This is called *list comprehension*, one of Python's most useful feature. \n",
    "```python\n",
    "new_list = [element for element in old_list if condition]\n",
    "```"
   ]
  },
  {
   "cell_type": "code",
   "execution_count": null,
   "metadata": {
    "collapsed": true,
    "jupyter": {
     "outputs_hidden": true
    }
   },
   "outputs": [],
   "source": [
    "list2 = [1,2,3,4,5,6,7,8,9,10]\n",
    "\n",
    "# To create a list of even numbers contained in list2:\n",
    "list2_even_num = \n",
    "\n",
    "# Check what is inside list2_even_num\n",
    "list2_even_num"
   ]
  },
  {
   "cell_type": "markdown",
   "metadata": {},
   "source": [
    "Whenever possible, use list comprehension instead of a loop to process a list. The former is much faster due to Python's underlying optimization."
   ]
  },
  {
   "cell_type": "markdown",
   "metadata": {},
   "source": [
    "### D. Using if...else statement in the creation of a list\n",
    "List comprehension ignores elements that do not meet the \n",
    "condition we specified, so we cannot do anything to those \n",
    "elements. If we want to do something to those elements, \n",
    "we have to use another method called *ternary operator*:\n",
    "```python\n",
    "new_list = [value_if_true if condition else value_if_false \n",
    "            for element in old_list]\n",
    "```"
   ]
  },
  {
   "cell_type": "code",
   "execution_count": null,
   "metadata": {
    "collapsed": true,
    "jupyter": {
     "outputs_hidden": true
    }
   },
   "outputs": [],
   "source": [
    "# For example, if we want to have a list which tells us whether\n",
    "# a number is odd or even:\n",
    "list_oddeven = \n",
    "\n",
    "# Check the content of list_oddeven\n",
    "list_oddeven"
   ]
  },
  {
   "cell_type": "markdown",
   "metadata": {},
   "source": [
    "### E. Dictionary\n",
    "Dictionary, as its name imply, works like a dictionary. You provide a keyword \n",
    "and a dictionary will give you information related to that keyword, if any exists.\n",
    "```python\n",
    "Dictionary_name = {key1:value1, key2:value2,...}\n",
    "```\n",
    "You can access a value by providing the associated key: ```Dictionary_name[key1]``` would return ```value1```."
   ]
  },
  {
   "cell_type": "code",
   "execution_count": null,
   "metadata": {
    "collapsed": true,
    "jupyter": {
     "outputs_hidden": true
    }
   },
   "outputs": [],
   "source": [
    "# For example, here is a dictionary describing people in a class and their roles:\n",
    "ClassList = {'Vinci':'teacher','Chan Tai Man':\"student\"}\n",
    "\n",
    "# Let's try fetching the role of Vinci\n"
   ]
  },
  {
   "cell_type": "markdown",
   "metadata": {},
   "source": [
    "You can have dictionaries within a dictionary, which is in fact how data is stored in many applications:"
   ]
  },
  {
   "cell_type": "code",
   "execution_count": null,
   "metadata": {
    "collapsed": true,
    "jupyter": {
     "outputs_hidden": true
    }
   },
   "outputs": [],
   "source": [
    "# Nested dictionary\n",
    "users = {\"Vinci\":{\"Office\":\"ELB 1004\",\"Position\":\"Lecturer\"},\n",
    "         \"Linda\":{\"Office\":\"ELB 1010\",\"Position\":\"Senior Lecturer\"}\n",
    "         }\n",
    "\n",
    "# Where is Vinci's office?\n"
   ]
  },
  {
   "cell_type": "markdown",
   "metadata": {},
   "source": [
    "For more on list and dictionary, such as adding or deleting items,\n",
    "see https://docs.python.org/3/tutorial/datastructures.html"
   ]
  }
 ],
 "metadata": {
  "anaconda-cloud": {},
  "kernelspec": {
   "display_name": "Python",
   "language": "python",
   "name": "python3"
  },
  "language_info": {
   "codemirror_mode": {
    "name": "ipython",
    "version": 3
   },
   "file_extension": ".py",
   "mimetype": "text/x-python",
   "name": "python",
   "nbconvert_exporter": "python",
   "pygments_lexer": "ipython3",
   "version": "3.9.13"
  }
 },
 "nbformat": 4,
 "nbformat_minor": 4
}
