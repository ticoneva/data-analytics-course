{
 "cells": [
  {
   "cell_type": "markdown",
   "metadata": {},
   "source": [
    "# Control Statements\n",
    "\n",
    "Control statements allow us to tell Python to do something\n",
    "only if certain conditions are met. "
   ]
  },
  {
   "cell_type": "markdown",
   "metadata": {},
   "source": [
    "### A. Loop\n",
    "\n",
    "To do something repeatedly, use a ```for``` loop:\n",
    "```python\n",
    "for i in range(number_of_runs):\n",
    "    #Do something\n",
    "```\n",
    "```number_of_runs``` specify how many times you want to run the loop for. Notice that tab space I put before ```#do something```. This is how Python knows that it should be part of the loop. Without the tab space, you would either get an error or a different result."
   ]
  },
  {
   "cell_type": "code",
   "execution_count": null,
   "metadata": {
    "collapsed": true,
    "jupyter": {
     "outputs_hidden": true
    }
   },
   "outputs": [],
   "source": [
    "#First we assign x = 1\n",
    "\n",
    "\n",
    "#Now let's trying add 1 to x for 10 times\n"
   ]
  },
  {
   "cell_type": "markdown",
   "metadata": {},
   "source": [
    "What does ```x = x + 1``` mean? Remember that a single ```=``` means assigning the value on the left to the variable on the right. Python will first compute the value on the left (```x + 1```) before saving the resulting number to the variable on the right (```x```). "
   ]
  },
  {
   "cell_type": "markdown",
   "metadata": {},
   "source": [
    "Let's see what happen without the tab space in front of ```print(x)```."
   ]
  },
  {
   "cell_type": "code",
   "execution_count": null,
   "metadata": {
    "collapsed": true,
    "jupyter": {
     "outputs_hidden": true
    }
   },
   "outputs": [],
   "source": []
  },
  {
   "cell_type": "markdown",
   "metadata": {},
   "source": [
    "You can use the counter variable i too. In this case, you might want to specify the starting value of ```i``` too. ```range(a,b)``` tells Python to start from ```a``` and stop **before** ```b```:\n",
    "```python\n",
    "for i in range(a,b):\n",
    "    #Do something\n",
    "```"
   ]
  },
  {
   "cell_type": "code",
   "execution_count": null,
   "metadata": {
    "collapsed": true,
    "jupyter": {
     "outputs_hidden": true
    }
   },
   "outputs": [],
   "source": [
    "#Add from 10 to 19\n"
   ]
  },
  {
   "cell_type": "markdown",
   "metadata": {},
   "source": [
    "Multiple loops can be nested within each other. For example, if we want to download daily data from 2008 to 2018 from a certain website, we can achieve that with the following nested loop:"
   ]
  },
  {
   "cell_type": "code",
   "execution_count": null,
   "metadata": {},
   "outputs": [],
   "source": [
    "#Loop through all dates from 2008 to 2018\n",
    "for y in range(2008,2019):\n",
    "    for m in range(1,13):\n",
    "        for d in range(1,31):\n",
    "            #code to download data for date y-m-d"
   ]
  },
  {
   "cell_type": "markdown",
   "metadata": {},
   "source": [
    "### B. IF statements\n",
    "\n",
    "```if``` statement decides what to do based on given conditions.\n",
    "```python\n",
    "if #condition:\n",
    "    #do something\n",
    "elif #another condition:\n",
    "    #do something\n",
    "else:\n",
    "    #do something\n",
    "```\n",
    "\n",
    "Imagine we are programming an application form, which requires the user to enter her date of birth. We would want to check that the information the user enters actually make sense---for example, whether the user has entered a month that is between 1 and 12."
   ]
  },
  {
   "cell_type": "code",
   "execution_count": null,
   "metadata": {},
   "outputs": [],
   "source": [
    "#Print out a message only if m is smaller than 1 or bigger than 12.\n",
    "m = 5\n",
    "\n"
   ]
  },
  {
   "cell_type": "code",
   "execution_count": null,
   "metadata": {},
   "outputs": [],
   "source": [
    "#We can also print a message when the number is between 1 and 12.\n",
    "m=5\n"
   ]
  },
  {
   "cell_type": "code",
   "execution_count": null,
   "metadata": {},
   "outputs": [],
   "source": [
    "#Finally, let's try printing out a message when the number is \n",
    "#exactly 10.\n",
    "m=10\n"
   ]
  }
 ],
 "metadata": {
  "anaconda-cloud": {},
  "kernelspec": {
   "display_name": "Python",
   "language": "python",
   "name": "python3"
  },
  "language_info": {
   "codemirror_mode": {
    "name": "ipython",
    "version": 3
   },
   "file_extension": ".py",
   "mimetype": "text/x-python",
   "name": "python",
   "nbconvert_exporter": "python",
   "pygments_lexer": "ipython3",
   "version": "3.9.13"
  }
 },
 "nbformat": 4,
 "nbformat_minor": 4
}
