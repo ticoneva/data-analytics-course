{
 "cells": [
  {
   "cell_type": "markdown",
   "metadata": {},
   "source": [
    "# Plots and Charts\n",
    "\n",
    "A plot is the most intuitive way to demonstrate what you have discovered from data. \n",
    "The ability to produce well-designed plots is arguably more important than any \n",
    "other skill you might learn from this course.\n",
    "\n",
    "The main package for generating plots in Python is ```matplotlib```.\n",
    "This notebook will demonstrate how to plot several basic types of diagrams:\n",
    "*histogram*, *pie chart*, *line plot* and *scatter plot*."
   ]
  },
  {
   "cell_type": "markdown",
   "metadata": {},
   "source": [
    "### A. Histogram\n",
    "\n",
    "Histogram is a bar chart that shows the distribution of a data series. \n",
    "The syntax for plotting a histogram is: \n",
    "```python\n",
    "matplotlib.pyplot.hist(data)\n",
    "```"
   ]
  },
  {
   "cell_type": "code",
   "execution_count": null,
   "metadata": {},
   "outputs": [],
   "source": [
    "import matplotlib.pyplot as plt\n",
    "\n",
    "# Data\n",
    "y = [1,1,1,1,1,2,2,2,3,3,3,3,4,4,4,4,4,5,5,5]\n",
    "\n",
    "# Plot a simple histogram\n"
   ]
  },
  {
   "cell_type": "markdown",
   "metadata": {},
   "source": [
    "In the above example, we did not specify any parameters so ```matplotlib``` decides everything for us.\n",
    "The parameters that we mostly work with is ```bins```, ```range``` and ```density```. \n",
    "- ```bins``` specifies how many bars we want the histogram to have. \n",
    "    Alternatively we can specify the edge values of each bar. \n",
    "- ```range``` specifies the range of values the histogram covers.\n",
    "<!-- ```density``` specifies whether the area under the histogram should sum up to 1.-->"
   ]
  },
  {
   "cell_type": "code",
   "execution_count": null,
   "metadata": {},
   "outputs": [],
   "source": [
    "# Histogram with only two bars\n"
   ]
  },
  {
   "cell_type": "code",
   "execution_count": null,
   "metadata": {},
   "outputs": [],
   "source": [
    "# Histogram with bars starting at 1,3 and 5 and ends at 10\n"
   ]
  },
  {
   "cell_type": "code",
   "execution_count": null,
   "metadata": {},
   "outputs": [],
   "source": [
    "# Histogram only covers data between 2 and 4\n"
   ]
  },
  {
   "cell_type": "markdown",
   "metadata": {},
   "source": [
    "## B. Bar Chart\n",
    "\n",
    "We could produce the same diagram with a vanilla bar chart, \n",
    "but that would require us to count the repeated values ourselves.\n",
    "```python\n",
    "matplotlib.pyplot.bar(values,count)\n",
    "```"
   ]
  },
  {
   "cell_type": "code",
   "execution_count": null,
   "metadata": {
    "scrolled": false
   },
   "outputs": [],
   "source": [
    "# Plot a simple histogram with bar chart\n"
   ]
  },
  {
   "cell_type": "markdown",
   "metadata": {},
   "source": [
    "Counting the number of repeated values by hand is obviously \n",
    "impractical for even moderately long data series, \n",
    "so in practice you will utilize functions such as ```numpy.histogram()```."
   ]
  },
  {
   "cell_type": "markdown",
   "metadata": {},
   "source": [
    "### C. Pie Chart\n",
    "\n",
    "A pie chart is another common choice to show the distribution of a data series.\n",
    "```python\n",
    "matplotlib.pyplot.pie(wedge_sizes)\n",
    "```"
   ]
  },
  {
   "cell_type": "code",
   "execution_count": null,
   "metadata": {},
   "outputs": [],
   "source": [
    "# Plot a simple bar chart\n"
   ]
  },
  {
   "cell_type": "markdown",
   "metadata": {},
   "source": [
    "### D. Line Plot\n",
    "\n",
    "Line plot draws a line joining all data points.\n",
    "It is most suitable for data that comes in sequence, such as time series data.\n",
    "\n",
    "To simply plot all data sequentially, use:\n",
    "```python\n",
    "matplotlib.pyplot.plot(y)\n",
    "```"
   ]
  },
  {
   "cell_type": "code",
   "execution_count": null,
   "metadata": {},
   "outputs": [],
   "source": [
    "# Simple line chart\n"
   ]
  },
  {
   "cell_type": "markdown",
   "metadata": {},
   "source": [
    "We can also specify the horizontal values:\n",
    "```python\n",
    "matplotlib.pyplot.plot(horizontal-values,vertical-values)\n",
    "```"
   ]
  },
  {
   "cell_type": "code",
   "execution_count": null,
   "metadata": {},
   "outputs": [],
   "source": [
    "# Line chart with horizontal values specified\n",
    "x = [20,19,18,17,16,15,14,13,12,11,10,9,8,7,6,5,4,3,2,1]\n"
   ]
  },
  {
   "cell_type": "markdown",
   "metadata": {},
   "source": [
    "There are a lot of settings we can change: color, line style, etc.\n",
    "See https://matplotlib.org/3.1.1/api/_as_gen/matplotlib.pyplot.plot.html#matplotlib.pyplot.plot\n",
    "for details.\n",
    "    "
   ]
  },
  {
   "cell_type": "code",
   "execution_count": null,
   "metadata": {},
   "outputs": [],
   "source": [
    "# Dash line in red\n"
   ]
  },
  {
   "cell_type": "markdown",
   "metadata": {},
   "source": [
    "### E. Scatter Plot\n",
    "\n",
    "A scatter plot shows the relationship between two variables by plotting \n",
    "data points on a 2D diagram.\n",
    "Useful when we want to show the relationship between two data series that \n",
    "are not sequential in nature."
   ]
  },
  {
   "cell_type": "code",
   "execution_count": null,
   "metadata": {
    "scrolled": true
   },
   "outputs": [],
   "source": [
    "# Simple scatter plot\n"
   ]
  },
  {
   "cell_type": "code",
   "execution_count": null,
   "metadata": {},
   "outputs": [],
   "source": [
    "# Change the marker style to crosses\n"
   ]
  }
 ],
 "metadata": {
  "kernelspec": {
   "display_name": "Python 3",
   "language": "python",
   "name": "python3"
  },
  "language_info": {
   "codemirror_mode": {
    "name": "ipython",
    "version": 3
   },
   "file_extension": ".py",
   "mimetype": "text/x-python",
   "name": "python",
   "nbconvert_exporter": "python",
   "pygments_lexer": "ipython3",
   "version": "3.6.3"
  }
 },
 "nbformat": 4,
 "nbformat_minor": 2
}
