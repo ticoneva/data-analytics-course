{
 "cells": [
  {
   "cell_type": "markdown",
   "metadata": {},
   "source": [
    "# Imputation and Time Series Cross Validation\n",
    "\n",
    "\n",
    "## A. Basic Setup\n",
    "\n",
    "Let us begin by importing the data we need using `pandas`."
   ]
  },
  {
   "cell_type": "code",
   "execution_count": null,
   "metadata": {},
   "outputs": [],
   "source": [
    "import pandas as pd\n",
    "\n",
    "# Import data\n",
    "gdp = pd.read_excel(\"../Data/hk-gdp.xlsx\")\n",
    "unemployment = pd.read_excel(\"../Data/unemployment.xlsx\")"
   ]
  },
  {
   "cell_type": "code",
   "execution_count": null,
   "metadata": {
    "scrolled": true
   },
   "outputs": [],
   "source": [
    "# gdp data\n",
    "gdp.head()"
   ]
  },
  {
   "cell_type": "code",
   "execution_count": null,
   "metadata": {},
   "outputs": [],
   "source": [
    "# Unemployment rate data\n",
    "unemployment.head()"
   ]
  },
  {
   "cell_type": "markdown",
   "metadata": {},
   "source": [
    "In order to merge the two sets of data, we need to generate `end-month` for `gdp`. We will also compute quarter-to-quarter GDP growth."
   ]
  },
  {
   "cell_type": "code",
   "execution_count": null,
   "metadata": {},
   "outputs": [],
   "source": [
    "# Create end-month\n",
    "\n",
    "\n",
    "# Create gdp_growth\n",
    "\n",
    "\n",
    "gdp.head()"
   ]
  },
  {
   "cell_type": "markdown",
   "metadata": {},
   "source": [
    "Now let us merge the two datasets:"
   ]
  },
  {
   "cell_type": "code",
   "execution_count": null,
   "metadata": {},
   "outputs": [],
   "source": [
    "# Merge data\n"
   ]
  },
  {
   "cell_type": "markdown",
   "metadata": {},
   "source": [
    "## B. Pandas: Replace Missing Values with a Single Value\n",
    "\n",
    "```python\n",
    "DataFrame['new_column'] = DataFrame['existing_col'].fillna(DataFrame['existing_col'].ops())\n",
    "```\n",
    "\n",
    "For example, if we would like to replace missing GDP values with the mean of the same series:"
   ]
  },
  {
   "cell_type": "code",
   "execution_count": null,
   "metadata": {},
   "outputs": [],
   "source": [
    "\n",
    "merged_data.head(12)"
   ]
  },
  {
   "cell_type": "markdown",
   "metadata": {},
   "source": [
    "If you prefer to replace the original column instead of generating a new one, you can add the option `inplace=True`:\n",
    "\n",
    "```python\n",
    "DataFrame['existing_col'].fillna(DataFrame['existing_col'].ops(), inplace=True)\n",
    "```"
   ]
  },
  {
   "cell_type": "markdown",
   "metadata": {},
   "source": [
    "## C. Pandas: Index and Interpolation\n",
    "\n",
    "If you want to fill missing values using interpolation instead of a single value, you will have to make a decision on the format of the index, because this affects the types of interpolation pandas allows you to use.\n",
    "\n",
    "First let us try using more than one column as the index. This is called `MultiIndex` in pandas:"
   ]
  },
  {
   "cell_type": "code",
   "execution_count": null,
   "metadata": {
    "scrolled": true
   },
   "outputs": [],
   "source": [
    "\n",
    "merged_data.head(12)"
   ]
  },
  {
   "cell_type": "markdown",
   "metadata": {},
   "source": [
    "The syntax for interpolating a column is: \n",
    "\n",
    "```python\n",
    "DataFrame['new_column'] = DataFrame['existing_column'].interpolate(method='some_method')\n",
    "```\n",
    "\n",
    "`MultiIndex` only supports linear interpolation, which treats all observations as equally spaced:"
   ]
  },
  {
   "cell_type": "code",
   "execution_count": null,
   "metadata": {},
   "outputs": [],
   "source": [
    "\n",
    "merged_data.head(12)"
   ]
  },
  {
   "cell_type": "markdown",
   "metadata": {},
   "source": [
    "Next we will try a single index. We will need to combine year and month into a single number:"
   ]
  },
  {
   "cell_type": "code",
   "execution_count": null,
   "metadata": {},
   "outputs": [],
   "source": [
    "\n",
    "merged_data.head(12)"
   ]
  },
  {
   "cell_type": "markdown",
   "metadata": {},
   "source": [
    "A single index allows for many more [interpolations methods](https://pandas.pydata.org/pandas-docs/stable/reference/api/pandas.DataFrame.interpolate.html#pandas.DataFrame.interpolate). The default interoplation method is `linear`, giving the same result as before:"
   ]
  },
  {
   "cell_type": "code",
   "execution_count": null,
   "metadata": {
    "scrolled": true
   },
   "outputs": [],
   "source": [
    "\n",
    "merged_data.head(12)"
   ]
  },
  {
   "cell_type": "markdown",
   "metadata": {},
   "source": [
    "Another possibly is `pad`, which simply uses the previous non-missing value:"
   ]
  },
  {
   "cell_type": "code",
   "execution_count": null,
   "metadata": {},
   "outputs": [],
   "source": [
    "\n",
    "merged_data.head(12)"
   ]
  },
  {
   "cell_type": "markdown",
   "metadata": {},
   "source": [
    "## D. Scikit-learn Imputers\n",
    "\n",
    "You can also use scikit-learn's imputation classes. The `SimpleImputer` class replaces missing values with a single value, while the `IterativeImputer` replaces missing values by the prediction of a model fitted on non-missing values.\n",
    "\n",
    "Let us first try the `SimpleImputer`:"
   ]
  },
  {
   "cell_type": "code",
   "execution_count": null,
   "metadata": {},
   "outputs": [],
   "source": [
    "import numpy as np\n",
    "from sklearn.impute import SimpleImputer\n",
    "\n",
    "# Replace missing values with the mean of the series\n",
    "\n",
    "\n",
    "\n",
    "merged_data.head(12)"
   ]
  },
  {
   "cell_type": "code",
   "execution_count": null,
   "metadata": {},
   "outputs": [],
   "source": [
    "# Replace missing values with the most frequent value of the series\n",
    "\n",
    "\n",
    "merged_data.head(12)"
   ]
  },
  {
   "cell_type": "markdown",
   "metadata": {},
   "source": [
    "With `IterativeImputer`, you can choose a model to predict the missing values. The default is a Bayesian Ridge Regression, which is similar to the usual Ridge Regression but with the strength of regularization estimated from data. To predict the missing value of a variable, the model will use all other variables you provide. \n",
    "\n",
    "Since it does not make sense to predict the absolute level of GDP with unemployment rate, we will predict GDP growth instead."
   ]
  },
  {
   "cell_type": "code",
   "execution_count": null,
   "metadata": {},
   "outputs": [],
   "source": [
    "from sklearn.experimental import enable_iterative_imputer\n",
    "from sklearn.impute import IterativeImputer\n",
    "\n",
    "\n",
    "\n",
    "merged_data.head(12)"
   ]
  }
 ],
 "metadata": {
  "kernelspec": {
   "display_name": "Python 3",
   "language": "python",
   "name": "python3"
  },
  "language_info": {
   "codemirror_mode": {
    "name": "ipython",
    "version": 3
   },
   "file_extension": ".py",
   "mimetype": "text/x-python",
   "name": "python",
   "nbconvert_exporter": "python",
   "pygments_lexer": "ipython3",
   "version": "3.7.3"
  }
 },
 "nbformat": 4,
 "nbformat_minor": 4
}
