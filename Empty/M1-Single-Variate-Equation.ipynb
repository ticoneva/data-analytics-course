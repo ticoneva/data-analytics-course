{
 "cells": [
  {
   "cell_type": "markdown",
   "metadata": {},
   "source": [
    "# Single Variate Equation#\n",
    "Python has a lot of add-ons that extend its capabilites. \n",
    "The add-on **SymPy** provides symbolic mathemtics capabilities, which we will use \n",
    "very often in this course.\n",
    "\n",
    "Python add-ons need to be loaded before we can use them."
   ]
  },
  {
   "cell_type": "code",
   "execution_count": null,
   "metadata": {
    "collapsed": true
   },
   "outputs": [],
   "source": [
    "#This loads SymPy. Press SHIFT-ENTER to run.\n",
    "import sympy"
   ]
  },
  {
   "cell_type": "markdown",
   "metadata": {
    "collapsed": true
   },
   "source": [
    "### A. Declaring Variables###\n",
    "In SymPy you have to declare variables in the following format:\n",
    "```python\n",
    "variable_name = sympy.Symbol('Variable Description')\n",
    "```"
   ]
  },
  {
   "cell_type": "code",
   "execution_count": null,
   "metadata": {
    "collapsed": true
   },
   "outputs": [],
   "source": [
    "#Let's try defining a variable x\n"
   ]
  },
  {
   "cell_type": "markdown",
   "metadata": {
    "collapsed": true
   },
   "source": [
    "### B. Solving Equations###\n",
    "With the variable declared, we can use the ```solve()``` command to find the solution(s)\n",
    "to any equation.\n",
    "```python\n",
    "sympy.solve(equation,variable_to_solve_for)\n",
    "```"
   ]
  },
  {
   "cell_type": "code",
   "execution_count": null,
   "metadata": {
    "collapsed": true
   },
   "outputs": [],
   "source": [
    "#Example 1: let's say we want to find the solution to 2x - 3 = 0\n"
   ]
  },
  {
   "cell_type": "code",
   "execution_count": null,
   "metadata": {
    "collapsed": true
   },
   "outputs": [],
   "source": [
    "#Example 2: y^2 = 25\n"
   ]
  },
  {
   "cell_type": "markdown",
   "metadata": {
    "collapsed": true
   },
   "source": [
    "### C. Naming Equations and Expressions###\n",
    "You can also give names to mathemtical expressions\n",
    "```python\n",
    "Equation_name = #mathematical expression\n",
    "```"
   ]
  },
  {
   "cell_type": "code",
   "execution_count": null,
   "metadata": {
    "collapsed": true
   },
   "outputs": [],
   "source": [
    "#For example, let's call 2x - 3 \"eq1\"\n"
   ]
  },
  {
   "cell_type": "code",
   "execution_count": null,
   "metadata": {
    "collapsed": true
   },
   "outputs": [],
   "source": [
    "#We can then use the equation name in solving for the solution\n",
    "#smypy.solve assumes eq1 = 0\n"
   ]
  },
  {
   "cell_type": "markdown",
   "metadata": {
    "collapsed": true
   },
   "source": [
    "### D. Accessing Individual Solutions###\n",
    "If you want to keep the solved result for future use, you can do so by assignment\n",
    "```python\n",
    "result = solve(equation,variable_to_solve_for)\n",
    "```\n",
    "\n",
    "Because there could be more than one solution to the equation you provided, result \n",
    "is a list of all solutions, each denoted by a number, starting from 0. \n",
    "So to access the first result, you need to type\n",
    "```python\n",
    "result[0]\n",
    "```"
   ]
  },
  {
   "cell_type": "code",
   "execution_count": null,
   "metadata": {
    "collapsed": true
   },
   "outputs": [],
   "source": [
    "#Let's use the second example again and print out the two solutions\n"
   ]
  },
  {
   "cell_type": "code",
   "execution_count": null,
   "metadata": {
    "collapsed": true
   },
   "outputs": [],
   "source": [
    "#Another example:\n",
    "#Declare a symbol p with descriptions \"Price\".\n",
    "#Define an expression called \"Demand\", with the expression 13p - 23\n",
    "#Use sympy.solve() to find the price at which demand will be zero\n",
    "#Assign the resulting price to p0\n"
   ]
  },
  {
   "cell_type": "markdown",
   "metadata": {},
   "source": [
    "### E. Factorization and Expansion of Polynomials###\n",
    "Sympy can factor mathematical expressions for us with ```factor()``` \n",
    "and expand polynomials with ```expand()```."
   ]
  },
  {
   "cell_type": "code",
   "execution_count": null,
   "metadata": {
    "collapsed": true
   },
   "outputs": [],
   "source": [
    "#Let's try expanding y^2 - 25\n"
   ]
  },
  {
   "cell_type": "code",
   "execution_count": null,
   "metadata": {
    "collapsed": true
   },
   "outputs": [],
   "source": [
    "#Sympy can also expand polynomials with expand()\n",
    "#Let's try that with (y - 2)^6\n"
   ]
  },
  {
   "cell_type": "code",
   "execution_count": null,
   "metadata": {
    "collapsed": true
   },
   "outputs": [],
   "source": [
    "#factor() does the reverse of expand()\n"
   ]
  },
  {
   "cell_type": "markdown",
   "metadata": {
    "collapsed": true
   },
   "source": [
    "### F. Lambdify###\n",
    "One final technique: you can transform expressions to functions. \n",
    "This is done with ```lambdify()```.\n",
    "```python\n",
    "function_name = lambdify(symbol,expression)\n",
    "```"
   ]
  },
  {
   "cell_type": "code",
   "execution_count": null,
   "metadata": {
    "collapsed": true
   },
   "outputs": [],
   "source": [
    "#Let's try out lambdify() with x^2\n"
   ]
  }
 ],
 "metadata": {
  "anaconda-cloud": {},
  "kernelspec": {
   "display_name": "Python [Root]",
   "language": "python",
   "name": "Python [Root]"
  },
  "language_info": {
   "codemirror_mode": {
    "name": "ipython",
    "version": 3
   },
   "file_extension": ".py",
   "mimetype": "text/x-python",
   "name": "python",
   "nbconvert_exporter": "python",
   "pygments_lexer": "ipython3",
   "version": "3.5.2"
  }
 },
 "nbformat": 4,
 "nbformat_minor": 0
}
