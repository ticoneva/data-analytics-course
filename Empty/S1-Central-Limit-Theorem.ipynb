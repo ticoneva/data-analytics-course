{
 "cells": [
  {
   "cell_type": "markdown",
   "metadata": {},
   "source": [
    "# Central Limit Theorem\n",
    "\n",
    "In this notebook, we will use ```numpy``` to draw samples from several different types of distributions and check whether the sample mean actually converges to a normal distribution as sample size gets larger."
   ]
  },
  {
   "cell_type": "markdown",
   "metadata": {},
   "source": [
    "### A. Uniform Distribution\n",
    "\n",
    "When the distribution is uniform, there is equal chance in getting amy number between the specified minimum and maximum.\n",
    "\n",
    "1. Generate samples with ```np.random.random()```.\n",
    "2. Compute sample means with ```np.mean()```.\n",
    "3. Plot a histogram with ```matplotlib.pyplot.hist()```.\n"
   ]
  },
  {
   "cell_type": "code",
   "execution_count": null,
   "metadata": {},
   "outputs": [],
   "source": [
    "# Draw samples from np.random.random()\n",
    "\n",
    "import numpy as np\n",
    "import matplotlib.pyplot as plt\n",
    "%matplotlib inline\n",
    "\n"
   ]
  },
  {
   "cell_type": "code",
   "execution_count": null,
   "metadata": {},
   "outputs": [],
   "source": [
    "# Repeat 500 times, calculate the sample mean each time\n",
    "\n"
   ]
  },
  {
   "cell_type": "code",
   "execution_count": null,
   "metadata": {},
   "outputs": [],
   "source": [
    "# Repeat 500 times with sample size increased to 30\n",
    "\n"
   ]
  },
  {
   "cell_type": "markdown",
   "metadata": {},
   "source": [
    "If you want to plot a smoothed line based on the histogram, use ```seaborn.distplot()```:"
   ]
  },
  {
   "cell_type": "code",
   "execution_count": null,
   "metadata": {},
   "outputs": [],
   "source": [
    "import seaborn as sns\n"
   ]
  },
  {
   "cell_type": "markdown",
   "metadata": {},
   "source": [
    "### B. Bernoulli Distribution\n",
    "\n",
    "Bernoulli distribution gives 1 with chance $p$ and 0 with chance $1-p$.\n",
    "\n",
    "1. Generate samples with ```scipy.stats.bernoulli()```.\n",
    "2. Compute sample means with ```np.mean()```.\n",
    "3. Plot a histogram with ```seaborn.displot()```.\n",
    "\n",
    "We will use a Bernoulli distribution with $p=0.6$, meaning that we will get 1's 60% of the time."
   ]
  },
  {
   "cell_type": "code",
   "execution_count": null,
   "metadata": {},
   "outputs": [],
   "source": [
    "# Bernoulli trials\n",
    "\n",
    "from scipy.stats import bernoulli\n",
    "\n"
   ]
  },
  {
   "cell_type": "code",
   "execution_count": null,
   "metadata": {},
   "outputs": [],
   "source": [
    "# Repeat 500 times, calculate the sample mean each time\n",
    "\n"
   ]
  },
  {
   "cell_type": "code",
   "execution_count": null,
   "metadata": {},
   "outputs": [],
   "source": [
    "# Repeat 500 times with sample size increased to 30\n",
    "\n"
   ]
  },
  {
   "cell_type": "markdown",
   "metadata": {},
   "source": [
    "### C. Exponential Distribution\n",
    "\n",
    "In an exponential distribution, the chance of getting a number goes smaller when the number is larger.\n",
    "\n",
    "1. Generate samples with ```np.random.exponential()```.\n",
    "2. Compute sample means with ```np.mean()```.\n",
    "3. Plot a histogram with ```seaborn.displot()```."
   ]
  },
  {
   "cell_type": "code",
   "execution_count": null,
   "metadata": {},
   "outputs": [],
   "source": [
    "# Exponential distribution\n"
   ]
  },
  {
   "cell_type": "code",
   "execution_count": null,
   "metadata": {},
   "outputs": [],
   "source": [
    "# Repeat 500 times, calculate the sample mean each time\n",
    "\n"
   ]
  },
  {
   "cell_type": "code",
   "execution_count": null,
   "metadata": {},
   "outputs": [],
   "source": [
    "# Repeat 500 times with sample size increased to 30\n",
    "\n"
   ]
  },
  {
   "cell_type": "markdown",
   "metadata": {},
   "source": [
    "### Variance Estimate \n",
    "\n",
    "How accurate does the sample variance approximate the population variance?\n",
    "We will use the Bernoulli distribution as an example.\n",
    "\n",
    "$$\n",
    "Var[X] = E[X^2] - E[X]^2\n",
    "$$\n",
    "\n",
    "For Bernoulli trials, this gives a population variance of $Var[x] = 0.6 - 0.6^2 = 0.24$."
   ]
  },
  {
   "cell_type": "code",
   "execution_count": null,
   "metadata": {},
   "outputs": [],
   "source": [
    "# Sample size = 5\n"
   ]
  },
  {
   "cell_type": "code",
   "execution_count": null,
   "metadata": {},
   "outputs": [],
   "source": [
    "# Sample size = 30\n"
   ]
  },
  {
   "cell_type": "code",
   "execution_count": null,
   "metadata": {},
   "outputs": [],
   "source": [
    "# Sample size = 1000\n"
   ]
  },
  {
   "cell_type": "markdown",
   "metadata": {},
   "source": [
    "As we can see, when the sample size is small the sample variance is very likely to be different from the population variance.\n",
    "\n",
    "When sample size is large, sample variance does give a good estimate of population variance."
   ]
  }
 ],
 "metadata": {
  "kernelspec": {
   "display_name": "Python 3",
   "language": "python",
   "name": "python3"
  },
  "language_info": {
   "codemirror_mode": {
    "name": "ipython",
    "version": 3
   },
   "file_extension": ".py",
   "mimetype": "text/x-python",
   "name": "python",
   "nbconvert_exporter": "python",
   "pygments_lexer": "ipython3",
   "version": "3.7.3"
  }
 },
 "nbformat": 4,
 "nbformat_minor": 2
}
