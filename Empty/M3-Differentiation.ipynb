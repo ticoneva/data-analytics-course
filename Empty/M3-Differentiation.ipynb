{
 "cells": [
  {
   "cell_type": "markdown",
   "metadata": {},
   "source": [
    "# Differentiation #\n",
    "**SymPy** is capable of doing calculus."
   ]
  },
  {
   "cell_type": "code",
   "execution_count": 1,
   "metadata": {},
   "outputs": [],
   "source": [
    "#This loads SymPy. Press SHIFT-ENTER to run.\n",
    "import sympy"
   ]
  },
  {
   "cell_type": "markdown",
   "metadata": {
    "collapsed": true
   },
   "source": [
    "### A. Set up the Expression ###\n",
    "First create a symbol and set up the mathematical expression to differentiate. \n",
    "\n",
    "Suppose we want to differentiate \n",
    "$$y = x^2 - 2x + 5$$"
   ]
  },
  {
   "cell_type": "code",
   "execution_count": 3,
   "metadata": {},
   "outputs": [],
   "source": [
    "#Set up a symbol x and the expression to differentiate\n",
    "x = sympy.Symbol('x')\n",
    "y = x**2 - 2*x + 5"
   ]
  },
  {
   "cell_type": "markdown",
   "metadata": {
    "collapsed": true
   },
   "source": [
    "### B. Differentiation ###\n",
    "With the expression created, we can use the ```diff()``` command to find the derivative.\n",
    "```python\n",
    "sympy.diff(expression,variable_to_solve_for)\n",
    "```"
   ]
  },
  {
   "cell_type": "code",
   "execution_count": 4,
   "metadata": {},
   "outputs": [
    {
     "data": {
      "text/plain": [
       "2*x - 2"
      ]
     },
     "execution_count": 4,
     "metadata": {},
     "output_type": "execute_result"
    }
   ],
   "source": [
    "#Differentiate y with respect to x\n",
    "sympy.diff(y,x)"
   ]
  },
  {
   "cell_type": "markdown",
   "metadata": {
    "collapsed": true
   },
   "source": [
    "### C. Exercise ###\n",
    "Set up the symbols to find\n",
    "$$y = \\frac{z^3 + 5z + 2}{6z}$$"
   ]
  },
  {
   "cell_type": "code",
   "execution_count": null,
   "metadata": {},
   "outputs": [],
   "source": []
  },
  {
   "cell_type": "markdown",
   "metadata": {},
   "source": [
    "### D. Exponent and Log\n",
    "\n",
    "The log function is \n",
    "```python\n",
    "sympy.log(expression,base)\n",
    "```\n",
    "\n",
    "If you omit the base, base $e$ is assumed, making the function the natural log.\n",
    "\n",
    "The exponential function is \n",
    "```python\n",
    "sympy.exp(expression)\n",
    "```"
   ]
  },
  {
   "cell_type": "code",
   "execution_count": null,
   "metadata": {},
   "outputs": [],
   "source": [
    "#Log\n",
    "\n",
    "\n",
    "#Derivative of log\n"
   ]
  },
  {
   "cell_type": "code",
   "execution_count": null,
   "metadata": {
    "collapsed": true
   },
   "outputs": [],
   "source": [
    "#Base-10 Log\n"
   ]
  },
  {
   "cell_type": "code",
   "execution_count": null,
   "metadata": {},
   "outputs": [],
   "source": [
    "#Exponential Function\n",
    "\n",
    "\n",
    "#Derivative of the exponential function\n"
   ]
  },
  {
   "cell_type": "markdown",
   "metadata": {},
   "source": [
    "### D. Unconstrained Optimization\n",
    "The maximum/minimum of a function can be found with\n",
    "$$\n",
    "\\frac{d}{dx}f(x) = 0\n",
    "$$\n",
    "\n",
    "Remember from before that we can find the solution to this equation with ```sympy.solve()```."
   ]
  },
  {
   "cell_type": "code",
   "execution_count": null,
   "metadata": {},
   "outputs": [],
   "source": [
    "#Function\n",
    "y = x**2 - 2*x + 5\n",
    "\n",
    "#Take derivative with respect to x\n",
    "\n",
    "\n",
    "#Solve for x that satisfy dy/dx = 0\n",
    "\n",
    "\n",
    "#Take second derivative\n"
   ]
  },
  {
   "cell_type": "markdown",
   "metadata": {},
   "source": [
    "### E. Application to Economics\n",
    "\n",
    "Suppose total revenue is $R(q)=10q$ and total cost is $C(q)=2+q^2$. Find the profit-maximizing quantity to produce."
   ]
  },
  {
   "cell_type": "code",
   "execution_count": null,
   "metadata": {},
   "outputs": [],
   "source": [
    "#Create symbol for quantity \n",
    "\n",
    "\n",
    "#Total Revenue\n",
    "\n",
    "\n",
    "#Total Cost\n",
    "\n",
    "\n",
    "#Profit = total revenue - total cost\n",
    "\n",
    "\n",
    "#Take derivative of the profit function\n",
    "#The symbol PI represents profit in economics\n",
    "\n",
    "\n",
    "#Solve for optimal q by setting dPIdq = 0\n",
    "#Print out the solution\n",
    "\n",
    "\n",
    "#Calculate second derivative and print it out\n"
   ]
  },
  {
   "cell_type": "markdown",
   "metadata": {},
   "source": [
    "### D. Substitution\n",
    "\n",
    "To substitute a symbol with a value, use\n",
    "```python\n",
    "expression.subs(symbol,value)\n",
    "```"
   ]
  },
  {
   "cell_type": "code",
   "execution_count": null,
   "metadata": {
    "collapsed": true
   },
   "outputs": [],
   "source": [
    "#What's the profit when q = 5?\n"
   ]
  },
  {
   "cell_type": "code",
   "execution_count": null,
   "metadata": {
    "collapsed": true
   },
   "outputs": [],
   "source": [
    "#We can also use the q_star value we saved above\n"
   ]
  }
 ],
 "metadata": {
  "anaconda-cloud": {},
  "kernelspec": {
   "display_name": "Python 3",
   "language": "python",
   "name": "python3"
  },
  "language_info": {
   "codemirror_mode": {
    "name": "ipython",
    "version": 3
   },
   "file_extension": ".py",
   "mimetype": "text/x-python",
   "name": "python",
   "nbconvert_exporter": "python",
   "pygments_lexer": "ipython3",
   "version": "3.6.4"
  }
 },
 "nbformat": 4,
 "nbformat_minor": 1
}
